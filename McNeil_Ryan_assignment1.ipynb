{
 "cells": [
  {
   "cell_type": "markdown",
   "source": [
    "# Import packages"
   ],
   "metadata": {
    "collapsed": false
   },
   "id": "db96f6d43c70ad7d"
  },
  {
   "cell_type": "code",
   "execution_count": 2,
   "id": "initial_id",
   "metadata": {
    "collapsed": true,
    "ExecuteTime": {
     "end_time": "2024-09-25T23:26:02.745974Z",
     "start_time": "2024-09-25T23:26:01.753956Z"
    }
   },
   "outputs": [],
   "source": [
    "import os\n",
    "import sklearn as skl\n",
    "import numpy as np\n",
    "import pandas as pd"
   ]
  },
  {
   "cell_type": "markdown",
   "source": [
    "# Part A: Exploratory Data Analysis\n",
    "1. Perform Exploratory Data Analysis (EDA) and discuss the data and what you observe\n",
    "prior to beginning modeling and how the EDA insights impact how to proceed "
   ],
   "metadata": {
    "collapsed": false
   },
   "id": "a57b49d68f22f43f"
  },
  {
   "cell_type": "code",
   "outputs": [],
   "source": [],
   "metadata": {
    "collapsed": false,
    "ExecuteTime": {
     "end_time": "2024-09-18T23:39:05.765306Z",
     "start_time": "2024-09-18T23:39:05.753786Z"
    }
   },
   "id": "8a1f94121f64387a",
   "execution_count": 2
  },
  {
   "cell_type": "markdown",
   "source": [],
   "metadata": {
    "collapsed": false
   },
   "id": "3c5072f5dca9210a"
  },
  {
   "cell_type": "markdown",
   "source": [],
   "metadata": {
    "collapsed": false
   },
   "id": "45e56a3122e9705e"
  },
  {
   "cell_type": "markdown",
   "source": [
    "2. Pre-processed data for use in the model and justify pre-processing methods. Note this\n",
    "may be different for each Part and/or algorithm you try. "
   ],
   "metadata": {
    "collapsed": false
   },
   "id": "da755b1cf48183ac"
  },
  {
   "cell_type": "code",
   "outputs": [],
   "source": [],
   "metadata": {
    "collapsed": false,
    "ExecuteTime": {
     "end_time": "2024-09-18T23:39:05.780530Z",
     "start_time": "2024-09-18T23:39:05.769606Z"
    }
   },
   "id": "98491b02a5258292",
   "execution_count": 2
  },
  {
   "cell_type": "markdown",
   "source": [
    "# Part B: Association Rules\n",
    "Use “order_products__prior.csv” to build frequent itemsets and association rules to understand\n",
    "what products are often bought together. Also, use your findings to understand what drives\n",
    "market baskets and association rules that are indicative of large lemon purchases. Please provide\n",
    "commentary and rationale for everything you are doing."
   ],
   "metadata": {
    "collapsed": false
   },
   "id": "cda1f9fca602b830"
  },
  {
   "cell_type": "code",
   "outputs": [],
   "source": [],
   "metadata": {
    "collapsed": false,
    "ExecuteTime": {
     "end_time": "2024-09-18T23:39:05.795846Z",
     "start_time": "2024-09-18T23:39:05.783697Z"
    }
   },
   "id": "70d0e83b7f20b0ba",
   "execution_count": 2
  },
  {
   "cell_type": "markdown",
   "source": [
    "# Part C: Predictive Modeling\n",
    "Using “order_products__prior.csv” to train a model and “order_products__train.csv” ONLY for\n",
    "scoring, train a model to predict if large lemons (hint: careful here) will be in an order (for all\n",
    "orders in “order_products__train.csv”) given the other items in the order and any other\n",
    "information in the other datasets provided. Please provide commentary and rationale for\n",
    "everything you are doing."
   ],
   "metadata": {
    "collapsed": false
   },
   "id": "fe413fddc0c232ec"
  },
  {
   "cell_type": "code",
   "outputs": [],
   "source": [],
   "metadata": {
    "collapsed": false,
    "ExecuteTime": {
     "end_time": "2024-09-18T23:39:05.811328Z",
     "start_time": "2024-09-18T23:39:05.799004Z"
    }
   },
   "id": "c2eb1c53629ab6c7",
   "execution_count": 2
  },
  {
   "cell_type": "markdown",
   "source": [
    "# Part D: Results Summary\n",
    "In this section discuss all of your findings including insights from the above Parts A-C. In what\n",
    "circumstances would Part B vs Part C make sense? What are the advantages of each?"
   ],
   "metadata": {
    "collapsed": false
   },
   "id": "e65b2f7669251dec"
  }
 ],
 "metadata": {
  "kernelspec": {
   "display_name": "Python 3",
   "language": "python",
   "name": "python3"
  },
  "language_info": {
   "codemirror_mode": {
    "name": "ipython",
    "version": 2
   },
   "file_extension": ".py",
   "mimetype": "text/x-python",
   "name": "python",
   "nbconvert_exporter": "python",
   "pygments_lexer": "ipython2",
   "version": "2.7.6"
  }
 },
 "nbformat": 4,
 "nbformat_minor": 5
}
