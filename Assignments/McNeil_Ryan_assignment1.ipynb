{
 "cells": [
  {
   "cell_type": "markdown",
   "source": [
    "# Setup"
   ],
   "metadata": {
    "collapsed": false
   },
   "id": "db96f6d43c70ad7d"
  },
  {
   "cell_type": "code",
   "id": "initial_id",
   "metadata": {
    "collapsed": true,
    "ExecuteTime": {
     "end_time": "2024-10-07T00:25:14.791945Z",
     "start_time": "2024-10-07T00:25:14.529437Z"
    }
   },
   "source": [
    "# Imports\n",
    "import lightgbm as lgb\n",
    "import os\n",
    "import sklearn as skl\n",
    "import numpy as np\n",
    "import pandas as pd\n",
    "import psutil\n",
    "import pyspark\n",
    "from pyspark.sql import SparkSession\n",
    "import matplotlib.pyplot as plt\n",
    "from sklearn.ensemble import GradientBoostingClassifier\n",
    "from sklearn.model_selection import train_test_split, GridSearchCV\n",
    "from sklearn.preprocessing import MultiLabelBinarizer\n",
    "%matplotlib inline\n",
    "\n",
    "os.environ[\"JAVA_HOME\"] = r\"C:\\Program Files\\Java\\jdk-17\"\n",
    "os.environ[\"PYSPARK_PYTHON\"] = r\"C:\\Users\\rmcne\\AppData\\Local\\Programs\\Python\\Python311\\python.exe\"\n",
    "\n",
    "# I'm working across multiple devices. So, this code will always create a path to the folder containing the data.\n",
    "data_folder_path = os.path.join(os.path.abspath(os.path.join(os.getcwd(), os.pardir)), \"instacart-market-basket-analysis\")\n",
    "print(data_folder_path)\n",
    "\n",
    "sc = pyspark.SparkContext()  # instantiate pyspark connection\n",
    "\n",
    "spark = SparkSession.builder.appName(\"CSC84040_assignment1\").getOrCreate()  # instantiate spark entry point"
   ],
   "outputs": [
    {
     "name": "stdout",
     "output_type": "stream",
     "text": [
      "D:\\School\\2024 Fall\\CSC84040\\instacart-market-basket-analysis\n"
     ]
    },
    {
     "ename": "ValueError",
     "evalue": "Cannot run multiple SparkContexts at once; existing SparkContext(app=pyspark-shell, master=local[*]) created by __init__ at C:\\Users\\rmcne\\AppData\\Local\\Temp\\ipykernel_10328\\1444969767.py:22 ",
     "output_type": "error",
     "traceback": [
      "\u001B[1;31m---------------------------------------------------------------------------\u001B[0m",
      "\u001B[1;31mValueError\u001B[0m                                Traceback (most recent call last)",
      "Cell \u001B[1;32mIn[115], line 24\u001B[0m\n\u001B[0;32m     21\u001B[0m data_folder_path \u001B[38;5;241m=\u001B[39m os\u001B[38;5;241m.\u001B[39mpath\u001B[38;5;241m.\u001B[39mjoin(os\u001B[38;5;241m.\u001B[39mpath\u001B[38;5;241m.\u001B[39mabspath(os\u001B[38;5;241m.\u001B[39mpath\u001B[38;5;241m.\u001B[39mjoin(os\u001B[38;5;241m.\u001B[39mgetcwd(), os\u001B[38;5;241m.\u001B[39mpardir)), \u001B[38;5;124m\"\u001B[39m\u001B[38;5;124minstacart-market-basket-analysis\u001B[39m\u001B[38;5;124m\"\u001B[39m)\n\u001B[0;32m     22\u001B[0m \u001B[38;5;28mprint\u001B[39m(data_folder_path)\n\u001B[1;32m---> 24\u001B[0m sc \u001B[38;5;241m=\u001B[39m \u001B[43mpyspark\u001B[49m\u001B[38;5;241;43m.\u001B[39;49m\u001B[43mSparkContext\u001B[49m\u001B[43m(\u001B[49m\u001B[43m)\u001B[49m  \u001B[38;5;66;03m# instantiate pyspark connection\u001B[39;00m\n\u001B[0;32m     26\u001B[0m spark \u001B[38;5;241m=\u001B[39m SparkSession\u001B[38;5;241m.\u001B[39mbuilder\u001B[38;5;241m.\u001B[39mappName(\u001B[38;5;124m\"\u001B[39m\u001B[38;5;124mCSC84040_assignment1\u001B[39m\u001B[38;5;124m\"\u001B[39m)\u001B[38;5;241m.\u001B[39mgetOrCreate()  \u001B[38;5;66;03m# instantiate spark entry point\u001B[39;00m\n",
      "File \u001B[1;32mD:\\School\\2024 Fall\\CSC84040\\venv\\Lib\\site-packages\\pyspark\\context.py:201\u001B[0m, in \u001B[0;36mSparkContext.__init__\u001B[1;34m(self, master, appName, sparkHome, pyFiles, environment, batchSize, serializer, conf, gateway, jsc, profiler_cls, udf_profiler_cls, memory_profiler_cls)\u001B[0m\n\u001B[0;32m    195\u001B[0m \u001B[38;5;28;01mif\u001B[39;00m gateway \u001B[38;5;129;01mis\u001B[39;00m \u001B[38;5;129;01mnot\u001B[39;00m \u001B[38;5;28;01mNone\u001B[39;00m \u001B[38;5;129;01mand\u001B[39;00m gateway\u001B[38;5;241m.\u001B[39mgateway_parameters\u001B[38;5;241m.\u001B[39mauth_token \u001B[38;5;129;01mis\u001B[39;00m \u001B[38;5;28;01mNone\u001B[39;00m:\n\u001B[0;32m    196\u001B[0m     \u001B[38;5;28;01mraise\u001B[39;00m \u001B[38;5;167;01mValueError\u001B[39;00m(\n\u001B[0;32m    197\u001B[0m         \u001B[38;5;124m\"\u001B[39m\u001B[38;5;124mYou are trying to pass an insecure Py4j gateway to Spark. This\u001B[39m\u001B[38;5;124m\"\u001B[39m\n\u001B[0;32m    198\u001B[0m         \u001B[38;5;124m\"\u001B[39m\u001B[38;5;124m is not allowed as it is a security risk.\u001B[39m\u001B[38;5;124m\"\u001B[39m\n\u001B[0;32m    199\u001B[0m     )\n\u001B[1;32m--> 201\u001B[0m \u001B[43mSparkContext\u001B[49m\u001B[38;5;241;43m.\u001B[39;49m\u001B[43m_ensure_initialized\u001B[49m\u001B[43m(\u001B[49m\u001B[38;5;28;43mself\u001B[39;49m\u001B[43m,\u001B[49m\u001B[43m \u001B[49m\u001B[43mgateway\u001B[49m\u001B[38;5;241;43m=\u001B[39;49m\u001B[43mgateway\u001B[49m\u001B[43m,\u001B[49m\u001B[43m \u001B[49m\u001B[43mconf\u001B[49m\u001B[38;5;241;43m=\u001B[39;49m\u001B[43mconf\u001B[49m\u001B[43m)\u001B[49m\n\u001B[0;32m    202\u001B[0m \u001B[38;5;28;01mtry\u001B[39;00m:\n\u001B[0;32m    203\u001B[0m     \u001B[38;5;28mself\u001B[39m\u001B[38;5;241m.\u001B[39m_do_init(\n\u001B[0;32m    204\u001B[0m         master,\n\u001B[0;32m    205\u001B[0m         appName,\n\u001B[1;32m   (...)\u001B[0m\n\u001B[0;32m    215\u001B[0m         memory_profiler_cls,\n\u001B[0;32m    216\u001B[0m     )\n",
      "File \u001B[1;32mD:\\School\\2024 Fall\\CSC84040\\venv\\Lib\\site-packages\\pyspark\\context.py:449\u001B[0m, in \u001B[0;36mSparkContext._ensure_initialized\u001B[1;34m(cls, instance, gateway, conf)\u001B[0m\n\u001B[0;32m    446\u001B[0m     callsite \u001B[38;5;241m=\u001B[39m SparkContext\u001B[38;5;241m.\u001B[39m_active_spark_context\u001B[38;5;241m.\u001B[39m_callsite\n\u001B[0;32m    448\u001B[0m     \u001B[38;5;66;03m# Raise error if there is already a running Spark context\u001B[39;00m\n\u001B[1;32m--> 449\u001B[0m     \u001B[38;5;28;01mraise\u001B[39;00m \u001B[38;5;167;01mValueError\u001B[39;00m(\n\u001B[0;32m    450\u001B[0m         \u001B[38;5;124m\"\u001B[39m\u001B[38;5;124mCannot run multiple SparkContexts at once; \u001B[39m\u001B[38;5;124m\"\u001B[39m\n\u001B[0;32m    451\u001B[0m         \u001B[38;5;124m\"\u001B[39m\u001B[38;5;124mexisting SparkContext(app=\u001B[39m\u001B[38;5;132;01m%s\u001B[39;00m\u001B[38;5;124m, master=\u001B[39m\u001B[38;5;132;01m%s\u001B[39;00m\u001B[38;5;124m)\u001B[39m\u001B[38;5;124m\"\u001B[39m\n\u001B[0;32m    452\u001B[0m         \u001B[38;5;124m\"\u001B[39m\u001B[38;5;124m created by \u001B[39m\u001B[38;5;132;01m%s\u001B[39;00m\u001B[38;5;124m at \u001B[39m\u001B[38;5;132;01m%s\u001B[39;00m\u001B[38;5;124m:\u001B[39m\u001B[38;5;132;01m%s\u001B[39;00m\u001B[38;5;124m \u001B[39m\u001B[38;5;124m\"\u001B[39m\n\u001B[0;32m    453\u001B[0m         \u001B[38;5;241m%\u001B[39m (\n\u001B[0;32m    454\u001B[0m             currentAppName,\n\u001B[0;32m    455\u001B[0m             currentMaster,\n\u001B[0;32m    456\u001B[0m             callsite\u001B[38;5;241m.\u001B[39mfunction,\n\u001B[0;32m    457\u001B[0m             callsite\u001B[38;5;241m.\u001B[39mfile,\n\u001B[0;32m    458\u001B[0m             callsite\u001B[38;5;241m.\u001B[39mlinenum,\n\u001B[0;32m    459\u001B[0m         )\n\u001B[0;32m    460\u001B[0m     )\n\u001B[0;32m    461\u001B[0m \u001B[38;5;28;01melse\u001B[39;00m:\n\u001B[0;32m    462\u001B[0m     SparkContext\u001B[38;5;241m.\u001B[39m_active_spark_context \u001B[38;5;241m=\u001B[39m instance\n",
      "\u001B[1;31mValueError\u001B[0m: Cannot run multiple SparkContexts at once; existing SparkContext(app=pyspark-shell, master=local[*]) created by __init__ at C:\\Users\\rmcne\\AppData\\Local\\Temp\\ipykernel_10328\\1444969767.py:22 "
     ]
    }
   ],
   "execution_count": 115
  },
  {
   "cell_type": "markdown",
   "source": [
    "# Part A: Exploratory Data Analysis\n",
    "## 1. Perform Exploratory Data Analysis (EDA) and discuss the data and what you observe prior to beginning modeling and how the EDA insights impact how to proceed "
   ],
   "metadata": {
    "collapsed": false
   },
   "id": "a57b49d68f22f43f"
  },
  {
   "cell_type": "markdown",
   "source": [
    "### Aisles"
   ],
   "metadata": {
    "collapsed": false
   },
   "id": "b955689575c0949c"
  },
  {
   "cell_type": "code",
   "source": [
    "aisles = pd.read_csv(os.path.join(data_folder_path, \"aisles.csv\"))"
   ],
   "metadata": {
    "collapsed": false,
    "ExecuteTime": {
     "end_time": "2024-10-06T23:09:56.544484Z",
     "start_time": "2024-10-06T23:09:56.427952Z"
    }
   },
   "id": "41a20a5c591496f7",
   "outputs": [],
   "execution_count": 2
  },
  {
   "metadata": {
    "ExecuteTime": {
     "end_time": "2024-10-06T23:09:56.597382Z",
     "start_time": "2024-10-06T23:09:56.545456Z"
    }
   },
   "cell_type": "code",
   "source": [
    "print(f\"No duplicate aisles: {len(pd.unique(aisles.aisle)) == len(aisles.aisle)}\")\n",
    "\n",
    "print(f\"NA values: {aisles.isnull().sum().sum()}\")\n",
    "\n",
    "aisles.head()"
   ],
   "id": "8a1f94121f64387a",
   "outputs": [
    {
     "name": "stdout",
     "output_type": "stream",
     "text": [
      "No duplicate aisles: True\n",
      "NA values: 0\n"
     ]
    },
    {
     "data": {
      "text/plain": [
       "   aisle_id                       aisle\n",
       "0         1       prepared soups salads\n",
       "1         2           specialty cheeses\n",
       "2         3         energy granola bars\n",
       "3         4               instant foods\n",
       "4         5  marinades meat preparation"
      ],
      "text/html": [
       "<div>\n",
       "<style scoped>\n",
       "    .dataframe tbody tr th:only-of-type {\n",
       "        vertical-align: middle;\n",
       "    }\n",
       "\n",
       "    .dataframe tbody tr th {\n",
       "        vertical-align: top;\n",
       "    }\n",
       "\n",
       "    .dataframe thead th {\n",
       "        text-align: right;\n",
       "    }\n",
       "</style>\n",
       "<table border=\"1\" class=\"dataframe\">\n",
       "  <thead>\n",
       "    <tr style=\"text-align: right;\">\n",
       "      <th></th>\n",
       "      <th>aisle_id</th>\n",
       "      <th>aisle</th>\n",
       "    </tr>\n",
       "  </thead>\n",
       "  <tbody>\n",
       "    <tr>\n",
       "      <th>0</th>\n",
       "      <td>1</td>\n",
       "      <td>prepared soups salads</td>\n",
       "    </tr>\n",
       "    <tr>\n",
       "      <th>1</th>\n",
       "      <td>2</td>\n",
       "      <td>specialty cheeses</td>\n",
       "    </tr>\n",
       "    <tr>\n",
       "      <th>2</th>\n",
       "      <td>3</td>\n",
       "      <td>energy granola bars</td>\n",
       "    </tr>\n",
       "    <tr>\n",
       "      <th>3</th>\n",
       "      <td>4</td>\n",
       "      <td>instant foods</td>\n",
       "    </tr>\n",
       "    <tr>\n",
       "      <th>4</th>\n",
       "      <td>5</td>\n",
       "      <td>marinades meat preparation</td>\n",
       "    </tr>\n",
       "  </tbody>\n",
       "</table>\n",
       "</div>"
      ]
     },
     "execution_count": 3,
     "metadata": {},
     "output_type": "execute_result"
    }
   ],
   "execution_count": 3
  },
  {
   "cell_type": "markdown",
   "source": [
    "Aisles appears to be a table of aisles (by name (str)) with unique id numbers assigned to each."
   ],
   "metadata": {
    "collapsed": false
   },
   "id": "e43a666bb55957da"
  },
  {
   "cell_type": "markdown",
   "source": [
    "### Departments"
   ],
   "metadata": {
    "collapsed": false
   },
   "id": "2083da6e6d11f573"
  },
  {
   "cell_type": "code",
   "source": [
    "departments = pd.read_csv(os.path.join(data_folder_path, \"departments.csv\"))"
   ],
   "metadata": {
    "collapsed": false,
    "ExecuteTime": {
     "end_time": "2024-10-06T23:09:56.603080Z",
     "start_time": "2024-10-06T23:09:56.598383Z"
    }
   },
   "id": "dc360f314b66e6c0",
   "outputs": [],
   "execution_count": 4
  },
  {
   "metadata": {
    "ExecuteTime": {
     "end_time": "2024-10-06T23:09:56.609925Z",
     "start_time": "2024-10-06T23:09:56.603080Z"
    }
   },
   "cell_type": "code",
   "source": [
    "print(f\"Unique departments {departments.__len__()}\") # here len = nunique departments so long as duplicates == 0\n",
    "print(f\"No duplicate departments: {len(pd.unique(departments.department)) == len(departments.department)}\")\n",
    "print(f\"NA values: {departments.isnull().sum().sum()}\")\n",
    "\n",
    "departments.head()"
   ],
   "id": "150fda3c6901a91b",
   "outputs": [
    {
     "name": "stdout",
     "output_type": "stream",
     "text": [
      "Unique departments 21\n",
      "No duplicate departments: True\n",
      "NA values: 0\n"
     ]
    },
    {
     "data": {
      "text/plain": [
       "   department_id department\n",
       "0              1     frozen\n",
       "1              2      other\n",
       "2              3     bakery\n",
       "3              4    produce\n",
       "4              5    alcohol"
      ],
      "text/html": [
       "<div>\n",
       "<style scoped>\n",
       "    .dataframe tbody tr th:only-of-type {\n",
       "        vertical-align: middle;\n",
       "    }\n",
       "\n",
       "    .dataframe tbody tr th {\n",
       "        vertical-align: top;\n",
       "    }\n",
       "\n",
       "    .dataframe thead th {\n",
       "        text-align: right;\n",
       "    }\n",
       "</style>\n",
       "<table border=\"1\" class=\"dataframe\">\n",
       "  <thead>\n",
       "    <tr style=\"text-align: right;\">\n",
       "      <th></th>\n",
       "      <th>department_id</th>\n",
       "      <th>department</th>\n",
       "    </tr>\n",
       "  </thead>\n",
       "  <tbody>\n",
       "    <tr>\n",
       "      <th>0</th>\n",
       "      <td>1</td>\n",
       "      <td>frozen</td>\n",
       "    </tr>\n",
       "    <tr>\n",
       "      <th>1</th>\n",
       "      <td>2</td>\n",
       "      <td>other</td>\n",
       "    </tr>\n",
       "    <tr>\n",
       "      <th>2</th>\n",
       "      <td>3</td>\n",
       "      <td>bakery</td>\n",
       "    </tr>\n",
       "    <tr>\n",
       "      <th>3</th>\n",
       "      <td>4</td>\n",
       "      <td>produce</td>\n",
       "    </tr>\n",
       "    <tr>\n",
       "      <th>4</th>\n",
       "      <td>5</td>\n",
       "      <td>alcohol</td>\n",
       "    </tr>\n",
       "  </tbody>\n",
       "</table>\n",
       "</div>"
      ]
     },
     "execution_count": 5,
     "metadata": {},
     "output_type": "execute_result"
    }
   ],
   "execution_count": 5
  },
  {
   "cell_type": "markdown",
   "source": [
    "Departments appears to be a table of departments (by name (str)) with unique id numbers assigned to each."
   ],
   "metadata": {
    "collapsed": false
   },
   "id": "33b14e22b09a18a3"
  },
  {
   "cell_type": "markdown",
   "source": [
    "### Order_products__prior"
   ],
   "metadata": {
    "collapsed": false
   },
   "id": "c25020f627dc3d24"
  },
  {
   "cell_type": "code",
   "source": [
    "order_products__prior = pd.read_csv(os.path.join(data_folder_path, \"order_products__prior.csv\"))\n",
    "order_products__prior.__len__()"
   ],
   "metadata": {
    "collapsed": false,
    "ExecuteTime": {
     "end_time": "2024-10-07T00:58:42.363259Z",
     "start_time": "2024-10-07T00:58:36.860494Z"
    }
   },
   "id": "aca074928e63469b",
   "outputs": [
    {
     "data": {
      "text/plain": [
       "32434489"
      ]
     },
     "execution_count": 177,
     "metadata": {},
     "output_type": "execute_result"
    }
   ],
   "execution_count": 177
  },
  {
   "cell_type": "code",
   "source": [
    "print(f\"NA values: {order_products__prior.isnull().sum().sum()}\")\n",
    "\n",
    "print(f\"Unique orders in dataset: {order_products__prior.order_id.nunique()}\")\n",
    "\n",
    "print(f\"Frequency of reorder: {round(order_products__prior.reordered.mean(), 4) * 100}%\")\n",
    "\n",
    "order_products__prior.head()"
   ],
   "metadata": {
    "collapsed": false,
    "ExecuteTime": {
     "end_time": "2024-10-06T23:10:02.575938Z",
     "start_time": "2024-10-06T23:10:02.149737Z"
    }
   },
   "id": "49447624e7b545e4",
   "outputs": [
    {
     "name": "stdout",
     "output_type": "stream",
     "text": [
      "NA values: 0\n",
      "Unique orders in dataset: 3214874\n",
      "Frequency of reorder: 58.97%\n"
     ]
    },
    {
     "data": {
      "text/plain": [
       "   order_id  product_id  add_to_cart_order  reordered\n",
       "0         2       33120                  1          1\n",
       "1         2       28985                  2          1\n",
       "2         2        9327                  3          0\n",
       "3         2       45918                  4          1\n",
       "4         2       30035                  5          0"
      ],
      "text/html": [
       "<div>\n",
       "<style scoped>\n",
       "    .dataframe tbody tr th:only-of-type {\n",
       "        vertical-align: middle;\n",
       "    }\n",
       "\n",
       "    .dataframe tbody tr th {\n",
       "        vertical-align: top;\n",
       "    }\n",
       "\n",
       "    .dataframe thead th {\n",
       "        text-align: right;\n",
       "    }\n",
       "</style>\n",
       "<table border=\"1\" class=\"dataframe\">\n",
       "  <thead>\n",
       "    <tr style=\"text-align: right;\">\n",
       "      <th></th>\n",
       "      <th>order_id</th>\n",
       "      <th>product_id</th>\n",
       "      <th>add_to_cart_order</th>\n",
       "      <th>reordered</th>\n",
       "    </tr>\n",
       "  </thead>\n",
       "  <tbody>\n",
       "    <tr>\n",
       "      <th>0</th>\n",
       "      <td>2</td>\n",
       "      <td>33120</td>\n",
       "      <td>1</td>\n",
       "      <td>1</td>\n",
       "    </tr>\n",
       "    <tr>\n",
       "      <th>1</th>\n",
       "      <td>2</td>\n",
       "      <td>28985</td>\n",
       "      <td>2</td>\n",
       "      <td>1</td>\n",
       "    </tr>\n",
       "    <tr>\n",
       "      <th>2</th>\n",
       "      <td>2</td>\n",
       "      <td>9327</td>\n",
       "      <td>3</td>\n",
       "      <td>0</td>\n",
       "    </tr>\n",
       "    <tr>\n",
       "      <th>3</th>\n",
       "      <td>2</td>\n",
       "      <td>45918</td>\n",
       "      <td>4</td>\n",
       "      <td>1</td>\n",
       "    </tr>\n",
       "    <tr>\n",
       "      <th>4</th>\n",
       "      <td>2</td>\n",
       "      <td>30035</td>\n",
       "      <td>5</td>\n",
       "      <td>0</td>\n",
       "    </tr>\n",
       "  </tbody>\n",
       "</table>\n",
       "</div>"
      ]
     },
     "execution_count": 7,
     "metadata": {},
     "output_type": "execute_result"
    }
   ],
   "execution_count": 7
  },
  {
   "cell_type": "markdown",
   "source": [
    "order_products__prior appears to be a table of products previously ordered by order (for ~3.4 million orders), including the order in which each product was added to cart & a binary flag for whether that product was previously ordered by that customer."
   ],
   "metadata": {
    "collapsed": false
   },
   "id": "79a490f40628b04a"
  },
  {
   "metadata": {
    "ExecuteTime": {
     "end_time": "2024-10-06T23:10:04.513014Z",
     "start_time": "2024-10-06T23:10:02.575938Z"
    }
   },
   "cell_type": "code",
   "source": [
    "print(f\"Median add_to_cart_order: {order_products__prior['add_to_cart_order'].median()}\")\n",
    "order_products__prior['add_to_cart_order'].plot.hist(bins=50)\n",
    "plt.xlim(0, 40)\n",
    "plt.show()"
   ],
   "id": "2230678c42f58749",
   "outputs": [
    {
     "name": "stdout",
     "output_type": "stream",
     "text": [
      "Median add_to_cart_order: 6.0\n"
     ]
    },
    {
     "data": {
      "text/plain": [
       "<Figure size 640x480 with 1 Axes>"
      ],
      "image/png": "[encoded data removed]"
     },
     "metadata": {},
     "output_type": "display_data"
    }
   ],
   "execution_count": 8
  },
  {
   "metadata": {},
   "cell_type": "markdown",
   "source": [
    "The max add_to_cart order is 145, but there are several outliers, so I clip my graph at 40 to see where most rows fall. The frequency of add_to_cart_order values seems to drop quickly. \n",
    "Given these outliers, I also look at the median instead of the mean. This shows that \"most\" items are added to an order in position 6 or less."
   ],
   "id": "eb42007ced15647a"
  },
  {
   "metadata": {
    "ExecuteTime": {
     "end_time": "2024-10-06T23:10:06.791597Z",
     "start_time": "2024-10-06T23:10:04.514009Z"
    }
   },
   "cell_type": "code",
   "source": [
    "print(f\"Median number of orders containing each product: {order_products__prior['product_id'].value_counts().median()}\")\n",
    "order_products__prior['product_id'].value_counts().sort_index()"
   ],
   "id": "30e3fd6740ceb4d4",
   "outputs": [
    {
     "name": "stdout",
     "output_type": "stream",
     "text": [
      "Median number of orders containing each product: 60.0\n"
     ]
    },
    {
     "data": {
      "text/plain": [
       "product_id\n",
       "1        1852\n",
       "2          90\n",
       "3         277\n",
       "4         329\n",
       "5          15\n",
       "         ... \n",
       "49684       9\n",
       "49685      49\n",
       "49686     120\n",
       "49687      13\n",
       "49688      89\n",
       "Name: count, Length: 49677, dtype: int64"
      ]
     },
     "execution_count": 9,
     "metadata": {},
     "output_type": "execute_result"
    }
   ],
   "execution_count": 9
  },
  {
   "metadata": {},
   "cell_type": "markdown",
   "source": [
    "Value counts of product_id shows that most products are represented in 60 or fewer orders, however a few products are extreme outliers. These may need to be dropped to produce a strong predictive model."
   ],
   "id": "2bb90956494060e1"
  },
  {
   "cell_type": "markdown",
   "source": [
    "### Order_products__train"
   ],
   "metadata": {
    "collapsed": false
   },
   "id": "b57d2926f9d1af98"
  },
  {
   "cell_type": "code",
   "source": [
    "order_products__train = pd.read_csv(os.path.join(data_folder_path, \"order_products__train.csv\"))"
   ],
   "metadata": {
    "collapsed": false,
    "ExecuteTime": {
     "end_time": "2024-10-06T23:10:07.049750Z",
     "start_time": "2024-10-06T23:10:06.793595Z"
    }
   },
   "id": "9133924941bcc6f6",
   "outputs": [],
   "execution_count": 10
  },
  {
   "metadata": {
    "ExecuteTime": {
     "end_time": "2024-10-06T23:10:07.080913Z",
     "start_time": "2024-10-06T23:10:07.050751Z"
    }
   },
   "cell_type": "code",
   "source": [
    "print(f\"NA values: {order_products__train.isnull().sum().sum()}\")\n",
    "\n",
    "print(f\"Orders in dataset: {order_products__train.order_id.nunique()}\")\n",
    "\n",
    "print(f\"Frequency of reorder: {round(order_products__train.reordered.mean(), 4) * 100}%\")\n",
    "\n",
    "print(f\"Comparative size: {round((order_products__train.__len__() / order_products__prior.__len__()) * 100, 2)}%\")\n",
    "\n",
    "order_products__train.head()"
   ],
   "id": "6035422bf1e3da13",
   "outputs": [
    {
     "name": "stdout",
     "output_type": "stream",
     "text": [
      "NA values: 0\n",
      "Orders in dataset: 131209\n",
      "Frequency of reorder: 59.86%\n",
      "Comparative size: 4.27%\n"
     ]
    },
    {
     "data": {
      "text/plain": [
       "   order_id  product_id  add_to_cart_order  reordered\n",
       "0         1       49302                  1          1\n",
       "1         1       11109                  2          1\n",
       "2         1       10246                  3          0\n",
       "3         1       49683                  4          0\n",
       "4         1       43633                  5          1"
      ],
      "text/html": [
       "<div>\n",
       "<style scoped>\n",
       "    .dataframe tbody tr th:only-of-type {\n",
       "        vertical-align: middle;\n",
       "    }\n",
       "\n",
       "    .dataframe tbody tr th {\n",
       "        vertical-align: top;\n",
       "    }\n",
       "\n",
       "    .dataframe thead th {\n",
       "        text-align: right;\n",
       "    }\n",
       "</style>\n",
       "<table border=\"1\" class=\"dataframe\">\n",
       "  <thead>\n",
       "    <tr style=\"text-align: right;\">\n",
       "      <th></th>\n",
       "      <th>order_id</th>\n",
       "      <th>product_id</th>\n",
       "      <th>add_to_cart_order</th>\n",
       "      <th>reordered</th>\n",
       "    </tr>\n",
       "  </thead>\n",
       "  <tbody>\n",
       "    <tr>\n",
       "      <th>0</th>\n",
       "      <td>1</td>\n",
       "      <td>49302</td>\n",
       "      <td>1</td>\n",
       "      <td>1</td>\n",
       "    </tr>\n",
       "    <tr>\n",
       "      <th>1</th>\n",
       "      <td>1</td>\n",
       "      <td>11109</td>\n",
       "      <td>2</td>\n",
       "      <td>1</td>\n",
       "    </tr>\n",
       "    <tr>\n",
       "      <th>2</th>\n",
       "      <td>1</td>\n",
       "      <td>10246</td>\n",
       "      <td>3</td>\n",
       "      <td>0</td>\n",
       "    </tr>\n",
       "    <tr>\n",
       "      <th>3</th>\n",
       "      <td>1</td>\n",
       "      <td>49683</td>\n",
       "      <td>4</td>\n",
       "      <td>0</td>\n",
       "    </tr>\n",
       "    <tr>\n",
       "      <th>4</th>\n",
       "      <td>1</td>\n",
       "      <td>43633</td>\n",
       "      <td>5</td>\n",
       "      <td>1</td>\n",
       "    </tr>\n",
       "  </tbody>\n",
       "</table>\n",
       "</div>"
      ]
     },
     "execution_count": 11,
     "metadata": {},
     "output_type": "execute_result"
    }
   ],
   "execution_count": 11
  },
  {
   "cell_type": "markdown",
   "source": [
    "order_products__train appears to be a training set of data of the same structure as order_produces_prior, but only contains 4.27% as much data. "
   ],
   "metadata": {
    "collapsed": false
   },
   "id": "bba8d4c60f0472e4"
  },
  {
   "cell_type": "markdown",
   "source": [
    "### Orders"
   ],
   "metadata": {
    "collapsed": false
   },
   "id": "2489abbffa36a903"
  },
  {
   "cell_type": "code",
   "source": [
    "orders = pd.read_csv(os.path.join(data_folder_path, \"orders.csv\"))"
   ],
   "metadata": {
    "collapsed": false,
    "ExecuteTime": {
     "end_time": "2024-10-06T23:22:49.408298Z",
     "start_time": "2024-10-06T23:22:48.047422Z"
    }
   },
   "id": "6feefc0e71840737",
   "outputs": [],
   "execution_count": 68
  },
  {
   "metadata": {
    "ExecuteTime": {
     "end_time": "2024-10-06T23:10:08.967972Z",
     "start_time": "2024-10-06T23:10:08.399579Z"
    }
   },
   "cell_type": "code",
   "source": [
    "print(f\"NA values: {orders.isnull().sum().sum()}\")\n",
    "print(f\"Proportion of NAs {round(100 * orders.isnull().sum().sum()/orders.__len__(), 2)}%\")\n",
    "print(f\"Orders in dataset: {orders.order_id.nunique()}\")\n",
    "print(f\"Duplicate orders: {orders['order_id'].duplicated().sum()}\")\n",
    "orders[orders['days_since_prior_order'].isna()]"
   ],
   "id": "f0ac912fa1dafd57",
   "outputs": [
    {
     "name": "stdout",
     "output_type": "stream",
     "text": [
      "NA values: 206209\n",
      "Proportion of NAs 6.03%\n",
      "Orders in dataset: 3421083\n",
      "Duplicate orders: 0\n"
     ]
    },
    {
     "data": {
      "text/plain": [
       "         order_id  user_id eval_set  order_number  order_dow  \\\n",
       "0         2539329        1    prior             1          2   \n",
       "11        2168274        2    prior             1          2   \n",
       "26        1374495        3    prior             1          1   \n",
       "39        3343014        4    prior             1          6   \n",
       "45        2717275        5    prior             1          3   \n",
       "...           ...      ...      ...           ...        ...   \n",
       "3420930    969311   206205    prior             1          4   \n",
       "3420934   3189322   206206    prior             1          3   \n",
       "3421002   2166133   206207    prior             1          6   \n",
       "3421019   2227043   206208    prior             1          1   \n",
       "3421069   3154581   206209    prior             1          3   \n",
       "\n",
       "         order_hour_of_day  days_since_prior_order  \n",
       "0                        8                     NaN  \n",
       "11                      11                     NaN  \n",
       "26                      14                     NaN  \n",
       "39                      11                     NaN  \n",
       "45                      12                     NaN  \n",
       "...                    ...                     ...  \n",
       "3420930                 12                     NaN  \n",
       "3420934                 18                     NaN  \n",
       "3421002                 19                     NaN  \n",
       "3421019                 15                     NaN  \n",
       "3421069                 11                     NaN  \n",
       "\n",
       "[206209 rows x 7 columns]"
      ],
      "text/html": [
       "<div>\n",
       "<style scoped>\n",
       "    .dataframe tbody tr th:only-of-type {\n",
       "        vertical-align: middle;\n",
       "    }\n",
       "\n",
       "    .dataframe tbody tr th {\n",
       "        vertical-align: top;\n",
       "    }\n",
       "\n",
       "    .dataframe thead th {\n",
       "        text-align: right;\n",
       "    }\n",
       "</style>\n",
       "<table border=\"1\" class=\"dataframe\">\n",
       "  <thead>\n",
       "    <tr style=\"text-align: right;\">\n",
       "      <th></th>\n",
       "      <th>order_id</th>\n",
       "      <th>user_id</th>\n",
       "      <th>eval_set</th>\n",
       "      <th>order_number</th>\n",
       "      <th>order_dow</th>\n",
       "      <th>order_hour_of_day</th>\n",
       "      <th>days_since_prior_order</th>\n",
       "    </tr>\n",
       "  </thead>\n",
       "  <tbody>\n",
       "    <tr>\n",
       "      <th>0</th>\n",
       "      <td>2539329</td>\n",
       "      <td>1</td>\n",
       "      <td>prior</td>\n",
       "      <td>1</td>\n",
       "      <td>2</td>\n",
       "      <td>8</td>\n",
       "      <td>NaN</td>\n",
       "    </tr>\n",
       "    <tr>\n",
       "      <th>11</th>\n",
       "      <td>2168274</td>\n",
       "      <td>2</td>\n",
       "      <td>prior</td>\n",
       "      <td>1</td>\n",
       "      <td>2</td>\n",
       "      <td>11</td>\n",
       "      <td>NaN</td>\n",
       "    </tr>\n",
       "    <tr>\n",
       "      <th>26</th>\n",
       "      <td>1374495</td>\n",
       "      <td>3</td>\n",
       "      <td>prior</td>\n",
       "      <td>1</td>\n",
       "      <td>1</td>\n",
       "      <td>14</td>\n",
       "      <td>NaN</td>\n",
       "    </tr>\n",
       "    <tr>\n",
       "      <th>39</th>\n",
       "      <td>3343014</td>\n",
       "      <td>4</td>\n",
       "      <td>prior</td>\n",
       "      <td>1</td>\n",
       "      <td>6</td>\n",
       "      <td>11</td>\n",
       "      <td>NaN</td>\n",
       "    </tr>\n",
       "    <tr>\n",
       "      <th>45</th>\n",
       "      <td>2717275</td>\n",
       "      <td>5</td>\n",
       "      <td>prior</td>\n",
       "      <td>1</td>\n",
       "      <td>3</td>\n",
       "      <td>12</td>\n",
       "      <td>NaN</td>\n",
       "    </tr>\n",
       "    <tr>\n",
       "      <th>...</th>\n",
       "      <td>...</td>\n",
       "      <td>...</td>\n",
       "      <td>...</td>\n",
       "      <td>...</td>\n",
       "      <td>...</td>\n",
       "      <td>...</td>\n",
       "      <td>...</td>\n",
       "    </tr>\n",
       "    <tr>\n",
       "      <th>3420930</th>\n",
       "      <td>969311</td>\n",
       "      <td>206205</td>\n",
       "      <td>prior</td>\n",
       "      <td>1</td>\n",
       "      <td>4</td>\n",
       "      <td>12</td>\n",
       "      <td>NaN</td>\n",
       "    </tr>\n",
       "    <tr>\n",
       "      <th>3420934</th>\n",
       "      <td>3189322</td>\n",
       "      <td>206206</td>\n",
       "      <td>prior</td>\n",
       "      <td>1</td>\n",
       "      <td>3</td>\n",
       "      <td>18</td>\n",
       "      <td>NaN</td>\n",
       "    </tr>\n",
       "    <tr>\n",
       "      <th>3421002</th>\n",
       "      <td>2166133</td>\n",
       "      <td>206207</td>\n",
       "      <td>prior</td>\n",
       "      <td>1</td>\n",
       "      <td>6</td>\n",
       "      <td>19</td>\n",
       "      <td>NaN</td>\n",
       "    </tr>\n",
       "    <tr>\n",
       "      <th>3421019</th>\n",
       "      <td>2227043</td>\n",
       "      <td>206208</td>\n",
       "      <td>prior</td>\n",
       "      <td>1</td>\n",
       "      <td>1</td>\n",
       "      <td>15</td>\n",
       "      <td>NaN</td>\n",
       "    </tr>\n",
       "    <tr>\n",
       "      <th>3421069</th>\n",
       "      <td>3154581</td>\n",
       "      <td>206209</td>\n",
       "      <td>prior</td>\n",
       "      <td>1</td>\n",
       "      <td>3</td>\n",
       "      <td>11</td>\n",
       "      <td>NaN</td>\n",
       "    </tr>\n",
       "  </tbody>\n",
       "</table>\n",
       "<p>206209 rows × 7 columns</p>\n",
       "</div>"
      ]
     },
     "execution_count": 13,
     "metadata": {},
     "output_type": "execute_result"
    }
   ],
   "execution_count": 13
  },
  {
   "metadata": {
    "ExecuteTime": {
     "end_time": "2024-10-06T23:10:09.103363Z",
     "start_time": "2024-10-06T23:10:08.968967Z"
    }
   },
   "cell_type": "code",
   "source": [
    "orders[(orders['days_since_prior_order'].isna()) & (orders['eval_set'] != 'prior')].sum().sum()\n",
    "# filter for days_since_prior_order is na & eval_set not 'prior'"
   ],
   "id": "b631b885d4bd31bf",
   "outputs": [
    {
     "data": {
      "text/plain": [
       "np.float64(0.0)"
      ]
     },
     "execution_count": 14,
     "metadata": {},
     "output_type": "execute_result"
    }
   ],
   "execution_count": 14
  },
  {
   "metadata": {},
   "cell_type": "markdown",
   "source": [
    "All rows containing NAs are apparently part of the 'prior' set. No NAs (from this file, at least) in the train or test sets."
   ],
   "id": "943e1c9fc9fbea8b"
  },
  {
   "metadata": {
    "ExecuteTime": {
     "end_time": "2024-10-06T23:10:09.885245Z",
     "start_time": "2024-10-06T23:10:09.103363Z"
    }
   },
   "cell_type": "code",
   "source": [
    "orders.describe()"
   ],
   "id": "309195968fbbab39",
   "outputs": [
    {
     "data": {
      "text/plain": [
       "           order_id       user_id  order_number     order_dow  \\\n",
       "count  3.421083e+06  3.421083e+06  3.421083e+06  3.421083e+06   \n",
       "mean   1.710542e+06  1.029782e+05  1.715486e+01  2.776219e+00   \n",
       "std    9.875817e+05  5.953372e+04  1.773316e+01  2.046829e+00   \n",
       "min    1.000000e+00  1.000000e+00  1.000000e+00  0.000000e+00   \n",
       "25%    8.552715e+05  5.139400e+04  5.000000e+00  1.000000e+00   \n",
       "50%    1.710542e+06  1.026890e+05  1.100000e+01  3.000000e+00   \n",
       "75%    2.565812e+06  1.543850e+05  2.300000e+01  5.000000e+00   \n",
       "max    3.421083e+06  2.062090e+05  1.000000e+02  6.000000e+00   \n",
       "\n",
       "       order_hour_of_day  days_since_prior_order  \n",
       "count       3.421083e+06            3.214874e+06  \n",
       "mean        1.345202e+01            1.111484e+01  \n",
       "std         4.226088e+00            9.206737e+00  \n",
       "min         0.000000e+00            0.000000e+00  \n",
       "25%         1.000000e+01            4.000000e+00  \n",
       "50%         1.300000e+01            7.000000e+00  \n",
       "75%         1.600000e+01            1.500000e+01  \n",
       "max         2.300000e+01            3.000000e+01  "
      ],
      "text/html": [
       "<div>\n",
       "<style scoped>\n",
       "    .dataframe tbody tr th:only-of-type {\n",
       "        vertical-align: middle;\n",
       "    }\n",
       "\n",
       "    .dataframe tbody tr th {\n",
       "        vertical-align: top;\n",
       "    }\n",
       "\n",
       "    .dataframe thead th {\n",
       "        text-align: right;\n",
       "    }\n",
       "</style>\n",
       "<table border=\"1\" class=\"dataframe\">\n",
       "  <thead>\n",
       "    <tr style=\"text-align: right;\">\n",
       "      <th></th>\n",
       "      <th>order_id</th>\n",
       "      <th>user_id</th>\n",
       "      <th>order_number</th>\n",
       "      <th>order_dow</th>\n",
       "      <th>order_hour_of_day</th>\n",
       "      <th>days_since_prior_order</th>\n",
       "    </tr>\n",
       "  </thead>\n",
       "  <tbody>\n",
       "    <tr>\n",
       "      <th>count</th>\n",
       "      <td>3.421083e+06</td>\n",
       "      <td>3.421083e+06</td>\n",
       "      <td>3.421083e+06</td>\n",
       "      <td>3.421083e+06</td>\n",
       "      <td>3.421083e+06</td>\n",
       "      <td>3.214874e+06</td>\n",
       "    </tr>\n",
       "    <tr>\n",
       "      <th>mean</th>\n",
       "      <td>1.710542e+06</td>\n",
       "      <td>1.029782e+05</td>\n",
       "      <td>1.715486e+01</td>\n",
       "      <td>2.776219e+00</td>\n",
       "      <td>1.345202e+01</td>\n",
       "      <td>1.111484e+01</td>\n",
       "    </tr>\n",
       "    <tr>\n",
       "      <th>std</th>\n",
       "      <td>9.875817e+05</td>\n",
       "      <td>5.953372e+04</td>\n",
       "      <td>1.773316e+01</td>\n",
       "      <td>2.046829e+00</td>\n",
       "      <td>4.226088e+00</td>\n",
       "      <td>9.206737e+00</td>\n",
       "    </tr>\n",
       "    <tr>\n",
       "      <th>min</th>\n",
       "      <td>1.000000e+00</td>\n",
       "      <td>1.000000e+00</td>\n",
       "      <td>1.000000e+00</td>\n",
       "      <td>0.000000e+00</td>\n",
       "      <td>0.000000e+00</td>\n",
       "      <td>0.000000e+00</td>\n",
       "    </tr>\n",
       "    <tr>\n",
       "      <th>25%</th>\n",
       "      <td>8.552715e+05</td>\n",
       "      <td>5.139400e+04</td>\n",
       "      <td>5.000000e+00</td>\n",
       "      <td>1.000000e+00</td>\n",
       "      <td>1.000000e+01</td>\n",
       "      <td>4.000000e+00</td>\n",
       "    </tr>\n",
       "    <tr>\n",
       "      <th>50%</th>\n",
       "      <td>1.710542e+06</td>\n",
       "      <td>1.026890e+05</td>\n",
       "      <td>1.100000e+01</td>\n",
       "      <td>3.000000e+00</td>\n",
       "      <td>1.300000e+01</td>\n",
       "      <td>7.000000e+00</td>\n",
       "    </tr>\n",
       "    <tr>\n",
       "      <th>75%</th>\n",
       "      <td>2.565812e+06</td>\n",
       "      <td>1.543850e+05</td>\n",
       "      <td>2.300000e+01</td>\n",
       "      <td>5.000000e+00</td>\n",
       "      <td>1.600000e+01</td>\n",
       "      <td>1.500000e+01</td>\n",
       "    </tr>\n",
       "    <tr>\n",
       "      <th>max</th>\n",
       "      <td>3.421083e+06</td>\n",
       "      <td>2.062090e+05</td>\n",
       "      <td>1.000000e+02</td>\n",
       "      <td>6.000000e+00</td>\n",
       "      <td>2.300000e+01</td>\n",
       "      <td>3.000000e+01</td>\n",
       "    </tr>\n",
       "  </tbody>\n",
       "</table>\n",
       "</div>"
      ]
     },
     "execution_count": 15,
     "metadata": {},
     "output_type": "execute_result"
    }
   ],
   "execution_count": 15
  },
  {
   "metadata": {},
   "cell_type": "markdown",
   "source": [
    "Orders contains items ordered categorized into the \"prior\" (previous orders), training & testing datasets, plus features for \"order_number\", day of the week when an order was placed, hour it was placed, and days since prior order. No duplicate order IDs, one row per order. Days since prior order contains about 6% NAs, presumably orders with no prior order. The maximum value for days_since_prior_order is 30. I'm curious why. Have values greater than 30 have been squished to 30? Have those rows been dropped? are those the NAs?"
   ],
   "id": "a986cab38dcbe4df"
  },
  {
   "cell_type": "markdown",
   "source": [
    "### Products"
   ],
   "metadata": {
    "collapsed": false
   },
   "id": "cd10f60e94b2a861"
  },
  {
   "cell_type": "code",
   "source": [
    "products = pd.read_csv(os.path.join(data_folder_path, \"products.csv\"))"
   ],
   "metadata": {
    "collapsed": false,
    "ExecuteTime": {
     "end_time": "2024-10-06T23:22:53.136644Z",
     "start_time": "2024-10-06T23:22:53.072908Z"
    }
   },
   "id": "76c053434acc98a9",
   "outputs": [],
   "execution_count": 69
  },
  {
   "metadata": {
    "ExecuteTime": {
     "end_time": "2024-10-06T23:10:09.955785Z",
     "start_time": "2024-10-06T23:10:09.946810Z"
    }
   },
   "cell_type": "code",
   "source": [
    "print(f\"NA values: {products.isnull().sum().sum()}\")\n",
    "print(f\"Products in dataset: {products.product_id.nunique()}\")\n",
    "print(f\"Duplicate products: {products['product_id'].duplicated().sum()}\")\n",
    "products.head()"
   ],
   "id": "3589d772f251a52c",
   "outputs": [
    {
     "name": "stdout",
     "output_type": "stream",
     "text": [
      "NA values: 0\n",
      "Products in dataset: 49688\n",
      "Duplicate products: 0\n"
     ]
    },
    {
     "data": {
      "text/plain": [
       "   product_id                                       product_name  aisle_id  \\\n",
       "0           1                         Chocolate Sandwich Cookies        61   \n",
       "1           2                                   All-Seasons Salt       104   \n",
       "2           3               Robust Golden Unsweetened Oolong Tea        94   \n",
       "3           4  Smart Ones Classic Favorites Mini Rigatoni Wit...        38   \n",
       "4           5                          Green Chile Anytime Sauce         5   \n",
       "\n",
       "   department_id  \n",
       "0             19  \n",
       "1             13  \n",
       "2              7  \n",
       "3              1  \n",
       "4             13  "
      ],
      "text/html": [
       "<div>\n",
       "<style scoped>\n",
       "    .dataframe tbody tr th:only-of-type {\n",
       "        vertical-align: middle;\n",
       "    }\n",
       "\n",
       "    .dataframe tbody tr th {\n",
       "        vertical-align: top;\n",
       "    }\n",
       "\n",
       "    .dataframe thead th {\n",
       "        text-align: right;\n",
       "    }\n",
       "</style>\n",
       "<table border=\"1\" class=\"dataframe\">\n",
       "  <thead>\n",
       "    <tr style=\"text-align: right;\">\n",
       "      <th></th>\n",
       "      <th>product_id</th>\n",
       "      <th>product_name</th>\n",
       "      <th>aisle_id</th>\n",
       "      <th>department_id</th>\n",
       "    </tr>\n",
       "  </thead>\n",
       "  <tbody>\n",
       "    <tr>\n",
       "      <th>0</th>\n",
       "      <td>1</td>\n",
       "      <td>Chocolate Sandwich Cookies</td>\n",
       "      <td>61</td>\n",
       "      <td>19</td>\n",
       "    </tr>\n",
       "    <tr>\n",
       "      <th>1</th>\n",
       "      <td>2</td>\n",
       "      <td>All-Seasons Salt</td>\n",
       "      <td>104</td>\n",
       "      <td>13</td>\n",
       "    </tr>\n",
       "    <tr>\n",
       "      <th>2</th>\n",
       "      <td>3</td>\n",
       "      <td>Robust Golden Unsweetened Oolong Tea</td>\n",
       "      <td>94</td>\n",
       "      <td>7</td>\n",
       "    </tr>\n",
       "    <tr>\n",
       "      <th>3</th>\n",
       "      <td>4</td>\n",
       "      <td>Smart Ones Classic Favorites Mini Rigatoni Wit...</td>\n",
       "      <td>38</td>\n",
       "      <td>1</td>\n",
       "    </tr>\n",
       "    <tr>\n",
       "      <th>4</th>\n",
       "      <td>5</td>\n",
       "      <td>Green Chile Anytime Sauce</td>\n",
       "      <td>5</td>\n",
       "      <td>13</td>\n",
       "    </tr>\n",
       "  </tbody>\n",
       "</table>\n",
       "</div>"
      ]
     },
     "execution_count": 17,
     "metadata": {},
     "output_type": "execute_result"
    }
   ],
   "execution_count": 17
  },
  {
   "metadata": {},
   "cell_type": "markdown",
   "source": [
    "Products contains information about each product, assigning a unique ID number to each product, along with the aisle & department where it can be located. There are just under 50,000 unique products in our data."
   ],
   "id": "8a36aed56a02715c"
  },
  {
   "cell_type": "markdown",
   "source": [
    "### Sample_submission"
   ],
   "metadata": {
    "collapsed": false
   },
   "id": "b2b7c3b15cc422b5"
  },
  {
   "cell_type": "code",
   "source": [
    "sample_submission = pd.read_csv(os.path.join(data_folder_path, \"sample_submission.csv\"))"
   ],
   "metadata": {
    "collapsed": false,
    "ExecuteTime": {
     "end_time": "2024-10-06T23:10:09.974707Z",
     "start_time": "2024-10-06T23:10:09.955785Z"
    }
   },
   "id": "4a3a046aa1b3f3da",
   "outputs": [],
   "execution_count": 18
  },
  {
   "metadata": {
    "ExecuteTime": {
     "end_time": "2024-10-06T23:10:09.980321Z",
     "start_time": "2024-10-06T23:10:09.974707Z"
    }
   },
   "cell_type": "code",
   "source": [
    "sample_submission.head()"
   ],
   "id": "d3287b706bc26c31",
   "outputs": [
    {
     "data": {
      "text/plain": [
       "   order_id     products\n",
       "0        17  39276 29259\n",
       "1        34  39276 29259\n",
       "2       137  39276 29259\n",
       "3       182  39276 29259\n",
       "4       257  39276 29259"
      ],
      "text/html": [
       "<div>\n",
       "<style scoped>\n",
       "    .dataframe tbody tr th:only-of-type {\n",
       "        vertical-align: middle;\n",
       "    }\n",
       "\n",
       "    .dataframe tbody tr th {\n",
       "        vertical-align: top;\n",
       "    }\n",
       "\n",
       "    .dataframe thead th {\n",
       "        text-align: right;\n",
       "    }\n",
       "</style>\n",
       "<table border=\"1\" class=\"dataframe\">\n",
       "  <thead>\n",
       "    <tr style=\"text-align: right;\">\n",
       "      <th></th>\n",
       "      <th>order_id</th>\n",
       "      <th>products</th>\n",
       "    </tr>\n",
       "  </thead>\n",
       "  <tbody>\n",
       "    <tr>\n",
       "      <th>0</th>\n",
       "      <td>17</td>\n",
       "      <td>39276 29259</td>\n",
       "    </tr>\n",
       "    <tr>\n",
       "      <th>1</th>\n",
       "      <td>34</td>\n",
       "      <td>39276 29259</td>\n",
       "    </tr>\n",
       "    <tr>\n",
       "      <th>2</th>\n",
       "      <td>137</td>\n",
       "      <td>39276 29259</td>\n",
       "    </tr>\n",
       "    <tr>\n",
       "      <th>3</th>\n",
       "      <td>182</td>\n",
       "      <td>39276 29259</td>\n",
       "    </tr>\n",
       "    <tr>\n",
       "      <th>4</th>\n",
       "      <td>257</td>\n",
       "      <td>39276 29259</td>\n",
       "    </tr>\n",
       "  </tbody>\n",
       "</table>\n",
       "</div>"
      ]
     },
     "execution_count": 19,
     "metadata": {},
     "output_type": "execute_result"
    }
   ],
   "execution_count": 19
  },
  {
   "metadata": {
    "ExecuteTime": {
     "end_time": "2024-10-06T23:10:09.983816Z",
     "start_time": "2024-10-06T23:10:09.980321Z"
    }
   },
   "cell_type": "code",
   "source": [
    "del(sample_submission)"
   ],
   "id": "e493f3a9ad28439a",
   "outputs": [],
   "execution_count": 20
  },
  {
   "metadata": {},
   "cell_type": "markdown",
   "source": [
    "This is a sample submission. For each order_id, there are space-separated pairs of previously ordered products (by product_id) most likely to be in a user's next order. For the original challenge, differs in format from what we will be creating."
   ],
   "id": "4168ba838c4eeb0c"
  },
  {
   "cell_type": "markdown",
   "source": [
    "### 2. Pre-processed data for use in the model and justify pre-processing methods. Note this may be different for each Part and/or algorithm you try. "
   ],
   "metadata": {
    "collapsed": false
   },
   "id": "da755b1cf48183ac"
  },
  {
   "metadata": {},
   "cell_type": "markdown",
   "source": [
    "Impute NAs in days_since_prior_order by setting NA == 0. I'm assuming_days_since_prior_order is na implies it is a customer's first order, meaning 0 might be the most accurate, since there is no 'gap' since any prior order. "
   ],
   "id": "ce401cc1a9c95b26"
  },
  {
   "metadata": {
    "ExecuteTime": {
     "end_time": "2024-10-06T23:36:58.461140Z",
     "start_time": "2024-10-06T23:36:58.447022Z"
    }
   },
   "cell_type": "code",
   "source": [
    "orders['days_since_prior_order'].fillna(0, inplace=True)"
   ],
   "id": "9dcdd6b96467969e",
   "outputs": [
    {
     "name": "stderr",
     "output_type": "stream",
     "text": [
      "C:\\Users\\rmcne\\AppData\\Local\\Temp\\ipykernel_10328\\3779552717.py:1: FutureWarning: A value is trying to be set on a copy of a DataFrame or Series through chained assignment using an inplace method.\n",
      "The behavior will change in pandas 3.0. This inplace method will never work because the intermediate object on which we are setting values always behaves as a copy.\n",
      "\n",
      "For example, when doing 'df[col].method(value, inplace=True)', try using 'df.method({col: value}, inplace=True)' or df[col] = df[col].method(value) instead, to perform the operation inplace on the original object.\n",
      "\n",
      "\n",
      "  orders['days_since_prior_order'].fillna(0, inplace=True)\n"
     ]
    }
   ],
   "execution_count": 91
  },
  {
   "metadata": {},
   "cell_type": "markdown",
   "source": [
    "Load order_products__prior as RDD"
   ],
   "id": "86ccc47432ee1e72"
  },
  {
   "cell_type": "code",
   "source": [
    "OPP_lines = sc.textFile(os.path.join(data_folder_path, 'order_products__prior.csv'))\n",
    "\n",
    "OPP_baskets = OPP_lines.map(lambda l: l.split(','))\n",
    "\n",
    "OPP_N = OPP_baskets.count()\n",
    "\n",
    "print(\"N:\", OPP_N)  # Length matches length when loaded with pd. Evidence that the data was loaded correctly.\n",
    "\n",
    "OPP_header = OPP_baskets.first()  # Save header\n",
    "\n",
    "OPP_baskets = OPP_baskets.filter(lambda row: row != OPP_header)  # Remove header row from rdd\n",
    "\n",
    "OPP_baskets.take(5)\n",
    "\n",
    "del(OPP_lines)"
   ],
   "metadata": {
    "collapsed": false,
    "ExecuteTime": {
     "end_time": "2024-10-07T00:57:13.695966Z",
     "start_time": "2024-10-07T00:56:57.733949Z"
    }
   },
   "id": "98491b02a5258292",
   "outputs": [
    {
     "name": "stdout",
     "output_type": "stream",
     "text": [
      "N: 32434490\n"
     ]
    }
   ],
   "execution_count": 171
  },
  {
   "metadata": {},
   "cell_type": "markdown",
   "source": [
    "Load products as RDD"
   ],
   "id": "25fcef0a820c4ac4"
  },
  {
   "metadata": {
    "ExecuteTime": {
     "end_time": "2024-10-06T23:10:26.043206Z",
     "start_time": "2024-10-06T23:10:23.672693Z"
    }
   },
   "cell_type": "code",
   "source": [
    "products_lines = sc.textFile(os.path.join(data_folder_path, 'products.csv'))\n",
    "\n",
    "products_baskets = products_lines.map(lambda l: l.split(',')).map(lambda row: (row[0], row[1]))\n",
    "\n",
    "products_N = products_baskets.count()\n",
    "\n",
    "print(\"N:\", OPP_N)  # Length matches length when loaded with pd. Evidence that the data was loaded correctly.\n",
    "\n",
    "products_header = products_baskets.first()  # Save header\n",
    "\n",
    "products_baskets = products_baskets.filter(lambda row: row != products_header)  # Remove header row from rdd\n",
    "\n",
    "products_baskets.take(5)"
   ],
   "id": "74872378b86b1507",
   "outputs": [
    {
     "name": "stdout",
     "output_type": "stream",
     "text": [
      "N: 32434490\n"
     ]
    },
    {
     "data": {
      "text/plain": [
       "[('1', 'Chocolate Sandwich Cookies'),\n",
       " ('2', 'All-Seasons Salt'),\n",
       " ('3', 'Robust Golden Unsweetened Oolong Tea'),\n",
       " ('4', 'Smart Ones Classic Favorites Mini Rigatoni With Vodka Cream Sauce'),\n",
       " ('5', 'Green Chile Anytime Sauce')]"
      ]
     },
     "execution_count": 22,
     "metadata": {},
     "output_type": "execute_result"
    }
   ],
   "execution_count": 22
  },
  {
   "metadata": {
    "ExecuteTime": {
     "end_time": "2024-10-06T23:10:26.046589Z",
     "start_time": "2024-10-06T23:10:26.044207Z"
    }
   },
   "cell_type": "code",
   "source": [
    "del(products_lines)"
   ],
   "id": "752547a06859c7ae",
   "outputs": [],
   "execution_count": 23
  },
  {
   "metadata": {},
   "cell_type": "markdown",
   "source": [
    "Create a dictionary of product_id to product_name for later use"
   ],
   "id": "c68ebce3d7701768"
  },
  {
   "metadata": {
    "ExecuteTime": {
     "end_time": "2024-10-06T23:10:26.065749Z",
     "start_time": "2024-10-06T23:10:26.047588Z"
    }
   },
   "cell_type": "code",
   "source": [
    "product_id_to_name = dict(zip(products['product_id'], products['product_name']))\n",
    "list(product_id_to_name.items())[:5]"
   ],
   "id": "143ea905dff56311",
   "outputs": [
    {
     "data": {
      "text/plain": [
       "[(1, 'Chocolate Sandwich Cookies'),\n",
       " (2, 'All-Seasons Salt'),\n",
       " (3, 'Robust Golden Unsweetened Oolong Tea'),\n",
       " (4, 'Smart Ones Classic Favorites Mini Rigatoni With Vodka Cream Sauce'),\n",
       " (5, 'Green Chile Anytime Sauce')]"
      ]
     },
     "execution_count": 24,
     "metadata": {},
     "output_type": "execute_result"
    }
   ],
   "execution_count": 24
  },
  {
   "metadata": {},
   "cell_type": "markdown",
   "source": [
    "I get the impression from the instructions that identifying large lemon purchases might be a trick question. So I search for all items containing 'large lemon' rather than the singular item."
   ],
   "id": "f4b7016bc0831b89"
  },
  {
   "metadata": {
    "ExecuteTime": {
     "end_time": "2024-10-06T23:10:26.077881Z",
     "start_time": "2024-10-06T23:10:26.066745Z"
    }
   },
   "cell_type": "code",
   "source": [
    "large_lemon_products = {product_id: name for product_id, name in product_id_to_name.items() if 'large lemon' in name.lower()}\n",
    "\n",
    "# I also create lists here for easy filtering later.\n",
    "large_lemon_ids = list(map(str, large_lemon_products.keys()))\n",
    "large_lemon_names = list(large_lemon_products.values())\n",
    "\n",
    "print(large_lemon_names)\n",
    "print(large_lemon_ids)\n",
    "large_lemon_products"
   ],
   "id": "aff0c3cfe7b36f7c",
   "outputs": [
    {
     "name": "stdout",
     "output_type": "stream",
     "text": [
      "['Bag of Large Lemons', 'Large Lemon']\n",
      "['9434', '47626']\n"
     ]
    },
    {
     "data": {
      "text/plain": [
       "{9434: 'Bag of Large Lemons', 47626: 'Large Lemon'}"
      ]
     },
     "execution_count": 25,
     "metadata": {},
     "output_type": "execute_result"
    }
   ],
   "execution_count": 25
  },
  {
   "metadata": {},
   "cell_type": "markdown",
   "source": [
    "For all metrics, I will consider both of these items for 'large lemon purchases.'"
   ],
   "id": "c13669f5d2244737"
  },
  {
   "cell_type": "markdown",
   "source": [
    "# Part B: Association Rules\n",
    "### Use “order_products__prior.csv” to build frequent itemsets and association rules to understand what products are often bought together. Also, use your findings to understand what drives market baskets and association rules that are indicative of large lemon purchases. Please provide commentary and rationale for everything you are doing."
   ],
   "metadata": {
    "collapsed": false
   },
   "id": "cda1f9fca602b830"
  },
  {
   "metadata": {},
   "cell_type": "markdown",
   "source": [
    "First, calculate product frequencies. These are counts of the number of times an item occurs in the entire dataset. \n",
    "\n",
    "This will be necessary for calculating the support of each item set and association rules.\n",
    "\n",
    "product_counts == singles_support from notes.\n"
   ],
   "id": "891621103759d616"
  },
  {
   "metadata": {
    "ExecuteTime": {
     "end_time": "2024-10-06T23:10:41.089327Z",
     "start_time": "2024-10-06T23:10:26.078882Z"
    }
   },
   "cell_type": "code",
   "source": [
    "# Product counts\n",
    "# Count 1 for each item occurrence\n",
    "product_counts = OPP_baskets.map(lambda row: (row[1], 1))\n",
    "\n",
    "# Sum total occurrences of each item\n",
    "product_counts = product_counts.reduceByKey(lambda x, y: x + y)\n",
    "\n",
    "# Filter out infrequent items\n",
    "product_counts = product_counts.filter(lambda x: x[1] >= 100)\n",
    "\n",
    "product_counts.take(5)"
   ],
   "id": "652a52fe8952c473",
   "outputs": [
    {
     "data": {
      "text/plain": [
       "[('24838', 49569),\n",
       " ('38693', 4529),\n",
       " ('23423', 2415),\n",
       " ('26910', 463),\n",
       " ('9848', 101)]"
      ]
     },
     "execution_count": 26,
     "metadata": {},
     "output_type": "execute_result"
    }
   ],
   "execution_count": 26
  },
  {
   "metadata": {},
   "cell_type": "markdown",
   "source": [
    "For inspection and later transformations, collect product_counts into a dict."
   ],
   "id": "3c256477b1f2033b"
  },
  {
   "metadata": {
    "ExecuteTime": {
     "end_time": "2024-10-06T23:10:50.010274Z",
     "start_time": "2024-10-06T23:10:41.090327Z"
    }
   },
   "cell_type": "code",
   "source": [
    "# Collect\n",
    "product_counts = dict(product_counts.collect())\n",
    "\n",
    "# Sort descending by count\n",
    "product_counts = dict(sorted(product_counts.items(), \n",
    "                             key=lambda item: item[1], \n",
    "                             reverse=True))\n",
    "\n",
    "# Top 5 most frequently purchased items\n",
    "list(product_counts.items())[:5]"
   ],
   "id": "d13272533c56f6f",
   "outputs": [
    {
     "data": {
      "text/plain": [
       "[('24852', 472565),\n",
       " ('13176', 379450),\n",
       " ('21137', 264683),\n",
       " ('21903', 241921),\n",
       " ('47209', 213584)]"
      ]
     },
     "execution_count": 27,
     "metadata": {},
     "output_type": "execute_result"
    }
   ],
   "execution_count": 27
  },
  {
   "metadata": {},
   "cell_type": "markdown",
   "source": [
    "Let's take a look at what the top products are by name"
   ],
   "id": "487807d067f55c1d"
  },
  {
   "metadata": {
    "ExecuteTime": {
     "end_time": "2024-10-06T23:10:50.021772Z",
     "start_time": "2024-10-06T23:10:50.013263Z"
    }
   },
   "cell_type": "code",
   "source": [
    "# Get the top 10 most frequently purchased products by name\n",
    "top_10_products = {product_id_to_name.get(int(product_id)): count \n",
    "                   for product_id, count in list(product_counts.items())[:10]}\n",
    "\n",
    "# Output the result\n",
    "top_10_products"
   ],
   "id": "30a409d2a55c0bfa",
   "outputs": [
    {
     "data": {
      "text/plain": [
       "{'Banana': 472565,\n",
       " 'Bag of Organic Bananas': 379450,\n",
       " 'Organic Strawberries': 264683,\n",
       " 'Organic Baby Spinach': 241921,\n",
       " 'Organic Hass Avocado': 213584,\n",
       " 'Organic Avocado': 176815,\n",
       " 'Large Lemon': 152657,\n",
       " 'Strawberries': 142951,\n",
       " 'Limes': 140627,\n",
       " 'Organic Whole Milk': 137905}"
      ]
     },
     "execution_count": 28,
     "metadata": {},
     "output_type": "execute_result"
    }
   ],
   "execution_count": 28
  },
  {
   "metadata": {
    "ExecuteTime": {
     "end_time": "2024-10-06T23:10:50.024876Z",
     "start_time": "2024-10-06T23:10:50.022772Z"
    }
   },
   "cell_type": "code",
   "source": [
    "del(top_10_products)"
   ],
   "id": "917b2c8614112c4d",
   "outputs": [],
   "execution_count": 29
  },
  {
   "metadata": {},
   "cell_type": "markdown",
   "source": [
    "The most commonly purchased items appear to be among fresh fruit & vegetables, including large lemons.\n",
    "\n",
    "I also get the counts of our large lemon products."
   ],
   "id": "882a890e593a0525"
  },
  {
   "metadata": {
    "ExecuteTime": {
     "end_time": "2024-10-06T23:10:50.029436Z",
     "start_time": "2024-10-06T23:10:50.025877Z"
    }
   },
   "cell_type": "code",
   "source": [
    "# Filter product_counts dictionary for these specific product_ids\n",
    "total_lemon_counts = {key: product_counts[key] for key in large_lemon_ids}\n",
    "\n",
    "total_lemon_counts"
   ],
   "id": "6376d5bfcac0650c",
   "outputs": [
    {
     "data": {
      "text/plain": [
       "{'9434': 2678, '47626': 152657}"
      ]
     },
     "execution_count": 30,
     "metadata": {},
     "output_type": "execute_result"
    }
   ],
   "execution_count": 30
  },
  {
   "metadata": {},
   "cell_type": "markdown",
   "source": [
    "The vast majority of large lemon purchases appear to be of large lemons ('47626'). Only about 2% (2678 orders) of large lemon product orders are *bags* of large lemons."
   ],
   "id": "2c700b89dbf17025"
  },
  {
   "metadata": {
    "ExecuteTime": {
     "end_time": "2024-10-06T23:10:50.032717Z",
     "start_time": "2024-10-06T23:10:50.029436Z"
    }
   },
   "cell_type": "code",
   "source": [
    "# Sum counts\n",
    "total_lemon_count = sum(total_lemon_counts.values())\n",
    "\n",
    "print(total_lemon_count)"
   ],
   "id": "351df1947208171e",
   "outputs": [
    {
     "name": "stdout",
     "output_type": "stream",
     "text": [
      "155335\n"
     ]
    }
   ],
   "execution_count": 31
  },
  {
   "metadata": {},
   "cell_type": "markdown",
   "source": [
    "155,335 orders containing large lemon products.\n",
    "\n",
    "Next, calculate product pair frequencies. This will be used for calculating association rules."
   ],
   "id": "6e560ee6707219d4"
  },
  {
   "cell_type": "code",
   "source": [
    "# Product pair counts\n",
    "# Create (order_id, product_id) tuples\n",
    "orders_to_products = OPP_baskets.map(lambda row: (row[0], row[1]))\n",
    "\n",
    "# Group by order_id\n",
    "order_product_baskets = orders_to_products.groupByKey().map(lambda x: list(set(x[1])))  \n",
    "\n",
    "def generate_pairs(basket):  # Generates product pairs\n",
    "    pairs = []\n",
    "    n = len(basket)\n",
    "    # For each product in the basket, pair with every product that comes after it (avoids duplicate pairs)\n",
    "    for i in range(n):\n",
    "        for j in range(i + 1, n):\n",
    "            pairs.append((basket[i], basket[j]))\n",
    "    return pairs\n",
    "\n",
    "# Generate all pairs for each basket\n",
    "product_pairs = order_product_baskets.flatMap(generate_pairs)\n",
    "\n",
    "# Count the occurrences of each pair\n",
    "pair_counts = product_pairs.map(lambda pair: (pair, 1))\n",
    "\n",
    "# Sum total occurrences of each pair\n",
    "pair_counts = pair_counts.reduceByKey(lambda x, y: x + y)\n",
    "\n",
    "# Filter out infrequent pairs\n",
    "pair_counts = pair_counts.filter(lambda x: x[1] >= 100)\n",
    "\n",
    "pair_counts.take(5)"
   ],
   "metadata": {
    "collapsed": false,
    "ExecuteTime": {
     "end_time": "2024-10-06T23:12:54.505669Z",
     "start_time": "2024-10-06T23:10:50.033718Z"
    }
   },
   "id": "ecd7f81abd036039",
   "outputs": [
    {
     "data": {
      "text/plain": [
       "[(('47766', '43394'), 344),\n",
       " (('28849', '37766'), 167),\n",
       " (('28849', '10017'), 351),\n",
       " (('7751', '5212'), 105),\n",
       " (('10749', '44632'), 1569)]"
      ]
     },
     "execution_count": 32,
     "metadata": {},
     "output_type": "execute_result"
    }
   ],
   "execution_count": 32
  },
  {
   "metadata": {
    "ExecuteTime": {
     "end_time": "2024-10-06T23:12:54.554864Z",
     "start_time": "2024-10-06T23:12:54.545565Z"
    }
   },
   "cell_type": "code",
   "source": [
    "del(orders_to_products)"
   ],
   "id": "32baf10ea948c9ee",
   "outputs": [],
   "execution_count": 33
  },
  {
   "metadata": {
    "ExecuteTime": {
     "end_time": "2024-10-06T23:13:27.264742Z",
     "start_time": "2024-10-06T23:12:54.556861Z"
    }
   },
   "cell_type": "code",
   "source": [
    "# Convert the product_ids to names for inspection\n",
    "\n",
    "pair_counts_names = [\n",
    "    (\n",
    "        (product_id_to_name.get(int(pair_count[0][0]), pair_count[0][0]),  # Get name for first product_id\n",
    "         product_id_to_name.get(int(pair_count[0][1]), pair_count[0][1])),  # Get name for second product_id\n",
    "        pair_count[1]  # Keep count value \n",
    "    )\n",
    "    for pair_count in pair_counts.collect()\n",
    "]\n",
    "\n",
    "pair_counts_names"
   ],
   "id": "ccb8fcbd13d04ef8",
   "outputs": [
    {
     "data": {
      "text/plain": [
       "[(('Organic Avocado', 'Organic Lactose Free Whole Milk'), 344),\n",
       " (('No Salt Added Black Beans', 'XL Emerald White Seedless Grapes'), 167),\n",
       " (('No Salt Added Black Beans', 'Tilapia Filet'), 351),\n",
       " (('Tomato Ketchup', 'Watermelon Chunks'), 105),\n",
       " (('Organic Red Bell Pepper', 'Sparkling Water Grapefruit'), 1569),\n",
       " (('Honey Greek Yogurt', 'Organic Large Brown Grade AA Cage Free Eggs'), 175),\n",
       " (('Honey Yoghurt', 'Raspberry Yoghurt'), 1313),\n",
       " (('Cucumber Kirby', 'Organic Bell Pepper'), 570),\n",
       " (('Organic Red Onion', 'Gluten Free Omega Flax & Fiber Bread'), 116),\n",
       " (('Organic Cilantro', 'Organic Whole String Cheese'), 1771),\n",
       " (('Organic Cilantro', 'Boneless Skinless Chicken Breast'), 843),\n",
       " (('Organic Cilantro', 'Mild Salsa'), 656),\n",
       " (('Organic Large Extra Fancy Fuji Apple', 'Bag of Organic Bananas'), 22978),\n",
       " (('Organic Large Extra Fancy Fuji Apple',\n",
       "   'EnviroKidz Gluten Free & Wheat Free Gorilla Munch Corn Puff Cereal'),\n",
       "  179),\n",
       " (('Lactose Free Low Fat Vanilla Yogurt', 'Bag of Organic Bananas'), 212),\n",
       " (('Boneless Skinless Chicken Breast', 'Mild Salsa'), 110),\n",
       " (('Mild Salsa', 'Vanilla Almond Breeze Almond Milk'), 214),\n",
       " (('Vanilla Almond Breeze Almond Milk',\n",
       "   'Gluten Free Omega Flax & Fiber Bread'),\n",
       "  118),\n",
       " (('Vanilla Almond Breeze Almond Milk', 'Organic 1% Milk'), 133),\n",
       " (('Organic Small Bunch Celery',\n",
       "   'EnviroKidz Gluten Free & Wheat Free Gorilla Munch Corn Puff Cereal'),\n",
       "  129),\n",
       " (('Organic Blueberries', 'Sparkling Mineral Water'), 359),\n",
       " (('Kiwi', 'Strawberries'), 1706),\n",
       " (('Unsalted Butter', 'Organic Thompson Seedless Raisins'), 117),\n",
       " (('Organic Raspberries', 'Apple Honeycrisp Organic'), 10438),\n",
       " (('Organic Raspberries', 'Original Hummus'), 7014),\n",
       " (('Organic Raspberries', 'Organic Zucchini'), 9362),\n",
       " (('Organic Avocado', 'Organic Promise Strawberry Fields Cereal'), 255),\n",
       " (('Organic Zucchini', 'Red Peppers'), 5917),\n",
       " (('Organic Zucchini', 'Organic Thompson Seedless Raisins'), 236),\n",
       " (('Original Hummus', 'Organic Peeled Whole Baby Carrots'), 4912),\n",
       " (('Goo Berry Pie Probugs Kefir', 'Organic Baby Broccoli'), 102),\n",
       " (('Organic SprouTofu Savory Baked Tofu', 'Red Peppers'), 147),\n",
       " (('Organic Cucumber', 'Organic Jalapeno Pepper'), 1318),\n",
       " (('Mini Babybel Light Semisoft Edam Cheeses', 'Banana'), 1578),\n",
       " (('Organic Italian Parsley Bunch', 'Organic Tomato Cluster'), 1667),\n",
       " (('Sea Salt Flakes Original', 'Banana'), 147),\n",
       " (('Large Yellow Flesh Nectarine', 'Organic Tomato Cluster'), 549),\n",
       " (('Organic Red Grapes', 'Red Vine Tomato'), 208),\n",
       " (('Fresh Cauliflower', 'Organic Gala Apples'), 1436),\n",
       " (('Extra Virgin Olive Oil', 'Organic Distilled White Vinegar'), 329),\n",
       " (('Organic Garbanzo Beans', 'Banana'), 5970),\n",
       " (('Organic Russet Potato', 'Organic Tomato Sauce'), 374),\n",
       " (('Original Orange Juice', 'Grape White/Green Seedless'), 375),\n",
       " (('Club Soda', 'Organic Romaine Lettuce'), 103),\n",
       " (('Bag of Organic Bananas', 'Organic Garnet Sweet Potato (Yam)'), 12687),\n",
       " (('Organic Whole Strawberries', 'Organic Boneless Skinless Chicken Breast'),\n",
       "  107),\n",
       " (('90% Lean Ground Beef', 'Asparagus'), 281),\n",
       " (('No Pulp Calcium & Vitamin D Pure Orange Juice', 'Whole Milk'), 162),\n",
       " (('Bread, Country Buttermilk', 'Whole Milk'), 235),\n",
       " (('Organic Unsweetened Almond Milk', 'Gluten Free Whole Grain Bread'), 309),\n",
       " (('Butternut Squash', 'Sparkling Water Grapefruit'), 185),\n",
       " (('Jicama', 'Banana'), 495),\n",
       " (('Unbleached All-Purpose Flour', 'Banana'), 921),\n",
       " (('Organic Dill', 'Seedless Red Grapes'), 524),\n",
       " (('Unsweetened Original Almond Breeze Almond Milk', 'Seedless Red Grapes'),\n",
       "  707),\n",
       " (('Organic Yellow Squash', 'Organic Red Bell Pepper'), 415),\n",
       " (('Organic Eggs Large', 'Organic Zucchini'), 283),\n",
       " (('Organic Eggs Large', 'Organic Lacinato (Dinosaur) Kale'), 106),\n",
       " (('Organic Basil', 'Organic Zucchini'), 2178),\n",
       " (('Organic Zucchini', 'Organic Chives'), 370),\n",
       " (('Honeycrisp Apple', 'Whole Milk'), 505),\n",
       " (('Dark Chocolate Pumpkin Seed Bark', 'Organic Raspberries'), 209),\n",
       " (('Oats & Honey Gluten Free Granola',\n",
       "   'Total 2% Lowfat Greek Strained Yogurt With Blueberry'),\n",
       "  238),\n",
       " (('Oats & Honey Gluten Free Granola', 'Sparkling Lemon Water'), 189),\n",
       " (('Oats & Honey Gluten Free Granola',\n",
       "   'Dark Chocolate Pretzels with Sea Salt'),\n",
       "  138),\n",
       " (('Organic Raspberries', 'Sea Salt Roasted Seaweed'), 334),\n",
       " (('Organic Hass Avocado', 'Mandarin Clementine  Bag'), 135),\n",
       " (('Total Greek Strained Yogurt', 'Mini Original Babybel Cheese'), 161),\n",
       " (('Organic Raw Multigreen Kobmbucha', 'Sparkling Natural Mineral Water'),\n",
       "  198),\n",
       " (('Oraganic Lemon Elation Yerba Mate Drink',\n",
       "   'Yerba Mate Orange Exuberance Tea'),\n",
       "  217),\n",
       " (('Sparkling Natural Mineral Water',\n",
       "   'Organic Large Brown Grade AA Cage Free Eggs'),\n",
       "  802),\n",
       " (('Organic Blackberries', 'Organic Large Brown Grade AA Cage Free Eggs'),\n",
       "  600),\n",
       " (('Cucumber Kirby', 'Special Reserve Extra Sharp Cheddar Cheese'), 190),\n",
       " (('Cucumber Kirby', 'Organic Strawberries'), 11654),\n",
       " (('Super Greens Salad', 'Mini Original Babybel Cheese'), 155),\n",
       " (('Mini Babybel Light Semisoft Edam Cheeses', 'Organic Lemon'), 292),\n",
       " (('Enlighten Mint Organic', 'Revel Berry Yerba Mate'), 409),\n",
       " (('Coconut Chia Bar', 'Sparkling Water Grapefruit'), 271),\n",
       " (('Coconut Chia Bar', 'Organic Strawberries'), 582),\n",
       " ((\"Organic D'Anjou Pears\", 'Organic Lemon'), 2045),\n",
       " (('Sparkling Water Grapefruit', 'Organic Lemon'), 1659),\n",
       " (('Sparkling Water Grapefruit', 'Organic Strawberries'), 4136),\n",
       " (('Total 2% Lowfat Greek Strained Yogurt With Blueberry',\n",
       "   '100% Raw Coconut Water'),\n",
       "  179),\n",
       " (('Total 2% Lowfat Greek Strained Yogurt With Blueberry', 'Banana'), 2964),\n",
       " (('100% Raw Coconut Water', 'Banana'), 1882),\n",
       " (('Strawberry Preserves', 'Organic Large Brown Grade AA Cage Free Eggs'),\n",
       "  343),\n",
       " (('Organic Large Brown Grade AA Cage Free Eggs', 'Organic Yellow Peaches'),\n",
       "  259),\n",
       " (('Organic Lemon', 'Dark Chocolate Pretzels with Sea Salt'), 377),\n",
       " (('Dark Chocolate Pretzels with Sea Salt', 'Banana'), 1572),\n",
       " (('Synergy Organic & Raw Cosmic Cranberry', 'Banana'), 930),\n",
       " (('Organic Strawberries', 'Revel Berry Yerba Mate'), 111),\n",
       " (('Honeycrisp Apple', 'Organic Cucumber'), 1167),\n",
       " (('Almond Nut & Rice Cracker Snacks', 'Red Peppers'), 260),\n",
       " (('Pure Sparkling Water', 'Almond Breeze Original Almond Milk'), 108),\n",
       " (('Natural Spring Water', '2% Reduced Fat Milk'), 231),\n",
       " (('Cucumber Kirby', 'Fresh Cauliflower'), 4180),\n",
       " (('Fresh Cauliflower', 'Organic Blueberries'), 1472),\n",
       " (('Organic Yellow Onion', 'Organic No Salt Added Diced Tomatoes'), 1763),\n",
       " (('Roasted Turkey Breast', 'Organic Fuji Apple'), 571),\n",
       " (('Original Cream Cheese', 'Fridge Pack Cola'), 144),\n",
       " (('90 Calories Low Fat Chocolate Chunk Granola Bars', 'Banana'), 129),\n",
       " (('Plain Greek Yogurt', '2% Reduced Fat Milk'), 194),\n",
       " (('Strawberry on the Bottom Nonfat Greek Yogurt', 'Fridge Pack Cola'), 231),\n",
       " ((\"Kellogg's Special K Red Berries Cereal\", 'Banana'), 199),\n",
       " (('Organic Avocado', 'Coconut Yoghurt'), 454),\n",
       " (('Organic Baby Arugula', 'Apple Honeycrisp Organic'), 3314),\n",
       " (('Apple Honeycrisp Organic', 'Organic White Corn & Wheat Tortillas'), 275),\n",
       " (('Strawberries', 'Raspberries'), 1863),\n",
       " (('Cinnamon Rolls with Icing', 'Grape White/Green Seedless'), 348),\n",
       " (('Lemon Hummus', 'Organic Romaine Hearts'), 112),\n",
       " (('Organic Fuji Apple', 'Organic Peeled Whole Baby Carrots'), 2750),\n",
       " (('Meatles  Soy Gluten-Free Grounds', 'Organic Hass Avocado'), 102),\n",
       " (('Meatles  Soy Gluten-Free Grounds', 'Bag of Organic Bananas'), 148),\n",
       " (('Organic Blackberries', 'Bag of Organic Bananas'), 4565),\n",
       " (('Organic 1% Low Fat Milk', 'Carrots'), 356),\n",
       " (('Organic 1% Low Fat Milk', 'Organic Extra Large Grade AA Brown Eggs'), 219),\n",
       " (('Organic Gala Apples',\n",
       "   'Total 2% with Strawberry Lowfat Greek Strained Yogurt'),\n",
       "  1509),\n",
       " (('Organic Grape Tomatoes', 'Organic Brown Rice'), 569),\n",
       " (('Fresh Cauliflower', 'Organic Strawberries'), 10553),\n",
       " (('Carrots', 'Organic Extra Large Grade AA Brown Eggs'), 633),\n",
       " (('Organic Reduced Fat 2% Milk', 'Organic Italian Parsley Bunch'), 1262),\n",
       " (('Organic Granny Smith Apple', 'Organic Basil'), 896),\n",
       " (('Organic Basil', 'Organic Leek'), 347),\n",
       " (('Cucumber Kirby', 'Ground Turkey Breast'), 1788),\n",
       " (('Organic Red Radish, Bunch', 'Ground Turkey Breast'), 446),\n",
       " (('Sweet Potatoes', 'Yellow Onions'), 289),\n",
       " (('Honeycrisp Apple', 'Yellow Bell Pepper'), 1736),\n",
       " (('Organic Red On the Vine Tomato', 'Green Bell Pepper'), 297),\n",
       " (('Organic Chicken & Apple Sausage', 'Organic Avocado'), 805),\n",
       " (('Jalapeno Hummus', 'Feta Cheese Crumbles'), 235),\n",
       " (('Organic Grade A Free Range Large Brown Eggs', 'Banana'), 8070),\n",
       " (('Organic Avocado', 'Organic Garbanzo Beans No Salt Added'), 355),\n",
       " (('Limes', 'Bunched Cilantro'), 7001),\n",
       " (('ZBar Organic Chocolate Brownie Energy Snack', 'Lemonade'), 101),\n",
       " (('Grade A Large Eggs Cage Free Omega 3', 'Organic Avocado'), 749),\n",
       " (('Organic Garlic', 'Brussels Sprouts'), 969),\n",
       " (('Butternut Squash', 'Flat Parsley, Bunch'), 138),\n",
       " (('Bag of Organic Bananas', 'Yellow Potato'), 254),\n",
       " (('Kale Greens', 'Organic Whole Milk'), 437),\n",
       " (('Organic Rainbow Carrots', 'Organic Shredded Mozzarella'), 200),\n",
       " (('Organic Hass Avocado', 'Organic Uncured Sliced Black Forest Ham'), 1240),\n",
       " (('Organic Salted Butter', 'Organic Large Brown Eggs'), 146),\n",
       " (('Spinach Feta in a Pocket Sandwich', 'Organic Baby Spinach'), 193),\n",
       " (('Organic Baby Spinach', 'Red Vine Tomato'), 3904),\n",
       " (('Basil Dish Soap', 'Organic Lemon'), 183),\n",
       " (('Zen Tea', 'Bag of Organic Bananas'), 400),\n",
       " (('Organic Lemon', 'Red Vine Tomato'), 1800),\n",
       " (('Organic Russet Potato', 'Black Beans No Salt Added'), 172),\n",
       " (('Jalapeno Peppers', 'Sour Cream'), 942),\n",
       " (('Organic Avocado', 'Limes'), 10527),\n",
       " (('Organic Baby Spinach', 'Organic Soy Tempeh'), 367),\n",
       " (('Sour Cream', 'Organic Yellow Onion'), 884),\n",
       " (('Organic Basil', 'Organic Grape Tomatoes'), 1027),\n",
       " (('Organic Garlic', 'Organic Broccoli Florets'), 1180),\n",
       " (('Organic Garlic', 'Organic Soy Tempeh'), 240),\n",
       " (('Organic Broccoli Florets', 'Unsweetened Almond Milk'), 194),\n",
       " (('YoKids Strawberry Banana/Strawberry Yogurt', 'Organic Garlic'), 321),\n",
       " (('Organic Hass Avocado', 'Fusilli No. 34'), 795),\n",
       " (('Organic Reduced Fat 2% Milk', 'Almonds & Sea Salt in Dark Chocolate'),\n",
       "  471),\n",
       " (('Organic Reduced Fat 2% Milk', 'Grape White/Green Seedless'), 959),\n",
       " (('Red Raspberries', 'Almonds & Sea Salt in Dark Chocolate'), 154),\n",
       " (('Red Raspberries', 'Organic Bread with 21 Whole Grains'), 411),\n",
       " (('Organic Garlic', 'Grape White/Green Seedless'), 2223),\n",
       " (('Organic Baby Spinach', 'Grape White/Green Seedless'), 4073),\n",
       " (('Sonoma Traditional Flour Tortillas 10 Count', 'Organic Zucchini'), 582),\n",
       " (('Almonds & Sea Salt in Dark Chocolate',\n",
       "   'Organic Bread with 21 Whole Grains'),\n",
       "  333),\n",
       " (('French Baguette', 'Organic Reduced Fat 2% Milk'), 192),\n",
       " (('Organic Hass Avocado', 'Organic Heavy Whipping Cream'), 2345),\n",
       " (('Organic Grade A Free Range Large Brown Eggs', 'Red Vine Tomato'), 1320),\n",
       " (('Organic Sticks Low Moisture Part Skim Mozzarella String Cheese',\n",
       "   'Super Greens Salad'),\n",
       "  103),\n",
       " (('Tart Cherry Yoghurt', 'Organic Italian Parsley Bunch'), 134),\n",
       " (('Organic Yukon Gold Potato', 'Organic Italian Parsley Bunch'), 366),\n",
       " (('100% Raw Coconut Water', 'Organic Red Chard Greens'), 127),\n",
       " (('Organic Bosc Pear', 'Organic Red Chard Greens'), 177),\n",
       " (('Bag Of Organic Lemons', 'Bag of Organic Bananas'), 408),\n",
       " (('Organic Cilantro', 'Organic Cucumber'), 5319),\n",
       " (('Aluminum Foil', \"Organic D'Anjou Pears\"), 156),\n",
       " (('Aluminum Foil', 'Organic Baby Spinach'), 840),\n",
       " (('0% Greek Yogurt Black Cherry on the Bottom',\n",
       "   'Non-Fat Greek Yogurt With Strawberries on the Bottom'),\n",
       "  134),\n",
       " (('Half & Half', 'Banana'), 15497),\n",
       " (('Gluten Free Dark Chocolate Chunk Chewy with a Crunch Granola Bars',\n",
       "   'Pure Sparkling Water'),\n",
       "  317),\n",
       " (('Organic Black Plum', 'Organic Peeled Whole Baby Carrots'), 192),\n",
       " (('Organic Hass Avocado', 'Organic Thyme'), 2270),\n",
       " (('Baby Seedless Cucumbers', 'Organic Tomato Cluster'), 317),\n",
       " (('Baby Seedless Cucumbers', 'Organic Mexican Blend Finely Shredded Cheese'),\n",
       "  159),\n",
       " (('Organic Sour Cream', 'Organic Strawberries'), 3011),\n",
       " (('Sparkling Water Grapefruit', 'Organic Cream Cheese Bar'), 184),\n",
       " (('Sparkling Water Grapefruit', 'Organic Bunch Beets'), 151),\n",
       " (('Organic Italian Parsley Bunch', 'Organic Cream Cheese Bar'), 314),\n",
       " (('Organic Half & Half', 'Organic Bunch Beets'), 220),\n",
       " (('Organic Half & Half', 'Organic Mexican Blend Finely Shredded Cheese'),\n",
       "  876),\n",
       " (('Organic Cream Cheese Bar', 'Organic Strawberries'), 1587),\n",
       " (('Organic Dill', 'Organic Roasted Turkey Breast'), 186),\n",
       " (('Organic Dill', 'Organic Fuji Apple'), 331),\n",
       " (('Organic Fuji Apple', 'Mint'), 375),\n",
       " (('Bag of Organic Bananas', 'Cage Free Large White Eggs'), 1158),\n",
       " (('Bunny-Luv Fresh Organic Carrots', 'Organic Bosc Pear'), 199),\n",
       " (('Organic Raspberries', 'Organic Red Delicious Apple'), 602),\n",
       " (('Organic Raspberries', 'Frozen Organic Blueberries'), 330),\n",
       " (('Organic Red Bell Pepper', 'Organic Navel Orange'), 1525),\n",
       " (('Organic Red Bell Pepper', 'Organic Green Onions'), 319),\n",
       " (('Organic Large Green Asparagus', 'Orange Bell Pepper'), 184),\n",
       " (('Organic Large Green Asparagus', 'Bag of Organic Bananas'), 2646),\n",
       " (('Organic Baby Bella Mushrooms', 'Organic Navel Orange'), 128),\n",
       " (('Free & Clear Natural Dishwasher Detergent', 'Organic Strawberries'), 206),\n",
       " (('Ginger Ale', 'Limes'), 564),\n",
       " (('Milk and Cookies Ice Cream', 'Organic Garlic'), 163),\n",
       " (('Organic Romaine Lettuce', 'Organic Grape Tomatoes'), 1120),\n",
       " (('Large Lemon', 'Whole Chicken'), 158),\n",
       " (('Organic Cilantro', 'Organic Blueberry Waffles'), 267),\n",
       " (('Organic Cilantro', 'Organic Free Range Low Sodium Chicken Broth'), 558),\n",
       " (('Organic Raspberries', 'Organic Crushed Fire Roasted Tomatoes'), 385),\n",
       " (('Organic Bell Pepper', 'Large Lemon'), 1867),\n",
       " (('Mango Yoghurt', 'Lemon Yogurt'), 365),\n",
       " (('Original Superfood Fruit Smoothie Blend',\n",
       "   'Total 2% with Strawberry Lowfat Greek Strained Yogurt'),\n",
       "  105),\n",
       " (('Blueberry Yoghurt', 'Strawberry Rhubarb Yoghurt'), 1702),\n",
       " (('Blueberry Yoghurt', 'Banana'), 2163),\n",
       " (('Blueberry Yoghurt', 'Organic Strawberries'), 1024),\n",
       " (('Strawberry Rhubarb Yoghurt',\n",
       "   'Total 2% with Strawberry Lowfat Greek Strained Yogurt'),\n",
       "  235),\n",
       " (('Small Hass Avocado', 'Whole Milk'), 1003),\n",
       " (('Clean Care Mega Rolls Toilet Paper', 'Whole Milk'), 138),\n",
       " (('Organic Raspberries', 'Four Cheese Pasta Sauce'), 444),\n",
       " (('Unsalted Pure Irish Butter', 'Organic AppleApple'), 158),\n",
       " (('Organic Fuji Apple', 'Naturals Chicken Nuggets'), 467),\n",
       " (('Grated Parmesan', 'Organic Uncured Sliced Black Forest Ham'), 287),\n",
       " (('Apple Honeycrisp Organic', 'Uncured Black Forest Ham'), 537),\n",
       " (('Uncured Black Forest Ham', 'Bag of Organic Bananas'), 854),\n",
       " (('Organic Zucchini', 'Four Cheese Pasta Sauce'), 324),\n",
       " (('Sea Salt Caramel Gelato', 'Garlic'), 133),\n",
       " (('Marinara Pasta Sauce', 'Organic Zucchini'), 941),\n",
       " (('Organic Red Radish, Bunch', 'Baby Arugula'), 355),\n",
       " (('Baby Arugula', 'Banana'), 2328),\n",
       " (('Organic White Onions', 'Chicken & Maple Breakfast Sausage'), 220),\n",
       " (('Organic Whole Grassmilk Milk',\n",
       "   'Organic Whole Milk Strawberry Beet Berry Yogurt Pouch'),\n",
       "  126),\n",
       " (('Veggie Chips', 'Baked Aged White Cheddar Rice and Corn Puffs'), 114),\n",
       " (('Organic Strawberries', 'Dairy Free Cultured Plain Coconut Milk'), 121),\n",
       " (('Total 0% Nonfat Greek Yogurt', 'Creamy Almond Butter'), 109),\n",
       " (('Gluten Free Dark Chocolate Chunk Chewy with a Crunch Granola Bars',\n",
       "   'Fat Free Blueberry Yogurt'),\n",
       "  155),\n",
       " (('Organic Fuji Apple', 'Fat Free Strawberry Yogurt'), 269),\n",
       " (('Organic Baby Arugula', 'Organic Seedless Watermelon'), 161),\n",
       " (('Organic Baby Arugula', 'Feta Cheese Crumbles'), 3007),\n",
       " (('Organic Strawberries', 'Chopped Organic Garlic'), 212),\n",
       " (('Boneless Skinless Chicken Breast', 'Feta Cheese Crumbles'), 246),\n",
       " (('Bag of Organic Bananas', 'Cinnamon Raisin Bread'), 381),\n",
       " (('Lime Sparkling Water', 'Organic Strawberries'), 4544),\n",
       " (('Sweet Onion', 'Organic Strawberries'), 2313),\n",
       " (('Hazelnut Spread With Skim Milk & Cocoa', 'Strawberries'), 448),\n",
       " (('Organic Chicken Stock', 'Clementines'), 203),\n",
       " (('Organic Gluten Free Cranberry Crunch Bar', 'Peanut Butter Bar'), 558),\n",
       " (('Organic Red Onion', 'Total 2% All Natural Plain Greek Yogurt'), 505),\n",
       " (('Organic Raspberries', 'Total 0% Nonfat Plain Greek Yogurt'), 908),\n",
       " (('Organic Ginger Root', 'Baby Spinach'), 1003),\n",
       " (('Organic Ginger Root', 'Total 0% Nonfat Plain Greek Yogurt'), 362),\n",
       " (('Baby Spinach', 'Organic Green Cabbage'), 261),\n",
       " (('Baby Spinach', 'Asparagus'), 1025),\n",
       " (('Organic Pinto Beans', 'Organic Yellow Onion'), 1586),\n",
       " (('Organic Yellow Onion', 'Organic White Onions'), 424),\n",
       " (('Organic Half & Half', 'Peanut Butter Cookie'), 150),\n",
       " (('Sparkling Peach', 'Sparkling Grapefruit'), 192),\n",
       " (('Thin & Light Tortilla Chips', 'Organic Gala Apples'), 104),\n",
       " (('Thin & Light Tortilla Chips', 'Milk, Organic, Vitamin D'), 219),\n",
       " (('Organic Gala Apples', 'Milk, Organic, Vitamin D'), 1047),\n",
       " (('Peanut Butter Creamy With Salt', 'Organic Yellow Onion'), 237),\n",
       " (('Organic Gala Apples', 'Canola Oil'), 231),\n",
       " (('Classic Fajita Skillet Sauce with Chipotle and Lime',\n",
       "   'Organic Yellow Onion'),\n",
       "  107),\n",
       " (('Organic Strawberries', 'Shredded Parmesan'), 2382),\n",
       " (('EF California White Basmati Eco-Farmed 2 lb Rice', 'Organic Hass Avocado'),\n",
       "  113),\n",
       " (('Gluten Free 7 Grain Bread', 'Extra Virgin Olive Oil'), 161),\n",
       " (('White Corn', 'All Natural Virgin Lemonade'), 121),\n",
       " (('Organic Roasted Sliced Chicken Breast', 'Original Hummus'), 635),\n",
       " (('Organic Uncured Sliced Black Forest Ham', 'Original Hummus'), 234),\n",
       " (('Hass Avocados', 'Original Hummus'), 1315),\n",
       " (('Coconut Milk Vanilla Mini Sandwiches', 'Organic Grape Tomatoes'), 132),\n",
       " (('Organic Whole Cashews', 'Organic Grape Tomatoes'), 739),\n",
       " (('Gluten Free Covered Pretzels Yogurt', 'Organic AppleApple'), 110),\n",
       " (('Bag of Organic Bananas', 'Hass Avocados'), 1207),\n",
       " (('Granny Smith Apples', 'Grape White/Green Seedless'), 737),\n",
       " (('Boneless Skinless Chicken Breasts',\n",
       "   'Organic Greek Whole Milk Blended Vanilla Bean Yogurt'),\n",
       "  214),\n",
       " (('Organic Yams', 'Ground Turkey Breast'), 352),\n",
       " (('Organic Yams', 'Organic Bosc Pear'), 325),\n",
       " (('Organic Sticks Low Moisture Part Skim Mozzarella String Cheese',\n",
       "   'Vitamin D Organic Whole Milk'),\n",
       "  527),\n",
       " (('Coconut Flakes', 'Organic Zucchini'), 331),\n",
       " (('Organic Coconut Milk', 'Organic Tahini'), 118),\n",
       " (('Cauliflower Rice', 'Organic Baby Spinach'), 208),\n",
       " (('100 Calorie  Per Bag Popcorn', 'Organic Avocado'), 719),\n",
       " (('Sparkling Lemon Water', 'Kiwi Sandia Sparkling Water'), 711),\n",
       " (('Organic Avocado', 'Lime Sparkling Water'), 3650),\n",
       " (('Organic Hass Avocado', 'Organic White Chia Seed'), 200),\n",
       " (('Kiwi Sandia Sparkling Water', 'Organic Strawberries'), 666),\n",
       " (('Mini Cucumbers', 'Cage Free Grade A Large Brown Eggs'), 130),\n",
       " (('Organic Italian Herb Pasta Sauce', 'Bag of Organic Bananas'), 848),\n",
       " (('Teriyaki Meal Bowls', 'Pad Thai'), 287),\n",
       " (('Lemonade', 'Original Orange Juice'), 490),\n",
       " (('Kale Greens', 'Organic Peeled Whole Baby Carrots'), 300),\n",
       " (('Skim Milk', 'Shredded Parmesan'), 333),\n",
       " (('Organic Peeled Whole Baby Carrots', 'Low Sodium Bacon'), 118),\n",
       " (('Bunny-Luv Fresh Organic Carrots', 'Organic Celery Hearts'), 277),\n",
       " (('Organic Old Fashioned Rolled Oats', 'Creamy Almond Butter'), 426),\n",
       " (('Organic Old Fashioned Rolled Oats', 'Organic Yellow Onion'), 1663),\n",
       " (('Feta Cheese Crumbles', 'Marinara Sauce'), 340),\n",
       " (('Half & Half', 'Peanut Butter Cookie'), 251),\n",
       " (('Large Brown Eggs', 'Green Bell Pepper'), 213),\n",
       " (('Organic Baby Arugula', 'Total 0% Nonfat Plain Greek Yogurt'), 762),\n",
       " (('Organic Red Onion', 'Total 0% Nonfat Plain Greek Yogurt'), 633),\n",
       " (('Organic Hass Avocado', 'Feta Cheese Crumbles'), 4643),\n",
       " (('Feta Cheese Crumbles', 'Total 0% Nonfat Plain Greek Yogurt'), 460),\n",
       " (('Total 0% Nonfat Plain Greek Yogurt', 'Organic Egg Whites'), 150),\n",
       " (('Organic Low Sodium Chicken Broth', 'Boneless Skinless Chicken Breasts'),\n",
       "  774),\n",
       " (('Boneless Skinless Chicken Breasts', 'Organic Mint'), 130),\n",
       " (('Pure Coconut Water', 'Granny Smith Apples'), 308),\n",
       " (('XL Emerald White Seedless Grapes', 'Banana'), 5561),\n",
       " (('Organic Peeled & Cooked Beets', 'Bag of Organic Bananas'), 1012),\n",
       " (('Organic Romaine Leaf', 'Organic Blueberries'), 442),\n",
       " (('Organic Romaine Leaf', 'Banana'), 2165),\n",
       " (('Medium Cheddar Cheese Block', 'Italian Extra Virgin Olive Oil'), 130),\n",
       " (('Small Hass Avocado', 'Organic Vanilla Bean Ice Cream'), 116),\n",
       " (('Michigan Organic Kale', 'Red Raspberries'), 960),\n",
       " (('Michigan Organic Kale', 'Corn Chips'), 259),\n",
       " (('Organic Golden Delicious Apple', 'Grape White/Green Seedless'), 414),\n",
       " (('Sparkling Grapefruit', 'Grape White/Green Seedless'), 104),\n",
       " (('Organic Raspberries', 'Organic White Basmati Rice'), 315),\n",
       " (('Organic Gala Apples', 'Red Raspberries'), 606),\n",
       " (('Trilogy Kombucha Drink', 'Organic Egg Whites'), 129),\n",
       " (('Monterey Jack Cheese', 'Sharp Cheddar Cheese'), 618),\n",
       " (('Cane Sugar', 'Half & Half'), 244),\n",
       " (('Organic Raspberries', 'Flaky Biscuits'), 342),\n",
       " (('Organic Apple Juice', 'Frozen Organic Wild Blueberries'), 276),\n",
       " (('Light Brown Sugar', 'Organic Celery Hearts'), 203),\n",
       " (('Organic Gala Apples', 'Chicken & Maple Breakfast Sausage'), 804),\n",
       " (('Chicken & Maple Breakfast Sausage', 'Organic Lemon'), 476),\n",
       " (('Chicken & Maple Breakfast Sausage', 'Organic Celery Hearts'), 194),\n",
       " (('Half & Half', 'Frozen Organic Wild Blueberries'), 820),\n",
       " (('Organic Lemon', 'Organic Hothouse Cucumbers'), 2136),\n",
       " (('Organic Free Range Large Grade A Brown Eggs', 'Organic Hass Avocado'),\n",
       "  117),\n",
       " (('Organic Navel Orange', 'Frozen Organic Wild Blueberries'), 1045),\n",
       " (('Pineapple Chunks', 'Bag of Organic Bananas'), 4668),\n",
       " (('Organic Ginger Root', 'Organic Sliced Crimini Mushrooms'), 168),\n",
       " (('Organic Fuji Apple', 'Organic Zucchini'), 4222),\n",
       " (('Clementines, Bag', 'Organic Tomato Sauce'), 186),\n",
       " (('Organic Zucchini', 'Organic Free Range Low Sodium Chicken Broth'), 264),\n",
       " (('Hass Avocados', 'Boneless Skinless Chicken Breasts'), 642),\n",
       " (('Baby Brussels Sprouts', 'Asparagus'), 146),\n",
       " (('Organic Beef Broth', 'Organic Garlic'), 1162),\n",
       " (('Peanut Butter Creamy With Salt', 'Sourdough Bread'), 117),\n",
       " (('Potato Yukon Gold Organic', 'Organic Italian Parsley Bunch'), 882),\n",
       " (('Potato Yukon Gold Organic', 'Sourdough Bread'), 158),\n",
       " (('Roasted Turkey Breast', 'Organic Jalapeno Pepper'), 104),\n",
       " (('Salted Sweet Cream Butter', 'Organic Baby Spinach'), 467),\n",
       " (('Organic Italian Parsley Bunch', 'Sourdough Bread'), 366),\n",
       " (('Blueberry Yoghurt', 'Sourdough Bread'), 112),\n",
       " (('Organic Whole Kernel Sweet Corn No Salt Added', 'Organic Jalapeno Pepper'),\n",
       "  367),\n",
       " (('Organic Plain Whole Milk Yogurt', 'Italian Sparkling Mineral Water'), 103),\n",
       " (('Organic Strawberries', 'Organic Lemon'), 697),\n",
       " (('Wheat Gluten Free Waffles', 'Organic Garnet Sweet Potato (Yam)'), 208),\n",
       " (('Organic Balsamic Vinegar Of Modena', 'Organic Garnet Sweet Potato (Yam)'),\n",
       "  181),\n",
       " (('Organic Quinoa & Brown Rice With Garlic', 'Strawberries'), 135),\n",
       " (('Honeycrisp Apple', 'Organic Green Cabbage'), 281),\n",
       " (('Garlic Lovers Hommus', 'Organic Strawberries'), 394),\n",
       " (('Penne Rigate', 'Organic Strawberries'), 845),\n",
       " (('Pecorino Romano', 'Bag of Organic Bananas'), 325),\n",
       " (('Orange Bell Pepper', 'Icelandic Style Skyr Blueberry Non-fat Yogurt'),\n",
       "  182),\n",
       " (('Orange Bell Pepper', 'Green Bell Pepper'), 1853),\n",
       " (('Red Peppers', 'Icelandic Style Skyr Blueberry Non-fat Yogurt'), 127),\n",
       " (('Red Peppers', 'Green Bell Pepper'), 3415),\n",
       " (('Organic Fuji Apple', 'Red Peppers'), 3688),\n",
       " (('Potato Yukon Gold Organic', 'Organic Kiwi'), 370),\n",
       " (('Spring Water', 'Organic Baby Spinach'), 5579),\n",
       " (('Organic Brown Rice Snaps Unsalted Plain', 'Organic Baby Spinach'), 176),\n",
       " (('Organic Baby Spinach', 'Carrots'), 6606),\n",
       " (('Natural Premium Coconut Water', 'Carrots'), 459),\n",
       " (('Honey Nut Cheerios', 'Clementines, Bag'), 316),\n",
       " (('Organic Honey Sweet Whole Wheat Bread', 'Organic Hothouse Cucumbers'),\n",
       "  188),\n",
       " (('Organic Strawberries', 'Whipped Cream Cheese'), 469),\n",
       " (('Whipped Cream Cheese', 'Organic Sour Cream'), 940),\n",
       " (('Romaine Hearts', 'Carrots'), 708),\n",
       " (('Organic Garlic', 'Organic Hothouse Cucumbers'), 1858),\n",
       " (('Organic Large Extra Fancy Fuji Apple', 'Unsweetened Vanilla Almond Milk'),\n",
       "  1149),\n",
       " (('English Muffins', 'Banana'), 280),\n",
       " (('Bread, Jewish Rye', 'Banana'), 140),\n",
       " (('Organic  Whole Milk', 'Organic Hothouse Cucumbers'), 137),\n",
       " (('Boneless Skinless Chicken Breasts', 'Cage Free Large White Eggs'), 324),\n",
       " (('French Roast Ground Coffee', 'Organic Baby Spinach'), 208),\n",
       " (('No Salt Added Black Beans', 'Organic Gala Apples'), 488),\n",
       " (('No Salt Added Black Beans', 'Banana'), 8746),\n",
       " (('Unsweetened Original Almond Breeze Almond Milk', 'Raspberries'), 360),\n",
       " (('Organic Fat-Free Milk', 'Raspberries'), 109),\n",
       " (('Cucumber Kirby', 'Organic Tomato Cluster'), 4341),\n",
       " (('Total 2% All Natural Greek Strained Yogurt with Honey',\n",
       "   'Organic Grade A Free Range Large Brown Eggs'),\n",
       "  373),\n",
       " (('Pure Sparkling Water', 'Sparkling Water Grapefruit'), 4255),\n",
       " (('Organic Gala Apples', 'Penne Rigate'), 399),\n",
       " (('Organic Carrot Bunch', 'Organic Red Potatoes'), 173),\n",
       " (('Sea Salt Potato Chips', 'Organic Hass Avocado'), 712),\n",
       " (('Organic Zucchini', 'Lactose Free Half & Half'), 139),\n",
       " (('Almond Milk Peach Yogurt', 'Organic Baby Spinach'), 577),\n",
       " (('Krinkle Cut Salt & Fresh Ground Pepper Potato Chips',\n",
       "   'Organic Strawberries'),\n",
       "  137),\n",
       " (('Organic Garbanzo Beans No Salt Added', 'Organic Strawberries'), 454),\n",
       " (('Red Leaf Lettuce', 'Broccoli Crown'), 231),\n",
       " (('Organic Bunch Beets', 'Organic Baby Spinach'), 1544),\n",
       " (('Organic Lowfat 1% Milk', 'YoKids Strawberry Banana/Strawberry Yogurt'),\n",
       "  100),\n",
       " (('Jalapeno Peppers', 'Organic Quick Oats'), 155),\n",
       " (('Shredded Mild Cheddar Cheese', 'Medium Cheddar Cheese Block'), 263),\n",
       " (('Shredded Mild Cheddar Cheese', 'White Onion'), 233),\n",
       " (('Shredded Mild Cheddar Cheese', 'Organic Whole Milk'), 2631),\n",
       " (('Shredded Mild Cheddar Cheese', 'Organic Basil'), 381),\n",
       " (('Organic Diced Tomatoes', 'White Onion'), 302),\n",
       " (('Creamy Deluxe Shells & Real Aged Cheddar Sauce', \"Organic D'Anjou Pears\"),\n",
       "  178),\n",
       " (('Creamy Deluxe Shells & Real Aged Cheddar Sauce', 'Banana'), 1253),\n",
       " ((\"Organic D'Anjou Pears\", 'Total 0% Greek Yogurt'), 305),\n",
       " ((\"Organic D'Anjou Pears\", 'Dried Sweetened Cranberries'), 129),\n",
       " (('Gotta Have Vanilla Organic Frozen Nonfat Yogurt', 'Organic Strawberries'),\n",
       "  117),\n",
       " (('Organic Whole Milk', 'Organic Chives'), 161),\n",
       " (('Organic Basil', 'Organic Baby Carrots'), 641),\n",
       " (('Organic Baby Carrots', 'Organic Chives'), 112),\n",
       " (('Peanut Butter Cookie', 'Banana'), 948),\n",
       " (('Gluten Free Old Fashioned Rolled Oats', 'Organic Strawberries'), 750),\n",
       " (('Banana', 'Sliced Baby Bella Mushrooms'), 1099),\n",
       " (('Organic Mixed Vegetables', 'Organic Baby Spinach'), 601),\n",
       " (('Fresh Dill', 'Limes'), 263),\n",
       " (('Limes', 'Organic Extra Large Grade AA Brown Eggs'), 1004),\n",
       " (('Boneless Skinless Chicken Breasts', 'Asparagus'), 3105),\n",
       " (('Organic Roasted Turkey Breast', 'Yogurt, Lowfat, Strawberry'), 151),\n",
       " (('Organic Roasted Turkey Breast', 'Organic Raspberry Lowfat Yogurt'), 115),\n",
       " (('Organic Chicken & Apple Sausage', 'Fresh Cauliflower'), 754),\n",
       " (('Organic Chicken & Apple Sausage', 'Almonds & Sea Salt in Dark Chocolate'),\n",
       "  107),\n",
       " (('Organic Whole String Cheese', 'Yogurt, Lowfat, Strawberry'), 359),\n",
       " (('Thin Crust Margherita Pizza with Fresh Mozzarella & Basil',\n",
       "   'Organic Kiwi'),\n",
       "  116),\n",
       " (('Fresh Cauliflower', 'Organic Kiwi'), 2994),\n",
       " (('Organic Kiwi', 'Almonds & Sea Salt in Dark Chocolate'), 242),\n",
       " (('Original Veggie Straws', 'Bag of Organic Bananas'), 3594),\n",
       " (('Organic Tagliatelle Traditional Egg Pasta', 'Organic Yellow Onion'), 167),\n",
       " (('Organic Lemon', 'Organic Free Range Chicken Broth'), 374),\n",
       " (('Reduced Fat 2% Milk', 'Organic Baby Spinach'), 823),\n",
       " (('Organic Carrot Bunch', 'Country Morning White Bread'), 105),\n",
       " (('Organic Carrot Bunch',\n",
       "   'Organic Butterhead (Boston, Butter, Bibb) Lettuce'),\n",
       "  198),\n",
       " (('Organic Carrot Bunch', 'Organic Italian Parsley Bunch'), 1367),\n",
       " (('Cultured Low Fat Buttermilk', 'Organic Italian Parsley Bunch'), 372),\n",
       " (('Baby Spinach', 'Medium Scarlet Raspberries'), 108),\n",
       " (('Organic Stage 3 Pear Carrot Apricot Baby Food',\n",
       "   'Baby Food Stage 2 Blueberry Pear & Purple Carrot'),\n",
       "  551),\n",
       " (('Original Fresh Stack Crackers', 'Strawberries'), 420),\n",
       " (('Total 2% All Natural Plain Greek Yogurt', 'Total 2% Yogurt Key Lime'),\n",
       "  180),\n",
       " (('Total 2% Greek Strained Yogurt with Cherry 5.3 oz',\n",
       "   'Total 2% with Strawberry Lowfat Greek Strained Yogurt'),\n",
       "  3096),\n",
       " (('Total 2% Greek Strained Yogurt with Cherry 5.3 oz',\n",
       "   'Organic Mexican Blend Finely Shredded Cheese'),\n",
       "  179),\n",
       " (('Uncured Genoa Salami', 'Banana'), 8962),\n",
       " (('Cage Free Brown Eggs-Large, Grade A', 'Squeeze Tomato Ketchup'), 169),\n",
       " (('Sweet Potato Yam', 'Banana'), 2462),\n",
       " (('Organic Blueberries', '100% Whole Wheat Bread'), 2115),\n",
       " (('Roasted Salted Peanuts', 'Organic Extra Firm Tofu'), 165),\n",
       " (('Organic Red Onion', 'Organic Butternut Squash'), 1256),\n",
       " (('Organic Red Onion', 'Italian Sparkling Mineral Water'), 1313),\n",
       " (('Organic Red Bell Pepper', 'Organic Blueberries'), 4180),\n",
       " (('Organic Red Bell Pepper', 'Organic Tomato Cluster'), 3151),\n",
       " (('Cucumber Kirby', 'Organic Beef Broth'), 336),\n",
       " (('Original Hummus', 'Original Puffins Cereal'), 461),\n",
       " (('Organic Beef Broth', 'Limes'), 493),\n",
       " (('Traditional Plain Greek Yogurt', 'Organic Garnet Sweet Potato (Yam)'),\n",
       "  179),\n",
       " (('Organic Garnet Sweet Potato (Yam)', 'Original Puffins Cereal'), 125),\n",
       " (('Limes', 'Corn Chips'), 391),\n",
       " (('Bag of Organic Bananas', 'Healthy Grains Fiber Cinnamon Oat Clusters'),\n",
       "  412),\n",
       " (('Organic Fuji Apple', 'Healthy Grains Fiber Cinnamon Oat Clusters'), 113),\n",
       " (('Organic Fuji Apple', 'Tuna Salad'), 311),\n",
       " (('Organic Hass Avocado', 'Healthy Grains Fiber Cinnamon Oat Clusters'), 516),\n",
       " (('Organic Fuji Apple', 'Organic Blackberries'), 1763),\n",
       " (('Organic Whole Milk with DHA Omega-3', 'Organic Heavy Whipping Cream'),\n",
       "  152),\n",
       " (('Organic Baby Carrots', 'Organic Grape Tomatoes'), 2374),\n",
       " (('Dark Blackout Organic Chocolate', 'Organic 85% Cacao Dark Chocolate Bar'),\n",
       "  118),\n",
       " (('Organic Raw Kombucha Gingerade', 'Trilogy Kombucha Drink'), 1161),\n",
       " (('Organic & Raw Strawberry Serenity Kombucha',\n",
       "   'Millennium Organic Cherry Chia Synergy Kombucha'),\n",
       "  114),\n",
       " (('Granny Smith Apples', '2% Reduced Fat Milk'), 738),\n",
       " (('Orange Bell Pepper', 'Organic Red Delicious Apple'), 125),\n",
       " (('Limeade', 'Banana'), 462),\n",
       " (('Mini Pretzels', 'Banana'), 532),\n",
       " (('Smok Cured Turkey Bacon', 'Banana'), 950),\n",
       " (('Grape Tomatoes', 'Banana'), 391),\n",
       " (('Romaine Hearts', 'Banana'), 3917),\n",
       " (('Organic Lactose Free 1% Lowfat Milk', '1% Lowfat Milk'), 105),\n",
       " (('Organic Large Extra Fancy Fuji Apple', 'Ataulfo Mango'), 224),\n",
       " (('Organic Strawberries', '1% Lowfat Milk'), 1279),\n",
       " (('Watermelon Chunks', 'Organic Grape Tomatoes'), 1341),\n",
       " (('Hass Avocados', 'Organic Green Cabbage'), 350),\n",
       " (('Organic Ginger Root', 'Organic Spring Mix'), 366),\n",
       " (('Organic Ginger Root', 'Organic Grape Tomatoes'), 2803),\n",
       " (('Juice Beverage, Cold Pressed, Kale Apple Ginger Romaine Spinach Cucumber Celery Parsley Lemon',\n",
       "   'Organic Grape Tomatoes'),\n",
       "  164),\n",
       " (('Organic Whole String Cheese', 'Organic Boneless Skinless Chicken Breast'),\n",
       "  121),\n",
       " (('Organic Ginger Root', 'Garlic'), 1058),\n",
       " (('Cage Free  100% Liquid Egg Whites', 'Organic Garlic'), 134),\n",
       " (('Organic Chicken & Apple Sausage', 'Carrots'), 559),\n",
       " (('Organic Hot House Tomato', 'Organic Garlic'), 818),\n",
       " (('Organic Free Range Chicken Broth', 'Organic Garlic'), 1369),\n",
       " (('Gluten Free Dark Chocolate Chunk Chewy with a Crunch Granola Bars',\n",
       "   '100% Raw Coconut Water'),\n",
       "  148),\n",
       " (('Organic Fuji Apple', 'Peanut Butter & Jelly Fruit & Nut Food Bar'), 122),\n",
       " ((\"Fakin' Bacon Organic Smoky Tempeh Strips\", 'Organic Extra Firm Tofu'),\n",
       "  178),\n",
       " ((\"Mandarin Orange Crispy Chick'n\", 'Seven Grain Crispy Tenders'), 416),\n",
       " (('Fresh Cauliflower', 'Vine Ripe Tomatoes'), 320),\n",
       " (('Limes', 'Butternut Squash'), 279),\n",
       " (('Walnut Halves & Pieces', 'Globe Eggplant'), 152),\n",
       " (('Organic Basil', 'Feta Cheese Crumbles'), 339),\n",
       " (('Organic Unsalted Butter', 'Naturals Chicken Nuggets'), 149),\n",
       " (('Cucumber Kirby', 'Total 2% Lowfat Plain Greek Yogurt'), 977),\n",
       " (('Oven Roasted Turkey Breast', 'Organic Blackberries'), 284),\n",
       " (('Organic Strawberries', 'Organic Shredded Carrots'), 692),\n",
       " (('Organic Lemon', 'Total 2% Lowfat Plain Greek Yogurt'), 384),\n",
       " (('Organic Baby Broccoli', 'Organic Blackberries'), 1006),\n",
       " (('Organic Unsweetened Vanilla Almond Milk', 'Organic Blackberries'), 228),\n",
       " (('Banana', 'Organic Shredded Carrots'), 2082),\n",
       " (('Organic Red Radish, Bunch', 'Bunched Cilantro'), 552),\n",
       " (('Organic White Onions', 'Organic Yellow Onion'), 1369),\n",
       " (('Organic Yellow Onion', 'Organic Red Cabbage'), 722),\n",
       " (('Organic Leek', 'Organic Romaine'), 354),\n",
       " (('Organic Baby Broccoli', 'Organic Romaine'), 518),\n",
       " (('Parsley', 'Organic Red Cabbage'), 134),\n",
       " (('Crunchy Sunflower Seed Bites Sea Salt', 'Banana'), 181),\n",
       " (('Lemon Yogurt', 'Sparkling Natural Mineral Water'), 139),\n",
       " (('Roma Tomato', 'Grade A Large White Eggs'), 502),\n",
       " (('Organic Red Delicious Apple', 'Organic Raspberries'), 658),\n",
       " (('Brussels Sprouts', 'Organic Strawberries'), 1796),\n",
       " (('Organic Whole Milk', 'Classic Almond Butter'), 138),\n",
       " (('Organic Yellow Peaches', 'Organic Blackberries'), 382),\n",
       " (('Organic Beef Uncured Hot Dogs', 'Organic Garlic'), 698),\n",
       " (('Organic Beef Uncured Hot Dogs', 'Organic Italian Parsley Bunch'), 340),\n",
       " (('Olives, Organic, Kalamata, Pitted', 'Organic Whole Milk'), 230),\n",
       " (('Organic Raspberries', 'Icelandic Style Skyr Blueberry Non-fat Yogurt'),\n",
       "  1579),\n",
       " (('Uncured Slow Cooked Ham', 'Icelandic Style Skyr Blueberry Non-fat Yogurt'),\n",
       "  162),\n",
       " (('Limes', 'Frozen Organic Wild Blueberries'), 2152),\n",
       " (('Jalapeno Peppers', 'Organic Baby Rainbow Carrots'), 286),\n",
       " (('Jalapeno Peppers', 'Organic Extra Large Grade AA Brown Eggs'), 130),\n",
       " (('Organic Garlic', 'Organic Cauliflower Florets'), 201),\n",
       " (('Organic Baby Spinach', 'Organic Ezekiel 4:9 Sesame Bread'), 398),\n",
       " (('Organic Cauliflower Florets', 'Banana'), 224),\n",
       " (('Organic Kiwi', 'Banana'), 10534),\n",
       " (('BBQ Chicken Crispy Thin Crust Pizza', 'Banana'), 337),\n",
       " (('Organic Sticks Low Moisture Part Skim Mozzarella String Cheese',\n",
       "   'Strawberries'),\n",
       "  1861),\n",
       " (('Grated Parmesan', 'Organic Cane Sugar'), 165),\n",
       " (('Organic Cilantro', 'Roma Tomato'), 1959),\n",
       " (('Organic Deep Dark Sea Salt Chocolate',\n",
       "   'Dark Coconut Toffee Organic Chocolate'),\n",
       "  160),\n",
       " (('Organic Deep Dark Sea Salt Chocolate', 'Organic Hass Avocado'), 684),\n",
       " (('Artichokes', 'Organic Hass Avocado'), 413),\n",
       " (('Artichokes', 'Organic Garnet Sweet Potato (Yam)'), 280),\n",
       " (('Romaine Lettuce', 'Organic Baby Spinach'), 952),\n",
       " (('Eggo Nutri-Grain Blueberry Waffles', 'Banana'), 422),\n",
       " (('Grilled Chicken Breast Strips',\n",
       "   'Unsweetened Original Almond Breeze Almond Milk'),\n",
       "  126),\n",
       " (('Orange Juice', 'Organic Whole Milk'), 1060),\n",
       " (('Organic Lemon Lowfat Yogurt', 'Yellow Onions'), 105),\n",
       " (('Organic Baby Arugula', 'Extra Virgin Olive Oil'), 1309),\n",
       " (('Yellow Onions', 'Organic Crushed Tomatoes with Basil'), 130),\n",
       " (('Large Lemon', 'Organic Stage 3 Pear Carrot Apricot Baby Food'), 122),\n",
       " (('Organic Raspberries', 'Roasted Red Pepper Hummus'), 880),\n",
       " (('Cheese Pizza Snacks', 'Organic Lacinato (Dinosaur) Kale'), 159),\n",
       " (('Organic Blueberries', 'Grated Parmesan Cheese'), 272),\n",
       " (('Pineapple Chunks', 'Organic Diced Tomatoes'), 342),\n",
       " (('Yellow Onions', 'Organic Diced Tomatoes'), 1930),\n",
       " (('Yellow Onions', 'Electrolyte Enhanced Water'), 314),\n",
       " (('Organic Diced Tomatoes', 'Electrolyte Enhanced Water'), 117),\n",
       " (('Brown Fertile Large Grade AA Eggs', 'Small Hass Avocado'), 125),\n",
       " (('Sliced Water Chestnuts', 'Strawberries'), 208),\n",
       " (('Organic Baby Spinach', 'Organic No Salt Added Diced Tomatoes'), 1375),\n",
       " (('Pear & Mango Stage 2 Baby Food', 'Strawberries'), 277),\n",
       " (('Orange Bell Pepper', 'Four Cheese Pasta Sauce'), 113),\n",
       " (('Cheese Square Crackers', 'Shredded Parmesan'), 119),\n",
       " (('Organic Baby Arugula', 'Organic Peeled & Cooked Beets'), 510),\n",
       " (('Organic Red Bell Pepper', 'Fat Free Milk'), 216),\n",
       " (('Organic Red Bell Pepper', 'Total 0% Nonfat Greek Yogurt'), 375),\n",
       " (('100% Recycled Bathroom Tissue', 'Organic Black Beans'), 175),\n",
       " (('Fat Free Milk', 'Organic Shredded Carrots'), 144),\n",
       " (('Fat Free Milk', 'Organic No Salt Added Diced Tomatoes'), 100),\n",
       " (('Organic Cauliflower', 'Strawberries'), 356),\n",
       " (('Cheddar Bunnies Snack Crackers', 'Organic Multigrain Waffles'), 183),\n",
       " (('Organic Multigrain Waffles', 'Organic Reduced Fat 2% Milk'), 323),\n",
       " (('Organic Zucchini', 'Organic Grape Tomatoes'), 3470),\n",
       " (('Macaroni & Cheese Dinner Original Flavor', 'Strawberries'), 551),\n",
       " (('Organic Raspberries', 'Organic Mint'), 1703),\n",
       " (('Large Alfresco Eggs', 'Organic Mint'), 217),\n",
       " (('Organic Granny Smith Apple', 'Organic Mint'), 397),\n",
       " (('Cucumber Kirby', 'Green Peas'), 845),\n",
       " (('Green Peas', 'Green Onions'), 123),\n",
       " (('Organic Fresh Pressed Pure Cranberry Juice', 'Organic Strawberries'), 127),\n",
       " (('Multigrain Tortilla Chips', 'Organic Kiwi'), 147),\n",
       " (('Crackers Cheddar Bunnies Snack Packs', 'Organic Strawberries'), 2783),\n",
       " (('Half & Half', 'Jalapeno'), 143),\n",
       " (('Asparation/Broccolini/Baby Broccoli', 'Tomato Sauce'), 133),\n",
       " (('Large Lemon', 'Shredded Parmesan'), 3605),\n",
       " (('Organic Zucchini', 'Seedless Red Grapes'), 1693),\n",
       " (('Organic Cream Cheese Bar', 'Organic Salted Butter'), 120),\n",
       " (('Sustainably Soft Bath Tissue', 'Organic Kiwi'), 542),\n",
       " (('Organic Dark Sweet Cherries', 'Organic Garbanzo Beans'), 170),\n",
       " (('Organic Lemon', 'Lacinato Kale Og'), 267),\n",
       " (('Coconut Sparkling Water', 'Banana'), 663),\n",
       " (('Kiwi Sandia Sparkling Water', 'Pineapple Strawberry Sparkling Water'),\n",
       "  616),\n",
       " (('Grassmilk 2% Reduced Fat Milk', 'Organic Baby Spinach'), 277),\n",
       " (('VitaminWater Zero™ XXX Acai Blueberry Pomegranate', 'Organic Raspberries'),\n",
       "  108),\n",
       " (('Bag of Organic Bananas', 'Peach'), 583),\n",
       " (('Bag of Organic Bananas', 'Original Nooks & Crannies English Muffins'),\n",
       "  1065),\n",
       " (('Half & Half', 'XL Emerald White Seedless Grapes'), 252),\n",
       " (('Half & Half', 'Shredded Parmesan'), 1574),\n",
       " (('Yellow Onions', 'Corn Tortillas'), 470),\n",
       " (('Organic Black Beans', 'Organic Roasted Turkey Breast'), 632),\n",
       " (('Organic Roasted Turkey Breast', 'Organic Turkey Hot Dogs'), 109),\n",
       " (('Organic Roasted Turkey Breast', 'Corn Tortillas'), 132),\n",
       " (('Organic Tahini', 'Organic Grape Tomatoes'), 447),\n",
       " (('Broccoli Crown', 'YoKids Blueberry & Strawberry/Vanilla Yogurt'), 130),\n",
       " (('Bag of Organic Bananas', 'TLC Cherry Dark Chocolate Chewy Granola'), 127),\n",
       " (('Organic Large Green Asparagus', 'Coconut Water, Pure Organic'), 101),\n",
       " (('Orange Juice', 'Organic Ginger Root'), 136),\n",
       " (('Organic Ginger Root', 'Sweet Onions'), 192),\n",
       " (('Limes', 'Organic Blue Corn Tortilla Chips'), 1184),\n",
       " (('Organic Lemon', 'Organic Blue Corn Tortilla Chips'), 617),\n",
       " (('White Corn', 'Sea Salt & Vinegar Potato Chips'), 165),\n",
       " (('Almonds & Sea Salt in Dark Chocolate', 'Organic Strawberries'), 1631),\n",
       " (('Organic Strawberry Smoothie', 'Yellow Onions'), 120),\n",
       " (('Organic Blueberries', 'Kids Organic Chocolate Chip ZBars'), 376),\n",
       " (('Yellow Onions', 'Vanilla Blueberry Clusters With Flax Seeds Granola'),\n",
       "  135),\n",
       " (('Classic White Bread', 'Organic Strawberries'), 794),\n",
       " (('Shredded Mild Cheddar Cheese', 'Sonoma Handmade Style Corn Tortillas'),\n",
       "  108),\n",
       " (('Organic Sticks Low Moisture Part Skim Mozzarella String Cheese',\n",
       "   'Sparkling Natural Mineral Water'),\n",
       "  894),\n",
       " (('Organic Baby Arugula', 'Organic Large Extra Fancy Fuji Apple'), 3067),\n",
       " (('Organic Raspberries', 'Tuna Salad'), 814),\n",
       " (('Organic Large Extra Fancy Fuji Apple', 'Clementines, Bag'), 1536),\n",
       " (('Organic Large Extra Fancy Fuji Apple', 'Organic Yellow Peaches'), 1512),\n",
       " (('Clementines, Bag', 'Organic Yellow Peaches'), 481),\n",
       " (('Goo Berry Pie Probugs Kefir', 'Organic Peeled Whole Baby Carrots'), 246),\n",
       " (('Raisins', 'Bag of Organic Bananas'), 592),\n",
       " (('Organic Frozen Peas', 'Organic Whole String Cheese'), 778),\n",
       " (('XL Emerald White Seedless Grapes', 'Romaine Hearts'), 142),\n",
       " (('Original Orange Juice', 'Sharp Cheddar Cheese'), 316),\n",
       " (('Oreo Cookies and Cream Frozen Dairy Dessert', 'Banana'), 220),\n",
       " (('100% Whole Wheat Bread', 'Sharp Cheddar Cheese'), 899),\n",
       " (('Italian Sparkling Mineral Water', 'Organic Whole Milk'), 1172),\n",
       " (('Organic Greek Whole Milk Blended Strawberry Yogurt',\n",
       "   'Organic Strawberries'),\n",
       "  800),\n",
       " (('Organic Strawberries', 'Organic Greek Plain Lowfat Yogurt'), 305),\n",
       " (('Organic Biologique Limes', 'Organic Garlic'), 728),\n",
       " (('Mexican Finely Shredded Cheese', 'Organic Yellow Onion'), 368),\n",
       " (('Organic Diced Tomatoes Fire Roasted with Medium Green Chilies',\n",
       "   'Organic Yellow Onion'),\n",
       "  332),\n",
       " (('Hardwood Smoked Bacon', 'Asparagus'), 111),\n",
       " (('Large Lemon', 'Organic Avocado'), 11318),\n",
       " (('Boneless Skinless Chicken Breast Fillets', 'Sour Cream'), 138),\n",
       " (('Boneless Skinless Chicken Breast Fillets', 'Red Vine Tomato'), 150),\n",
       " (('Sour Cream', 'Red Mango'), 107),\n",
       " (('Sparkling Lemon Water', 'Sparkling Water Grapefruit'), 6371),\n",
       " (('Almond Milk Peach Yogurt', 'Vanilla Almond Milk Yogurt'), 862),\n",
       " (('Organic Large Extra Fancy Fuji Apple', 'Orange Juice'), 347),\n",
       " (('100% Natural Tomato Sauce', 'Strawberries'), 226),\n",
       " (('Organic Large Extra Fancy Fuji Apple', 'Organic Egg Whites'), 959),\n",
       " (('Raisins', 'Organic Grape Tomatoes'), 266),\n",
       " (('Organic Tomato Paste', 'Limes'), 2077),\n",
       " (('Organic Tomato Paste', 'Organic Unsweetened Almond Milk'), 696),\n",
       " (('Boneless Skinless Chicken Breasts', 'Original Hummus'), 2216),\n",
       " (('Heavy Whipping Cream', 'Half & Half'), 289),\n",
       " (('Mozzarella String Cheese', 'Banana'), 963),\n",
       " (('Half & Half', 'Organic Unsweetened Almond Milk'), 2007),\n",
       " (('Organic Milk', 'Sonoma Traditional Flour Tortillas 10 Count'), 410),\n",
       " (('Wheat Thins Reduced Fat Crackers', 'Banana'), 1119),\n",
       " (('Coke Classic', 'Whole Milk'), 351),\n",
       " (('Asian Chopped Salad with Dressing', 'Banana'), 349),\n",
       " (('Sprouted Organic Cinnamon Raisin English Muffins', 'Organic Yellow Onion'),\n",
       "  236),\n",
       " (('ProBugs Whole Milk Kefir Orange Creamy Crawler', 'Organic Zucchini'), 148),\n",
       " (('Limes', 'Unbleached All-Purpose Flour'), 429),\n",
       " (('Organic Zucchini', 'Organic Heavy Whipping Cream'), 728),\n",
       " (('Packaged Grape Tomatoes', 'Butter Lettuce'), 125),\n",
       " (('Organic Zucchini', 'Organic Garlic Powder'), 258),\n",
       " (('Fat Free Strawberry Yogurt', 'Organic Blackberries'), 276),\n",
       " ((\"Nutty for 'Nana Low-Fat Greek Yogurt\", 'Strawberries'), 107),\n",
       " (('Passionfruit Sparkling Water', 'Cherubs Heavenly Salad Tomatoes'), 143),\n",
       " (('Original Baked Snack Crackers', 'Strawberries'), 317),\n",
       " (('Original Almondmilk', '2% Reduced Fat Milk'), 208),\n",
       " (('Spring Water', 'Organic Avocado'), 3161),\n",
       " (('Organic Avocado', 'Gluten Free Original Granola'), 216),\n",
       " (('Green Beans', 'Large Greenhouse Tomato'), 190),\n",
       " (('Red Onion', 'Organic Coconut Milk'), 582),\n",
       " (('Red Onion', 'Mint'), 499),\n",
       " (('Tomato Sauce', 'No Salt Added Black Beans'), 269),\n",
       " (('Bunched Cilantro', 'Organic Baby Spinach'), 5562),\n",
       " (('Organic Zucchini', 'Mint'), 272),\n",
       " (('Strawberry Rhubarb Yogurt', 'Organic Baby Spinach'), 252),\n",
       " (('Mini Seedless Cucumbers', 'Banana'), 1981),\n",
       " (('Organic Hass Avocado', 'Clementines, Bag'), 2176),\n",
       " (('Organic Gala Apples', 'Yobaby Organic Plain Yogurt'), 496),\n",
       " (('Organic Sliced Peaches', 'Organic Mixed Vegetables'), 139),\n",
       " (('Organic Sliced Peaches', 'Frozen Organic Wild Blueberries'), 1834),\n",
       " (('Organic Old Fashioned Rolled Oats', 'Whole Milk Plain Yogurt'), 334),\n",
       " (('Organic Whole String Cheese', 'Organic Thyme'), 501),\n",
       " (('Whole Milk Plain Yogurt', 'Banana'), 3694),\n",
       " (('Organic Blueberries', 'Fresh Cauliflower'), 1927),\n",
       " (('Fresh Cauliflower', 'Yobaby Organic Plain Yogurt'), 374),\n",
       " (('Total 2% Lowfat Plain Greek Yogurt', 'Organic Baby Spinach'), 2315),\n",
       " (('Red Raspberries', 'Green Peas'), 100),\n",
       " (('Organic Red Radish, Bunch', \"Organic D'Anjou Pears\"), 1039),\n",
       " (('Shredded Mild Cheddar Cheese', 'Organic Medium Salsa'), 391),\n",
       " (('Original Hummus', 'Organic Distilled White Vinegar'), 192),\n",
       " (('No Salt Added Black Beans', 'Total 2% Lowfat Plain Greek Yogurt'), 393),\n",
       " (('No Salt Added Black Beans',\n",
       "   'Organic Mexican Blend Finely Shredded Cheese'),\n",
       "  351),\n",
       " (('Total 2% Lowfat Plain Greek Yogurt', 'Granny Smith Apples'), 114),\n",
       " (('Classic Whipped Cream', 'Strawberries'), 202),\n",
       " (('Seedless Red Grapes', 'Strawberry Ice Cream'), 108),\n",
       " (('Seedless Red Grapes', 'Organic Strawberry Fruit Spread'), 338),\n",
       " (('Organic Baby Spinach', 'Organic Mexican Blend Finely Shredded Cheese'),\n",
       "  1636),\n",
       " (('Strawberry Ice Cream', 'Strawberries'), 287),\n",
       " (('Organic Strawberry Fruit Spread', 'Raspberries'), 158),\n",
       " (('Red Vine Tomato', 'Organic Mexican Blend Finely Shredded Cheese'), 716),\n",
       " (('Sweet Onion', 'Organic Rainbow Carrots'), 128),\n",
       " (('Organic Cut Green Beans', 'Organic Cilantro'), 337),\n",
       " (('Organic Raspberries', 'Organic Fresh Basil'), 697),\n",
       " (('Organic Red Bell Pepper', 'Dressing, Jersey Sweet Onion, Calorie Free'),\n",
       "  195),\n",
       " (('Organic Red Bell Pepper', 'Banana'), 10437),\n",
       " (('Organic Blackberries', 'Organic Fresh Basil'), 217),\n",
       " (('Organic Blackberries', 'Grated Parmesan'), 737),\n",
       " (('Organic Fresh Basil', 'Organic Zucchini'), 1275),\n",
       " (('Organic Garlic', 'Organic No Salt Added Diced Tomatoes'), 883),\n",
       " (('Whole Wheat Crackers', 'Banana'), 743),\n",
       " (('Organic Yukon Gold Potato', 'Carrots'), 415),\n",
       " (('Organic Gala Apples', 'Organic Grade A Large Brown Eggs'), 536),\n",
       " (('Carrots', 'Organic Grade A Large Brown Eggs'), 486),\n",
       " (('Parmesan Couscous Mix', 'Organic Hass Avocado'), 307),\n",
       " (('Parmesan Couscous Mix', 'Yellow Onions'), 188),\n",
       " (('Organic Hass Avocado', 'Organic Whole Cashews'), 1306),\n",
       " (('Organic Hass Avocado', 'Organic Sunday Bacon'), 2176),\n",
       " (('Organic Hass Avocado', 'Milk, Vitamin D'), 490),\n",
       " (('Yellow Onions', 'Organic Whole Cashews'), 228),\n",
       " (('Organic Smoked Chicken Breast', 'Organic Tomato Cluster'), 113),\n",
       " (('Grated Parmesan', 'Honeycrisp Apple'), 1297),\n",
       " (('Organic Baby Spinach', 'Salted Butter'), 1319),\n",
       " (('Organic Sage', 'Extra Virgin Olive Oil'), 166),\n",
       " (('Clementines, Bag', 'Organic Baby Carrots'), 1635),\n",
       " (('Large Lemon', 'Kids Organic Chocolate Chip ZBars'), 565),\n",
       " (('Cucumber Kirby', 'Four Cheese Thin Crust Pizza'), 454),\n",
       " (('Creamy Deluxe Shells & Real Aged Cheddar Sauce', 'Organic Avocado'), 483),\n",
       " (('Organic Greek Plain Nonfat Yogurt', 'Broccoli Crown'), 173),\n",
       " (('Bartlett Pears', 'Romaine Lettuce'), 291),\n",
       " (('Ground Turkey Breast', 'Organic Creamy Peanut Butter'), 334),\n",
       " (('Ground Turkey Breast', 'Sour Cream'), 165),\n",
       " (('Ground Turkey Breast', 'Large Yellow Flesh Nectarine'), 154),\n",
       " (('Ground Turkey Breast', 'Broccoli Crown'), 687),\n",
       " (('Chicken & Maple Breakfast Sausage',\n",
       "   'Total 2% Lowfat Greek Strained Yogurt With Blueberry'),\n",
       "  178),\n",
       " (('Total 2% with Strawberry Lowfat Greek Strained Yogurt', 'Broccoli Crown'),\n",
       "  381),\n",
       " (('Traditional Hummus', 'Broccoli Crown'), 297),\n",
       " (('Sour Cream', 'Broccoli Crown'), 843),\n",
       " (('Original Rotisserie Chicken', 'Organic Whole Milk'), 459),\n",
       " (('Organic Red Bell Pepper', 'Gluten Free Whole Grain Bread'), 398),\n",
       " (('Gluten Free Whole Grain Bread', 'Organic Broccoli Florets'), 107),\n",
       " (('Organic Cucumber', 'Organic Baby Carrots'), 2715),\n",
       " (('Organic Whole Milk', 'Organic Garnet Sweet Potato (Yam)'), 2446),\n",
       " (('Organic Broccoli Florets', 'Ezekiel 4:9 Sprouted Grain Tortillas'), 154),\n",
       " (('Organic Blueberry Waffles', 'Organic Baby Carrots'), 357),\n",
       " (('Banana', 'Bolthouse Baby Carrots'), 880),\n",
       " (('Organic Mint', 'Vanilla Almond Breeze Almond Milk'), 202),\n",
       " (('Curate Melon Pomelo Sparking Water', 'Limes'), 271),\n",
       " (('Organic Ginger Root', 'Cage Free Large White Eggs'), 308),\n",
       " (('Pure Irish Butter', 'Organic Coconut Milk'), 578),\n",
       " (('Boneless Skinless Chicken Breast', 'Organic Coconut Milk'), 379),\n",
       " (('Kiwi Sandia Sparkling Water', 'Organic Garlic'), 260),\n",
       " (('Organic Garlic', 'Organic Jasmine Rice'), 204),\n",
       " (('Double Fiber Bread', 'Organic Small Bunch Celery'), 128),\n",
       " (('100% Recycled Paper Towels', 'Organic Grade A Large Brown Eggs'), 203),\n",
       " (('Organic Baby Carrots', 'Organic Whole Milk'), 2599),\n",
       " (('Crushed Tomatoes', 'Banana'), 2007),\n",
       " (('Organic Avocado', 'smartwater® Electrolyte Enhanced Water'), 224),\n",
       " (('Limes', 'Humboldt Fog'), 119),\n",
       " (('Organic Whole Grassmilk Milk', 'Organic Cucumber'), 725),\n",
       " (('Stage 1 Apples & Strawberries Organic Pureed Baby Food', 'Strawberries'),\n",
       "  160),\n",
       " (('Limes', 'Romaine Hearts'), 1599),\n",
       " (('Vegetarian Refried Beans', 'Strawberries'), 167),\n",
       " (('Banana', 'Red Plums'), 1760),\n",
       " (('Organic Baby Arugula',\n",
       "   'Total 2% All Natural Low Fat 2% Milkfat Greek Strained Yogurt'),\n",
       "  353),\n",
       " (('Organic Strawberries', 'Organic Red Radish, Bunch'), 162),\n",
       " (('Thin Crust Pepperoni Pizza', 'Penne Rigate'), 109),\n",
       " (('Thin Crust Pepperoni Pizza', 'Lightly Salted Baked Snap Pea Crisps'), 107),\n",
       " (('Organic Red Radish, Bunch', 'Organic Avocado'), 3283),\n",
       " (('Organic Avocado', 'Organic Low Sodium Chicken Cooking Stock'), 735),\n",
       " (('Organic Avocado', 'Organic Whipped Naturally Buttery Spread'), 647),\n",
       " (('Organic Garlic', 'Lightly Salted Baked Snap Pea Crisps'), 772),\n",
       " (('Penne Rigate', 'Organic Yellow Onion'), 375),\n",
       " (('Original Hummus', 'Organic Baby Kale Mix'), 459),\n",
       " (('Organic Baby Carrots', 'Organic Baby Kale Mix'), 198),\n",
       " (('Organic Cilantro', 'Philadelphia Original Cream Cheese'), 103),\n",
       " (('Chunky Medium Salsa', 'Bag of Organic Bananas'), 126),\n",
       " (('Elbow Macaroni Pasta', 'Bag of Organic Bananas'), 209),\n",
       " (('Bag of Organic Bananas', 'Organic Romaine Lettuce'), 6324),\n",
       " (('Tomato Ketchup', 'Black Beans'), 110),\n",
       " (('Tomato Ketchup', 'Organic Grape Tomatoes'), 366),\n",
       " (('Tomato Ketchup', 'Blueberries'), 402),\n",
       " (('Organic Extra Firm Tofu', 'Red Vine Tomato'), 1116),\n",
       " (('Red Leaf Lettuce', 'Organic Mexican Blend Finely Shredded Cheese'), 106),\n",
       " (('Organic Shells And White Cheddar', 'Large Lemon'), 139),\n",
       " (('Large Lemon', 'Purified Water'), 391),\n",
       " (('Organic Baby Arugula', 'Soft Pretzel Burger Buns'), 347),\n",
       " (('Soft Pretzel Burger Buns', 'Organic Large Extra Fancy Fuji Apple'), 234),\n",
       " (('Organic Large Extra Fancy Fuji Apple', 'Organic Romaine'), 1156),\n",
       " (('Dark Chocolate Frozen Dessert bars', 'Bag of Organic Bananas'), 156),\n",
       " (('Organic Tomato Paste', 'Organic Strawberries'), 1865),\n",
       " (('Organic Gala Apples', 'Whole Wheat Cookies Dark Chocolate'), 111),\n",
       " (('Organic Garlic', 'Sweet Potato Fries with Sea Salt'), 221),\n",
       " (('Total 2% All Natural Low Fat 2% Milkfat Greek Strained Yogurt',\n",
       "   'Organic Romaine'),\n",
       "  216),\n",
       " (('Unsalted Butter', 'Vanilla Almond Breeze Almond Milk'), 352),\n",
       " (('Organic Half & Half', 'Organic Grade A Large Brown Eggs'), 397),\n",
       " (('Organic Spring Mix', 'Organic Orange Juice'), 119),\n",
       " (('Organic California Sushi Rice', 'Organic Strawberries'), 247),\n",
       " (('Large Grapefruit', 'Tommy/Kent/Keitt/Haden Mango'), 214),\n",
       " (('Uncured Genoa Salami', 'Sugar Snap Peas'), 338),\n",
       " (('Uncured Genoa Salami', 'Organic Lemon'), 2149),\n",
       " (('Small Hass Avocado', 'Seedless Red Grapes'), 2496),\n",
       " (('Small Hass Avocado', 'Oven Roasted Turkey'), 562),\n",
       " (('Organic Chicken & Apple Sausage', 'Original Orange Juice'), 119),\n",
       " (('Organic Chicken & Apple Sausage', 'Organic Lemon'), 870),\n",
       " (('Sugar Snap Peas', 'Organic Spring Mix Salad'), 145),\n",
       " (('Fat Free Milk', 'Organic Lemon'), 523),\n",
       " (('Organic Large Grade AA Omega-3 Eggs', 'Asparagus'), 306),\n",
       " (('Original Hummus', 'Cheese Pizza Snacks'), 170),\n",
       " (('Original Hummus', 'Organic Grape Tomatoes'), 4364),\n",
       " (('Original Hummus', 'Asparagus'), 2712),\n",
       " (('Chicken Breast Tenders Breaded', 'Organic Baby Carrots'), 387),\n",
       " (('Chicken Breast Tenders Breaded', 'Red Peppers'), 151),\n",
       " (('Organic Grape Tomatoes', 'Oven Roasted Turkey'), 401),\n",
       " (('Organic Grape Tomatoes', 'Honeycrisp Apple'), 1969),\n",
       " (('Organic Grape Tomatoes', 'Red Peppers'), 2078),\n",
       " (('Original Orange Juice', 'Organic Lemon'), 123),\n",
       " (('Organic Baby Spinach', 'Cinnamon & Spice Instant Oatmeal'), 136),\n",
       " (('Oven Roasted Turkey', 'Organic Zucchini'), 709),\n",
       " (('Organic Brown Rice', 'Red Peppers'), 563),\n",
       " (('Cheddar Cheese Nut Thins Cracker Snacks', 'Banana'), 900),\n",
       " (('Organic Lemon', 'Organic Tarragon'), 315),\n",
       " (('Organic Spring Mix Salad', 'Banana'), 2480),\n",
       " (('Thick & Chunky Salsa', 'Seedless Red Grapes'), 110),\n",
       " (('Chicken Breast Tenders Breaded', 'Blueberries'), 111),\n",
       " (('Seedless Red Grapes', 'Uncured Pepperoni'), 265),\n",
       " (('Limes', 'Organic Wheat Square Crackers'), 491),\n",
       " (('Organic Basil', 'Mini Original Babybel Cheese'), 110),\n",
       " (('Organic Macaroni Shells & Real Aged Cheddar',\n",
       "   'Organic Wheat Square Crackers'),\n",
       "  101),\n",
       " (('Mini Original Babybel Cheese', 'Vanilla Almond Breeze Almond Milk'), 214),\n",
       " (('Cane Sugar', 'Organic Yellow Onion'), 723),\n",
       " (('Cut Tulips (Choose Color)', 'Organic Yellow Onion'), 118),\n",
       " (('Cut Tulips (Choose Color)', 'Banana'), 451),\n",
       " (('Honeycrisp Apple', 'Boneless Skinless Chicken Thighs'), 214),\n",
       " (('Coconut Yogurt', 'Organic Half & Half'), 106),\n",
       " (('Bag of Organic Bananas', 'Apple Lemon Cayenne Ginger'), 116),\n",
       " (('Unsweetened Almondmilk', 'Ancient Grain Original Granola'), 449),\n",
       " (('Organic YoBaby Vanilla Yogurt', 'Organic Hass Avocado'), 212),\n",
       " (('Organic Russet Potato', 'I Heart Baby Kale'), 267),\n",
       " (('Organic Russet Potato', 'YoBaby Blueberry Apple Yogurt'), 159),\n",
       " (('Organic Russet Potato', 'Organic Stoneground Wheat Crackers'), 107),\n",
       " (('Large Lemon', 'Organic Kiwi'), 3530),\n",
       " (('Jalapeno Peppers', 'Lime Sparkling Water'), 916),\n",
       " (('Organic Cilantro', 'Organic Coconut Milk'), 2789),\n",
       " (('Peach Pear Flavored Sparkling Water', 'Organic Coconut Milk'), 245),\n",
       " (('Red Potatoes', 'Red Vine Tomato'), 505),\n",
       " (('Organic Crimini Mushrooms', 'Golden Pineapple'), 135),\n",
       " (('Organic Avocado', 'Organic Greek Nonfat Yogurt With Mixed Berries'), 631),\n",
       " (('Organic Reduced Fat Milk', 'Spring Water'), 409),\n",
       " (('Total 2% All Natural Greek Strained Yogurt with Honey',\n",
       "   'Organic Original Hommus'),\n",
       "  167),\n",
       " (('Bag of Organic Bananas', 'Organic Mayonnaise'), 800),\n",
       " (('Organic Original Hommus', 'Organic Tomato Cluster'), 610),\n",
       " (('Pineapple Chunks', 'Goat Cheese Crumbles'), 186),\n",
       " (('Organic Unsweetened Almond Milk', 'Macaroni & Cheese'), 146),\n",
       " (('Organic Unsweetened Almond Milk', 'Organic Sour Cream'), 289),\n",
       " (('Organic Extra Firm Tofu', 'Organic Blueberries'), 603),\n",
       " (('Cantaloupe', 'Organic Avocado'), 2562),\n",
       " (('Shredded Mild Cheddar Cheese',\n",
       "   'Organic Sticks Low Moisture Part Skim Mozzarella String Cheese'),\n",
       "  784),\n",
       " (('YoKids Squeeze! Organic Strawberry Flavor Yogurt', 'Bartlett Pears'), 101),\n",
       " (('YoKids Squeeze! Organic Strawberry Flavor Yogurt',\n",
       "   'Organic Broccoli Florets'),\n",
       "  129),\n",
       " (('Green Bell Pepper', 'Seedless Red Grapes'), 1799),\n",
       " (('Green Bell Pepper', 'Organic Baby Carrots'), 1680),\n",
       " (('Macaroni Shells & White Cheddar Cheese', 'Seedless Red Grapes'), 374),\n",
       " (('Blueberry Whole Milk Yogurt Pouch', 'Bartlett Pears'), 100),\n",
       " (('Bartlett Pears', 'Baby Food Stage 2 Blueberry Pear & Purple Carrot'), 149),\n",
       " (('Whipped Cream Cheese', 'Organic YoKids Very Berry Smoothies'), 294),\n",
       " (('Whipped Cream Cheese', 'Banana'), 7710),\n",
       " (('Organic Whole Milk with DHA Omega-3', 'Organic Baby Carrots'), 287),\n",
       " (('Organic Broccoli Florets',\n",
       "   'Baby Food Stage 2 Blueberry Pear & Purple Carrot'),\n",
       "  207),\n",
       " (('Organic Baby Carrots', 'Edamame'), 121),\n",
       " (('Cucumber Kirby', 'Tahitian Vanilla Bean Gelato'), 197),\n",
       " (('Half & Half', 'Total 2% All Natural Greek Strained Yogurt with Honey'),\n",
       "  1295),\n",
       " (('Total 2% All Natural Greek Strained Yogurt with Honey',\n",
       "   'Organic Butterhead (Boston, Butter, Bibb) Lettuce'),\n",
       "  122),\n",
       " (('Curate Cherry Lime Sparkling Water', 'Total 0% Nonfat Greek Yogurt'), 101),\n",
       " (('Uncured Slow Cooked Ham', 'Organic Whole Milk'), 1180),\n",
       " (('Cinnamon Raisin Swirl Pre-Sliced Bagels', 'Banana'), 904),\n",
       " (('Limes', '100% Cranberry Juice'), 187),\n",
       " (('Jalapeno Peppers', 'Monterey Jack Cheese'), 267),\n",
       " (('Jalapeno Peppers', 'Carrots'), 2475),\n",
       " (('Organic White Pita Bread', 'Original Hummus'), 180),\n",
       " (('Macaroni & Cheese', 'Cucumber Kirby'), 453),\n",
       " (('Thick & Crispy Tortilla Chips', 'Carrots'), 346),\n",
       " (('Organic Avocado', 'Romaine Hearts'), 1394),\n",
       " (('Organic Jalapeno Pepper', 'Italian Extra Virgin Olive Oil'), 106),\n",
       " (('Garlic', 'Italian Extra Virgin Olive Oil'), 376),\n",
       " (('Fridge Pack Cola', 'Orange Sparkling Water'), 348),\n",
       " (('Organic Unsalted Butter', 'Organic Small Bunch Celery'), 1040),\n",
       " (('Organic Cilantro', 'Avocado Roll'), 127),\n",
       " (('Banana', 'Lemon Verbena Dish Soap'), 172),\n",
       " (('Organic Fuji Apples', 'Organic Baby Spinach'), 555),\n",
       " (('Organic Baby Spinach', 'Bunny-Luv Organic Carrots'), 295),\n",
       " (('Bay Leaves', 'Asparagus'), 110),\n",
       " (('Organic Spring Mix', 'Honeycrisp Apple'), 513),\n",
       " (('Organic Refined Coconut Oil', 'Honeycrisp Apple'), 138),\n",
       " (('Honeycrisp Apple', 'Raspberries'), 900),\n",
       " (('Organic Blueberries', '1% Lowfat Milk'), 829),\n",
       " (('Crackers Cheddar Bunnies Snack Packs', '1% Lowfat Milk'), 242),\n",
       " (('Organic Baby Carrots', 'Organic Whole Milk with DHA Omega-3'), 252),\n",
       " (('Organic Baby Spinach Salad', 'Organic Lite Coconut Milk'), 110),\n",
       " (('Shredded Mild Cheddar Cheese', 'Red Peppers'), 1011),\n",
       " (('Original Coconut Milk Beverage', 'Large Lemon'), 118),\n",
       " (('Fresh Cauliflower', 'Organic Jasmine Rice'), 171),\n",
       " (('Organic Leek', 'Strawberries'), 668),\n",
       " (('Jalapeno Peppers', 'Michigan Organic Kale'), 2451),\n",
       " (('Jalapeno Peppers', 'Organic Reduced Fat Milk'), 563),\n",
       " (('Organic Red Grapes', 'Organic Reduced Fat Milk'), 310),\n",
       " (('Organic Cilantro', 'Mild Diced Green Chiles'), 720),\n",
       " (('Organic Cilantro', 'Large Grapefruit'), 918),\n",
       " (('Organic Rolled Oats', 'Organic Avocado'), 608),\n",
       " (('Organic Rolled Oats', 'Organic Garlic'), 718),\n",
       " (('Total 2% All Natural Greek Strained Yogurt with Honey',\n",
       "   'Original No Pulp 100% Florida Orange Juice'),\n",
       "  299),\n",
       " (('Mandarin Oranges', 'Organic Gala Apples'), 372),\n",
       " (('Organic Gala Apples',\n",
       "   'Total 2% Lowfat Greek Strained Yogurt With Blueberry'),\n",
       "  1098),\n",
       " (('Mixed Fruit Fruit Snacks', 'Almonds'), 113),\n",
       " (('Yellow Onions', 'Cranberry Juice Cocktail'), 130),\n",
       " (('Unsalted Butter', 'Organic Fresh Basil'), 144),\n",
       " (('Crushed Tomatoes', 'Organic Garlic'), 1585),\n",
       " (('Organic Baby Rainbow Carrots', 'Hummus, Hope, Original Recipe'), 188),\n",
       " (('Large Alfresco Eggs', 'Unsweetened Almondmilk'), 870),\n",
       " (('Unsweetened Almondmilk', 'Baby Spinach'), 550),\n",
       " (('Boneless Skinless Chicken Breasts', 'Dark Chocolate Covered Banana'), 126),\n",
       " (('Boneless Skinless Chicken Breasts', 'Organic Roasted Turkey Breast'), 241),\n",
       " (('Orange Bell Pepper', 'Organic Whole Milk'), 763),\n",
       " (('Unsweetened Almondmilk', 'Apple Honeycrisp Organic'), 1218),\n",
       " (('Creamy Almond Butter', 'Brussels Sprouts'), 238),\n",
       " (('Organic Blueberries', 'Brussels Sprouts'), 1207),\n",
       " (('Organic Blueberries', 'Organic Grade A Free Range Large Brown Eggs'),\n",
       "  1114),\n",
       " (('Brussels Sprouts', 'Organic Grade A Free Range Large Brown Eggs'), 219),\n",
       " (('Brussels Sprouts', 'Organic Hothouse Cucumbers'), 243),\n",
       " (('1% Lowfat Milk', 'Organic Grade A Free Range Large Brown Eggs'), 203),\n",
       " (('Organic Grade A Free Range Large Brown Eggs',\n",
       "   'Organic Mexican Blend Finely Shredded Cheese'),\n",
       "  811),\n",
       " (('Organic Hothouse Cucumbers',\n",
       "   'Organic Mexican Blend Finely Shredded Cheese'),\n",
       "  255),\n",
       " (('Blueberry Muffin Bar', 'Coconut Cream Pie'), 536),\n",
       " (('Organic Quick Oats', 'Organic Reduced Fat Milk'), 345),\n",
       " (('Organic Quick Oats', 'Sea Salt Pita Chips'), 119),\n",
       " (('Blueberry Muffin Bar', 'Organic Baby Spinach'), 346),\n",
       " (('Oven Roasted Turkey Breast', 'Organic Whole Strawberries'), 249),\n",
       " (('Creamy Almond Butter', 'Organic Baby Spinach'), 3547),\n",
       " (('Organic Baby Carrots', 'Four Cheese Pasta Sauce'), 302),\n",
       " (('Organic Whole Strawberries', 'Four Cheese Pasta Sauce'), 150),\n",
       " (('Peanut Butter Cookie', 'Organic Baby Spinach'), 210),\n",
       " (('Guacamole', '100% Whole Wheat Bread'), 165),\n",
       " (('Organic Carrot Bunch', 'Brussels Sprouts'), 249),\n",
       " (('Watermelon Chunks', 'Bag of Organic Bananas'), 2480),\n",
       " (('Broccoli Floret', 'Whole White Mushrooms'), 104),\n",
       " (('Organic Cripps Pink Apples', \"Organic D'Anjou Pears\"), 359),\n",
       " (('Total 2% Lowfat Greek Strained Yogurt with Peach', 'Limes'), 807),\n",
       " (('Total Greek Strained Yogurt', 'Organic Green Leaf Lettuce'), 152),\n",
       " (('Total Greek Strained Yogurt', 'Honeycrisp Apple'), 593),\n",
       " (('Organic Distilled White Vinegar', 'Organic Jalapeno Pepper'), 148),\n",
       " (('Broccoli Crown', 'Red Vine Tomato'), 1755),\n",
       " (('Large Lemon', 'Organic Ground Turkey'), 418),\n",
       " (('Jalapeno Peppers', 'Pure Coconut Water'), 312),\n",
       " (('Jalapeno Peppers', 'Organic Sour Cream'), 1083),\n",
       " (('Jalapeno Peppers', 'Organic Great Northern Beans'), 201),\n",
       " (('Mild Diced Green Chiles', 'Organic Ginger Root'), 143),\n",
       " (('100% Recycled Paper Towels', 'Pure Coconut Water'), 307),\n",
       " (('Organic White Cheddar Popcorn', 'Sharp Cheddar Cheese'), 186),\n",
       " (('Organic Kiwi', 'Organic Celery Hearts'), 805),\n",
       " (('Natural Laundry Detergent, Free & Clear 33',\n",
       "   'Natural Free & Clear Dish Liquid'),\n",
       "  116),\n",
       " (('Apples, Pumpkin & Carrots Organic Baby Food',\n",
       "   'Apples, Guavas & Beets Organic Baby Food'),\n",
       "  346),\n",
       " (('Peach', 'Organic Baby Carrots'), 112),\n",
       " (('Original Real Vegetable Chips', 'Organic Blue Corn Tortilla Chips'), 142),\n",
       " (('Yogurt, Lowfat, Strawberry', 'Organic Lowfat Yogurt Banana Vanilla'), 405),\n",
       " (('Super Greens Salad', 'Cage Free Large White Eggs'), 169),\n",
       " (('Uncured Genoa Salami', 'Organic 1% Low Fat Milk'), 274),\n",
       " (('Organic American Cheese Singles', 'Organic Sour Cream'), 310),\n",
       " (('Organic Baby Broccoli', 'Bag of Organic Bananas'), 3439),\n",
       " (('Organic Baby Broccoli', 'Organic Peeled Whole Baby Carrots'), 961),\n",
       " (('Pink Lady Apple Kombucha', 'Organic Lemon'), 169),\n",
       " (('Taco Seasoning', 'Asparagus'), 433),\n",
       " (('Diet Orange Diet CSD', 'Fridge Pack Cola'), 130),\n",
       " (('Fat Free Milk', 'Organic Carrot Bunch'), 118),\n",
       " (('Oven Roasted Turkey Breast', 'Soft & Smooth Whole Grain White Bread'),\n",
       "  105),\n",
       " (('Organic Lemon', 'Spring Water'), 542),\n",
       " (('Half & Half', 'Organic Cheddar Bunnies'), 146),\n",
       " (('Organic Yellow Onion', 'Bread Co Pain Au Levain'), 100),\n",
       " (('Michigan Organic Kale', 'Sweet Potato Yam'), 210),\n",
       " (('Tomatillo', 'Organic Grape Tomatoes'), 125),\n",
       " (('Natural Premium Coconut Water', 'Bunched Cilantro'), 102),\n",
       " (('Natural Premium Coconut Water', 'Large Lemon'), 332),\n",
       " (('85% Lean Ground Beef', '2% Reduced Fat Milk'), 180),\n",
       " (('Smooth Operator Natural Peanut Butter', 'Organic Strawberries'), 294),\n",
       " (('Organic Bartlett Pear', 'Sour Cream'), 145),\n",
       " (('Organic Bartlett Pear', 'Red Potatoes'), 115),\n",
       " (('Sour Cream', 'Organic Tomato Cluster'), 401),\n",
       " (('Potato Puffs with Roasted Garlic and Cracked Black Pepper',\n",
       "   'Organic Strawberries'),\n",
       "  266),\n",
       " (('Organic Granny Smith Apple', 'Organic Large Extra Fancy Fuji Apple'),\n",
       "  1071),\n",
       " (('Organic Blueberries', 'Fresh Frozen Wild Blueberries'), 119),\n",
       " (('Bing Cherries', 'White Peach'), 479),\n",
       " (('Lime Sparkling Water', 'Carrots'), 1130),\n",
       " (('Original Applesauce', 'Banana'), 570),\n",
       " (('Garden Salad Mix', 'Wheat Sandwich Bread'), 139),\n",
       " (('Unsalted Pure Irish Butter', 'Sparkling Water Grapefruit'), 610),\n",
       " (('Unsalted Pure Irish Butter',\n",
       "   'Total 2% with Strawberry Lowfat Greek Strained Yogurt'),\n",
       "  176),\n",
       " (('Organic Multigrain Waffles', 'Whipped Cream Cheese'), 263),\n",
       " (('Organic Roasted Turkey Breast', 'Organic Tomato Basil Sauce'), 100),\n",
       " (('Panda Puffs Peanut Butter Cereal', 'Whipped Cream Cheese'), 128),\n",
       " (('Organic Avocado', 'Thin & Light Tortilla Chips'), 378),\n",
       " (('Whipped Cream Cheese', 'Organic Baby Spinach'), 4305),\n",
       " (('Whipped Cream Cheese', 'Frozen Organic Wild Blueberries'), 475),\n",
       " (('Sparkling Water Grapefruit', 'Thin & Light Tortilla Chips'), 219),\n",
       " (('Total 2% with Strawberry Lowfat Greek Strained Yogurt',\n",
       "   'Organic Baby Spinach'),\n",
       "  2683),\n",
       " (('Frozen Organic Wild Blueberries',\n",
       "   'Total 2% Greek Strained Yogurt with Cherry 5.3 oz'),\n",
       "  115),\n",
       " ...]"
      ]
     },
     "execution_count": 34,
     "metadata": {},
     "output_type": "execute_result"
    }
   ],
   "execution_count": 34
  },
  {
   "metadata": {
    "ExecuteTime": {
     "end_time": "2024-10-06T23:13:27.268986Z",
     "start_time": "2024-10-06T23:13:27.265743Z"
    }
   },
   "cell_type": "code",
   "source": [
    "del(pair_counts_names)"
   ],
   "id": "db7520befaa0394c",
   "outputs": [],
   "execution_count": 35
  },
  {
   "metadata": {},
   "cell_type": "markdown",
   "source": [
    "Next, lets look at only pairs containing large_lemon products"
   ],
   "id": "8ff2f5f5958ba6b0"
  },
  {
   "metadata": {
    "ExecuteTime": {
     "end_time": "2024-10-06T23:15:18.304742Z",
     "start_time": "2024-10-06T23:13:27.269986Z"
    }
   },
   "cell_type": "code",
   "source": [
    "# Filter pair_counts for pairs where either product is a large lemon product\n",
    "lemon_pair_counts = pair_counts.filter(lambda pair_count: pair_count[0][0] in large_lemon_ids or pair_count[0][1] in large_lemon_ids)\n",
    "\n",
    "# Sort by count\n",
    "lemon_pair_counts = lemon_pair_counts.sortBy(lambda x: x[1], ascending=False)\n",
    "\n",
    "lemon_pair_counts.take(5)"
   ],
   "id": "2a3bad3c4f01c2cf",
   "outputs": [
    {
     "data": {
      "text/plain": [
       "[(('47626', '24852'), 40775),\n",
       " (('47626', '21903'), 22413),\n",
       " (('47626', '24964'), 15307),\n",
       " (('47626', '21137'), 15110),\n",
       " (('47209', '47626'), 14851)]"
      ]
     },
     "execution_count": 36,
     "metadata": {},
     "output_type": "execute_result"
    }
   ],
   "execution_count": 36
  },
  {
   "metadata": {},
   "cell_type": "markdown",
   "source": [
    "Let's inspect these by name."
   ],
   "id": "c384684366ac5a25"
  },
  {
   "metadata": {
    "ExecuteTime": {
     "end_time": "2024-10-06T23:15:34.077609Z",
     "start_time": "2024-10-06T23:15:18.309721Z"
    }
   },
   "cell_type": "code",
   "source": [
    "# Convert the product_ids to names for inspection\n",
    "\n",
    "top_lemon_pair_names = [\n",
    "    (\n",
    "        (product_id_to_name.get(int(pair_count[0][0]), pair_count[0][0]),  # Get name for first product_id\n",
    "         product_id_to_name.get(int(pair_count[0][1]), pair_count[0][1])),  # Get name for second product_id\n",
    "        pair_count[1]  # Keep count value \n",
    "    )\n",
    "    for pair_count in lemon_pair_counts.top(10, key=lambda x: x[1])  # Top 10 large lemon pairs\n",
    "]\n",
    "\n",
    "top_lemon_pair_names"
   ],
   "id": "68b8f60f054772d6",
   "outputs": [
    {
     "data": {
      "text/plain": [
       "[(('Large Lemon', 'Banana'), 40775),\n",
       " (('Large Lemon', 'Organic Baby Spinach'), 22413),\n",
       " (('Large Lemon', 'Organic Garlic'), 15307),\n",
       " (('Large Lemon', 'Organic Strawberries'), 15110),\n",
       " (('Organic Hass Avocado', 'Large Lemon'), 14851),\n",
       " (('Limes', 'Large Lemon'), 13952),\n",
       " (('Large Lemon', 'Limes'), 13451),\n",
       " (('Organic Avocado', 'Large Lemon'), 13099),\n",
       " (('Large Lemon', 'Organic Avocado'), 11318),\n",
       " (('Large Lemon', 'Organic Zucchini'), 10875)]"
      ]
     },
     "execution_count": 37,
     "metadata": {},
     "output_type": "execute_result"
    }
   ],
   "execution_count": 37
  },
  {
   "metadata": {
    "ExecuteTime": {
     "end_time": "2024-10-06T23:15:34.085098Z",
     "start_time": "2024-10-06T23:15:34.080596Z"
    }
   },
   "cell_type": "code",
   "source": [
    "del(lemon_pair_counts)"
   ],
   "id": "2765f658c39f2a30",
   "outputs": [],
   "execution_count": 38
  },
  {
   "metadata": {},
   "cell_type": "markdown",
   "source": [
    "It looks like large lemons are often bought alongside other frequently purchased items, this may be less informative than looking at pairs where the other item is less commonly purchased. For instance, there may not be much predictive information in the fact that large lemons and bananas (both among the top 10 most commonly purchased items individually) are very often purchased together."
   ],
   "id": "4ce64f9f6a4c0797"
  },
  {
   "metadata": {},
   "cell_type": "markdown",
   "source": [
    "pair_counts == doubles_support form notes.\n",
    "\n",
    "For inspection, transform the RDD to have three elements: item_1, item_2, count"
   ],
   "id": "e0cbd041eef43d1b"
  },
  {
   "metadata": {
    "ExecuteTime": {
     "end_time": "2024-10-06T23:15:34.093588Z",
     "start_time": "2024-10-06T23:15:34.088084Z"
    }
   },
   "cell_type": "code",
   "source": [
    "# # Widen to 3-tuple\n",
    "# pair_counts_wide = pair_counts.map(lambda x: (x[0][0], x[0][1], x[1]))\n",
    "# \n",
    "# # Make item_1 key for the purpose of joining\n",
    "# pair_counts_wide_names = pair_counts_wide.map(lambda x: (x[0], (x[1], x[2])))\n",
    "# # Results in shape (item_1, (item_2, count))\n",
    "# \n",
    "# # Join to get product_name for item_1\n",
    "# pair_counts_wide_names = pair_counts_wide_names.join(products_baskets)\n",
    "# # Results in shape (item_1, ((item_2, count), product_name_1))\n",
    "# \n",
    "# # Map result to get the product_name for item_1\n",
    "# pair_counts_wide_names = pair_counts_wide_names.map(lambda x: (x[1][0][0], (x[1][1], x[1][0][1])))\n",
    "# # Results in shape (item_2, (product_name_1, count))\n",
    "# \n",
    "# # Join for item_2\n",
    "# pair_counts_wide_names = pair_counts_wide_names.join(products_baskets)\n",
    "# # Results in shape (item_2, (product_name_1, count), product_name_2)\n",
    "# \n",
    "# # Map result to get the product_name for item_2\n",
    "# pair_counts_wide_names = pair_counts_wide_names.map(lambda x: (x[1][0][0], x[1][1], x[1][0][1]))\n",
    "# # Results in shape (product_name_1, product_name_2, count)\n",
    "# \n",
    "# # Collect as pandas df\n",
    "# pair_counts_wide_names_df = spark.createDataFrame(pair_counts_wide_names, schema=[\"product_name_1\", \"product_name_2\", \"count\"]).toPandas()\n",
    "# \n",
    "# # Sort descending by count\n",
    "# pair_counts_wide_names_df.sort_values(by='count', ascending=False, inplace=True)\n",
    "# \n",
    "# # Top 10 pairs\n",
    "# pair_counts_wide_names_df[:10]"
   ],
   "id": "f9ed5e2668ca59aa",
   "outputs": [],
   "execution_count": 39
  },
  {
   "metadata": {
    "ExecuteTime": {
     "end_time": "2024-10-06T23:15:34.100017Z",
     "start_time": "2024-10-06T23:15:34.096088Z"
    }
   },
   "cell_type": "code",
   "source": [
    "del(products_baskets)"
   ],
   "id": "fee9407261fd8e45",
   "outputs": [],
   "execution_count": 40
  },
  {
   "metadata": {},
   "cell_type": "markdown",
   "source": [
    "The above code produces a neat df of pairs with both the actual name of each item and counts of each pair. \n",
    "\n",
    "Unfortunately, I had written the above on a more powerful workstation and didn't realize this cell would overburden the small laptop where I'm now working. Don't attempt to run the above unless you have something like a recent i9 and 16+GB RAM."
   ],
   "id": "5c4c2ca7c1a3da09"
  },
  {
   "metadata": {},
   "cell_type": "markdown",
   "source": [
    "Lastly, I use the confidence_doubles_helper function to produce association rules"
   ],
   "id": "91c2af4a80a4f226"
  },
  {
   "metadata": {
    "ExecuteTime": {
     "end_time": "2024-10-06T23:15:48.061610Z",
     "start_time": "2024-10-06T23:15:34.103995Z"
    }
   },
   "cell_type": "code",
   "source": [
    "def confidence_doubles_helper(double_support):\n",
    "    double, support = double_support\n",
    "    support = float(support)\n",
    "    u, v = double\n",
    "    uv_conf = support / product_counts[u]\n",
    "    vu_conf = support / product_counts[v]\n",
    "    return (('%s -> %s' % (u, v), uv_conf),\n",
    "            ('%s -> %s' % (v, u), vu_conf))\n",
    "\n",
    "doubles_conf = pair_counts.flatMap(confidence_doubles_helper)\n",
    "doubles_conf.take(5)"
   ],
   "id": "b9d03c4e1f49bcc",
   "outputs": [
    {
     "data": {
      "text/plain": [
       "[('47766 -> 43394', 0.0019455362949975963),\n",
       " ('43394 -> 47766', 0.040580394007313905),\n",
       " ('28849 -> 37766', 0.005980518550350953),\n",
       " ('37766 -> 28849', 0.010609911054637865),\n",
       " ('28849 -> 10017', 0.012569832402234637)]"
      ]
     },
     "execution_count": 41,
     "metadata": {},
     "output_type": "execute_result"
    }
   ],
   "execution_count": 41
  },
  {
   "metadata": {},
   "cell_type": "markdown",
   "source": [
    "We now have our association rules for each item in our dataset. But I would also like to look at only association rules where either item is among large lemon products."
   ],
   "id": "9a794b59a22c0582"
  },
  {
   "metadata": {
    "ExecuteTime": {
     "end_time": "2024-10-06T23:16:02.354654Z",
     "start_time": "2024-10-06T23:15:48.063599Z"
    }
   },
   "cell_type": "code",
   "source": [
    "# Filter doubles_conf to include only pairs where either product is in large_lemon_ids\n",
    "lemon_doubles_conf = doubles_conf.filter(lambda x: any(id in x[0] \n",
    "                                                          for id in large_lemon_ids))\n",
    "\n",
    "# Take the top 5 results\n",
    "lemon_doubles_conf.take(5)"
   ],
   "id": "6122e62d9bec0fc7",
   "outputs": [
    {
     "data": {
      "text/plain": [
       "[('47626 -> 30918', 0.0010350000327531655),\n",
       " ('30918 -> 47626', 0.1070460704607046),\n",
       " ('43768 -> 47626', 0.07982726184368052),\n",
       " ('47626 -> 43768', 0.01223003203259595),\n",
       " ('47626 -> 34745', 0.0007991772404802925)]"
      ]
     },
     "execution_count": 42,
     "metadata": {},
     "output_type": "execute_result"
    }
   ],
   "execution_count": 42
  },
  {
   "metadata": {},
   "cell_type": "markdown",
   "source": [
    "For use in my predictive modeling, I produce an RDD of association rules for when large_lemon_products are the second item."
   ],
   "id": "2d45ce222d1ff21a"
  },
  {
   "metadata": {
    "ExecuteTime": {
     "end_time": "2024-10-06T23:16:16.779606Z",
     "start_time": "2024-10-06T23:16:02.356648Z"
    }
   },
   "cell_type": "code",
   "source": [
    "# Function to check if the second item is a large lemon product\n",
    "def second_item_is_large_lemon(rule):\n",
    "    # Split by ' -> ' to get the two product_ids\n",
    "    second_product_id = rule.split(' -> ')[1]\n",
    "    # Check if second is in large_lemon_ids\n",
    "    return second_product_id in large_lemon_ids\n",
    "\n",
    "# Function to get first product_id\n",
    "def first_product_in_pair(rule):\n",
    "    # Split the rule string by ' -> ' and return only the first product ID\n",
    "    return rule.split(' -> ')[0]\n",
    "\n",
    "# Filter doubles_conf and update the tuple to contain only the first product ID\n",
    "lemon_first_doubles_conf = doubles_conf.filter(\n",
    "    lambda x: second_item_is_large_lemon(x[0])  # Filter by second item being a large lemon product\n",
    ").map(lambda x: (first_product_in_pair(x[0]), x[1]))  # Extract first product ID and keep the confidence score\n",
    "\n",
    "# Take the top 5 results\n",
    "lemon_first_doubles_conf.take(5)"
   ],
   "id": "3f9db5246ed126be",
   "outputs": [
    {
     "data": {
      "text/plain": [
       "[('30918', 0.1070460704607046),\n",
       " ('43768', 0.07982726184368052),\n",
       " ('34745', 0.04386911183027688),\n",
       " ('4799', 0.09913378248315688),\n",
       " ('47766', 0.06401040635692673)]"
      ]
     },
     "execution_count": 43,
     "metadata": {},
     "output_type": "execute_result"
    }
   ],
   "execution_count": 43
  },
  {
   "metadata": {
    "ExecuteTime": {
     "end_time": "2024-10-06T23:16:16.785806Z",
     "start_time": "2024-10-06T23:16:16.781601Z"
    }
   },
   "cell_type": "code",
   "source": [
    "del(doubles_conf)"
   ],
   "id": "27351f84fdf8a9e0",
   "outputs": [],
   "execution_count": 44
  },
  {
   "metadata": {},
   "cell_type": "markdown",
   "source": [
    "I kept using IDs and converting to names only when I wanted to inspect because I was under the impression that shorter strings might mean more efficient processing, but I've now gotten into a situation where I want to inspect something that will require replacing substrings with some regex. The following took a bit of trial and error. I'm curious what the tradeoff in execution time would have been had I just replaced all product_ids with product_name at the beginning and forged forward with those values instead of having to convert incessantly."
   ],
   "id": "7e2455c81e4cee7e"
  },
  {
   "metadata": {
    "ExecuteTime": {
     "end_time": "2024-10-06T23:16:57.733863Z",
     "start_time": "2024-10-06T23:16:16.787792Z"
    }
   },
   "cell_type": "code",
   "source": [
    "# Replace product_ids with product_names\n",
    "\n",
    "lemon_doubles_conf_names = [\n",
    "    (\n",
    "        ('%s -> %s' % (  # Replace ' -> ' string after operation\n",
    "            product_id_to_name.get(int(rule.split(' -> ')[0])),  # First product (split on ' -> ' and look up name by id)\n",
    "            product_id_to_name.get(int(rule.split(' -> ')[1]))   # Second product (split on ' -> ' and look up name by id)\n",
    "        )),\n",
    "        confidence  # Keep confidence val\n",
    "    )\n",
    "    for rule, confidence in lemon_doubles_conf.collect()\n",
    "]\n",
    "\n",
    "# Sort\n",
    "lemon_doubles_conf_names.sort(key=lambda x: x[1], reverse=True)\n",
    "\n",
    "# Output the result\n",
    "lemon_doubles_conf_names[:10]"
   ],
   "id": "6c2f240dcdd5926",
   "outputs": [
    {
     "data": {
      "text/plain": [
       "[('Flat Fillet Anchovies in Olive Oil with Salt Added -> Large Lemon',\n",
       "  0.2910569105691057),\n",
       " ('Large Lemon -> Banana', 0.26710206541462234),\n",
       " ('Unsalted Vegetable Cooking Stock -> Large Lemon', 0.26405867970660146),\n",
       " ('Capers -> Large Lemon', 0.2490272373540856),\n",
       " ('Chick Peas Reduced Sodium Garbanzos -> Large Lemon', 0.24109014675052412),\n",
       " ('Organic Bagged Carrots -> Large Lemon', 0.23135333741579914),\n",
       " ('4% Milkfat Cottage Cheese Small Curd 22 OZ -> Large Lemon',\n",
       "  0.22141560798548093),\n",
       " ('Original Cooking Chicken Stock -> Large Lemon', 0.22122762148337596),\n",
       " ('Wild Caught Anchovy Paste -> Large Lemon', 0.21904761904761905),\n",
       " ('Sweet Grape Tomatoes -> Large Lemon', 0.2178714859437751)]"
      ]
     },
     "execution_count": 45,
     "metadata": {},
     "output_type": "execute_result"
    }
   ],
   "execution_count": 45
  },
  {
   "metadata": {
    "ExecuteTime": {
     "end_time": "2024-10-06T23:16:57.743837Z",
     "start_time": "2024-10-06T23:16:57.736855Z"
    }
   },
   "cell_type": "code",
   "source": [
    "del(lemon_doubles_conf_names, lemon_doubles_conf)"
   ],
   "id": "289da7a108158593",
   "outputs": [],
   "execution_count": 46
  },
  {
   "metadata": {},
   "cell_type": "markdown",
   "source": [
    "The strongest association rules suggest that customers:\n",
    "Frequently buy large lemon products when they are also buying anchovy products, vegetables, capers, chick peas, cottage cheese, chicken stock, and grape tomatoes.\n",
    "When buying large lemon products, frequently buy bananas."
   ],
   "id": "5383d152feb4f4c"
  },
  {
   "metadata": {},
   "cell_type": "markdown",
   "source": [
    "#  Part C: Predictive Modeling\n",
    "### Using “order_products__prior.csv” to train a model and “order_products__train.csv” ONLY for scoring, train a model to predict if large lemons (hint: careful here) will be in an order (for all orders in “order_products__train.csv”) given the other items in the order and any other information in the other datasets provided. Please provide commentary and rationale for everything you are doing."
   ],
   "id": "fe413fddc0c232ec"
  },
  {
   "metadata": {},
   "cell_type": "markdown",
   "source": [
    "Now, I want to aggregate down to one row per order, but that will require deciding how to widen product_id. My first thoughts are to either one-hot encode and have a column for every possible product as is done in the workbook (~50,000 columns * every additional column for each product), or to have a column for each subsequent item in an order (e.g. product_1, product_2, ... product_n), but that will potentially introduce ordinality where we don't necessarily want it. My workaround is to use the additional data to produce a df where the other products in an order contribute their confidence score towards lemons. \n",
    "\n",
    "I could also produce a single column from all the product_ids that is the cumulative sum confidence score based on all the other items in an order that the next item will be a large lemon product based on the other items in an order (along with a binary feature for whether the user associated with an order has ordered lemons before, a single feature for whether the order contains any reorders/how many, etc.), but this could muddle the add_to_cart_order, which would determine whether lemon product comes before or after, meaning a different confidence score. extra processing to determine whether a product is being added to cart before or after lemons (two different confidence scores). \n",
    "\n",
    "I'm not sure if this is violating the directions, but at this point, I've written & deleted most of the code for all 3 of these approaches and it's probably safe to say I'm overthinking this."
   ],
   "id": "a9341bfb28b80bcf"
  },
  {
   "metadata": {},
   "cell_type": "markdown",
   "source": [
    "First I merge in our additional data. I'm assuming it's ok to start working with pandas dfs here, since that is what is done in the workbooks."
   ],
   "id": "d2f865058de36044"
  },
  {
   "metadata": {
    "ExecuteTime": {
     "end_time": "2024-10-07T00:58:57.301655Z",
     "start_time": "2024-10-07T00:58:57.298913Z"
    }
   },
   "cell_type": "code",
   "source": [
    "# del(order_products__prior_for_model)"
   ],
   "id": "403f40ff0fdcf490",
   "outputs": [],
   "execution_count": 178
  },
  {
   "metadata": {
    "ExecuteTime": {
     "end_time": "2024-10-07T00:59:19.822109Z",
     "start_time": "2024-10-07T00:58:58.121749Z"
    }
   },
   "cell_type": "code",
   "source": [
    "# Merge order data\n",
    "order_products__prior_for_model = order_products__prior.merge(orders, \n",
    "                                                    on=\"order_id\", \n",
    "                                                    how='left')\n",
    "\n",
    "# Merge product data\n",
    "order_products__prior_for_model = order_products__prior_for_model.merge(products, \n",
    "                                                    on=\"product_id\", \n",
    "                                                    how='left')\n",
    "\n",
    "# Drop product_name because it is colinear with product_id\n",
    "order_products__prior_for_model.drop(\"product_name\", \n",
    "                           axis=1, \n",
    "                           inplace=True)\n",
    "\n",
    "order_products__prior_for_model.drop(\"eval_set\",\n",
    "                                     axis=1,\n",
    "                                     inplace=True)\n",
    "\n",
    "order_products__prior_for_model.head()"
   ],
   "id": "9966522e4fd06377",
   "outputs": [
    {
     "data": {
      "text/plain": [
       "   order_id  product_id  add_to_cart_order  reordered  user_id  order_number  \\\n",
       "0         2       33120                  1          1   202279             3   \n",
       "1         2       28985                  2          1   202279             3   \n",
       "2         2        9327                  3          0   202279             3   \n",
       "3         2       45918                  4          1   202279             3   \n",
       "4         2       30035                  5          0   202279             3   \n",
       "\n",
       "   order_dow  order_hour_of_day  days_since_prior_order  aisle_id  \\\n",
       "0          5                  9                     8.0        86   \n",
       "1          5                  9                     8.0        83   \n",
       "2          5                  9                     8.0       104   \n",
       "3          5                  9                     8.0        19   \n",
       "4          5                  9                     8.0        17   \n",
       "\n",
       "   department_id  \n",
       "0             16  \n",
       "1              4  \n",
       "2             13  \n",
       "3             13  \n",
       "4             13  "
      ],
      "text/html": [
       "<div>\n",
       "<style scoped>\n",
       "    .dataframe tbody tr th:only-of-type {\n",
       "        vertical-align: middle;\n",
       "    }\n",
       "\n",
       "    .dataframe tbody tr th {\n",
       "        vertical-align: top;\n",
       "    }\n",
       "\n",
       "    .dataframe thead th {\n",
       "        text-align: right;\n",
       "    }\n",
       "</style>\n",
       "<table border=\"1\" class=\"dataframe\">\n",
       "  <thead>\n",
       "    <tr style=\"text-align: right;\">\n",
       "      <th></th>\n",
       "      <th>order_id</th>\n",
       "      <th>product_id</th>\n",
       "      <th>add_to_cart_order</th>\n",
       "      <th>reordered</th>\n",
       "      <th>user_id</th>\n",
       "      <th>order_number</th>\n",
       "      <th>order_dow</th>\n",
       "      <th>order_hour_of_day</th>\n",
       "      <th>days_since_prior_order</th>\n",
       "      <th>aisle_id</th>\n",
       "      <th>department_id</th>\n",
       "    </tr>\n",
       "  </thead>\n",
       "  <tbody>\n",
       "    <tr>\n",
       "      <th>0</th>\n",
       "      <td>2</td>\n",
       "      <td>33120</td>\n",
       "      <td>1</td>\n",
       "      <td>1</td>\n",
       "      <td>202279</td>\n",
       "      <td>3</td>\n",
       "      <td>5</td>\n",
       "      <td>9</td>\n",
       "      <td>8.0</td>\n",
       "      <td>86</td>\n",
       "      <td>16</td>\n",
       "    </tr>\n",
       "    <tr>\n",
       "      <th>1</th>\n",
       "      <td>2</td>\n",
       "      <td>28985</td>\n",
       "      <td>2</td>\n",
       "      <td>1</td>\n",
       "      <td>202279</td>\n",
       "      <td>3</td>\n",
       "      <td>5</td>\n",
       "      <td>9</td>\n",
       "      <td>8.0</td>\n",
       "      <td>83</td>\n",
       "      <td>4</td>\n",
       "    </tr>\n",
       "    <tr>\n",
       "      <th>2</th>\n",
       "      <td>2</td>\n",
       "      <td>9327</td>\n",
       "      <td>3</td>\n",
       "      <td>0</td>\n",
       "      <td>202279</td>\n",
       "      <td>3</td>\n",
       "      <td>5</td>\n",
       "      <td>9</td>\n",
       "      <td>8.0</td>\n",
       "      <td>104</td>\n",
       "      <td>13</td>\n",
       "    </tr>\n",
       "    <tr>\n",
       "      <th>3</th>\n",
       "      <td>2</td>\n",
       "      <td>45918</td>\n",
       "      <td>4</td>\n",
       "      <td>1</td>\n",
       "      <td>202279</td>\n",
       "      <td>3</td>\n",
       "      <td>5</td>\n",
       "      <td>9</td>\n",
       "      <td>8.0</td>\n",
       "      <td>19</td>\n",
       "      <td>13</td>\n",
       "    </tr>\n",
       "    <tr>\n",
       "      <th>4</th>\n",
       "      <td>2</td>\n",
       "      <td>30035</td>\n",
       "      <td>5</td>\n",
       "      <td>0</td>\n",
       "      <td>202279</td>\n",
       "      <td>3</td>\n",
       "      <td>5</td>\n",
       "      <td>9</td>\n",
       "      <td>8.0</td>\n",
       "      <td>17</td>\n",
       "      <td>13</td>\n",
       "    </tr>\n",
       "  </tbody>\n",
       "</table>\n",
       "</div>"
      ]
     },
     "execution_count": 179,
     "metadata": {},
     "output_type": "execute_result"
    }
   ],
   "execution_count": 179
  },
  {
   "metadata": {},
   "cell_type": "markdown",
   "source": [
    "Now, I take it we want to predict whether a large lemon product will be added to an order based on what has already been added to the cart. So, I need to drop from my training data all rows for products that were added to an order *after* a large_lemon product. This will also help circumvent the problem of determining direction in the training data, which does not contain rows for large lemon products. Another option would be to take the average confidence score per pair between both directions, but I'm afraid that will lose more information than this method."
   ],
   "id": "2cacb82eaaf89248"
  },
  {
   "metadata": {
    "ExecuteTime": {
     "end_time": "2024-10-07T00:59:32.812501Z",
     "start_time": "2024-10-07T00:59:19.865965Z"
    }
   },
   "cell_type": "code",
   "source": [
    "large_lemon_ids_int = [9434,47626]\n",
    "\n",
    "# Create mask for large lemon products\n",
    "is_large_lemon = order_products__prior_for_model['product_id'].isin(large_lemon_ids_int)\n",
    "\n",
    "# Find the min add_to_cart_order of large lemon products within each order\n",
    "large_lemon_orders = order_products__prior_for_model[is_large_lemon].groupby('order_id')['add_to_cart_order'].min().reset_index()\n",
    "large_lemon_orders.columns = ['order_id', 'large_lemon_add_to_cart_order']\n",
    "\n",
    "# Merge large lemon add_to_cart_order back to the original DataFrame\n",
    "order_products_with_lemon_order = order_products__prior_for_model.merge(large_lemon_orders, \n",
    "                                                                        on='order_id', \n",
    "                                                                        how='left')\n",
    "\n",
    "# Drop rows where add_to_cart_order is greater than the large lemon add_to_cart_order\n",
    "# also ake sure large_lemon_add_to_cart_order is not null\n",
    "order_products__prior_for_model = order_products_with_lemon_order[\n",
    "    (order_products_with_lemon_order['add_to_cart_order'] <= order_products_with_lemon_order['large_lemon_add_to_cart_order']) |\n",
    "    (order_products_with_lemon_order['large_lemon_add_to_cart_order'].isnull())\n",
    "    ]\n",
    "\n",
    "# Drop extra large_lemon_add_to_cart_order col\n",
    "order_products__prior_for_model.drop('large_lemon_add_to_cart_order', \n",
    "                                     axis=1, \n",
    "                                     inplace=True)\n",
    "\n",
    "order_products__prior_for_model.head()"
   ],
   "id": "bdb96191cb92a4f7",
   "outputs": [
    {
     "name": "stderr",
     "output_type": "stream",
     "text": [
      "C:\\Users\\rmcne\\AppData\\Local\\Temp\\ipykernel_10328\\850312629.py:23: SettingWithCopyWarning: \n",
      "A value is trying to be set on a copy of a slice from a DataFrame\n",
      "\n",
      "See the caveats in the documentation: https://pandas.pydata.org/pandas-docs/stable/user_guide/indexing.html#returning-a-view-versus-a-copy\n",
      "  order_products__prior_for_model.drop('large_lemon_add_to_cart_order',\n"
     ]
    },
    {
     "data": {
      "text/plain": [
       "   order_id  product_id  add_to_cart_order  reordered  user_id  order_number  \\\n",
       "0         2       33120                  1          1   202279             3   \n",
       "1         2       28985                  2          1   202279             3   \n",
       "2         2        9327                  3          0   202279             3   \n",
       "3         2       45918                  4          1   202279             3   \n",
       "4         2       30035                  5          0   202279             3   \n",
       "\n",
       "   order_dow  order_hour_of_day  days_since_prior_order  aisle_id  \\\n",
       "0          5                  9                     8.0        86   \n",
       "1          5                  9                     8.0        83   \n",
       "2          5                  9                     8.0       104   \n",
       "3          5                  9                     8.0        19   \n",
       "4          5                  9                     8.0        17   \n",
       "\n",
       "   department_id  \n",
       "0             16  \n",
       "1              4  \n",
       "2             13  \n",
       "3             13  \n",
       "4             13  "
      ],
      "text/html": [
       "<div>\n",
       "<style scoped>\n",
       "    .dataframe tbody tr th:only-of-type {\n",
       "        vertical-align: middle;\n",
       "    }\n",
       "\n",
       "    .dataframe tbody tr th {\n",
       "        vertical-align: top;\n",
       "    }\n",
       "\n",
       "    .dataframe thead th {\n",
       "        text-align: right;\n",
       "    }\n",
       "</style>\n",
       "<table border=\"1\" class=\"dataframe\">\n",
       "  <thead>\n",
       "    <tr style=\"text-align: right;\">\n",
       "      <th></th>\n",
       "      <th>order_id</th>\n",
       "      <th>product_id</th>\n",
       "      <th>add_to_cart_order</th>\n",
       "      <th>reordered</th>\n",
       "      <th>user_id</th>\n",
       "      <th>order_number</th>\n",
       "      <th>order_dow</th>\n",
       "      <th>order_hour_of_day</th>\n",
       "      <th>days_since_prior_order</th>\n",
       "      <th>aisle_id</th>\n",
       "      <th>department_id</th>\n",
       "    </tr>\n",
       "  </thead>\n",
       "  <tbody>\n",
       "    <tr>\n",
       "      <th>0</th>\n",
       "      <td>2</td>\n",
       "      <td>33120</td>\n",
       "      <td>1</td>\n",
       "      <td>1</td>\n",
       "      <td>202279</td>\n",
       "      <td>3</td>\n",
       "      <td>5</td>\n",
       "      <td>9</td>\n",
       "      <td>8.0</td>\n",
       "      <td>86</td>\n",
       "      <td>16</td>\n",
       "    </tr>\n",
       "    <tr>\n",
       "      <th>1</th>\n",
       "      <td>2</td>\n",
       "      <td>28985</td>\n",
       "      <td>2</td>\n",
       "      <td>1</td>\n",
       "      <td>202279</td>\n",
       "      <td>3</td>\n",
       "      <td>5</td>\n",
       "      <td>9</td>\n",
       "      <td>8.0</td>\n",
       "      <td>83</td>\n",
       "      <td>4</td>\n",
       "    </tr>\n",
       "    <tr>\n",
       "      <th>2</th>\n",
       "      <td>2</td>\n",
       "      <td>9327</td>\n",
       "      <td>3</td>\n",
       "      <td>0</td>\n",
       "      <td>202279</td>\n",
       "      <td>3</td>\n",
       "      <td>5</td>\n",
       "      <td>9</td>\n",
       "      <td>8.0</td>\n",
       "      <td>104</td>\n",
       "      <td>13</td>\n",
       "    </tr>\n",
       "    <tr>\n",
       "      <th>3</th>\n",
       "      <td>2</td>\n",
       "      <td>45918</td>\n",
       "      <td>4</td>\n",
       "      <td>1</td>\n",
       "      <td>202279</td>\n",
       "      <td>3</td>\n",
       "      <td>5</td>\n",
       "      <td>9</td>\n",
       "      <td>8.0</td>\n",
       "      <td>19</td>\n",
       "      <td>13</td>\n",
       "    </tr>\n",
       "    <tr>\n",
       "      <th>4</th>\n",
       "      <td>2</td>\n",
       "      <td>30035</td>\n",
       "      <td>5</td>\n",
       "      <td>0</td>\n",
       "      <td>202279</td>\n",
       "      <td>3</td>\n",
       "      <td>5</td>\n",
       "      <td>9</td>\n",
       "      <td>8.0</td>\n",
       "      <td>17</td>\n",
       "      <td>13</td>\n",
       "    </tr>\n",
       "  </tbody>\n",
       "</table>\n",
       "</div>"
      ]
     },
     "execution_count": 180,
     "metadata": {},
     "output_type": "execute_result"
    }
   ],
   "execution_count": 180
  },
  {
   "metadata": {
    "ExecuteTime": {
     "end_time": "2024-10-07T00:59:33.094917Z",
     "start_time": "2024-10-07T00:59:32.818475Z"
    }
   },
   "cell_type": "code",
   "source": [
    "del(is_large_lemon, order_products_with_lemon_order)"
   ],
   "id": "110e75df69570e95",
   "outputs": [],
   "execution_count": 181
  },
  {
   "metadata": {},
   "cell_type": "markdown",
   "source": [
    "Create a single variable that is the cumulative confidence score for large lemon product as the second item based on all other products in each order."
   ],
   "id": "1ff7df0a9e3e4fe0"
  },
  {
   "metadata": {
    "ExecuteTime": {
     "end_time": "2024-10-07T01:00:17.156715Z",
     "start_time": "2024-10-07T00:59:33.098902Z"
    }
   },
   "cell_type": "code",
   "source": [
    "# Convert to dict for lookup\n",
    "lemon_first_conf_dict = dict(lemon_first_doubles_conf.collect())\n",
    "\n",
    "# Make keys int to match product_id dtype\n",
    "lemon_first_conf_dict = {int(k): v for k, v in lemon_first_conf_dict.items()}\n",
    "\n",
    "# New column 'product_confidence' by mapping the product_id to its confidence score\n",
    "order_products__prior_for_model['product_confidence'] = order_products__prior_for_model['product_id'].map(lemon_first_conf_dict)\n",
    "\n",
    "# Fill NaN values with 0, assuming products not in the lemon_conf_dict have a confidence score of 0\n",
    "order_products__prior_for_model['product_confidence'].fillna(0, \n",
    "                                                             inplace=True)\n",
    "# Group by order_id and sum product_confidence scores\n",
    "order_confidence_sum = order_products__prior_for_model.groupby('order_id')['product_confidence'].sum().reset_index()\n",
    "\n",
    "# Rename the column to indicate it's the sum of confidence scores for the order\n",
    "order_confidence_sum.columns = ['order_id', 'order_confidence_sum']\n",
    "\n",
    "# Merge the sum of confidence scores back into the original DataFrame\n",
    "order_products__prior_for_model = order_products__prior_for_model.merge(order_confidence_sum, \n",
    "                                                                        on='order_id', \n",
    "                                                                        how='left')\n",
    "\n",
    "# drop unnecessary column \n",
    "order_products__prior_for_model.drop(['product_confidence'], axis=1, inplace=True)\n",
    "\n",
    "order_products__prior_for_model.head()"
   ],
   "id": "6eea73618dc9b86a",
   "outputs": [
    {
     "name": "stderr",
     "output_type": "stream",
     "text": [
      "C:\\Users\\rmcne\\AppData\\Local\\Temp\\ipykernel_10328\\3691997836.py:11: FutureWarning: A value is trying to be set on a copy of a DataFrame or Series through chained assignment using an inplace method.\n",
      "The behavior will change in pandas 3.0. This inplace method will never work because the intermediate object on which we are setting values always behaves as a copy.\n",
      "\n",
      "For example, when doing 'df[col].method(value, inplace=True)', try using 'df.method({col: value}, inplace=True)' or df[col] = df[col].method(value) instead, to perform the operation inplace on the original object.\n",
      "\n",
      "\n",
      "  order_products__prior_for_model['product_confidence'].fillna(0,\n"
     ]
    },
    {
     "data": {
      "text/plain": [
       "   order_id  product_id  add_to_cart_order  reordered  user_id  order_number  \\\n",
       "0         2       33120                  1          1   202279             3   \n",
       "1         2       28985                  2          1   202279             3   \n",
       "2         2        9327                  3          0   202279             3   \n",
       "3         2       45918                  4          1   202279             3   \n",
       "4         2       30035                  5          0   202279             3   \n",
       "\n",
       "   order_dow  order_hour_of_day  days_since_prior_order  aisle_id  \\\n",
       "0          5                  9                     8.0        86   \n",
       "1          5                  9                     8.0        83   \n",
       "2          5                  9                     8.0       104   \n",
       "3          5                  9                     8.0        19   \n",
       "4          5                  9                     8.0        17   \n",
       "\n",
       "   department_id  order_confidence_sum  \n",
       "0             16              0.358018  \n",
       "1              4              0.358018  \n",
       "2             13              0.358018  \n",
       "3             13              0.358018  \n",
       "4             13              0.358018  "
      ],
      "text/html": [
       "<div>\n",
       "<style scoped>\n",
       "    .dataframe tbody tr th:only-of-type {\n",
       "        vertical-align: middle;\n",
       "    }\n",
       "\n",
       "    .dataframe tbody tr th {\n",
       "        vertical-align: top;\n",
       "    }\n",
       "\n",
       "    .dataframe thead th {\n",
       "        text-align: right;\n",
       "    }\n",
       "</style>\n",
       "<table border=\"1\" class=\"dataframe\">\n",
       "  <thead>\n",
       "    <tr style=\"text-align: right;\">\n",
       "      <th></th>\n",
       "      <th>order_id</th>\n",
       "      <th>product_id</th>\n",
       "      <th>add_to_cart_order</th>\n",
       "      <th>reordered</th>\n",
       "      <th>user_id</th>\n",
       "      <th>order_number</th>\n",
       "      <th>order_dow</th>\n",
       "      <th>order_hour_of_day</th>\n",
       "      <th>days_since_prior_order</th>\n",
       "      <th>aisle_id</th>\n",
       "      <th>department_id</th>\n",
       "      <th>order_confidence_sum</th>\n",
       "    </tr>\n",
       "  </thead>\n",
       "  <tbody>\n",
       "    <tr>\n",
       "      <th>0</th>\n",
       "      <td>2</td>\n",
       "      <td>33120</td>\n",
       "      <td>1</td>\n",
       "      <td>1</td>\n",
       "      <td>202279</td>\n",
       "      <td>3</td>\n",
       "      <td>5</td>\n",
       "      <td>9</td>\n",
       "      <td>8.0</td>\n",
       "      <td>86</td>\n",
       "      <td>16</td>\n",
       "      <td>0.358018</td>\n",
       "    </tr>\n",
       "    <tr>\n",
       "      <th>1</th>\n",
       "      <td>2</td>\n",
       "      <td>28985</td>\n",
       "      <td>2</td>\n",
       "      <td>1</td>\n",
       "      <td>202279</td>\n",
       "      <td>3</td>\n",
       "      <td>5</td>\n",
       "      <td>9</td>\n",
       "      <td>8.0</td>\n",
       "      <td>83</td>\n",
       "      <td>4</td>\n",
       "      <td>0.358018</td>\n",
       "    </tr>\n",
       "    <tr>\n",
       "      <th>2</th>\n",
       "      <td>2</td>\n",
       "      <td>9327</td>\n",
       "      <td>3</td>\n",
       "      <td>0</td>\n",
       "      <td>202279</td>\n",
       "      <td>3</td>\n",
       "      <td>5</td>\n",
       "      <td>9</td>\n",
       "      <td>8.0</td>\n",
       "      <td>104</td>\n",
       "      <td>13</td>\n",
       "      <td>0.358018</td>\n",
       "    </tr>\n",
       "    <tr>\n",
       "      <th>3</th>\n",
       "      <td>2</td>\n",
       "      <td>45918</td>\n",
       "      <td>4</td>\n",
       "      <td>1</td>\n",
       "      <td>202279</td>\n",
       "      <td>3</td>\n",
       "      <td>5</td>\n",
       "      <td>9</td>\n",
       "      <td>8.0</td>\n",
       "      <td>19</td>\n",
       "      <td>13</td>\n",
       "      <td>0.358018</td>\n",
       "    </tr>\n",
       "    <tr>\n",
       "      <th>4</th>\n",
       "      <td>2</td>\n",
       "      <td>30035</td>\n",
       "      <td>5</td>\n",
       "      <td>0</td>\n",
       "      <td>202279</td>\n",
       "      <td>3</td>\n",
       "      <td>5</td>\n",
       "      <td>9</td>\n",
       "      <td>8.0</td>\n",
       "      <td>17</td>\n",
       "      <td>13</td>\n",
       "      <td>0.358018</td>\n",
       "    </tr>\n",
       "  </tbody>\n",
       "</table>\n",
       "</div>"
      ]
     },
     "execution_count": 182,
     "metadata": {},
     "output_type": "execute_result"
    }
   ],
   "execution_count": 182
  },
  {
   "metadata": {},
   "cell_type": "markdown",
   "source": [
    "For aggregating, reduce aisle_id to a single binary of whether the order contains any items that were in the isle_id == 24 (same as lemons) or 34 (same as bag of large lemons) and department_id == 4 (same as lemons) or 1 (same as bag of large lemons). Note: errors are for deprecation in \"in_place\", we can ignore them for now. Here I use numpy, because trying to use pandas results in a RAM error."
   ],
   "id": "eb9275d7a60794b3"
  },
  {
   "metadata": {
    "ExecuteTime": {
     "end_time": "2024-10-07T01:00:17.168195Z",
     "start_time": "2024-10-07T01:00:17.158706Z"
    }
   },
   "cell_type": "code",
   "source": [
    "# # Create a new column to mark if aisle_id is 24 or 34\n",
    "# order_products__prior_for_model['aisle_24_or_34_bin'] = np.where(\n",
    "#     (order_products__prior_for_model['aisle_id'] == 23) |\n",
    "#     (order_products__prior_for_model['aisle_id'] == 34), \n",
    "#     1, \n",
    "#     0)\n",
    "# \n",
    "# # Group by order_id and sum the new department_4_or_1 column\n",
    "# aisle_24_or_34_count = order_products__prior_for_model.groupby('order_id')['aisle_24_or_34_bin'].sum().reset_index()\n",
    "# \n",
    "# order_products__prior_for_model.drop('aisle_24_or_34_bin', \n",
    "#                                      axis=1, \n",
    "#                                      inplace=True)\n",
    "# \n",
    "# # Merge the counts back into our df\n",
    "# order_products__prior_for_model = order_products__prior_for_model.merge(aisle_24_or_34_count,\n",
    "#                                                                         on='order_id',\n",
    "#                                                                         how='left')        "
   ],
   "id": "77d073c2869fa8f3",
   "outputs": [],
   "execution_count": 183
  },
  {
   "metadata": {
    "ExecuteTime": {
     "end_time": "2024-10-07T01:00:17.174293Z",
     "start_time": "2024-10-07T01:00:17.169699Z"
    }
   },
   "cell_type": "code",
   "source": [
    "# del(aisle_24_or_34_count)"
   ],
   "id": "8653022bc2679425",
   "outputs": [],
   "execution_count": 184
  },
  {
   "metadata": {
    "ExecuteTime": {
     "end_time": "2024-10-07T01:00:17.180812Z",
     "start_time": "2024-10-07T01:00:17.175289Z"
    }
   },
   "cell_type": "code",
   "source": [
    "# # Create a new column to mark if department_id is 4 or 1\n",
    "# order_products__prior_for_model['department_4_or_1_bin'] = np.where(\n",
    "#     (order_products__prior_for_model['department_id'] == 4) |\n",
    "#     (order_products__prior_for_model['department_id'] == 1), \n",
    "#     1, \n",
    "#     0)\n",
    "# \n",
    "# # Group by order_id and sum the new department_4_or_1 column\n",
    "# department_4_or_1_count = order_products__prior_for_model.groupby('order_id')['department_4_or_1_bin'].sum().reset_index()\n",
    "# \n",
    "# order_products__prior_for_model.drop('department_4_or_1_bin',\n",
    "#                                      axis=1,\n",
    "#                                      inplace=True)\n",
    "# \n",
    "# order_products__prior_for_model = order_products__prior_for_model.merge(department_4_or_1_count, \n",
    "#                                                                         on='order_id', \n",
    "#                                                                         how='left')"
   ],
   "id": "a48801dae21e02f8",
   "outputs": [],
   "execution_count": 185
  },
  {
   "metadata": {
    "ExecuteTime": {
     "end_time": "2024-10-07T01:00:17.185336Z",
     "start_time": "2024-10-07T01:00:17.181805Z"
    }
   },
   "cell_type": "code",
   "source": [
    "# del(department_4_or_1_count)"
   ],
   "id": "a2694544e4951c8e",
   "outputs": [],
   "execution_count": 186
  },
  {
   "metadata": {
    "ExecuteTime": {
     "end_time": "2024-10-07T01:00:17.190338Z",
     "start_time": "2024-10-07T01:00:17.186329Z"
    }
   },
   "cell_type": "code",
   "source": [
    "# # Fill NaN values with 0\n",
    "# order_products__prior_for_model['aisle_24_or_34_count'].fillna(0, \n",
    "#                                                                inplace=True)\n",
    "# order_products__prior_for_model['department_4_or_1_count'].fillna(0, \n",
    "#                                                                   inplace=True)\n",
    "# \n",
    "# order_products__prior_for_model.head()"
   ],
   "id": "4fe051fdc84cf0d",
   "outputs": [],
   "execution_count": 187
  },
  {
   "metadata": {},
   "cell_type": "markdown",
   "source": [
    "The code to produce aisle and department value counts is too RAM intensive for my current computer, so I have to leave this out."
   ],
   "id": "7856531dee44be02"
  },
  {
   "metadata": {},
   "cell_type": "markdown",
   "source": [
    "Now drop redundant cols for aisle and department."
   ],
   "id": "31808591f00caf99"
  },
  {
   "metadata": {
    "ExecuteTime": {
     "end_time": "2024-10-07T01:00:18.142619Z",
     "start_time": "2024-10-07T01:00:17.194322Z"
    }
   },
   "cell_type": "code",
   "source": [
    "order_products__prior_for_model.drop(['aisle_id', 'department_id'], axis=1, inplace=True)"
   ],
   "id": "70f9c686bb1f496",
   "outputs": [],
   "execution_count": 188
  },
  {
   "metadata": {},
   "cell_type": "markdown",
   "source": [
    "Create our target variable."
   ],
   "id": "e5f027307f45724"
  },
  {
   "metadata": {
    "ExecuteTime": {
     "end_time": "2024-10-07T01:00:43.279039Z",
     "start_time": "2024-10-07T01:00:18.143614Z"
    }
   },
   "cell_type": "code",
   "source": [
    "large_lemon_ids_int = [9434,47626]\n",
    "\n",
    "# All orders that contain large lemons\n",
    "orders_with_large_lemons = order_products__prior_for_model[order_products__prior_for_model['product_id'].isin(large_lemon_ids_int)]['order_id'].unique()\n",
    "\n",
    "# Set contains_large_lemons to 1 for all rows in those orders\n",
    "order_products__prior_for_model['contains_large_lemons'] = np.where(\n",
    "    order_products__prior_for_model['order_id'].isin(orders_with_large_lemons), \n",
    "    1, \n",
    "    0)\n",
    "\n",
    "del(orders_with_large_lemons)\n",
    "\n",
    "order_products__prior_for_model.describe()"
   ],
   "id": "e2b119b17547d952",
   "outputs": [
    {
     "data": {
      "text/plain": [
       "           order_id    product_id  add_to_cart_order     reordered  \\\n",
       "count  3.120484e+07  3.120484e+07       3.120484e+07  3.120484e+07   \n",
       "mean   1.710742e+06  2.556159e+04       8.099525e+00  5.919045e-01   \n",
       "std    9.873749e+05  1.409851e+04       6.943753e+00  4.914810e-01   \n",
       "min    2.000000e+00  1.000000e+00       1.000000e+00  0.000000e+00   \n",
       "25%    8.558460e+05  1.351200e+04       3.000000e+00  0.000000e+00   \n",
       "50%    1.710965e+06  2.519900e+04       6.000000e+00  1.000000e+00   \n",
       "75%    2.565560e+06  3.789500e+04       1.100000e+01  1.000000e+00   \n",
       "max    3.421083e+06  4.968800e+04       1.450000e+02  1.000000e+00   \n",
       "\n",
       "            user_id  order_number     order_dow  order_hour_of_day  \\\n",
       "count  3.120484e+07  3.120484e+07  3.120484e+07       3.120484e+07   \n",
       "mean   1.029293e+05  1.713266e+01  2.741753e+00       1.342911e+01   \n",
       "std    5.946386e+04  1.755936e+01  2.086647e+00       4.247628e+00   \n",
       "min    1.000000e+00  1.000000e+00  0.000000e+00       0.000000e+00   \n",
       "25%    5.140900e+04  5.000000e+00  1.000000e+00       1.000000e+01   \n",
       "50%    1.026010e+05  1.100000e+01  3.000000e+00       1.300000e+01   \n",
       "75%    1.543820e+05  2.400000e+01  5.000000e+00       1.600000e+01   \n",
       "max    2.062090e+05  9.900000e+01  6.000000e+00       2.300000e+01   \n",
       "\n",
       "       days_since_prior_order  order_confidence_sum  contains_large_lemons  \n",
       "count            3.120484e+07          3.120484e+07           3.120484e+07  \n",
       "mean             1.034954e+01          5.771439e-01           3.924850e-02  \n",
       "std              8.906498e+00          4.420874e-01           1.941856e-01  \n",
       "min              0.000000e+00          0.000000e+00           0.000000e+00  \n",
       "25%              4.000000e+00          2.451463e-01           0.000000e+00  \n",
       "50%              7.000000e+00          4.805447e-01           0.000000e+00  \n",
       "75%              1.400000e+01          8.066612e-01           0.000000e+00  \n",
       "max              3.000000e+01          6.483905e+00           1.000000e+00  "
      ],
      "text/html": [
       "<div>\n",
       "<style scoped>\n",
       "    .dataframe tbody tr th:only-of-type {\n",
       "        vertical-align: middle;\n",
       "    }\n",
       "\n",
       "    .dataframe tbody tr th {\n",
       "        vertical-align: top;\n",
       "    }\n",
       "\n",
       "    .dataframe thead th {\n",
       "        text-align: right;\n",
       "    }\n",
       "</style>\n",
       "<table border=\"1\" class=\"dataframe\">\n",
       "  <thead>\n",
       "    <tr style=\"text-align: right;\">\n",
       "      <th></th>\n",
       "      <th>order_id</th>\n",
       "      <th>product_id</th>\n",
       "      <th>add_to_cart_order</th>\n",
       "      <th>reordered</th>\n",
       "      <th>user_id</th>\n",
       "      <th>order_number</th>\n",
       "      <th>order_dow</th>\n",
       "      <th>order_hour_of_day</th>\n",
       "      <th>days_since_prior_order</th>\n",
       "      <th>order_confidence_sum</th>\n",
       "      <th>contains_large_lemons</th>\n",
       "    </tr>\n",
       "  </thead>\n",
       "  <tbody>\n",
       "    <tr>\n",
       "      <th>count</th>\n",
       "      <td>3.120484e+07</td>\n",
       "      <td>3.120484e+07</td>\n",
       "      <td>3.120484e+07</td>\n",
       "      <td>3.120484e+07</td>\n",
       "      <td>3.120484e+07</td>\n",
       "      <td>3.120484e+07</td>\n",
       "      <td>3.120484e+07</td>\n",
       "      <td>3.120484e+07</td>\n",
       "      <td>3.120484e+07</td>\n",
       "      <td>3.120484e+07</td>\n",
       "      <td>3.120484e+07</td>\n",
       "    </tr>\n",
       "    <tr>\n",
       "      <th>mean</th>\n",
       "      <td>1.710742e+06</td>\n",
       "      <td>2.556159e+04</td>\n",
       "      <td>8.099525e+00</td>\n",
       "      <td>5.919045e-01</td>\n",
       "      <td>1.029293e+05</td>\n",
       "      <td>1.713266e+01</td>\n",
       "      <td>2.741753e+00</td>\n",
       "      <td>1.342911e+01</td>\n",
       "      <td>1.034954e+01</td>\n",
       "      <td>5.771439e-01</td>\n",
       "      <td>3.924850e-02</td>\n",
       "    </tr>\n",
       "    <tr>\n",
       "      <th>std</th>\n",
       "      <td>9.873749e+05</td>\n",
       "      <td>1.409851e+04</td>\n",
       "      <td>6.943753e+00</td>\n",
       "      <td>4.914810e-01</td>\n",
       "      <td>5.946386e+04</td>\n",
       "      <td>1.755936e+01</td>\n",
       "      <td>2.086647e+00</td>\n",
       "      <td>4.247628e+00</td>\n",
       "      <td>8.906498e+00</td>\n",
       "      <td>4.420874e-01</td>\n",
       "      <td>1.941856e-01</td>\n",
       "    </tr>\n",
       "    <tr>\n",
       "      <th>min</th>\n",
       "      <td>2.000000e+00</td>\n",
       "      <td>1.000000e+00</td>\n",
       "      <td>1.000000e+00</td>\n",
       "      <td>0.000000e+00</td>\n",
       "      <td>1.000000e+00</td>\n",
       "      <td>1.000000e+00</td>\n",
       "      <td>0.000000e+00</td>\n",
       "      <td>0.000000e+00</td>\n",
       "      <td>0.000000e+00</td>\n",
       "      <td>0.000000e+00</td>\n",
       "      <td>0.000000e+00</td>\n",
       "    </tr>\n",
       "    <tr>\n",
       "      <th>25%</th>\n",
       "      <td>8.558460e+05</td>\n",
       "      <td>1.351200e+04</td>\n",
       "      <td>3.000000e+00</td>\n",
       "      <td>0.000000e+00</td>\n",
       "      <td>5.140900e+04</td>\n",
       "      <td>5.000000e+00</td>\n",
       "      <td>1.000000e+00</td>\n",
       "      <td>1.000000e+01</td>\n",
       "      <td>4.000000e+00</td>\n",
       "      <td>2.451463e-01</td>\n",
       "      <td>0.000000e+00</td>\n",
       "    </tr>\n",
       "    <tr>\n",
       "      <th>50%</th>\n",
       "      <td>1.710965e+06</td>\n",
       "      <td>2.519900e+04</td>\n",
       "      <td>6.000000e+00</td>\n",
       "      <td>1.000000e+00</td>\n",
       "      <td>1.026010e+05</td>\n",
       "      <td>1.100000e+01</td>\n",
       "      <td>3.000000e+00</td>\n",
       "      <td>1.300000e+01</td>\n",
       "      <td>7.000000e+00</td>\n",
       "      <td>4.805447e-01</td>\n",
       "      <td>0.000000e+00</td>\n",
       "    </tr>\n",
       "    <tr>\n",
       "      <th>75%</th>\n",
       "      <td>2.565560e+06</td>\n",
       "      <td>3.789500e+04</td>\n",
       "      <td>1.100000e+01</td>\n",
       "      <td>1.000000e+00</td>\n",
       "      <td>1.543820e+05</td>\n",
       "      <td>2.400000e+01</td>\n",
       "      <td>5.000000e+00</td>\n",
       "      <td>1.600000e+01</td>\n",
       "      <td>1.400000e+01</td>\n",
       "      <td>8.066612e-01</td>\n",
       "      <td>0.000000e+00</td>\n",
       "    </tr>\n",
       "    <tr>\n",
       "      <th>max</th>\n",
       "      <td>3.421083e+06</td>\n",
       "      <td>4.968800e+04</td>\n",
       "      <td>1.450000e+02</td>\n",
       "      <td>1.000000e+00</td>\n",
       "      <td>2.062090e+05</td>\n",
       "      <td>9.900000e+01</td>\n",
       "      <td>6.000000e+00</td>\n",
       "      <td>2.300000e+01</td>\n",
       "      <td>3.000000e+01</td>\n",
       "      <td>6.483905e+00</td>\n",
       "      <td>1.000000e+00</td>\n",
       "    </tr>\n",
       "  </tbody>\n",
       "</table>\n",
       "</div>"
      ]
     },
     "execution_count": 189,
     "metadata": {},
     "output_type": "execute_result"
    }
   ],
   "execution_count": 189
  },
  {
   "metadata": {},
   "cell_type": "markdown",
   "source": [
    "Drop all rows containing large lemon products for training"
   ],
   "id": "4ae4f8cf9adab459"
  },
  {
   "metadata": {
    "ExecuteTime": {
     "end_time": "2024-10-07T01:00:46.223290Z",
     "start_time": "2024-10-07T01:00:43.283021Z"
    }
   },
   "cell_type": "code",
   "source": [
    "order_products__prior_for_model = order_products__prior_for_model[~order_products__prior_for_model['product_id'].isin(large_lemon_ids_int)]"
   ],
   "id": "bf2f6e864f3add0b",
   "outputs": [],
   "execution_count": 190
  },
  {
   "metadata": {},
   "cell_type": "markdown",
   "source": [
    "Finally, aggregate by order_id"
   ],
   "id": "e81f04790e062e62"
  },
  {
   "metadata": {
    "ExecuteTime": {
     "end_time": "2024-10-07T01:00:48.541231Z",
     "start_time": "2024-10-07T01:00:46.225278Z"
    }
   },
   "cell_type": "code",
   "source": [
    "# Aggregate by order_id\n",
    "order_products__prior_agg = order_products__prior_for_model.groupby('order_id').agg({\n",
    "    'product_id': 'count',  # Count the total number of products in the order\n",
    "    'user_id': 'max',  # I take max arbitrarily because all vals should be the same\n",
    "    'order_number': 'max',  # as above\n",
    "    'order_dow': 'max',  # as above\n",
    "    'order_hour_of_day': 'max',  # as above\n",
    "    'days_since_prior_order': 'max',  # as above\n",
    "    'order_confidence_sum': 'max',  # as above\n",
    "    'contains_large_lemons': 'max', # as above\n",
    "}).reset_index()\n"
   ],
   "id": "6d90e8468d901d3e",
   "outputs": [],
   "execution_count": 191
  },
  {
   "metadata": {
    "ExecuteTime": {
     "end_time": "2024-10-07T01:00:48.645726Z",
     "start_time": "2024-10-07T01:00:48.542224Z"
    }
   },
   "cell_type": "code",
   "source": [
    "# Quick check if I aggregated correctly\n",
    "order_products__prior_agg['order_id'].nunique() == len(order_products__prior_agg)"
   ],
   "id": "621f718dc7ca9c8f",
   "outputs": [
    {
     "data": {
      "text/plain": [
       "True"
      ]
     },
     "execution_count": 192,
     "metadata": {},
     "output_type": "execute_result"
    }
   ],
   "execution_count": 192
  },
  {
   "metadata": {
    "ExecuteTime": {
     "end_time": "2024-10-07T01:00:49.548385Z",
     "start_time": "2024-10-07T01:00:48.646714Z"
    }
   },
   "cell_type": "code",
   "source": [
    "order_products__prior_agg.describe()"
   ],
   "id": "916ed57c856739d4",
   "outputs": [
    {
     "data": {
      "text/plain": [
       "           order_id    product_id       user_id  order_number     order_dow  \\\n",
       "count  3.201950e+06  3.201950e+06  3.201950e+06  3.201950e+06  3.201950e+06   \n",
       "mean   1.710834e+06  9.697060e+00  1.029699e+05  1.719332e+01  2.776823e+00   \n",
       "std    9.875429e+05  7.305752e+00  5.953329e+04  1.780125e+01  2.041538e+00   \n",
       "min    2.000000e+00  1.000000e+00  1.000000e+00  1.000000e+00  0.000000e+00   \n",
       "25%    8.556602e+05  4.000000e+00  5.138500e+04  5.000000e+00  1.000000e+00   \n",
       "50%    1.711104e+06  8.000000e+00  1.026640e+05  1.100000e+01  3.000000e+00   \n",
       "75%    2.566062e+06  1.300000e+01  1.543720e+05  2.400000e+01  5.000000e+00   \n",
       "max    3.421083e+06  1.450000e+02  2.062090e+05  9.900000e+01  6.000000e+00   \n",
       "\n",
       "       order_hour_of_day  days_since_prior_order  order_confidence_sum  \\\n",
       "count       3.201950e+06            3.201950e+06          3.201950e+06   \n",
       "mean        1.344341e+01            1.001703e+01          3.598106e-01   \n",
       "std         4.226821e+00            9.048511e+00          3.471581e-01   \n",
       "min         0.000000e+00            0.000000e+00          0.000000e+00   \n",
       "25%         1.000000e+01            3.000000e+00          1.015288e-01   \n",
       "50%         1.300000e+01            7.000000e+00          2.615481e-01   \n",
       "75%         1.600000e+01            1.400000e+01          5.139836e-01   \n",
       "max         2.300000e+01            3.000000e+01          6.483905e+00   \n",
       "\n",
       "       contains_large_lemons  \n",
       "count           3.201950e+06  \n",
       "mean            4.447633e-02  \n",
       "std             2.061509e-01  \n",
       "min             0.000000e+00  \n",
       "25%             0.000000e+00  \n",
       "50%             0.000000e+00  \n",
       "75%             0.000000e+00  \n",
       "max             1.000000e+00  "
      ],
      "text/html": [
       "<div>\n",
       "<style scoped>\n",
       "    .dataframe tbody tr th:only-of-type {\n",
       "        vertical-align: middle;\n",
       "    }\n",
       "\n",
       "    .dataframe tbody tr th {\n",
       "        vertical-align: top;\n",
       "    }\n",
       "\n",
       "    .dataframe thead th {\n",
       "        text-align: right;\n",
       "    }\n",
       "</style>\n",
       "<table border=\"1\" class=\"dataframe\">\n",
       "  <thead>\n",
       "    <tr style=\"text-align: right;\">\n",
       "      <th></th>\n",
       "      <th>order_id</th>\n",
       "      <th>product_id</th>\n",
       "      <th>user_id</th>\n",
       "      <th>order_number</th>\n",
       "      <th>order_dow</th>\n",
       "      <th>order_hour_of_day</th>\n",
       "      <th>days_since_prior_order</th>\n",
       "      <th>order_confidence_sum</th>\n",
       "      <th>contains_large_lemons</th>\n",
       "    </tr>\n",
       "  </thead>\n",
       "  <tbody>\n",
       "    <tr>\n",
       "      <th>count</th>\n",
       "      <td>3.201950e+06</td>\n",
       "      <td>3.201950e+06</td>\n",
       "      <td>3.201950e+06</td>\n",
       "      <td>3.201950e+06</td>\n",
       "      <td>3.201950e+06</td>\n",
       "      <td>3.201950e+06</td>\n",
       "      <td>3.201950e+06</td>\n",
       "      <td>3.201950e+06</td>\n",
       "      <td>3.201950e+06</td>\n",
       "    </tr>\n",
       "    <tr>\n",
       "      <th>mean</th>\n",
       "      <td>1.710834e+06</td>\n",
       "      <td>9.697060e+00</td>\n",
       "      <td>1.029699e+05</td>\n",
       "      <td>1.719332e+01</td>\n",
       "      <td>2.776823e+00</td>\n",
       "      <td>1.344341e+01</td>\n",
       "      <td>1.001703e+01</td>\n",
       "      <td>3.598106e-01</td>\n",
       "      <td>4.447633e-02</td>\n",
       "    </tr>\n",
       "    <tr>\n",
       "      <th>std</th>\n",
       "      <td>9.875429e+05</td>\n",
       "      <td>7.305752e+00</td>\n",
       "      <td>5.953329e+04</td>\n",
       "      <td>1.780125e+01</td>\n",
       "      <td>2.041538e+00</td>\n",
       "      <td>4.226821e+00</td>\n",
       "      <td>9.048511e+00</td>\n",
       "      <td>3.471581e-01</td>\n",
       "      <td>2.061509e-01</td>\n",
       "    </tr>\n",
       "    <tr>\n",
       "      <th>min</th>\n",
       "      <td>2.000000e+00</td>\n",
       "      <td>1.000000e+00</td>\n",
       "      <td>1.000000e+00</td>\n",
       "      <td>1.000000e+00</td>\n",
       "      <td>0.000000e+00</td>\n",
       "      <td>0.000000e+00</td>\n",
       "      <td>0.000000e+00</td>\n",
       "      <td>0.000000e+00</td>\n",
       "      <td>0.000000e+00</td>\n",
       "    </tr>\n",
       "    <tr>\n",
       "      <th>25%</th>\n",
       "      <td>8.556602e+05</td>\n",
       "      <td>4.000000e+00</td>\n",
       "      <td>5.138500e+04</td>\n",
       "      <td>5.000000e+00</td>\n",
       "      <td>1.000000e+00</td>\n",
       "      <td>1.000000e+01</td>\n",
       "      <td>3.000000e+00</td>\n",
       "      <td>1.015288e-01</td>\n",
       "      <td>0.000000e+00</td>\n",
       "    </tr>\n",
       "    <tr>\n",
       "      <th>50%</th>\n",
       "      <td>1.711104e+06</td>\n",
       "      <td>8.000000e+00</td>\n",
       "      <td>1.026640e+05</td>\n",
       "      <td>1.100000e+01</td>\n",
       "      <td>3.000000e+00</td>\n",
       "      <td>1.300000e+01</td>\n",
       "      <td>7.000000e+00</td>\n",
       "      <td>2.615481e-01</td>\n",
       "      <td>0.000000e+00</td>\n",
       "    </tr>\n",
       "    <tr>\n",
       "      <th>75%</th>\n",
       "      <td>2.566062e+06</td>\n",
       "      <td>1.300000e+01</td>\n",
       "      <td>1.543720e+05</td>\n",
       "      <td>2.400000e+01</td>\n",
       "      <td>5.000000e+00</td>\n",
       "      <td>1.600000e+01</td>\n",
       "      <td>1.400000e+01</td>\n",
       "      <td>5.139836e-01</td>\n",
       "      <td>0.000000e+00</td>\n",
       "    </tr>\n",
       "    <tr>\n",
       "      <th>max</th>\n",
       "      <td>3.421083e+06</td>\n",
       "      <td>1.450000e+02</td>\n",
       "      <td>2.062090e+05</td>\n",
       "      <td>9.900000e+01</td>\n",
       "      <td>6.000000e+00</td>\n",
       "      <td>2.300000e+01</td>\n",
       "      <td>3.000000e+01</td>\n",
       "      <td>6.483905e+00</td>\n",
       "      <td>1.000000e+00</td>\n",
       "    </tr>\n",
       "  </tbody>\n",
       "</table>\n",
       "</div>"
      ]
     },
     "execution_count": 193,
     "metadata": {},
     "output_type": "execute_result"
    }
   ],
   "execution_count": 193
  },
  {
   "metadata": {},
   "cell_type": "markdown",
   "source": [
    "Some garbage collection before I move forward."
   ],
   "id": "86b2cdb1dc5d3e25"
  },
  {
   "metadata": {
    "ExecuteTime": {
     "end_time": "2024-10-07T01:00:49.871850Z",
     "start_time": "2024-10-07T01:00:49.549375Z"
    }
   },
   "cell_type": "code",
   "source": [
    "del(order_products__prior, order_products__prior_for_model, order_product_baskets, OPP_baskets, OPP_header, product_pairs, product_counts, aisles, order_confidence_sum, large_lemon_orders, large_lemon_names, product_pairs, pair_counts, top_lemon_pair_names, lemon_first_doubles_conf)"
   ],
   "id": "26a609915803a719",
   "outputs": [
    {
     "ename": "NameError",
     "evalue": "name 'order_product_baskets' is not defined",
     "output_type": "error",
     "traceback": [
      "\u001B[1;31m---------------------------------------------------------------------------\u001B[0m",
      "\u001B[1;31mNameError\u001B[0m                                 Traceback (most recent call last)",
      "Cell \u001B[1;32mIn[194], line 1\u001B[0m\n\u001B[1;32m----> 1\u001B[0m \u001B[38;5;28;01mdel\u001B[39;00m(order_products__prior, order_products__prior_for_model, \u001B[43morder_product_baskets\u001B[49m, OPP_baskets, OPP_header, product_pairs, product_counts, aisles, order_confidence_sum, large_lemon_orders, large_lemon_names, product_pairs, pair_counts, top_lemon_pair_names, lemon_first_doubles_conf)\n",
      "\u001B[1;31mNameError\u001B[0m: name 'order_product_baskets' is not defined"
     ]
    }
   ],
   "execution_count": 194
  },
  {
   "metadata": {},
   "cell_type": "markdown",
   "source": [
    "I then split my X from my target vector."
   ],
   "id": "a2ff4105e12874ea"
  },
  {
   "metadata": {
    "ExecuteTime": {
     "end_time": "2024-10-07T01:01:06.736826Z",
     "start_time": "2024-10-07T01:01:06.676677Z"
    }
   },
   "cell_type": "code",
   "source": [
    "y_train = order_products__prior_agg['contains_large_lemons']\n",
    "X_train = order_products__prior_agg.drop(\"contains_large_lemons\", axis=1)"
   ],
   "id": "20302e46f214af4a",
   "outputs": [],
   "execution_count": 195
  },
  {
   "metadata": {},
   "cell_type": "markdown",
   "source": [
    "I instantiate & train my model."
   ],
   "id": "d0b8c90755197eab"
  },
  {
   "metadata": {
    "ExecuteTime": {
     "end_time": "2024-10-07T01:01:51.880368Z",
     "start_time": "2024-10-07T01:01:08.058476Z"
    }
   },
   "cell_type": "code",
   "source": [
    "class_ratio = len(y_train[y_train==0]) / len(y_train[y_train==1])\n",
    "\n",
    "lgb_model = lgb.LGBMClassifier(scale_pos_weight = class_ratio,\n",
    "                               random_state= 42, \n",
    "                               n_estimators=1000, \n",
    "                               learning_rate=0.1,   \n",
    "                               max_depth=8,   \n",
    "                               n_jobs=-1)\n",
    "\n",
    "# Fit the model\n",
    "lgb_model.fit(X_train, y_train,\n",
    "              eval_set=[(X_train, y_train)],\n",
    "              eval_metric='logloss')"
   ],
   "id": "ceee4adf58c4f862",
   "outputs": [
    {
     "name": "stdout",
     "output_type": "stream",
     "text": [
      "[LightGBM] [Info] Number of positive: 142411, number of negative: 3059539\n",
      "[LightGBM] [Info] Auto-choosing row-wise multi-threading, the overhead of testing was 0.017306 seconds.\n",
      "You can set `force_row_wise=true` to remove the overhead.\n",
      "And if memory is not enough, you can set `force_col_wise=true`.\n",
      "[LightGBM] [Info] Total Bins 999\n",
      "[LightGBM] [Info] Number of data points in the train set: 3201950, number of used features: 8\n",
      "[LightGBM] [Info] [binary:BoostFromScore]: pavg=0.044476 -> initscore=-3.067302\n",
      "[LightGBM] [Info] Start training from score -3.067302\n"
     ]
    },
    {
     "data": {
      "text/plain": [
       "LGBMClassifier(max_depth=8, n_estimators=1000, n_jobs=-1, random_state=42,\n",
       "               scale_pos_weight=21.48386711700641)"
      ],
      "text/html": [
       "<style>#sk-container-id-1 {\n",
       "  /* Definition of color scheme common for light and dark mode */\n",
       "  --sklearn-color-text: black;\n",
       "  --sklearn-color-line: gray;\n",
       "  /* Definition of color scheme for unfitted estimators */\n",
       "  --sklearn-color-unfitted-level-0: #fff5e6;\n",
       "  --sklearn-color-unfitted-level-1: #f6e4d2;\n",
       "  --sklearn-color-unfitted-level-2: #ffe0b3;\n",
       "  --sklearn-color-unfitted-level-3: chocolate;\n",
       "  /* Definition of color scheme for fitted estimators */\n",
       "  --sklearn-color-fitted-level-0: #f0f8ff;\n",
       "  --sklearn-color-fitted-level-1: #d4ebff;\n",
       "  --sklearn-color-fitted-level-2: #b3dbfd;\n",
       "  --sklearn-color-fitted-level-3: cornflowerblue;\n",
       "\n",
       "  /* Specific color for light theme */\n",
       "  --sklearn-color-text-on-default-background: var(--sg-text-color, var(--theme-code-foreground, var(--jp-content-font-color1, black)));\n",
       "  --sklearn-color-background: var(--sg-background-color, var(--theme-background, var(--jp-layout-color0, white)));\n",
       "  --sklearn-color-border-box: var(--sg-text-color, var(--theme-code-foreground, var(--jp-content-font-color1, black)));\n",
       "  --sklearn-color-icon: #696969;\n",
       "\n",
       "  @media (prefers-color-scheme: dark) {\n",
       "    /* Redefinition of color scheme for dark theme */\n",
       "    --sklearn-color-text-on-default-background: var(--sg-text-color, var(--theme-code-foreground, var(--jp-content-font-color1, white)));\n",
       "    --sklearn-color-background: var(--sg-background-color, var(--theme-background, var(--jp-layout-color0, #111)));\n",
       "    --sklearn-color-border-box: var(--sg-text-color, var(--theme-code-foreground, var(--jp-content-font-color1, white)));\n",
       "    --sklearn-color-icon: #878787;\n",
       "  }\n",
       "}\n",
       "\n",
       "#sk-container-id-1 {\n",
       "  color: var(--sklearn-color-text);\n",
       "}\n",
       "\n",
       "#sk-container-id-1 pre {\n",
       "  padding: 0;\n",
       "}\n",
       "\n",
       "#sk-container-id-1 input.sk-hidden--visually {\n",
       "  border: 0;\n",
       "  clip: rect(1px 1px 1px 1px);\n",
       "  clip: rect(1px, 1px, 1px, 1px);\n",
       "  height: 1px;\n",
       "  margin: -1px;\n",
       "  overflow: hidden;\n",
       "  padding: 0;\n",
       "  position: absolute;\n",
       "  width: 1px;\n",
       "}\n",
       "\n",
       "#sk-container-id-1 div.sk-dashed-wrapped {\n",
       "  border: 1px dashed var(--sklearn-color-line);\n",
       "  margin: 0 0.4em 0.5em 0.4em;\n",
       "  box-sizing: border-box;\n",
       "  padding-bottom: 0.4em;\n",
       "  background-color: var(--sklearn-color-background);\n",
       "}\n",
       "\n",
       "#sk-container-id-1 div.sk-container {\n",
       "  /* jupyter's `normalize.less` sets `[hidden] { display: none; }`\n",
       "     but bootstrap.min.css set `[hidden] { display: none !important; }`\n",
       "     so we also need the `!important` here to be able to override the\n",
       "     default hidden behavior on the sphinx rendered scikit-learn.org.\n",
       "     See: https://github.com/scikit-learn/scikit-learn/issues/21755 */\n",
       "  display: inline-block !important;\n",
       "  position: relative;\n",
       "}\n",
       "\n",
       "#sk-container-id-1 div.sk-text-repr-fallback {\n",
       "  display: none;\n",
       "}\n",
       "\n",
       "div.sk-parallel-item,\n",
       "div.sk-serial,\n",
       "div.sk-item {\n",
       "  /* draw centered vertical line to link estimators */\n",
       "  background-image: linear-gradient(var(--sklearn-color-text-on-default-background), var(--sklearn-color-text-on-default-background));\n",
       "  background-size: 2px 100%;\n",
       "  background-repeat: no-repeat;\n",
       "  background-position: center center;\n",
       "}\n",
       "\n",
       "/* Parallel-specific style estimator block */\n",
       "\n",
       "#sk-container-id-1 div.sk-parallel-item::after {\n",
       "  content: \"\";\n",
       "  width: 100%;\n",
       "  border-bottom: 2px solid var(--sklearn-color-text-on-default-background);\n",
       "  flex-grow: 1;\n",
       "}\n",
       "\n",
       "#sk-container-id-1 div.sk-parallel {\n",
       "  display: flex;\n",
       "  align-items: stretch;\n",
       "  justify-content: center;\n",
       "  background-color: var(--sklearn-color-background);\n",
       "  position: relative;\n",
       "}\n",
       "\n",
       "#sk-container-id-1 div.sk-parallel-item {\n",
       "  display: flex;\n",
       "  flex-direction: column;\n",
       "}\n",
       "\n",
       "#sk-container-id-1 div.sk-parallel-item:first-child::after {\n",
       "  align-self: flex-end;\n",
       "  width: 50%;\n",
       "}\n",
       "\n",
       "#sk-container-id-1 div.sk-parallel-item:last-child::after {\n",
       "  align-self: flex-start;\n",
       "  width: 50%;\n",
       "}\n",
       "\n",
       "#sk-container-id-1 div.sk-parallel-item:only-child::after {\n",
       "  width: 0;\n",
       "}\n",
       "\n",
       "/* Serial-specific style estimator block */\n",
       "\n",
       "#sk-container-id-1 div.sk-serial {\n",
       "  display: flex;\n",
       "  flex-direction: column;\n",
       "  align-items: center;\n",
       "  background-color: var(--sklearn-color-background);\n",
       "  padding-right: 1em;\n",
       "  padding-left: 1em;\n",
       "}\n",
       "\n",
       "\n",
       "/* Toggleable style: style used for estimator/Pipeline/ColumnTransformer box that is\n",
       "clickable and can be expanded/collapsed.\n",
       "- Pipeline and ColumnTransformer use this feature and define the default style\n",
       "- Estimators will overwrite some part of the style using the `sk-estimator` class\n",
       "*/\n",
       "\n",
       "/* Pipeline and ColumnTransformer style (default) */\n",
       "\n",
       "#sk-container-id-1 div.sk-toggleable {\n",
       "  /* Default theme specific background. It is overwritten whether we have a\n",
       "  specific estimator or a Pipeline/ColumnTransformer */\n",
       "  background-color: var(--sklearn-color-background);\n",
       "}\n",
       "\n",
       "/* Toggleable label */\n",
       "#sk-container-id-1 label.sk-toggleable__label {\n",
       "  cursor: pointer;\n",
       "  display: block;\n",
       "  width: 100%;\n",
       "  margin-bottom: 0;\n",
       "  padding: 0.5em;\n",
       "  box-sizing: border-box;\n",
       "  text-align: center;\n",
       "}\n",
       "\n",
       "#sk-container-id-1 label.sk-toggleable__label-arrow:before {\n",
       "  /* Arrow on the left of the label */\n",
       "  content: \"▸\";\n",
       "  float: left;\n",
       "  margin-right: 0.25em;\n",
       "  color: var(--sklearn-color-icon);\n",
       "}\n",
       "\n",
       "#sk-container-id-1 label.sk-toggleable__label-arrow:hover:before {\n",
       "  color: var(--sklearn-color-text);\n",
       "}\n",
       "\n",
       "/* Toggleable content - dropdown */\n",
       "\n",
       "#sk-container-id-1 div.sk-toggleable__content {\n",
       "  max-height: 0;\n",
       "  max-width: 0;\n",
       "  overflow: hidden;\n",
       "  text-align: left;\n",
       "  /* unfitted */\n",
       "  background-color: var(--sklearn-color-unfitted-level-0);\n",
       "}\n",
       "\n",
       "#sk-container-id-1 div.sk-toggleable__content.fitted {\n",
       "  /* fitted */\n",
       "  background-color: var(--sklearn-color-fitted-level-0);\n",
       "}\n",
       "\n",
       "#sk-container-id-1 div.sk-toggleable__content pre {\n",
       "  margin: 0.2em;\n",
       "  border-radius: 0.25em;\n",
       "  color: var(--sklearn-color-text);\n",
       "  /* unfitted */\n",
       "  background-color: var(--sklearn-color-unfitted-level-0);\n",
       "}\n",
       "\n",
       "#sk-container-id-1 div.sk-toggleable__content.fitted pre {\n",
       "  /* unfitted */\n",
       "  background-color: var(--sklearn-color-fitted-level-0);\n",
       "}\n",
       "\n",
       "#sk-container-id-1 input.sk-toggleable__control:checked~div.sk-toggleable__content {\n",
       "  /* Expand drop-down */\n",
       "  max-height: 200px;\n",
       "  max-width: 100%;\n",
       "  overflow: auto;\n",
       "}\n",
       "\n",
       "#sk-container-id-1 input.sk-toggleable__control:checked~label.sk-toggleable__label-arrow:before {\n",
       "  content: \"▾\";\n",
       "}\n",
       "\n",
       "/* Pipeline/ColumnTransformer-specific style */\n",
       "\n",
       "#sk-container-id-1 div.sk-label input.sk-toggleable__control:checked~label.sk-toggleable__label {\n",
       "  color: var(--sklearn-color-text);\n",
       "  background-color: var(--sklearn-color-unfitted-level-2);\n",
       "}\n",
       "\n",
       "#sk-container-id-1 div.sk-label.fitted input.sk-toggleable__control:checked~label.sk-toggleable__label {\n",
       "  background-color: var(--sklearn-color-fitted-level-2);\n",
       "}\n",
       "\n",
       "/* Estimator-specific style */\n",
       "\n",
       "/* Colorize estimator box */\n",
       "#sk-container-id-1 div.sk-estimator input.sk-toggleable__control:checked~label.sk-toggleable__label {\n",
       "  /* unfitted */\n",
       "  background-color: var(--sklearn-color-unfitted-level-2);\n",
       "}\n",
       "\n",
       "#sk-container-id-1 div.sk-estimator.fitted input.sk-toggleable__control:checked~label.sk-toggleable__label {\n",
       "  /* fitted */\n",
       "  background-color: var(--sklearn-color-fitted-level-2);\n",
       "}\n",
       "\n",
       "#sk-container-id-1 div.sk-label label.sk-toggleable__label,\n",
       "#sk-container-id-1 div.sk-label label {\n",
       "  /* The background is the default theme color */\n",
       "  color: var(--sklearn-color-text-on-default-background);\n",
       "}\n",
       "\n",
       "/* On hover, darken the color of the background */\n",
       "#sk-container-id-1 div.sk-label:hover label.sk-toggleable__label {\n",
       "  color: var(--sklearn-color-text);\n",
       "  background-color: var(--sklearn-color-unfitted-level-2);\n",
       "}\n",
       "\n",
       "/* Label box, darken color on hover, fitted */\n",
       "#sk-container-id-1 div.sk-label.fitted:hover label.sk-toggleable__label.fitted {\n",
       "  color: var(--sklearn-color-text);\n",
       "  background-color: var(--sklearn-color-fitted-level-2);\n",
       "}\n",
       "\n",
       "/* Estimator label */\n",
       "\n",
       "#sk-container-id-1 div.sk-label label {\n",
       "  font-family: monospace;\n",
       "  font-weight: bold;\n",
       "  display: inline-block;\n",
       "  line-height: 1.2em;\n",
       "}\n",
       "\n",
       "#sk-container-id-1 div.sk-label-container {\n",
       "  text-align: center;\n",
       "}\n",
       "\n",
       "/* Estimator-specific */\n",
       "#sk-container-id-1 div.sk-estimator {\n",
       "  font-family: monospace;\n",
       "  border: 1px dotted var(--sklearn-color-border-box);\n",
       "  border-radius: 0.25em;\n",
       "  box-sizing: border-box;\n",
       "  margin-bottom: 0.5em;\n",
       "  /* unfitted */\n",
       "  background-color: var(--sklearn-color-unfitted-level-0);\n",
       "}\n",
       "\n",
       "#sk-container-id-1 div.sk-estimator.fitted {\n",
       "  /* fitted */\n",
       "  background-color: var(--sklearn-color-fitted-level-0);\n",
       "}\n",
       "\n",
       "/* on hover */\n",
       "#sk-container-id-1 div.sk-estimator:hover {\n",
       "  /* unfitted */\n",
       "  background-color: var(--sklearn-color-unfitted-level-2);\n",
       "}\n",
       "\n",
       "#sk-container-id-1 div.sk-estimator.fitted:hover {\n",
       "  /* fitted */\n",
       "  background-color: var(--sklearn-color-fitted-level-2);\n",
       "}\n",
       "\n",
       "/* Specification for estimator info (e.g. \"i\" and \"?\") */\n",
       "\n",
       "/* Common style for \"i\" and \"?\" */\n",
       "\n",
       ".sk-estimator-doc-link,\n",
       "a:link.sk-estimator-doc-link,\n",
       "a:visited.sk-estimator-doc-link {\n",
       "  float: right;\n",
       "  font-size: smaller;\n",
       "  line-height: 1em;\n",
       "  font-family: monospace;\n",
       "  background-color: var(--sklearn-color-background);\n",
       "  border-radius: 1em;\n",
       "  height: 1em;\n",
       "  width: 1em;\n",
       "  text-decoration: none !important;\n",
       "  margin-left: 1ex;\n",
       "  /* unfitted */\n",
       "  border: var(--sklearn-color-unfitted-level-1) 1pt solid;\n",
       "  color: var(--sklearn-color-unfitted-level-1);\n",
       "}\n",
       "\n",
       ".sk-estimator-doc-link.fitted,\n",
       "a:link.sk-estimator-doc-link.fitted,\n",
       "a:visited.sk-estimator-doc-link.fitted {\n",
       "  /* fitted */\n",
       "  border: var(--sklearn-color-fitted-level-1) 1pt solid;\n",
       "  color: var(--sklearn-color-fitted-level-1);\n",
       "}\n",
       "\n",
       "/* On hover */\n",
       "div.sk-estimator:hover .sk-estimator-doc-link:hover,\n",
       ".sk-estimator-doc-link:hover,\n",
       "div.sk-label-container:hover .sk-estimator-doc-link:hover,\n",
       ".sk-estimator-doc-link:hover {\n",
       "  /* unfitted */\n",
       "  background-color: var(--sklearn-color-unfitted-level-3);\n",
       "  color: var(--sklearn-color-background);\n",
       "  text-decoration: none;\n",
       "}\n",
       "\n",
       "div.sk-estimator.fitted:hover .sk-estimator-doc-link.fitted:hover,\n",
       ".sk-estimator-doc-link.fitted:hover,\n",
       "div.sk-label-container:hover .sk-estimator-doc-link.fitted:hover,\n",
       ".sk-estimator-doc-link.fitted:hover {\n",
       "  /* fitted */\n",
       "  background-color: var(--sklearn-color-fitted-level-3);\n",
       "  color: var(--sklearn-color-background);\n",
       "  text-decoration: none;\n",
       "}\n",
       "\n",
       "/* Span, style for the box shown on hovering the info icon */\n",
       ".sk-estimator-doc-link span {\n",
       "  display: none;\n",
       "  z-index: 9999;\n",
       "  position: relative;\n",
       "  font-weight: normal;\n",
       "  right: .2ex;\n",
       "  padding: .5ex;\n",
       "  margin: .5ex;\n",
       "  width: min-content;\n",
       "  min-width: 20ex;\n",
       "  max-width: 50ex;\n",
       "  color: var(--sklearn-color-text);\n",
       "  box-shadow: 2pt 2pt 4pt #999;\n",
       "  /* unfitted */\n",
       "  background: var(--sklearn-color-unfitted-level-0);\n",
       "  border: .5pt solid var(--sklearn-color-unfitted-level-3);\n",
       "}\n",
       "\n",
       ".sk-estimator-doc-link.fitted span {\n",
       "  /* fitted */\n",
       "  background: var(--sklearn-color-fitted-level-0);\n",
       "  border: var(--sklearn-color-fitted-level-3);\n",
       "}\n",
       "\n",
       ".sk-estimator-doc-link:hover span {\n",
       "  display: block;\n",
       "}\n",
       "\n",
       "/* \"?\"-specific style due to the `<a>` HTML tag */\n",
       "\n",
       "#sk-container-id-1 a.estimator_doc_link {\n",
       "  float: right;\n",
       "  font-size: 1rem;\n",
       "  line-height: 1em;\n",
       "  font-family: monospace;\n",
       "  background-color: var(--sklearn-color-background);\n",
       "  border-radius: 1rem;\n",
       "  height: 1rem;\n",
       "  width: 1rem;\n",
       "  text-decoration: none;\n",
       "  /* unfitted */\n",
       "  color: var(--sklearn-color-unfitted-level-1);\n",
       "  border: var(--sklearn-color-unfitted-level-1) 1pt solid;\n",
       "}\n",
       "\n",
       "#sk-container-id-1 a.estimator_doc_link.fitted {\n",
       "  /* fitted */\n",
       "  border: var(--sklearn-color-fitted-level-1) 1pt solid;\n",
       "  color: var(--sklearn-color-fitted-level-1);\n",
       "}\n",
       "\n",
       "/* On hover */\n",
       "#sk-container-id-1 a.estimator_doc_link:hover {\n",
       "  /* unfitted */\n",
       "  background-color: var(--sklearn-color-unfitted-level-3);\n",
       "  color: var(--sklearn-color-background);\n",
       "  text-decoration: none;\n",
       "}\n",
       "\n",
       "#sk-container-id-1 a.estimator_doc_link.fitted:hover {\n",
       "  /* fitted */\n",
       "  background-color: var(--sklearn-color-fitted-level-3);\n",
       "}\n",
       "</style><div id=\"sk-container-id-1\" class=\"sk-top-container\"><div class=\"sk-text-repr-fallback\"><pre>LGBMClassifier(max_depth=8, n_estimators=1000, n_jobs=-1, random_state=42,\n",
       "               scale_pos_weight=21.48386711700641)</pre><b>In a Jupyter environment, please rerun this cell to show the HTML representation or trust the notebook. <br />On GitHub, the HTML representation is unable to render, please try loading this page with nbviewer.org.</b></div><div class=\"sk-container\" hidden><div class=\"sk-item\"><div class=\"sk-estimator fitted sk-toggleable\"><input class=\"sk-toggleable__control sk-hidden--visually\" id=\"sk-estimator-id-1\" type=\"checkbox\" checked><label for=\"sk-estimator-id-1\" class=\"sk-toggleable__label fitted sk-toggleable__label-arrow fitted\">&nbsp;LGBMClassifier<span class=\"sk-estimator-doc-link fitted\">i<span>Fitted</span></span></label><div class=\"sk-toggleable__content fitted\"><pre>LGBMClassifier(max_depth=8, n_estimators=1000, n_jobs=-1, random_state=42,\n",
       "               scale_pos_weight=21.48386711700641)</pre></div> </div></div></div></div>"
      ]
     },
     "execution_count": 196,
     "metadata": {},
     "output_type": "execute_result"
    }
   ],
   "execution_count": 196
  },
  {
   "metadata": {},
   "cell_type": "markdown",
   "source": [
    "Finally, I fit and measure performance."
   ],
   "id": "753a0e895cd7cc3e"
  },
  {
   "metadata": {},
   "cell_type": "markdown",
   "source": [],
   "id": "3d28eee7afe11a3f"
  },
  {
   "metadata": {},
   "cell_type": "markdown",
   "source": [
    "# TESTING"
   ],
   "id": "6862669c0cd29b3b"
  },
  {
   "metadata": {},
   "cell_type": "markdown",
   "source": [
    "Apply the necessary preprocessing to the training data. First merging:"
   ],
   "id": "16fccb9bb8568dd8"
  },
  {
   "metadata": {
    "ExecuteTime": {
     "end_time": "2024-10-07T01:01:53.227927Z",
     "start_time": "2024-10-07T01:01:51.881869Z"
    }
   },
   "cell_type": "code",
   "source": [
    "# Merge order data\n",
    "order_products__train_processed = order_products__train.merge(orders,\n",
    "                                                              on=\"order_id\",\n",
    "                                                              how='left')\n",
    "\n",
    "# Merge product data\n",
    "order_products__train_processed = order_products__train_processed.merge(products,\n",
    "                                                                        on=\"product_id\",\n",
    "                                                                        how='left')\n",
    "\n",
    "# Drop product_name because it is colinear with product_id\n",
    "order_products__train_processed.drop(\"product_name\",\n",
    "                                     axis=1,\n",
    "                                     inplace=True)\n",
    "\n",
    "order_products__train_processed.drop(\"eval_set\",\n",
    "                                     axis=1,\n",
    "                                     inplace=True)\n",
    "\n",
    "order_products__train_processed.head()"
   ],
   "id": "e2f23d49830a7030",
   "outputs": [
    {
     "data": {
      "text/plain": [
       "   order_id  product_id  add_to_cart_order  reordered  user_id  order_number  \\\n",
       "0         1       49302                  1          1   112108             4   \n",
       "1         1       11109                  2          1   112108             4   \n",
       "2         1       10246                  3          0   112108             4   \n",
       "3         1       49683                  4          0   112108             4   \n",
       "4         1       43633                  5          1   112108             4   \n",
       "\n",
       "   order_dow  order_hour_of_day  days_since_prior_order  aisle_id  \\\n",
       "0          4                 10                     9.0       120   \n",
       "1          4                 10                     9.0       108   \n",
       "2          4                 10                     9.0        83   \n",
       "3          4                 10                     9.0        83   \n",
       "4          4                 10                     9.0        95   \n",
       "\n",
       "   department_id  \n",
       "0             16  \n",
       "1             16  \n",
       "2              4  \n",
       "3              4  \n",
       "4             15  "
      ],
      "text/html": [
       "<div>\n",
       "<style scoped>\n",
       "    .dataframe tbody tr th:only-of-type {\n",
       "        vertical-align: middle;\n",
       "    }\n",
       "\n",
       "    .dataframe tbody tr th {\n",
       "        vertical-align: top;\n",
       "    }\n",
       "\n",
       "    .dataframe thead th {\n",
       "        text-align: right;\n",
       "    }\n",
       "</style>\n",
       "<table border=\"1\" class=\"dataframe\">\n",
       "  <thead>\n",
       "    <tr style=\"text-align: right;\">\n",
       "      <th></th>\n",
       "      <th>order_id</th>\n",
       "      <th>product_id</th>\n",
       "      <th>add_to_cart_order</th>\n",
       "      <th>reordered</th>\n",
       "      <th>user_id</th>\n",
       "      <th>order_number</th>\n",
       "      <th>order_dow</th>\n",
       "      <th>order_hour_of_day</th>\n",
       "      <th>days_since_prior_order</th>\n",
       "      <th>aisle_id</th>\n",
       "      <th>department_id</th>\n",
       "    </tr>\n",
       "  </thead>\n",
       "  <tbody>\n",
       "    <tr>\n",
       "      <th>0</th>\n",
       "      <td>1</td>\n",
       "      <td>49302</td>\n",
       "      <td>1</td>\n",
       "      <td>1</td>\n",
       "      <td>112108</td>\n",
       "      <td>4</td>\n",
       "      <td>4</td>\n",
       "      <td>10</td>\n",
       "      <td>9.0</td>\n",
       "      <td>120</td>\n",
       "      <td>16</td>\n",
       "    </tr>\n",
       "    <tr>\n",
       "      <th>1</th>\n",
       "      <td>1</td>\n",
       "      <td>11109</td>\n",
       "      <td>2</td>\n",
       "      <td>1</td>\n",
       "      <td>112108</td>\n",
       "      <td>4</td>\n",
       "      <td>4</td>\n",
       "      <td>10</td>\n",
       "      <td>9.0</td>\n",
       "      <td>108</td>\n",
       "      <td>16</td>\n",
       "    </tr>\n",
       "    <tr>\n",
       "      <th>2</th>\n",
       "      <td>1</td>\n",
       "      <td>10246</td>\n",
       "      <td>3</td>\n",
       "      <td>0</td>\n",
       "      <td>112108</td>\n",
       "      <td>4</td>\n",
       "      <td>4</td>\n",
       "      <td>10</td>\n",
       "      <td>9.0</td>\n",
       "      <td>83</td>\n",
       "      <td>4</td>\n",
       "    </tr>\n",
       "    <tr>\n",
       "      <th>3</th>\n",
       "      <td>1</td>\n",
       "      <td>49683</td>\n",
       "      <td>4</td>\n",
       "      <td>0</td>\n",
       "      <td>112108</td>\n",
       "      <td>4</td>\n",
       "      <td>4</td>\n",
       "      <td>10</td>\n",
       "      <td>9.0</td>\n",
       "      <td>83</td>\n",
       "      <td>4</td>\n",
       "    </tr>\n",
       "    <tr>\n",
       "      <th>4</th>\n",
       "      <td>1</td>\n",
       "      <td>43633</td>\n",
       "      <td>5</td>\n",
       "      <td>1</td>\n",
       "      <td>112108</td>\n",
       "      <td>4</td>\n",
       "      <td>4</td>\n",
       "      <td>10</td>\n",
       "      <td>9.0</td>\n",
       "      <td>95</td>\n",
       "      <td>15</td>\n",
       "    </tr>\n",
       "  </tbody>\n",
       "</table>\n",
       "</div>"
      ]
     },
     "execution_count": 197,
     "metadata": {},
     "output_type": "execute_result"
    }
   ],
   "execution_count": 197
  },
  {
   "metadata": {},
   "cell_type": "markdown",
   "source": [
    "Then handling of target var."
   ],
   "id": "36ee793e2f227c6c"
  },
  {
   "metadata": {
    "ExecuteTime": {
     "end_time": "2024-10-07T01:01:53.481032Z",
     "start_time": "2024-10-07T01:01:53.228920Z"
    }
   },
   "cell_type": "code",
   "source": [
    "# Create mask for large lemon products\n",
    "is_large_lemon = order_products__train_processed['product_id'].isin(large_lemon_ids_int)\n",
    "\n",
    "# Find the min add_to_cart_order of large lemon products within each order\n",
    "large_lemon_orders = order_products__train_processed[is_large_lemon].groupby('order_id')['add_to_cart_order'].min().reset_index()\n",
    "large_lemon_orders.columns = ['order_id', 'large_lemon_add_to_cart_order']\n",
    "\n",
    "# Merge large lemon add_to_cart_order back to the original DataFrame\n",
    "order_products_with_lemon_order = order_products__train_processed.merge(large_lemon_orders,\n",
    "                                                                        on='order_id',\n",
    "                                                                        how='left')\n",
    "\n",
    "# Drop rows where add_to_cart_order is greater than the large lemon add_to_cart_order\n",
    "# also ake sure large_lemon_add_to_cart_order is not null\n",
    "order_products__train_processed = order_products_with_lemon_order[\n",
    "    (order_products_with_lemon_order['add_to_cart_order'] <= order_products_with_lemon_order['large_lemon_add_to_cart_order']) |\n",
    "    (order_products_with_lemon_order['large_lemon_add_to_cart_order'].isnull())\n",
    "    ]\n",
    "\n",
    "# Drop extra large_lemon_add_to_cart_order col\n",
    "order_products__train_processed.drop('large_lemon_add_to_cart_order',\n",
    "                                     axis=1,\n",
    "                                     inplace=True)\n",
    "\n",
    "order_products__train_processed.head()"
   ],
   "id": "3556105be1634bd6",
   "outputs": [
    {
     "name": "stderr",
     "output_type": "stream",
     "text": [
      "C:\\Users\\rmcne\\AppData\\Local\\Temp\\ipykernel_10328\\2108267737.py:21: SettingWithCopyWarning: \n",
      "A value is trying to be set on a copy of a slice from a DataFrame\n",
      "\n",
      "See the caveats in the documentation: https://pandas.pydata.org/pandas-docs/stable/user_guide/indexing.html#returning-a-view-versus-a-copy\n",
      "  order_products__train_processed.drop('large_lemon_add_to_cart_order',\n"
     ]
    },
    {
     "data": {
      "text/plain": [
       "   order_id  product_id  add_to_cart_order  reordered  user_id  order_number  \\\n",
       "0         1       49302                  1          1   112108             4   \n",
       "1         1       11109                  2          1   112108             4   \n",
       "2         1       10246                  3          0   112108             4   \n",
       "3         1       49683                  4          0   112108             4   \n",
       "4         1       43633                  5          1   112108             4   \n",
       "\n",
       "   order_dow  order_hour_of_day  days_since_prior_order  aisle_id  \\\n",
       "0          4                 10                     9.0       120   \n",
       "1          4                 10                     9.0       108   \n",
       "2          4                 10                     9.0        83   \n",
       "3          4                 10                     9.0        83   \n",
       "4          4                 10                     9.0        95   \n",
       "\n",
       "   department_id  \n",
       "0             16  \n",
       "1             16  \n",
       "2              4  \n",
       "3              4  \n",
       "4             15  "
      ],
      "text/html": [
       "<div>\n",
       "<style scoped>\n",
       "    .dataframe tbody tr th:only-of-type {\n",
       "        vertical-align: middle;\n",
       "    }\n",
       "\n",
       "    .dataframe tbody tr th {\n",
       "        vertical-align: top;\n",
       "    }\n",
       "\n",
       "    .dataframe thead th {\n",
       "        text-align: right;\n",
       "    }\n",
       "</style>\n",
       "<table border=\"1\" class=\"dataframe\">\n",
       "  <thead>\n",
       "    <tr style=\"text-align: right;\">\n",
       "      <th></th>\n",
       "      <th>order_id</th>\n",
       "      <th>product_id</th>\n",
       "      <th>add_to_cart_order</th>\n",
       "      <th>reordered</th>\n",
       "      <th>user_id</th>\n",
       "      <th>order_number</th>\n",
       "      <th>order_dow</th>\n",
       "      <th>order_hour_of_day</th>\n",
       "      <th>days_since_prior_order</th>\n",
       "      <th>aisle_id</th>\n",
       "      <th>department_id</th>\n",
       "    </tr>\n",
       "  </thead>\n",
       "  <tbody>\n",
       "    <tr>\n",
       "      <th>0</th>\n",
       "      <td>1</td>\n",
       "      <td>49302</td>\n",
       "      <td>1</td>\n",
       "      <td>1</td>\n",
       "      <td>112108</td>\n",
       "      <td>4</td>\n",
       "      <td>4</td>\n",
       "      <td>10</td>\n",
       "      <td>9.0</td>\n",
       "      <td>120</td>\n",
       "      <td>16</td>\n",
       "    </tr>\n",
       "    <tr>\n",
       "      <th>1</th>\n",
       "      <td>1</td>\n",
       "      <td>11109</td>\n",
       "      <td>2</td>\n",
       "      <td>1</td>\n",
       "      <td>112108</td>\n",
       "      <td>4</td>\n",
       "      <td>4</td>\n",
       "      <td>10</td>\n",
       "      <td>9.0</td>\n",
       "      <td>108</td>\n",
       "      <td>16</td>\n",
       "    </tr>\n",
       "    <tr>\n",
       "      <th>2</th>\n",
       "      <td>1</td>\n",
       "      <td>10246</td>\n",
       "      <td>3</td>\n",
       "      <td>0</td>\n",
       "      <td>112108</td>\n",
       "      <td>4</td>\n",
       "      <td>4</td>\n",
       "      <td>10</td>\n",
       "      <td>9.0</td>\n",
       "      <td>83</td>\n",
       "      <td>4</td>\n",
       "    </tr>\n",
       "    <tr>\n",
       "      <th>3</th>\n",
       "      <td>1</td>\n",
       "      <td>49683</td>\n",
       "      <td>4</td>\n",
       "      <td>0</td>\n",
       "      <td>112108</td>\n",
       "      <td>4</td>\n",
       "      <td>4</td>\n",
       "      <td>10</td>\n",
       "      <td>9.0</td>\n",
       "      <td>83</td>\n",
       "      <td>4</td>\n",
       "    </tr>\n",
       "    <tr>\n",
       "      <th>4</th>\n",
       "      <td>1</td>\n",
       "      <td>43633</td>\n",
       "      <td>5</td>\n",
       "      <td>1</td>\n",
       "      <td>112108</td>\n",
       "      <td>4</td>\n",
       "      <td>4</td>\n",
       "      <td>10</td>\n",
       "      <td>9.0</td>\n",
       "      <td>95</td>\n",
       "      <td>15</td>\n",
       "    </tr>\n",
       "  </tbody>\n",
       "</table>\n",
       "</div>"
      ]
     },
     "execution_count": 198,
     "metadata": {},
     "output_type": "execute_result"
    }
   ],
   "execution_count": 198
  },
  {
   "metadata": {},
   "cell_type": "markdown",
   "source": [
    "Then confidence scores"
   ],
   "id": "73f1b75e47d83000"
  },
  {
   "metadata": {
    "ExecuteTime": {
     "end_time": "2024-10-07T01:01:53.706973Z",
     "start_time": "2024-10-07T01:01:53.482032Z"
    }
   },
   "cell_type": "code",
   "source": [
    "# New column 'product_confidence' by mapping the product_id to its confidence score\n",
    "order_products__train_processed['product_confidence'] = order_products__train_processed['product_id'].map(lemon_first_conf_dict)\n",
    "\n",
    "# Fill NaN values with 0, assuming products not in the lemon_conf_dict have a confidence score of 0\n",
    "order_products__train_processed['product_confidence'].fillna(0,\n",
    "                                                             inplace=True)\n",
    "# Group by order_id and sum product_confidence scores\n",
    "order_confidence_sum = order_products__train_processed.groupby('order_id')['product_confidence'].sum().reset_index()\n",
    "\n",
    "# Rename the column to indicate it's the sum of confidence scores for the order\n",
    "order_confidence_sum.columns = ['order_id', 'order_confidence_sum']\n",
    "\n",
    "# Merge the sum of confidence scores back into the original DataFrame\n",
    "order_products__train_processed = order_products__train_processed.merge(order_confidence_sum,\n",
    "                                                                        on='order_id',\n",
    "                                                                        how='left')\n",
    "\n",
    "# drop unnecessary column \n",
    "order_products__train_processed.drop(['product_confidence'], axis=1, inplace=True)\n",
    "\n",
    "order_products__train_processed.head()"
   ],
   "id": "9a9e654dfdbde48e",
   "outputs": [
    {
     "name": "stderr",
     "output_type": "stream",
     "text": [
      "C:\\Users\\rmcne\\AppData\\Local\\Temp\\ipykernel_10328\\971177540.py:2: SettingWithCopyWarning: \n",
      "A value is trying to be set on a copy of a slice from a DataFrame.\n",
      "Try using .loc[row_indexer,col_indexer] = value instead\n",
      "\n",
      "See the caveats in the documentation: https://pandas.pydata.org/pandas-docs/stable/user_guide/indexing.html#returning-a-view-versus-a-copy\n",
      "  order_products__train_processed['product_confidence'] = order_products__train_processed['product_id'].map(lemon_first_conf_dict)\n",
      "C:\\Users\\rmcne\\AppData\\Local\\Temp\\ipykernel_10328\\971177540.py:5: FutureWarning: A value is trying to be set on a copy of a DataFrame or Series through chained assignment using an inplace method.\n",
      "The behavior will change in pandas 3.0. This inplace method will never work because the intermediate object on which we are setting values always behaves as a copy.\n",
      "\n",
      "For example, when doing 'df[col].method(value, inplace=True)', try using 'df.method({col: value}, inplace=True)' or df[col] = df[col].method(value) instead, to perform the operation inplace on the original object.\n",
      "\n",
      "\n",
      "  order_products__train_processed['product_confidence'].fillna(0,\n",
      "C:\\Users\\rmcne\\AppData\\Local\\Temp\\ipykernel_10328\\971177540.py:5: SettingWithCopyWarning: \n",
      "A value is trying to be set on a copy of a slice from a DataFrame\n",
      "\n",
      "See the caveats in the documentation: https://pandas.pydata.org/pandas-docs/stable/user_guide/indexing.html#returning-a-view-versus-a-copy\n",
      "  order_products__train_processed['product_confidence'].fillna(0,\n"
     ]
    },
    {
     "data": {
      "text/plain": [
       "   order_id  product_id  add_to_cart_order  reordered  user_id  order_number  \\\n",
       "0         1       49302                  1          1   112108             4   \n",
       "1         1       11109                  2          1   112108             4   \n",
       "2         1       10246                  3          0   112108             4   \n",
       "3         1       49683                  4          0   112108             4   \n",
       "4         1       43633                  5          1   112108             4   \n",
       "\n",
       "   order_dow  order_hour_of_day  days_since_prior_order  aisle_id  \\\n",
       "0          4                 10                     9.0       120   \n",
       "1          4                 10                     9.0       108   \n",
       "2          4                 10                     9.0        83   \n",
       "3          4                 10                     9.0        83   \n",
       "4          4                 10                     9.0        95   \n",
       "\n",
       "   department_id  order_confidence_sum  \n",
       "0             16              0.256503  \n",
       "1             16              0.256503  \n",
       "2              4              0.256503  \n",
       "3              4              0.256503  \n",
       "4             15              0.256503  "
      ],
      "text/html": [
       "<div>\n",
       "<style scoped>\n",
       "    .dataframe tbody tr th:only-of-type {\n",
       "        vertical-align: middle;\n",
       "    }\n",
       "\n",
       "    .dataframe tbody tr th {\n",
       "        vertical-align: top;\n",
       "    }\n",
       "\n",
       "    .dataframe thead th {\n",
       "        text-align: right;\n",
       "    }\n",
       "</style>\n",
       "<table border=\"1\" class=\"dataframe\">\n",
       "  <thead>\n",
       "    <tr style=\"text-align: right;\">\n",
       "      <th></th>\n",
       "      <th>order_id</th>\n",
       "      <th>product_id</th>\n",
       "      <th>add_to_cart_order</th>\n",
       "      <th>reordered</th>\n",
       "      <th>user_id</th>\n",
       "      <th>order_number</th>\n",
       "      <th>order_dow</th>\n",
       "      <th>order_hour_of_day</th>\n",
       "      <th>days_since_prior_order</th>\n",
       "      <th>aisle_id</th>\n",
       "      <th>department_id</th>\n",
       "      <th>order_confidence_sum</th>\n",
       "    </tr>\n",
       "  </thead>\n",
       "  <tbody>\n",
       "    <tr>\n",
       "      <th>0</th>\n",
       "      <td>1</td>\n",
       "      <td>49302</td>\n",
       "      <td>1</td>\n",
       "      <td>1</td>\n",
       "      <td>112108</td>\n",
       "      <td>4</td>\n",
       "      <td>4</td>\n",
       "      <td>10</td>\n",
       "      <td>9.0</td>\n",
       "      <td>120</td>\n",
       "      <td>16</td>\n",
       "      <td>0.256503</td>\n",
       "    </tr>\n",
       "    <tr>\n",
       "      <th>1</th>\n",
       "      <td>1</td>\n",
       "      <td>11109</td>\n",
       "      <td>2</td>\n",
       "      <td>1</td>\n",
       "      <td>112108</td>\n",
       "      <td>4</td>\n",
       "      <td>4</td>\n",
       "      <td>10</td>\n",
       "      <td>9.0</td>\n",
       "      <td>108</td>\n",
       "      <td>16</td>\n",
       "      <td>0.256503</td>\n",
       "    </tr>\n",
       "    <tr>\n",
       "      <th>2</th>\n",
       "      <td>1</td>\n",
       "      <td>10246</td>\n",
       "      <td>3</td>\n",
       "      <td>0</td>\n",
       "      <td>112108</td>\n",
       "      <td>4</td>\n",
       "      <td>4</td>\n",
       "      <td>10</td>\n",
       "      <td>9.0</td>\n",
       "      <td>83</td>\n",
       "      <td>4</td>\n",
       "      <td>0.256503</td>\n",
       "    </tr>\n",
       "    <tr>\n",
       "      <th>3</th>\n",
       "      <td>1</td>\n",
       "      <td>49683</td>\n",
       "      <td>4</td>\n",
       "      <td>0</td>\n",
       "      <td>112108</td>\n",
       "      <td>4</td>\n",
       "      <td>4</td>\n",
       "      <td>10</td>\n",
       "      <td>9.0</td>\n",
       "      <td>83</td>\n",
       "      <td>4</td>\n",
       "      <td>0.256503</td>\n",
       "    </tr>\n",
       "    <tr>\n",
       "      <th>4</th>\n",
       "      <td>1</td>\n",
       "      <td>43633</td>\n",
       "      <td>5</td>\n",
       "      <td>1</td>\n",
       "      <td>112108</td>\n",
       "      <td>4</td>\n",
       "      <td>4</td>\n",
       "      <td>10</td>\n",
       "      <td>9.0</td>\n",
       "      <td>95</td>\n",
       "      <td>15</td>\n",
       "      <td>0.256503</td>\n",
       "    </tr>\n",
       "  </tbody>\n",
       "</table>\n",
       "</div>"
      ]
     },
     "execution_count": 199,
     "metadata": {},
     "output_type": "execute_result"
    }
   ],
   "execution_count": 199
  },
  {
   "metadata": {},
   "cell_type": "markdown",
   "source": [
    "Drop cols."
   ],
   "id": "36027de00a394690"
  },
  {
   "metadata": {
    "ExecuteTime": {
     "end_time": "2024-10-07T01:01:53.745212Z",
     "start_time": "2024-10-07T01:01:53.706973Z"
    }
   },
   "cell_type": "code",
   "source": [
    "order_products__train_processed.drop(['aisle_id', 'department_id'], axis=1, inplace=True)"
   ],
   "id": "62ef531576d1209d",
   "outputs": [],
   "execution_count": 200
  },
  {
   "metadata": {},
   "cell_type": "markdown",
   "source": [
    "Create our target var"
   ],
   "id": "97e19381f4a32490"
  },
  {
   "metadata": {
    "ExecuteTime": {
     "end_time": "2024-10-07T01:01:54.367106Z",
     "start_time": "2024-10-07T01:01:53.746205Z"
    }
   },
   "cell_type": "code",
   "source": [
    "# All orders that contain large lemons\n",
    "orders_with_large_lemons = order_products__train_processed[order_products__train_processed['product_id'].isin(large_lemon_ids_int)]['order_id'].unique()\n",
    "\n",
    "# Set contains_large_lemons to 1 for all rows in those orders\n",
    "order_products__train_processed['contains_large_lemons'] = np.where(\n",
    "    order_products__train_processed['order_id'].isin(orders_with_large_lemons),\n",
    "    1,\n",
    "    0)\n",
    "\n",
    "del(orders_with_large_lemons)\n",
    "\n",
    "order_products__train_processed.describe()"
   ],
   "id": "2114ddf5a9849162",
   "outputs": [
    {
     "data": {
      "text/plain": [
       "           order_id    product_id  add_to_cart_order     reordered  \\\n",
       "count  1.314127e+06  1.314127e+06       1.314127e+06  1.314127e+06   \n",
       "mean   1.706816e+06  2.553952e+04       8.413456e+00  6.022911e-01   \n",
       "std    9.895819e+05  1.412776e+04       7.182421e+00  4.894249e-01   \n",
       "min    1.000000e+00  1.000000e+00       1.000000e+00  0.000000e+00   \n",
       "25%    8.446480e+05  1.330400e+04       3.000000e+00  0.000000e+00   \n",
       "50%    1.703570e+06  2.521100e+04       6.000000e+00  1.000000e+00   \n",
       "75%    2.567327e+06  3.792300e+04       1.200000e+01  1.000000e+00   \n",
       "max    3.421070e+06  4.968800e+04       8.000000e+01  1.000000e+00   \n",
       "\n",
       "            user_id  order_number     order_dow  order_hour_of_day  \\\n",
       "count  1.314127e+06  1.314127e+06  1.314127e+06       1.314127e+06   \n",
       "mean   1.030773e+05  1.712583e+01  2.705717e+00       1.358514e+01   \n",
       "std    5.948342e+04  1.670132e+01  2.163289e+00       4.236681e+00   \n",
       "min    1.000000e+00  4.000000e+00  0.000000e+00       0.000000e+00   \n",
       "25%    5.168500e+04  6.000000e+00  1.000000e+00       1.100000e+01   \n",
       "50%    1.028510e+05  1.100000e+01  3.000000e+00       1.400000e+01   \n",
       "75%    1.549440e+05  2.100000e+01  5.000000e+00       1.700000e+01   \n",
       "max    2.062090e+05  1.000000e+02  6.000000e+00       2.300000e+01   \n",
       "\n",
       "       days_since_prior_order  order_confidence_sum  contains_large_lemons  \n",
       "count            1.314127e+06          1.314127e+06           1.314127e+06  \n",
       "mean             1.702237e+01          5.879066e-01           5.054458e-02  \n",
       "std              1.043723e+01          4.524369e-01           2.190659e-01  \n",
       "min              0.000000e+00          0.000000e+00           0.000000e+00  \n",
       "25%              7.000000e+00          2.438099e-01           0.000000e+00  \n",
       "50%              1.500000e+01          4.888003e-01           0.000000e+00  \n",
       "75%              3.000000e+01          8.298339e-01           0.000000e+00  \n",
       "max              3.000000e+01          3.726424e+00           1.000000e+00  "
      ],
      "text/html": [
       "<div>\n",
       "<style scoped>\n",
       "    .dataframe tbody tr th:only-of-type {\n",
       "        vertical-align: middle;\n",
       "    }\n",
       "\n",
       "    .dataframe tbody tr th {\n",
       "        vertical-align: top;\n",
       "    }\n",
       "\n",
       "    .dataframe thead th {\n",
       "        text-align: right;\n",
       "    }\n",
       "</style>\n",
       "<table border=\"1\" class=\"dataframe\">\n",
       "  <thead>\n",
       "    <tr style=\"text-align: right;\">\n",
       "      <th></th>\n",
       "      <th>order_id</th>\n",
       "      <th>product_id</th>\n",
       "      <th>add_to_cart_order</th>\n",
       "      <th>reordered</th>\n",
       "      <th>user_id</th>\n",
       "      <th>order_number</th>\n",
       "      <th>order_dow</th>\n",
       "      <th>order_hour_of_day</th>\n",
       "      <th>days_since_prior_order</th>\n",
       "      <th>order_confidence_sum</th>\n",
       "      <th>contains_large_lemons</th>\n",
       "    </tr>\n",
       "  </thead>\n",
       "  <tbody>\n",
       "    <tr>\n",
       "      <th>count</th>\n",
       "      <td>1.314127e+06</td>\n",
       "      <td>1.314127e+06</td>\n",
       "      <td>1.314127e+06</td>\n",
       "      <td>1.314127e+06</td>\n",
       "      <td>1.314127e+06</td>\n",
       "      <td>1.314127e+06</td>\n",
       "      <td>1.314127e+06</td>\n",
       "      <td>1.314127e+06</td>\n",
       "      <td>1.314127e+06</td>\n",
       "      <td>1.314127e+06</td>\n",
       "      <td>1.314127e+06</td>\n",
       "    </tr>\n",
       "    <tr>\n",
       "      <th>mean</th>\n",
       "      <td>1.706816e+06</td>\n",
       "      <td>2.553952e+04</td>\n",
       "      <td>8.413456e+00</td>\n",
       "      <td>6.022911e-01</td>\n",
       "      <td>1.030773e+05</td>\n",
       "      <td>1.712583e+01</td>\n",
       "      <td>2.705717e+00</td>\n",
       "      <td>1.358514e+01</td>\n",
       "      <td>1.702237e+01</td>\n",
       "      <td>5.879066e-01</td>\n",
       "      <td>5.054458e-02</td>\n",
       "    </tr>\n",
       "    <tr>\n",
       "      <th>std</th>\n",
       "      <td>9.895819e+05</td>\n",
       "      <td>1.412776e+04</td>\n",
       "      <td>7.182421e+00</td>\n",
       "      <td>4.894249e-01</td>\n",
       "      <td>5.948342e+04</td>\n",
       "      <td>1.670132e+01</td>\n",
       "      <td>2.163289e+00</td>\n",
       "      <td>4.236681e+00</td>\n",
       "      <td>1.043723e+01</td>\n",
       "      <td>4.524369e-01</td>\n",
       "      <td>2.190659e-01</td>\n",
       "    </tr>\n",
       "    <tr>\n",
       "      <th>min</th>\n",
       "      <td>1.000000e+00</td>\n",
       "      <td>1.000000e+00</td>\n",
       "      <td>1.000000e+00</td>\n",
       "      <td>0.000000e+00</td>\n",
       "      <td>1.000000e+00</td>\n",
       "      <td>4.000000e+00</td>\n",
       "      <td>0.000000e+00</td>\n",
       "      <td>0.000000e+00</td>\n",
       "      <td>0.000000e+00</td>\n",
       "      <td>0.000000e+00</td>\n",
       "      <td>0.000000e+00</td>\n",
       "    </tr>\n",
       "    <tr>\n",
       "      <th>25%</th>\n",
       "      <td>8.446480e+05</td>\n",
       "      <td>1.330400e+04</td>\n",
       "      <td>3.000000e+00</td>\n",
       "      <td>0.000000e+00</td>\n",
       "      <td>5.168500e+04</td>\n",
       "      <td>6.000000e+00</td>\n",
       "      <td>1.000000e+00</td>\n",
       "      <td>1.100000e+01</td>\n",
       "      <td>7.000000e+00</td>\n",
       "      <td>2.438099e-01</td>\n",
       "      <td>0.000000e+00</td>\n",
       "    </tr>\n",
       "    <tr>\n",
       "      <th>50%</th>\n",
       "      <td>1.703570e+06</td>\n",
       "      <td>2.521100e+04</td>\n",
       "      <td>6.000000e+00</td>\n",
       "      <td>1.000000e+00</td>\n",
       "      <td>1.028510e+05</td>\n",
       "      <td>1.100000e+01</td>\n",
       "      <td>3.000000e+00</td>\n",
       "      <td>1.400000e+01</td>\n",
       "      <td>1.500000e+01</td>\n",
       "      <td>4.888003e-01</td>\n",
       "      <td>0.000000e+00</td>\n",
       "    </tr>\n",
       "    <tr>\n",
       "      <th>75%</th>\n",
       "      <td>2.567327e+06</td>\n",
       "      <td>3.792300e+04</td>\n",
       "      <td>1.200000e+01</td>\n",
       "      <td>1.000000e+00</td>\n",
       "      <td>1.549440e+05</td>\n",
       "      <td>2.100000e+01</td>\n",
       "      <td>5.000000e+00</td>\n",
       "      <td>1.700000e+01</td>\n",
       "      <td>3.000000e+01</td>\n",
       "      <td>8.298339e-01</td>\n",
       "      <td>0.000000e+00</td>\n",
       "    </tr>\n",
       "    <tr>\n",
       "      <th>max</th>\n",
       "      <td>3.421070e+06</td>\n",
       "      <td>4.968800e+04</td>\n",
       "      <td>8.000000e+01</td>\n",
       "      <td>1.000000e+00</td>\n",
       "      <td>2.062090e+05</td>\n",
       "      <td>1.000000e+02</td>\n",
       "      <td>6.000000e+00</td>\n",
       "      <td>2.300000e+01</td>\n",
       "      <td>3.000000e+01</td>\n",
       "      <td>3.726424e+00</td>\n",
       "      <td>1.000000e+00</td>\n",
       "    </tr>\n",
       "  </tbody>\n",
       "</table>\n",
       "</div>"
      ]
     },
     "execution_count": 201,
     "metadata": {},
     "output_type": "execute_result"
    }
   ],
   "execution_count": 201
  },
  {
   "metadata": {},
   "cell_type": "markdown",
   "source": [
    "Drop rows containing lemons for testing"
   ],
   "id": "6c6cd2be5b94f924"
  },
  {
   "metadata": {
    "ExecuteTime": {
     "end_time": "2024-10-07T01:01:54.457517Z",
     "start_time": "2024-10-07T01:01:54.367106Z"
    }
   },
   "cell_type": "code",
   "source": [
    "order_products__train_processed = order_products__train_processed[~order_products__train_processed['product_id'].isin(large_lemon_ids_int)]\n"
   ],
   "id": "f8cc3bf749c14870",
   "outputs": [],
   "execution_count": 202
  },
  {
   "metadata": {},
   "cell_type": "markdown",
   "source": [
    "Aggregate"
   ],
   "id": "3c7b008f1e977667"
  },
  {
   "metadata": {
    "ExecuteTime": {
     "end_time": "2024-10-07T01:01:54.562856Z",
     "start_time": "2024-10-07T01:01:54.458512Z"
    }
   },
   "cell_type": "code",
   "source": [
    "# Aggregate by order_id\n",
    "order_products__train_agg = order_products__train_processed.groupby('order_id').agg({\n",
    "    'product_id': 'count',  # Count the total number of products in the order\n",
    "    'user_id': 'max',  # I take max arbitrarily because all vals should be the same\n",
    "    'order_number': 'max',  # as above\n",
    "    'order_dow': 'max',  # as above\n",
    "    'order_hour_of_day': 'max',  # as above\n",
    "    'days_since_prior_order': 'max',  # as above\n",
    "    'order_confidence_sum': 'max',  # as above\n",
    "    'contains_large_lemons': 'max' # as above\n",
    "}).reset_index()"
   ],
   "id": "3279e54b470cfc1e",
   "outputs": [],
   "execution_count": 203
  },
  {
   "metadata": {
    "ExecuteTime": {
     "end_time": "2024-10-07T01:01:54.570888Z",
     "start_time": "2024-10-07T01:01:54.562856Z"
    }
   },
   "cell_type": "code",
   "source": [
    "order_products__train_agg"
   ],
   "id": "2885201ad2b6896d",
   "outputs": [
    {
     "data": {
      "text/plain": [
       "        order_id  product_id  user_id  order_number  order_dow  \\\n",
       "0              1           8   112108             4          4   \n",
       "1             36           8    79431            23          6   \n",
       "2             38           9    42756             6          6   \n",
       "3             96           7    17227             7          6   \n",
       "4             98          49    56463            41          3   \n",
       "...          ...         ...      ...           ...        ...   \n",
       "130595   3421049           6   189544             4          1   \n",
       "130596   3421056           5    83898            13          2   \n",
       "130597   3421058           8   136952            20          3   \n",
       "130598   3421063           4   169679            30          0   \n",
       "130599   3421070           3   139822            15          6   \n",
       "\n",
       "        order_hour_of_day  days_since_prior_order  order_confidence_sum  \\\n",
       "0                      10                     9.0              0.256503   \n",
       "1                      18                    30.0              0.432410   \n",
       "2                      16                    24.0              0.863057   \n",
       "3                      20                    30.0              0.439826   \n",
       "4                       8                    14.0              2.251450   \n",
       "...                   ...                     ...                   ...   \n",
       "130595                  9                     3.0              0.187479   \n",
       "130596                 20                    11.0              0.067568   \n",
       "130597                 18                    15.0              0.043748   \n",
       "130598                 10                     4.0              0.073204   \n",
       "130599                 10                     8.0              0.083674   \n",
       "\n",
       "        contains_large_lemons  \n",
       "0                           0  \n",
       "1                           0  \n",
       "2                           0  \n",
       "3                           0  \n",
       "4                           0  \n",
       "...                       ...  \n",
       "130595                      0  \n",
       "130596                      0  \n",
       "130597                      0  \n",
       "130598                      0  \n",
       "130599                      0  \n",
       "\n",
       "[130600 rows x 9 columns]"
      ],
      "text/html": [
       "<div>\n",
       "<style scoped>\n",
       "    .dataframe tbody tr th:only-of-type {\n",
       "        vertical-align: middle;\n",
       "    }\n",
       "\n",
       "    .dataframe tbody tr th {\n",
       "        vertical-align: top;\n",
       "    }\n",
       "\n",
       "    .dataframe thead th {\n",
       "        text-align: right;\n",
       "    }\n",
       "</style>\n",
       "<table border=\"1\" class=\"dataframe\">\n",
       "  <thead>\n",
       "    <tr style=\"text-align: right;\">\n",
       "      <th></th>\n",
       "      <th>order_id</th>\n",
       "      <th>product_id</th>\n",
       "      <th>user_id</th>\n",
       "      <th>order_number</th>\n",
       "      <th>order_dow</th>\n",
       "      <th>order_hour_of_day</th>\n",
       "      <th>days_since_prior_order</th>\n",
       "      <th>order_confidence_sum</th>\n",
       "      <th>contains_large_lemons</th>\n",
       "    </tr>\n",
       "  </thead>\n",
       "  <tbody>\n",
       "    <tr>\n",
       "      <th>0</th>\n",
       "      <td>1</td>\n",
       "      <td>8</td>\n",
       "      <td>112108</td>\n",
       "      <td>4</td>\n",
       "      <td>4</td>\n",
       "      <td>10</td>\n",
       "      <td>9.0</td>\n",
       "      <td>0.256503</td>\n",
       "      <td>0</td>\n",
       "    </tr>\n",
       "    <tr>\n",
       "      <th>1</th>\n",
       "      <td>36</td>\n",
       "      <td>8</td>\n",
       "      <td>79431</td>\n",
       "      <td>23</td>\n",
       "      <td>6</td>\n",
       "      <td>18</td>\n",
       "      <td>30.0</td>\n",
       "      <td>0.432410</td>\n",
       "      <td>0</td>\n",
       "    </tr>\n",
       "    <tr>\n",
       "      <th>2</th>\n",
       "      <td>38</td>\n",
       "      <td>9</td>\n",
       "      <td>42756</td>\n",
       "      <td>6</td>\n",
       "      <td>6</td>\n",
       "      <td>16</td>\n",
       "      <td>24.0</td>\n",
       "      <td>0.863057</td>\n",
       "      <td>0</td>\n",
       "    </tr>\n",
       "    <tr>\n",
       "      <th>3</th>\n",
       "      <td>96</td>\n",
       "      <td>7</td>\n",
       "      <td>17227</td>\n",
       "      <td>7</td>\n",
       "      <td>6</td>\n",
       "      <td>20</td>\n",
       "      <td>30.0</td>\n",
       "      <td>0.439826</td>\n",
       "      <td>0</td>\n",
       "    </tr>\n",
       "    <tr>\n",
       "      <th>4</th>\n",
       "      <td>98</td>\n",
       "      <td>49</td>\n",
       "      <td>56463</td>\n",
       "      <td>41</td>\n",
       "      <td>3</td>\n",
       "      <td>8</td>\n",
       "      <td>14.0</td>\n",
       "      <td>2.251450</td>\n",
       "      <td>0</td>\n",
       "    </tr>\n",
       "    <tr>\n",
       "      <th>...</th>\n",
       "      <td>...</td>\n",
       "      <td>...</td>\n",
       "      <td>...</td>\n",
       "      <td>...</td>\n",
       "      <td>...</td>\n",
       "      <td>...</td>\n",
       "      <td>...</td>\n",
       "      <td>...</td>\n",
       "      <td>...</td>\n",
       "    </tr>\n",
       "    <tr>\n",
       "      <th>130595</th>\n",
       "      <td>3421049</td>\n",
       "      <td>6</td>\n",
       "      <td>189544</td>\n",
       "      <td>4</td>\n",
       "      <td>1</td>\n",
       "      <td>9</td>\n",
       "      <td>3.0</td>\n",
       "      <td>0.187479</td>\n",
       "      <td>0</td>\n",
       "    </tr>\n",
       "    <tr>\n",
       "      <th>130596</th>\n",
       "      <td>3421056</td>\n",
       "      <td>5</td>\n",
       "      <td>83898</td>\n",
       "      <td>13</td>\n",
       "      <td>2</td>\n",
       "      <td>20</td>\n",
       "      <td>11.0</td>\n",
       "      <td>0.067568</td>\n",
       "      <td>0</td>\n",
       "    </tr>\n",
       "    <tr>\n",
       "      <th>130597</th>\n",
       "      <td>3421058</td>\n",
       "      <td>8</td>\n",
       "      <td>136952</td>\n",
       "      <td>20</td>\n",
       "      <td>3</td>\n",
       "      <td>18</td>\n",
       "      <td>15.0</td>\n",
       "      <td>0.043748</td>\n",
       "      <td>0</td>\n",
       "    </tr>\n",
       "    <tr>\n",
       "      <th>130598</th>\n",
       "      <td>3421063</td>\n",
       "      <td>4</td>\n",
       "      <td>169679</td>\n",
       "      <td>30</td>\n",
       "      <td>0</td>\n",
       "      <td>10</td>\n",
       "      <td>4.0</td>\n",
       "      <td>0.073204</td>\n",
       "      <td>0</td>\n",
       "    </tr>\n",
       "    <tr>\n",
       "      <th>130599</th>\n",
       "      <td>3421070</td>\n",
       "      <td>3</td>\n",
       "      <td>139822</td>\n",
       "      <td>15</td>\n",
       "      <td>6</td>\n",
       "      <td>10</td>\n",
       "      <td>8.0</td>\n",
       "      <td>0.083674</td>\n",
       "      <td>0</td>\n",
       "    </tr>\n",
       "  </tbody>\n",
       "</table>\n",
       "<p>130600 rows × 9 columns</p>\n",
       "</div>"
      ]
     },
     "execution_count": 204,
     "metadata": {},
     "output_type": "execute_result"
    }
   ],
   "execution_count": 204
  },
  {
   "metadata": {
    "ExecuteTime": {
     "end_time": "2024-10-07T01:01:54.579210Z",
     "start_time": "2024-10-07T01:01:54.571882Z"
    }
   },
   "cell_type": "code",
   "source": [
    "y_test = order_products__train_agg['contains_large_lemons']\n",
    "X_test = order_products__train_agg.drop(\"contains_large_lemons\", axis=1)"
   ],
   "id": "dc77dfe85039208f",
   "outputs": [],
   "execution_count": 205
  },
  {
   "metadata": {
    "ExecuteTime": {
     "end_time": "2024-10-07T01:02:47.257004Z",
     "start_time": "2024-10-07T01:02:46.587821Z"
    }
   },
   "cell_type": "code",
   "source": [
    "# Predict\n",
    "y_pred = lgb_model.predict(X_test)\n",
    "\n",
    "print(f\"Model F1: {skl.metrics.f1_score(y_test, y_pred)}\")\n",
    "print(f\"Model Accuracy: {skl.metrics.accuracy_score(y_test, y_pred)}\")"
   ],
   "id": "1e869265f8ac9e73",
   "outputs": [
    {
     "name": "stdout",
     "output_type": "stream",
     "text": [
      "Model F1: 0.19367501926110725\n",
      "Model Accuracy: 0.6634303215926494\n"
     ]
    }
   ],
   "execution_count": 210
  },
  {
   "cell_type": "markdown",
   "source": [
    "# Part D: Results Summary\n",
    "In this section discuss all of your findings including insights from the above Parts A-C. In what\n",
    "circumstances would Part B vs Part C make sense? What are the advantages of each?"
   ],
   "metadata": {
    "collapsed": false
   },
   "id": "e65b2f7669251dec"
  },
  {
   "metadata": {},
   "cell_type": "markdown",
   "source": [
    "To reiterate my earlier discussion, there were a number of ways I could go about attempting to predict large lemon purchases given the available data. Unfortunately, many of these options are severely limited by my current hardware. Even some of the preprocessing I would have liked to have attempted was impossible due to ram constraints. Further, the method I chose for producing a predictive model resulted in mediocre performance. \n",
    "\n",
    "As discussed, the most commonly purchased items appear to be simple fruits & vegatables, particularly bananas. The vast majority of large lemon purchases appear to be of large lemons ('47626'). Only about 2% (2678 orders) of large lemon product orders are *bags* of large lemons. In total, we have 155,335 orders containing large lemon products.\n",
    "\n",
    "It looks like large lemons are often bought alongside other frequently purchased items, this may be less informative than looking at pairs where the other item is less commonly purchased. For instance, there may not be much predictive information in the fact that large lemons and bananas (both among the top 10 most commonly purchased items individually) are very often purchased together.\n",
    "\n",
    "The strongest association rules suggest that customers:\n",
    "Frequently buy large lemon products when they are also buying anchovy products, vegetables, capers, chick peas, cottage cheese, chicken stock, and grape tomatoes.\n",
    "When buying large lemon products, frequently buy bananas.\n",
    "\n",
    "My current method of predicting lemon purchases by the pieces of information I could aggregate within my hardware constraints was even less performant than I expected. I believe this is due to the massive class imbalance in our dataset (very many more 0s than 1s). While there are some models that perform better in such cases, training time is simply far to great on my current hardware, and I had to settle for LightGBM, which is well optimized for training on large data, but unfortunately not especially performant in our case. \n",
    "\n",
    "B vs C: \n",
    "\n",
    "B, calculating association rules may be more useful for exploratory analysis, understanding when things are bought, or for coding simple rule-based predictions. Association rules can allow for simple predictions where you don't have many other variables that you think you'll need to consider. Association rules are also necessary is you are going to perform Market Basket Analysis. \n",
    "\n",
    "C, building an ML model may be most useful if you expect complex or non-linear relationships to be present in your data. Or, if you expect that significant predictive power lies in variables besides just which other products are in an order. An ML model can also optimize for calculating the likelihood that large lemons will be included in an order, and can do so in real time (say, for making suggestions on a web page as a user fills their cart)."
   ],
   "id": "c84d2105578dc9ae"
  },
  {
   "metadata": {
    "ExecuteTime": {
     "end_time": "2024-10-07T01:23:04.406684Z",
     "start_time": "2024-10-07T01:23:04.400491Z"
    }
   },
   "cell_type": "code",
   "source": [
    "print(\"Cores: \", os.cpu_count())\n",
    "\n",
    "available_memory = psutil.virtual_memory().available / (1024 ** 3)  # Convert bytes to GB\n",
    "\n",
    "print(f\"Available memory: {available_memory:.2f} GB\")"
   ],
   "id": "45e9c33592ce1225",
   "outputs": [
    {
     "name": "stdout",
     "output_type": "stream",
     "text": [
      "Cores:  16\n",
      "Available memory: 5.20 GB\n"
     ]
    }
   ],
   "execution_count": 219
  }
 ],
 "metadata": {
  "kernelspec": {
   "display_name": "Python 3",
   "language": "python",
   "name": "python3"
  },
  "language_info": {
   "codemirror_mode": {
    "name": "ipython",
    "version": 2
   },
   "file_extension": ".py",
   "mimetype": "text/x-python",
   "name": "python",
   "nbconvert_exporter": "python",
   "pygments_lexer": "ipython2",
   "version": "2.7.6"
  }
 },
 "nbformat": 4,
 "nbformat_minor": 5
}
