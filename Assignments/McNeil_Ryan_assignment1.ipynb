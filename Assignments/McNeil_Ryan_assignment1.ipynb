{
 "cells": [
  {
   "cell_type": "markdown",
   "source": [
    "# Setup"
   ],
   "metadata": {
    "collapsed": false
   },
   "id": "db96f6d43c70ad7d"
  },
  {
   "cell_type": "code",
   "id": "initial_id",
   "metadata": {
    "collapsed": true,
    "ExecuteTime": {
     "end_time": "2024-10-06T00:06:15.808576Z",
     "start_time": "2024-10-06T00:06:15.747623Z"
    }
   },
   "source": [
    "# Imports\n",
    "import os\n",
    "import sklearn as skl\n",
    "import numpy as np\n",
    "import pandas as pd\n",
    "import pyspark\n",
    "from pyspark.sql import SparkSession\n",
    "import matplotlib.pyplot as plt\n",
    "%matplotlib inline\n",
    "\n",
    "os.environ[\"JAVA_HOME\"] = r\"C:\\Program Files\\Java\\jdk-17\"\n",
    "os.environ[\"PYSPARK_PYTHON\"] = r\"C:\\Users\\rmcne\\AppData\\Local\\Programs\\Python\\Python311\\python.exe\"\n",
    "\n",
    "# I'm working across multiple devices. So, this code will always create a path to the folder containing the data.\n",
    "data_folder_path = os.path.join(os.path.abspath(os.path.join(os.getcwd(), os.pardir)), \"instacart-market-basket-analysis\")\n",
    "data_folder_path\n",
    "\n",
    "sc = pyspark.SparkContext()  # instantiate pyspark connection\n",
    "\n",
    "spark = SparkSession.builder.appName(\"CSC84040_assignment1\").getOrCreate() # instantiate spark entry point"
   ],
   "outputs": [
    {
     "ename": "ValueError",
     "evalue": "Cannot run multiple SparkContexts at once; existing SparkContext(app=pyspark-shell, master=local[*]) created by __init__ at C:\\Users\\rmcne\\AppData\\Local\\Temp\\ipykernel_6704\\3235860617.py:18 ",
     "output_type": "error",
     "traceback": [
      "\u001B[1;31m---------------------------------------------------------------------------\u001B[0m",
      "\u001B[1;31mValueError\u001B[0m                                Traceback (most recent call last)",
      "Cell \u001B[1;32mIn[17], line 18\u001B[0m\n\u001B[0;32m     15\u001B[0m data_folder_path \u001B[38;5;241m=\u001B[39m os\u001B[38;5;241m.\u001B[39mpath\u001B[38;5;241m.\u001B[39mjoin(os\u001B[38;5;241m.\u001B[39mpath\u001B[38;5;241m.\u001B[39mabspath(os\u001B[38;5;241m.\u001B[39mpath\u001B[38;5;241m.\u001B[39mjoin(os\u001B[38;5;241m.\u001B[39mgetcwd(), os\u001B[38;5;241m.\u001B[39mpardir)), \u001B[38;5;124m\"\u001B[39m\u001B[38;5;124minstacart-market-basket-analysis\u001B[39m\u001B[38;5;124m\"\u001B[39m)\n\u001B[0;32m     16\u001B[0m data_folder_path\n\u001B[1;32m---> 18\u001B[0m sc \u001B[38;5;241m=\u001B[39m \u001B[43mpyspark\u001B[49m\u001B[38;5;241;43m.\u001B[39;49m\u001B[43mSparkContext\u001B[49m\u001B[43m(\u001B[49m\u001B[43m)\u001B[49m  \u001B[38;5;66;03m# instantiate pyspark connection\u001B[39;00m\n\u001B[0;32m     20\u001B[0m spark \u001B[38;5;241m=\u001B[39m SparkSession\u001B[38;5;241m.\u001B[39mbuilder\u001B[38;5;241m.\u001B[39mappName(\u001B[38;5;124m\"\u001B[39m\u001B[38;5;124mCSC84040_assignment1\u001B[39m\u001B[38;5;124m\"\u001B[39m)\u001B[38;5;241m.\u001B[39mgetOrCreate() \u001B[38;5;66;03m# instantiate spark entry point\u001B[39;00m\n",
      "File \u001B[1;32mD:\\School\\2024 Fall\\CSC84040\\venv\\Lib\\site-packages\\pyspark\\context.py:201\u001B[0m, in \u001B[0;36mSparkContext.__init__\u001B[1;34m(self, master, appName, sparkHome, pyFiles, environment, batchSize, serializer, conf, gateway, jsc, profiler_cls, udf_profiler_cls, memory_profiler_cls)\u001B[0m\n\u001B[0;32m    195\u001B[0m \u001B[38;5;28;01mif\u001B[39;00m gateway \u001B[38;5;129;01mis\u001B[39;00m \u001B[38;5;129;01mnot\u001B[39;00m \u001B[38;5;28;01mNone\u001B[39;00m \u001B[38;5;129;01mand\u001B[39;00m gateway\u001B[38;5;241m.\u001B[39mgateway_parameters\u001B[38;5;241m.\u001B[39mauth_token \u001B[38;5;129;01mis\u001B[39;00m \u001B[38;5;28;01mNone\u001B[39;00m:\n\u001B[0;32m    196\u001B[0m     \u001B[38;5;28;01mraise\u001B[39;00m \u001B[38;5;167;01mValueError\u001B[39;00m(\n\u001B[0;32m    197\u001B[0m         \u001B[38;5;124m\"\u001B[39m\u001B[38;5;124mYou are trying to pass an insecure Py4j gateway to Spark. This\u001B[39m\u001B[38;5;124m\"\u001B[39m\n\u001B[0;32m    198\u001B[0m         \u001B[38;5;124m\"\u001B[39m\u001B[38;5;124m is not allowed as it is a security risk.\u001B[39m\u001B[38;5;124m\"\u001B[39m\n\u001B[0;32m    199\u001B[0m     )\n\u001B[1;32m--> 201\u001B[0m \u001B[43mSparkContext\u001B[49m\u001B[38;5;241;43m.\u001B[39;49m\u001B[43m_ensure_initialized\u001B[49m\u001B[43m(\u001B[49m\u001B[38;5;28;43mself\u001B[39;49m\u001B[43m,\u001B[49m\u001B[43m \u001B[49m\u001B[43mgateway\u001B[49m\u001B[38;5;241;43m=\u001B[39;49m\u001B[43mgateway\u001B[49m\u001B[43m,\u001B[49m\u001B[43m \u001B[49m\u001B[43mconf\u001B[49m\u001B[38;5;241;43m=\u001B[39;49m\u001B[43mconf\u001B[49m\u001B[43m)\u001B[49m\n\u001B[0;32m    202\u001B[0m \u001B[38;5;28;01mtry\u001B[39;00m:\n\u001B[0;32m    203\u001B[0m     \u001B[38;5;28mself\u001B[39m\u001B[38;5;241m.\u001B[39m_do_init(\n\u001B[0;32m    204\u001B[0m         master,\n\u001B[0;32m    205\u001B[0m         appName,\n\u001B[1;32m   (...)\u001B[0m\n\u001B[0;32m    215\u001B[0m         memory_profiler_cls,\n\u001B[0;32m    216\u001B[0m     )\n",
      "File \u001B[1;32mD:\\School\\2024 Fall\\CSC84040\\venv\\Lib\\site-packages\\pyspark\\context.py:449\u001B[0m, in \u001B[0;36mSparkContext._ensure_initialized\u001B[1;34m(cls, instance, gateway, conf)\u001B[0m\n\u001B[0;32m    446\u001B[0m     callsite \u001B[38;5;241m=\u001B[39m SparkContext\u001B[38;5;241m.\u001B[39m_active_spark_context\u001B[38;5;241m.\u001B[39m_callsite\n\u001B[0;32m    448\u001B[0m     \u001B[38;5;66;03m# Raise error if there is already a running Spark context\u001B[39;00m\n\u001B[1;32m--> 449\u001B[0m     \u001B[38;5;28;01mraise\u001B[39;00m \u001B[38;5;167;01mValueError\u001B[39;00m(\n\u001B[0;32m    450\u001B[0m         \u001B[38;5;124m\"\u001B[39m\u001B[38;5;124mCannot run multiple SparkContexts at once; \u001B[39m\u001B[38;5;124m\"\u001B[39m\n\u001B[0;32m    451\u001B[0m         \u001B[38;5;124m\"\u001B[39m\u001B[38;5;124mexisting SparkContext(app=\u001B[39m\u001B[38;5;132;01m%s\u001B[39;00m\u001B[38;5;124m, master=\u001B[39m\u001B[38;5;132;01m%s\u001B[39;00m\u001B[38;5;124m)\u001B[39m\u001B[38;5;124m\"\u001B[39m\n\u001B[0;32m    452\u001B[0m         \u001B[38;5;124m\"\u001B[39m\u001B[38;5;124m created by \u001B[39m\u001B[38;5;132;01m%s\u001B[39;00m\u001B[38;5;124m at \u001B[39m\u001B[38;5;132;01m%s\u001B[39;00m\u001B[38;5;124m:\u001B[39m\u001B[38;5;132;01m%s\u001B[39;00m\u001B[38;5;124m \u001B[39m\u001B[38;5;124m\"\u001B[39m\n\u001B[0;32m    453\u001B[0m         \u001B[38;5;241m%\u001B[39m (\n\u001B[0;32m    454\u001B[0m             currentAppName,\n\u001B[0;32m    455\u001B[0m             currentMaster,\n\u001B[0;32m    456\u001B[0m             callsite\u001B[38;5;241m.\u001B[39mfunction,\n\u001B[0;32m    457\u001B[0m             callsite\u001B[38;5;241m.\u001B[39mfile,\n\u001B[0;32m    458\u001B[0m             callsite\u001B[38;5;241m.\u001B[39mlinenum,\n\u001B[0;32m    459\u001B[0m         )\n\u001B[0;32m    460\u001B[0m     )\n\u001B[0;32m    461\u001B[0m \u001B[38;5;28;01melse\u001B[39;00m:\n\u001B[0;32m    462\u001B[0m     SparkContext\u001B[38;5;241m.\u001B[39m_active_spark_context \u001B[38;5;241m=\u001B[39m instance\n",
      "\u001B[1;31mValueError\u001B[0m: Cannot run multiple SparkContexts at once; existing SparkContext(app=pyspark-shell, master=local[*]) created by __init__ at C:\\Users\\rmcne\\AppData\\Local\\Temp\\ipykernel_6704\\3235860617.py:18 "
     ]
    }
   ],
   "execution_count": 17
  },
  {
   "cell_type": "markdown",
   "source": [
    "# Part A: Exploratory Data Analysis\n",
    "1. Perform Exploratory Data Analysis (EDA) and discuss the data and what you observe\n",
    "prior to beginning modeling and how the EDA insights impact how to proceed "
   ],
   "metadata": {
    "collapsed": false
   },
   "id": "a57b49d68f22f43f"
  },
  {
   "cell_type": "markdown",
   "source": [
    "### Aisles"
   ],
   "metadata": {
    "collapsed": false
   },
   "id": "b955689575c0949c"
  },
  {
   "cell_type": "code",
   "source": [
    "aisles = pd.read_csv(os.path.join(data_folder_path, \"aisles.csv\"))"
   ],
   "metadata": {
    "collapsed": false,
    "ExecuteTime": {
     "end_time": "2024-10-06T00:06:17.087328Z",
     "start_time": "2024-10-06T00:06:17.081335Z"
    }
   },
   "id": "41a20a5c591496f7",
   "outputs": [],
   "execution_count": 20
  },
  {
   "metadata": {
    "ExecuteTime": {
     "end_time": "2024-10-06T00:06:17.135412Z",
     "start_time": "2024-10-06T00:06:17.088320Z"
    }
   },
   "cell_type": "code",
   "source": [
    "print(f\"No duplicate aisles: {len(pd.unique(aisles.aisle)) == len(aisles.aisle)}\")\n",
    "\n",
    "print(f\"NA values: {aisles.isnull().sum().sum()}\")\n",
    "\n",
    "aisles.head()"
   ],
   "id": "8a1f94121f64387a",
   "outputs": [
    {
     "name": "stdout",
     "output_type": "stream",
     "text": [
      "No duplicate aisles: True\n",
      "NA values: 0\n"
     ]
    },
    {
     "data": {
      "text/plain": [
       "   aisle_id                       aisle\n",
       "0         1       prepared soups salads\n",
       "1         2           specialty cheeses\n",
       "2         3         energy granola bars\n",
       "3         4               instant foods\n",
       "4         5  marinades meat preparation"
      ],
      "text/html": [
       "<div>\n",
       "<style scoped>\n",
       "    .dataframe tbody tr th:only-of-type {\n",
       "        vertical-align: middle;\n",
       "    }\n",
       "\n",
       "    .dataframe tbody tr th {\n",
       "        vertical-align: top;\n",
       "    }\n",
       "\n",
       "    .dataframe thead th {\n",
       "        text-align: right;\n",
       "    }\n",
       "</style>\n",
       "<table border=\"1\" class=\"dataframe\">\n",
       "  <thead>\n",
       "    <tr style=\"text-align: right;\">\n",
       "      <th></th>\n",
       "      <th>aisle_id</th>\n",
       "      <th>aisle</th>\n",
       "    </tr>\n",
       "  </thead>\n",
       "  <tbody>\n",
       "    <tr>\n",
       "      <th>0</th>\n",
       "      <td>1</td>\n",
       "      <td>prepared soups salads</td>\n",
       "    </tr>\n",
       "    <tr>\n",
       "      <th>1</th>\n",
       "      <td>2</td>\n",
       "      <td>specialty cheeses</td>\n",
       "    </tr>\n",
       "    <tr>\n",
       "      <th>2</th>\n",
       "      <td>3</td>\n",
       "      <td>energy granola bars</td>\n",
       "    </tr>\n",
       "    <tr>\n",
       "      <th>3</th>\n",
       "      <td>4</td>\n",
       "      <td>instant foods</td>\n",
       "    </tr>\n",
       "    <tr>\n",
       "      <th>4</th>\n",
       "      <td>5</td>\n",
       "      <td>marinades meat preparation</td>\n",
       "    </tr>\n",
       "  </tbody>\n",
       "</table>\n",
       "</div>"
      ]
     },
     "execution_count": 21,
     "metadata": {},
     "output_type": "execute_result"
    }
   ],
   "execution_count": 21
  },
  {
   "cell_type": "markdown",
   "source": [
    "Aisles appears to be a table of aisles (by name (str)) with unique id numbers assigned to each."
   ],
   "metadata": {
    "collapsed": false
   },
   "id": "e43a666bb55957da"
  },
  {
   "cell_type": "markdown",
   "source": [
    "### Departments"
   ],
   "metadata": {
    "collapsed": false
   },
   "id": "2083da6e6d11f573"
  },
  {
   "cell_type": "code",
   "source": [
    "departments = pd.read_csv(os.path.join(data_folder_path, \"departments.csv\"))"
   ],
   "metadata": {
    "collapsed": false,
    "ExecuteTime": {
     "end_time": "2024-10-06T00:06:17.140327Z",
     "start_time": "2024-10-06T00:06:17.136412Z"
    }
   },
   "id": "dc360f314b66e6c0",
   "outputs": [],
   "execution_count": 22
  },
  {
   "metadata": {
    "ExecuteTime": {
     "end_time": "2024-10-06T00:06:17.146490Z",
     "start_time": "2024-10-06T00:06:17.141327Z"
    }
   },
   "cell_type": "code",
   "source": [
    "print(f\"Unique departments {departments.__len__()}\") # here len = nunique departments so long as duplicates == 0\n",
    "print(f\"No duplicate departments: {len(pd.unique(departments.department)) == len(departments.department)}\")\n",
    "print(f\"NA values: {departments.isnull().sum().sum()}\")\n",
    "\n",
    "departments.head()"
   ],
   "id": "150fda3c6901a91b",
   "outputs": [
    {
     "name": "stdout",
     "output_type": "stream",
     "text": [
      "Unique departments 21\n",
      "No duplicate departments: True\n",
      "NA values: 0\n"
     ]
    },
    {
     "data": {
      "text/plain": [
       "   department_id department\n",
       "0              1     frozen\n",
       "1              2      other\n",
       "2              3     bakery\n",
       "3              4    produce\n",
       "4              5    alcohol"
      ],
      "text/html": [
       "<div>\n",
       "<style scoped>\n",
       "    .dataframe tbody tr th:only-of-type {\n",
       "        vertical-align: middle;\n",
       "    }\n",
       "\n",
       "    .dataframe tbody tr th {\n",
       "        vertical-align: top;\n",
       "    }\n",
       "\n",
       "    .dataframe thead th {\n",
       "        text-align: right;\n",
       "    }\n",
       "</style>\n",
       "<table border=\"1\" class=\"dataframe\">\n",
       "  <thead>\n",
       "    <tr style=\"text-align: right;\">\n",
       "      <th></th>\n",
       "      <th>department_id</th>\n",
       "      <th>department</th>\n",
       "    </tr>\n",
       "  </thead>\n",
       "  <tbody>\n",
       "    <tr>\n",
       "      <th>0</th>\n",
       "      <td>1</td>\n",
       "      <td>frozen</td>\n",
       "    </tr>\n",
       "    <tr>\n",
       "      <th>1</th>\n",
       "      <td>2</td>\n",
       "      <td>other</td>\n",
       "    </tr>\n",
       "    <tr>\n",
       "      <th>2</th>\n",
       "      <td>3</td>\n",
       "      <td>bakery</td>\n",
       "    </tr>\n",
       "    <tr>\n",
       "      <th>3</th>\n",
       "      <td>4</td>\n",
       "      <td>produce</td>\n",
       "    </tr>\n",
       "    <tr>\n",
       "      <th>4</th>\n",
       "      <td>5</td>\n",
       "      <td>alcohol</td>\n",
       "    </tr>\n",
       "  </tbody>\n",
       "</table>\n",
       "</div>"
      ]
     },
     "execution_count": 23,
     "metadata": {},
     "output_type": "execute_result"
    }
   ],
   "execution_count": 23
  },
  {
   "cell_type": "markdown",
   "source": [
    "Departments appears to be a table of departments (by name (str)) with unique id numbers assigned to each."
   ],
   "metadata": {
    "collapsed": false
   },
   "id": "33b14e22b09a18a3"
  },
  {
   "cell_type": "markdown",
   "source": [
    "### Order_products__prior"
   ],
   "metadata": {
    "collapsed": false
   },
   "id": "c25020f627dc3d24"
  },
  {
   "cell_type": "code",
   "source": [
    "order_products__prior = pd.read_csv(os.path.join(data_folder_path, \"order_products__prior.csv\"))\n",
    "order_products__prior.__len__()"
   ],
   "metadata": {
    "collapsed": false,
    "ExecuteTime": {
     "end_time": "2024-10-06T00:06:22.410490Z",
     "start_time": "2024-10-06T00:06:17.146490Z"
    }
   },
   "id": "aca074928e63469b",
   "outputs": [
    {
     "data": {
      "text/plain": [
       "32434489"
      ]
     },
     "execution_count": 24,
     "metadata": {},
     "output_type": "execute_result"
    }
   ],
   "execution_count": 24
  },
  {
   "cell_type": "code",
   "source": [
    "print(f\"NA values: {order_products__prior.isnull().sum().sum()}\")\n",
    "\n",
    "print(f\"Unique orders in dataset: {order_products__prior.order_id.nunique()}\")\n",
    "\n",
    "print(f\"Frequency of reorder: {round(order_products__prior.reordered.mean(), 4) * 100}%\")\n",
    "\n",
    "order_products__prior.head()"
   ],
   "metadata": {
    "collapsed": false,
    "ExecuteTime": {
     "end_time": "2024-10-06T00:06:22.846344Z",
     "start_time": "2024-10-06T00:06:22.410490Z"
    }
   },
   "id": "49447624e7b545e4",
   "outputs": [
    {
     "name": "stdout",
     "output_type": "stream",
     "text": [
      "NA values: 0\n",
      "Unique orders in dataset: 3214874\n",
      "Frequency of reorder: 58.97%\n"
     ]
    },
    {
     "data": {
      "text/plain": [
       "   order_id  product_id  add_to_cart_order  reordered\n",
       "0         2       33120                  1          1\n",
       "1         2       28985                  2          1\n",
       "2         2        9327                  3          0\n",
       "3         2       45918                  4          1\n",
       "4         2       30035                  5          0"
      ],
      "text/html": [
       "<div>\n",
       "<style scoped>\n",
       "    .dataframe tbody tr th:only-of-type {\n",
       "        vertical-align: middle;\n",
       "    }\n",
       "\n",
       "    .dataframe tbody tr th {\n",
       "        vertical-align: top;\n",
       "    }\n",
       "\n",
       "    .dataframe thead th {\n",
       "        text-align: right;\n",
       "    }\n",
       "</style>\n",
       "<table border=\"1\" class=\"dataframe\">\n",
       "  <thead>\n",
       "    <tr style=\"text-align: right;\">\n",
       "      <th></th>\n",
       "      <th>order_id</th>\n",
       "      <th>product_id</th>\n",
       "      <th>add_to_cart_order</th>\n",
       "      <th>reordered</th>\n",
       "    </tr>\n",
       "  </thead>\n",
       "  <tbody>\n",
       "    <tr>\n",
       "      <th>0</th>\n",
       "      <td>2</td>\n",
       "      <td>33120</td>\n",
       "      <td>1</td>\n",
       "      <td>1</td>\n",
       "    </tr>\n",
       "    <tr>\n",
       "      <th>1</th>\n",
       "      <td>2</td>\n",
       "      <td>28985</td>\n",
       "      <td>2</td>\n",
       "      <td>1</td>\n",
       "    </tr>\n",
       "    <tr>\n",
       "      <th>2</th>\n",
       "      <td>2</td>\n",
       "      <td>9327</td>\n",
       "      <td>3</td>\n",
       "      <td>0</td>\n",
       "    </tr>\n",
       "    <tr>\n",
       "      <th>3</th>\n",
       "      <td>2</td>\n",
       "      <td>45918</td>\n",
       "      <td>4</td>\n",
       "      <td>1</td>\n",
       "    </tr>\n",
       "    <tr>\n",
       "      <th>4</th>\n",
       "      <td>2</td>\n",
       "      <td>30035</td>\n",
       "      <td>5</td>\n",
       "      <td>0</td>\n",
       "    </tr>\n",
       "  </tbody>\n",
       "</table>\n",
       "</div>"
      ]
     },
     "execution_count": 25,
     "metadata": {},
     "output_type": "execute_result"
    }
   ],
   "execution_count": 25
  },
  {
   "cell_type": "markdown",
   "source": [
    "order_products__prior appears to be a table of products previously ordered by order (for ~3.4 million orders), including the order in which each product was added to cart & a binary flag for whether that product was previously ordered by that customer."
   ],
   "metadata": {
    "collapsed": false
   },
   "id": "79a490f40628b04a"
  },
  {
   "metadata": {
    "ExecuteTime": {
     "end_time": "2024-10-06T00:06:24.527099Z",
     "start_time": "2024-10-06T00:06:22.846344Z"
    }
   },
   "cell_type": "code",
   "source": [
    "print(f\"Median add_to_cart_order: {order_products__prior['add_to_cart_order'].median()}\")\n",
    "order_products__prior['add_to_cart_order'].plot.hist(bins=50)\n",
    "plt.xlim(0, 40)\n",
    "plt.show()"
   ],
   "id": "2230678c42f58749",
   "outputs": [
    {
     "name": "stdout",
     "output_type": "stream",
     "text": [
      "Median add_to_cart_order: 6.0\n"
     ]
    },
    {
     "data": {
      "text/plain": [
       "<Figure size 640x480 with 1 Axes>"
      ],
      "image/png": "[encoded data removed]"
     },
     "metadata": {},
     "output_type": "display_data"
    }
   ],
   "execution_count": 26
  },
  {
   "metadata": {},
   "cell_type": "markdown",
   "source": [
    "The max add_to_cart order is 145, but there are several outliers, so I clip my graph at 40 to see where most rows fall. The frequency of add_to_cart_order values seems to drop quickly. \n",
    "Given these outliers, I also look at the median instead of the mean. This shows that \"most\" items are added to an order in position 6 or less."
   ],
   "id": "eb42007ced15647a"
  },
  {
   "metadata": {
    "ExecuteTime": {
     "end_time": "2024-10-06T00:06:26.694853Z",
     "start_time": "2024-10-06T00:06:24.527099Z"
    }
   },
   "cell_type": "code",
   "source": [
    "print(f\"Median number of orders containing each product: {order_products__prior['product_id'].value_counts().median()}\")\n",
    "order_products__prior['product_id'].value_counts().sort_index()"
   ],
   "id": "30e3fd6740ceb4d4",
   "outputs": [
    {
     "name": "stdout",
     "output_type": "stream",
     "text": [
      "Median number of orders containing each product: 60.0\n"
     ]
    },
    {
     "data": {
      "text/plain": [
       "product_id\n",
       "1        1852\n",
       "2          90\n",
       "3         277\n",
       "4         329\n",
       "5          15\n",
       "         ... \n",
       "49684       9\n",
       "49685      49\n",
       "49686     120\n",
       "49687      13\n",
       "49688      89\n",
       "Name: count, Length: 49677, dtype: int64"
      ]
     },
     "execution_count": 27,
     "metadata": {},
     "output_type": "execute_result"
    }
   ],
   "execution_count": 27
  },
  {
   "metadata": {},
   "cell_type": "markdown",
   "source": [
    "Value counts of product_id shows that most products are represented in 60 or fewer orders, however a few products are extreme outliers. These may need to be dropped to produce a strong predictive model."
   ],
   "id": "2bb90956494060e1"
  },
  {
   "cell_type": "markdown",
   "source": [
    "### Order_products__train"
   ],
   "metadata": {
    "collapsed": false
   },
   "id": "b57d2926f9d1af98"
  },
  {
   "cell_type": "code",
   "source": [
    "order_products__train = pd.read_csv(os.path.join(data_folder_path, \"order_products__train.csv\"))"
   ],
   "metadata": {
    "collapsed": false,
    "ExecuteTime": {
     "end_time": "2024-10-06T00:06:26.939183Z",
     "start_time": "2024-10-06T00:06:26.696829Z"
    }
   },
   "id": "9133924941bcc6f6",
   "outputs": [],
   "execution_count": 28
  },
  {
   "metadata": {
    "ExecuteTime": {
     "end_time": "2024-10-06T00:06:26.968974Z",
     "start_time": "2024-10-06T00:06:26.940179Z"
    }
   },
   "cell_type": "code",
   "source": [
    "print(f\"NA values: {order_products__train.isnull().sum().sum()}\")\n",
    "\n",
    "print(f\"Orders in dataset: {order_products__train.order_id.nunique()}\")\n",
    "\n",
    "print(f\"Frequency of reorder: {round(order_products__train.reordered.mean(), 4) * 100}%\")\n",
    "\n",
    "print(f\"Comparative size: {round((order_products__train.__len__() / order_products__prior.__len__()) * 100, 2)}%\")\n",
    "\n",
    "order_products__train.head()"
   ],
   "id": "6035422bf1e3da13",
   "outputs": [
    {
     "name": "stdout",
     "output_type": "stream",
     "text": [
      "NA values: 0\n",
      "Orders in dataset: 131209\n",
      "Frequency of reorder: 59.86%\n",
      "Comparative size: 4.27%\n"
     ]
    },
    {
     "data": {
      "text/plain": [
       "   order_id  product_id  add_to_cart_order  reordered\n",
       "0         1       49302                  1          1\n",
       "1         1       11109                  2          1\n",
       "2         1       10246                  3          0\n",
       "3         1       49683                  4          0\n",
       "4         1       43633                  5          1"
      ],
      "text/html": [
       "<div>\n",
       "<style scoped>\n",
       "    .dataframe tbody tr th:only-of-type {\n",
       "        vertical-align: middle;\n",
       "    }\n",
       "\n",
       "    .dataframe tbody tr th {\n",
       "        vertical-align: top;\n",
       "    }\n",
       "\n",
       "    .dataframe thead th {\n",
       "        text-align: right;\n",
       "    }\n",
       "</style>\n",
       "<table border=\"1\" class=\"dataframe\">\n",
       "  <thead>\n",
       "    <tr style=\"text-align: right;\">\n",
       "      <th></th>\n",
       "      <th>order_id</th>\n",
       "      <th>product_id</th>\n",
       "      <th>add_to_cart_order</th>\n",
       "      <th>reordered</th>\n",
       "    </tr>\n",
       "  </thead>\n",
       "  <tbody>\n",
       "    <tr>\n",
       "      <th>0</th>\n",
       "      <td>1</td>\n",
       "      <td>49302</td>\n",
       "      <td>1</td>\n",
       "      <td>1</td>\n",
       "    </tr>\n",
       "    <tr>\n",
       "      <th>1</th>\n",
       "      <td>1</td>\n",
       "      <td>11109</td>\n",
       "      <td>2</td>\n",
       "      <td>1</td>\n",
       "    </tr>\n",
       "    <tr>\n",
       "      <th>2</th>\n",
       "      <td>1</td>\n",
       "      <td>10246</td>\n",
       "      <td>3</td>\n",
       "      <td>0</td>\n",
       "    </tr>\n",
       "    <tr>\n",
       "      <th>3</th>\n",
       "      <td>1</td>\n",
       "      <td>49683</td>\n",
       "      <td>4</td>\n",
       "      <td>0</td>\n",
       "    </tr>\n",
       "    <tr>\n",
       "      <th>4</th>\n",
       "      <td>1</td>\n",
       "      <td>43633</td>\n",
       "      <td>5</td>\n",
       "      <td>1</td>\n",
       "    </tr>\n",
       "  </tbody>\n",
       "</table>\n",
       "</div>"
      ]
     },
     "execution_count": 29,
     "metadata": {},
     "output_type": "execute_result"
    }
   ],
   "execution_count": 29
  },
  {
   "cell_type": "markdown",
   "source": [
    "order_products__train appears to be a training set of data of the same structure as order_produces_prior, but only contains 4.27% as much data. "
   ],
   "metadata": {
    "collapsed": false
   },
   "id": "bba8d4c60f0472e4"
  },
  {
   "cell_type": "markdown",
   "source": [
    "### Orders"
   ],
   "metadata": {
    "collapsed": false
   },
   "id": "2489abbffa36a903"
  },
  {
   "cell_type": "code",
   "source": [
    "orders = pd.read_csv(os.path.join(data_folder_path, \"orders.csv\"))"
   ],
   "metadata": {
    "collapsed": false,
    "ExecuteTime": {
     "end_time": "2024-10-06T00:06:28.126844Z",
     "start_time": "2024-10-06T00:06:26.969974Z"
    }
   },
   "id": "6feefc0e71840737",
   "outputs": [],
   "execution_count": 30
  },
  {
   "metadata": {
    "ExecuteTime": {
     "end_time": "2024-10-06T00:06:28.699309Z",
     "start_time": "2024-10-06T00:06:28.126844Z"
    }
   },
   "cell_type": "code",
   "source": [
    "print(f\"NA values: {orders.isnull().sum().sum()}\")\n",
    "print(f\"Proportion of NAs {round(100 * orders.isnull().sum().sum()/orders.__len__(), 2)}%\")\n",
    "print(f\"Orders in dataset: {orders.order_id.nunique()}\")\n",
    "print(f\"Duplicate orders: {orders['order_id'].duplicated().sum()}\")\n",
    "orders[orders['days_since_prior_order'].isna()]"
   ],
   "id": "f0ac912fa1dafd57",
   "outputs": [
    {
     "name": "stdout",
     "output_type": "stream",
     "text": [
      "NA values: 206209\n",
      "Proportion of NAs 6.03%\n",
      "Orders in dataset: 3421083\n",
      "Duplicate orders: 0\n"
     ]
    },
    {
     "data": {
      "text/plain": [
       "         order_id  user_id eval_set  order_number  order_dow  \\\n",
       "0         2539329        1    prior             1          2   \n",
       "11        2168274        2    prior             1          2   \n",
       "26        1374495        3    prior             1          1   \n",
       "39        3343014        4    prior             1          6   \n",
       "45        2717275        5    prior             1          3   \n",
       "...           ...      ...      ...           ...        ...   \n",
       "3420930    969311   206205    prior             1          4   \n",
       "3420934   3189322   206206    prior             1          3   \n",
       "3421002   2166133   206207    prior             1          6   \n",
       "3421019   2227043   206208    prior             1          1   \n",
       "3421069   3154581   206209    prior             1          3   \n",
       "\n",
       "         order_hour_of_day  days_since_prior_order  \n",
       "0                        8                     NaN  \n",
       "11                      11                     NaN  \n",
       "26                      14                     NaN  \n",
       "39                      11                     NaN  \n",
       "45                      12                     NaN  \n",
       "...                    ...                     ...  \n",
       "3420930                 12                     NaN  \n",
       "3420934                 18                     NaN  \n",
       "3421002                 19                     NaN  \n",
       "3421019                 15                     NaN  \n",
       "3421069                 11                     NaN  \n",
       "\n",
       "[206209 rows x 7 columns]"
      ],
      "text/html": [
       "<div>\n",
       "<style scoped>\n",
       "    .dataframe tbody tr th:only-of-type {\n",
       "        vertical-align: middle;\n",
       "    }\n",
       "\n",
       "    .dataframe tbody tr th {\n",
       "        vertical-align: top;\n",
       "    }\n",
       "\n",
       "    .dataframe thead th {\n",
       "        text-align: right;\n",
       "    }\n",
       "</style>\n",
       "<table border=\"1\" class=\"dataframe\">\n",
       "  <thead>\n",
       "    <tr style=\"text-align: right;\">\n",
       "      <th></th>\n",
       "      <th>order_id</th>\n",
       "      <th>user_id</th>\n",
       "      <th>eval_set</th>\n",
       "      <th>order_number</th>\n",
       "      <th>order_dow</th>\n",
       "      <th>order_hour_of_day</th>\n",
       "      <th>days_since_prior_order</th>\n",
       "    </tr>\n",
       "  </thead>\n",
       "  <tbody>\n",
       "    <tr>\n",
       "      <th>0</th>\n",
       "      <td>2539329</td>\n",
       "      <td>1</td>\n",
       "      <td>prior</td>\n",
       "      <td>1</td>\n",
       "      <td>2</td>\n",
       "      <td>8</td>\n",
       "      <td>NaN</td>\n",
       "    </tr>\n",
       "    <tr>\n",
       "      <th>11</th>\n",
       "      <td>2168274</td>\n",
       "      <td>2</td>\n",
       "      <td>prior</td>\n",
       "      <td>1</td>\n",
       "      <td>2</td>\n",
       "      <td>11</td>\n",
       "      <td>NaN</td>\n",
       "    </tr>\n",
       "    <tr>\n",
       "      <th>26</th>\n",
       "      <td>1374495</td>\n",
       "      <td>3</td>\n",
       "      <td>prior</td>\n",
       "      <td>1</td>\n",
       "      <td>1</td>\n",
       "      <td>14</td>\n",
       "      <td>NaN</td>\n",
       "    </tr>\n",
       "    <tr>\n",
       "      <th>39</th>\n",
       "      <td>3343014</td>\n",
       "      <td>4</td>\n",
       "      <td>prior</td>\n",
       "      <td>1</td>\n",
       "      <td>6</td>\n",
       "      <td>11</td>\n",
       "      <td>NaN</td>\n",
       "    </tr>\n",
       "    <tr>\n",
       "      <th>45</th>\n",
       "      <td>2717275</td>\n",
       "      <td>5</td>\n",
       "      <td>prior</td>\n",
       "      <td>1</td>\n",
       "      <td>3</td>\n",
       "      <td>12</td>\n",
       "      <td>NaN</td>\n",
       "    </tr>\n",
       "    <tr>\n",
       "      <th>...</th>\n",
       "      <td>...</td>\n",
       "      <td>...</td>\n",
       "      <td>...</td>\n",
       "      <td>...</td>\n",
       "      <td>...</td>\n",
       "      <td>...</td>\n",
       "      <td>...</td>\n",
       "    </tr>\n",
       "    <tr>\n",
       "      <th>3420930</th>\n",
       "      <td>969311</td>\n",
       "      <td>206205</td>\n",
       "      <td>prior</td>\n",
       "      <td>1</td>\n",
       "      <td>4</td>\n",
       "      <td>12</td>\n",
       "      <td>NaN</td>\n",
       "    </tr>\n",
       "    <tr>\n",
       "      <th>3420934</th>\n",
       "      <td>3189322</td>\n",
       "      <td>206206</td>\n",
       "      <td>prior</td>\n",
       "      <td>1</td>\n",
       "      <td>3</td>\n",
       "      <td>18</td>\n",
       "      <td>NaN</td>\n",
       "    </tr>\n",
       "    <tr>\n",
       "      <th>3421002</th>\n",
       "      <td>2166133</td>\n",
       "      <td>206207</td>\n",
       "      <td>prior</td>\n",
       "      <td>1</td>\n",
       "      <td>6</td>\n",
       "      <td>19</td>\n",
       "      <td>NaN</td>\n",
       "    </tr>\n",
       "    <tr>\n",
       "      <th>3421019</th>\n",
       "      <td>2227043</td>\n",
       "      <td>206208</td>\n",
       "      <td>prior</td>\n",
       "      <td>1</td>\n",
       "      <td>1</td>\n",
       "      <td>15</td>\n",
       "      <td>NaN</td>\n",
       "    </tr>\n",
       "    <tr>\n",
       "      <th>3421069</th>\n",
       "      <td>3154581</td>\n",
       "      <td>206209</td>\n",
       "      <td>prior</td>\n",
       "      <td>1</td>\n",
       "      <td>3</td>\n",
       "      <td>11</td>\n",
       "      <td>NaN</td>\n",
       "    </tr>\n",
       "  </tbody>\n",
       "</table>\n",
       "<p>206209 rows × 7 columns</p>\n",
       "</div>"
      ]
     },
     "execution_count": 31,
     "metadata": {},
     "output_type": "execute_result"
    }
   ],
   "execution_count": 31
  },
  {
   "metadata": {
    "ExecuteTime": {
     "end_time": "2024-10-06T00:06:28.840992Z",
     "start_time": "2024-10-06T00:06:28.700307Z"
    }
   },
   "cell_type": "code",
   "source": [
    "orders[(orders['days_since_prior_order'].isna()) & (orders['eval_set'] != 'prior')].sum().sum()\n",
    "# filter for days_since_prior_order is na & eval_set not 'prior'"
   ],
   "id": "b631b885d4bd31bf",
   "outputs": [
    {
     "data": {
      "text/plain": [
       "np.float64(0.0)"
      ]
     },
     "execution_count": 32,
     "metadata": {},
     "output_type": "execute_result"
    }
   ],
   "execution_count": 32
  },
  {
   "metadata": {},
   "cell_type": "markdown",
   "source": [
    "All rows containing NAs are apparently part of the 'prior' set. No NAs (from this file, at least) in the train or test sets."
   ],
   "id": "943e1c9fc9fbea8b"
  },
  {
   "metadata": {
    "ExecuteTime": {
     "end_time": "2024-10-06T00:06:29.613862Z",
     "start_time": "2024-10-06T00:06:28.840992Z"
    }
   },
   "cell_type": "code",
   "source": [
    "orders.describe()"
   ],
   "id": "309195968fbbab39",
   "outputs": [
    {
     "data": {
      "text/plain": [
       "           order_id       user_id  order_number     order_dow  \\\n",
       "count  3.421083e+06  3.421083e+06  3.421083e+06  3.421083e+06   \n",
       "mean   1.710542e+06  1.029782e+05  1.715486e+01  2.776219e+00   \n",
       "std    9.875817e+05  5.953372e+04  1.773316e+01  2.046829e+00   \n",
       "min    1.000000e+00  1.000000e+00  1.000000e+00  0.000000e+00   \n",
       "25%    8.552715e+05  5.139400e+04  5.000000e+00  1.000000e+00   \n",
       "50%    1.710542e+06  1.026890e+05  1.100000e+01  3.000000e+00   \n",
       "75%    2.565812e+06  1.543850e+05  2.300000e+01  5.000000e+00   \n",
       "max    3.421083e+06  2.062090e+05  1.000000e+02  6.000000e+00   \n",
       "\n",
       "       order_hour_of_day  days_since_prior_order  \n",
       "count       3.421083e+06            3.214874e+06  \n",
       "mean        1.345202e+01            1.111484e+01  \n",
       "std         4.226088e+00            9.206737e+00  \n",
       "min         0.000000e+00            0.000000e+00  \n",
       "25%         1.000000e+01            4.000000e+00  \n",
       "50%         1.300000e+01            7.000000e+00  \n",
       "75%         1.600000e+01            1.500000e+01  \n",
       "max         2.300000e+01            3.000000e+01  "
      ],
      "text/html": [
       "<div>\n",
       "<style scoped>\n",
       "    .dataframe tbody tr th:only-of-type {\n",
       "        vertical-align: middle;\n",
       "    }\n",
       "\n",
       "    .dataframe tbody tr th {\n",
       "        vertical-align: top;\n",
       "    }\n",
       "\n",
       "    .dataframe thead th {\n",
       "        text-align: right;\n",
       "    }\n",
       "</style>\n",
       "<table border=\"1\" class=\"dataframe\">\n",
       "  <thead>\n",
       "    <tr style=\"text-align: right;\">\n",
       "      <th></th>\n",
       "      <th>order_id</th>\n",
       "      <th>user_id</th>\n",
       "      <th>order_number</th>\n",
       "      <th>order_dow</th>\n",
       "      <th>order_hour_of_day</th>\n",
       "      <th>days_since_prior_order</th>\n",
       "    </tr>\n",
       "  </thead>\n",
       "  <tbody>\n",
       "    <tr>\n",
       "      <th>count</th>\n",
       "      <td>3.421083e+06</td>\n",
       "      <td>3.421083e+06</td>\n",
       "      <td>3.421083e+06</td>\n",
       "      <td>3.421083e+06</td>\n",
       "      <td>3.421083e+06</td>\n",
       "      <td>3.214874e+06</td>\n",
       "    </tr>\n",
       "    <tr>\n",
       "      <th>mean</th>\n",
       "      <td>1.710542e+06</td>\n",
       "      <td>1.029782e+05</td>\n",
       "      <td>1.715486e+01</td>\n",
       "      <td>2.776219e+00</td>\n",
       "      <td>1.345202e+01</td>\n",
       "      <td>1.111484e+01</td>\n",
       "    </tr>\n",
       "    <tr>\n",
       "      <th>std</th>\n",
       "      <td>9.875817e+05</td>\n",
       "      <td>5.953372e+04</td>\n",
       "      <td>1.773316e+01</td>\n",
       "      <td>2.046829e+00</td>\n",
       "      <td>4.226088e+00</td>\n",
       "      <td>9.206737e+00</td>\n",
       "    </tr>\n",
       "    <tr>\n",
       "      <th>min</th>\n",
       "      <td>1.000000e+00</td>\n",
       "      <td>1.000000e+00</td>\n",
       "      <td>1.000000e+00</td>\n",
       "      <td>0.000000e+00</td>\n",
       "      <td>0.000000e+00</td>\n",
       "      <td>0.000000e+00</td>\n",
       "    </tr>\n",
       "    <tr>\n",
       "      <th>25%</th>\n",
       "      <td>8.552715e+05</td>\n",
       "      <td>5.139400e+04</td>\n",
       "      <td>5.000000e+00</td>\n",
       "      <td>1.000000e+00</td>\n",
       "      <td>1.000000e+01</td>\n",
       "      <td>4.000000e+00</td>\n",
       "    </tr>\n",
       "    <tr>\n",
       "      <th>50%</th>\n",
       "      <td>1.710542e+06</td>\n",
       "      <td>1.026890e+05</td>\n",
       "      <td>1.100000e+01</td>\n",
       "      <td>3.000000e+00</td>\n",
       "      <td>1.300000e+01</td>\n",
       "      <td>7.000000e+00</td>\n",
       "    </tr>\n",
       "    <tr>\n",
       "      <th>75%</th>\n",
       "      <td>2.565812e+06</td>\n",
       "      <td>1.543850e+05</td>\n",
       "      <td>2.300000e+01</td>\n",
       "      <td>5.000000e+00</td>\n",
       "      <td>1.600000e+01</td>\n",
       "      <td>1.500000e+01</td>\n",
       "    </tr>\n",
       "    <tr>\n",
       "      <th>max</th>\n",
       "      <td>3.421083e+06</td>\n",
       "      <td>2.062090e+05</td>\n",
       "      <td>1.000000e+02</td>\n",
       "      <td>6.000000e+00</td>\n",
       "      <td>2.300000e+01</td>\n",
       "      <td>3.000000e+01</td>\n",
       "    </tr>\n",
       "  </tbody>\n",
       "</table>\n",
       "</div>"
      ]
     },
     "execution_count": 33,
     "metadata": {},
     "output_type": "execute_result"
    }
   ],
   "execution_count": 33
  },
  {
   "metadata": {},
   "cell_type": "markdown",
   "source": [
    "Orders contains items ordered categorized into the \"prior\" (previous orders), training & testing datasets, plus features for \"order_number\", day of the week when an order was placed, hour it was placed, and days since prior order. No duplicate order IDs, one row per order. Days since prior order contains about 6% NAs, presumably orders with no prior order. The maximum value for days_since_prior_order is 30. I'm curious why. Have values greater than 30 have been squished to 30? Have those rows been dropped? are those the NAs?"
   ],
   "id": "a986cab38dcbe4df"
  },
  {
   "cell_type": "markdown",
   "source": [
    "### Products"
   ],
   "metadata": {
    "collapsed": false
   },
   "id": "cd10f60e94b2a861"
  },
  {
   "cell_type": "code",
   "source": [
    "products = pd.read_csv(os.path.join(data_folder_path, \"products.csv\"))"
   ],
   "metadata": {
    "collapsed": false,
    "ExecuteTime": {
     "end_time": "2024-10-06T00:06:29.653781Z",
     "start_time": "2024-10-06T00:06:29.614861Z"
    }
   },
   "id": "76c053434acc98a9",
   "outputs": [],
   "execution_count": 34
  },
  {
   "metadata": {
    "ExecuteTime": {
     "end_time": "2024-10-06T00:06:29.667580Z",
     "start_time": "2024-10-06T00:06:29.654759Z"
    }
   },
   "cell_type": "code",
   "source": [
    "print(f\"NA values: {products.isnull().sum().sum()}\")\n",
    "print(f\"Products in dataset: {products.product_id.nunique()}\")\n",
    "print(f\"Duplicate products: {products['product_id'].duplicated().sum()}\")\n",
    "products.head()"
   ],
   "id": "3589d772f251a52c",
   "outputs": [
    {
     "name": "stdout",
     "output_type": "stream",
     "text": [
      "NA values: 0\n",
      "Products in dataset: 49688\n",
      "Duplicate products: 0\n"
     ]
    },
    {
     "data": {
      "text/plain": [
       "   product_id                                       product_name  aisle_id  \\\n",
       "0           1                         Chocolate Sandwich Cookies        61   \n",
       "1           2                                   All-Seasons Salt       104   \n",
       "2           3               Robust Golden Unsweetened Oolong Tea        94   \n",
       "3           4  Smart Ones Classic Favorites Mini Rigatoni Wit...        38   \n",
       "4           5                          Green Chile Anytime Sauce         5   \n",
       "\n",
       "   department_id  \n",
       "0             19  \n",
       "1             13  \n",
       "2              7  \n",
       "3              1  \n",
       "4             13  "
      ],
      "text/html": [
       "<div>\n",
       "<style scoped>\n",
       "    .dataframe tbody tr th:only-of-type {\n",
       "        vertical-align: middle;\n",
       "    }\n",
       "\n",
       "    .dataframe tbody tr th {\n",
       "        vertical-align: top;\n",
       "    }\n",
       "\n",
       "    .dataframe thead th {\n",
       "        text-align: right;\n",
       "    }\n",
       "</style>\n",
       "<table border=\"1\" class=\"dataframe\">\n",
       "  <thead>\n",
       "    <tr style=\"text-align: right;\">\n",
       "      <th></th>\n",
       "      <th>product_id</th>\n",
       "      <th>product_name</th>\n",
       "      <th>aisle_id</th>\n",
       "      <th>department_id</th>\n",
       "    </tr>\n",
       "  </thead>\n",
       "  <tbody>\n",
       "    <tr>\n",
       "      <th>0</th>\n",
       "      <td>1</td>\n",
       "      <td>Chocolate Sandwich Cookies</td>\n",
       "      <td>61</td>\n",
       "      <td>19</td>\n",
       "    </tr>\n",
       "    <tr>\n",
       "      <th>1</th>\n",
       "      <td>2</td>\n",
       "      <td>All-Seasons Salt</td>\n",
       "      <td>104</td>\n",
       "      <td>13</td>\n",
       "    </tr>\n",
       "    <tr>\n",
       "      <th>2</th>\n",
       "      <td>3</td>\n",
       "      <td>Robust Golden Unsweetened Oolong Tea</td>\n",
       "      <td>94</td>\n",
       "      <td>7</td>\n",
       "    </tr>\n",
       "    <tr>\n",
       "      <th>3</th>\n",
       "      <td>4</td>\n",
       "      <td>Smart Ones Classic Favorites Mini Rigatoni Wit...</td>\n",
       "      <td>38</td>\n",
       "      <td>1</td>\n",
       "    </tr>\n",
       "    <tr>\n",
       "      <th>4</th>\n",
       "      <td>5</td>\n",
       "      <td>Green Chile Anytime Sauce</td>\n",
       "      <td>5</td>\n",
       "      <td>13</td>\n",
       "    </tr>\n",
       "  </tbody>\n",
       "</table>\n",
       "</div>"
      ]
     },
     "execution_count": 35,
     "metadata": {},
     "output_type": "execute_result"
    }
   ],
   "execution_count": 35
  },
  {
   "metadata": {},
   "cell_type": "markdown",
   "source": [
    "Products contains information about each product, assigning a unique ID number to each product, along with the aisle & department where it can be located. There are just under 50,000 unique products in our data."
   ],
   "id": "8a36aed56a02715c"
  },
  {
   "cell_type": "markdown",
   "source": [
    "### Sample_submission"
   ],
   "metadata": {
    "collapsed": false
   },
   "id": "b2b7c3b15cc422b5"
  },
  {
   "cell_type": "code",
   "source": [
    "sample_submission = pd.read_csv(os.path.join(data_folder_path, \"sample_submission.csv\"))"
   ],
   "metadata": {
    "collapsed": false,
    "ExecuteTime": {
     "end_time": "2024-10-06T00:06:29.685523Z",
     "start_time": "2024-10-06T00:06:29.667580Z"
    }
   },
   "id": "4a3a046aa1b3f3da",
   "outputs": [],
   "execution_count": 36
  },
  {
   "metadata": {
    "ExecuteTime": {
     "end_time": "2024-10-06T00:06:29.690790Z",
     "start_time": "2024-10-06T00:06:29.686524Z"
    }
   },
   "cell_type": "code",
   "source": [
    "sample_submission.head()"
   ],
   "id": "d3287b706bc26c31",
   "outputs": [
    {
     "data": {
      "text/plain": [
       "   order_id     products\n",
       "0        17  39276 29259\n",
       "1        34  39276 29259\n",
       "2       137  39276 29259\n",
       "3       182  39276 29259\n",
       "4       257  39276 29259"
      ],
      "text/html": [
       "<div>\n",
       "<style scoped>\n",
       "    .dataframe tbody tr th:only-of-type {\n",
       "        vertical-align: middle;\n",
       "    }\n",
       "\n",
       "    .dataframe tbody tr th {\n",
       "        vertical-align: top;\n",
       "    }\n",
       "\n",
       "    .dataframe thead th {\n",
       "        text-align: right;\n",
       "    }\n",
       "</style>\n",
       "<table border=\"1\" class=\"dataframe\">\n",
       "  <thead>\n",
       "    <tr style=\"text-align: right;\">\n",
       "      <th></th>\n",
       "      <th>order_id</th>\n",
       "      <th>products</th>\n",
       "    </tr>\n",
       "  </thead>\n",
       "  <tbody>\n",
       "    <tr>\n",
       "      <th>0</th>\n",
       "      <td>17</td>\n",
       "      <td>39276 29259</td>\n",
       "    </tr>\n",
       "    <tr>\n",
       "      <th>1</th>\n",
       "      <td>34</td>\n",
       "      <td>39276 29259</td>\n",
       "    </tr>\n",
       "    <tr>\n",
       "      <th>2</th>\n",
       "      <td>137</td>\n",
       "      <td>39276 29259</td>\n",
       "    </tr>\n",
       "    <tr>\n",
       "      <th>3</th>\n",
       "      <td>182</td>\n",
       "      <td>39276 29259</td>\n",
       "    </tr>\n",
       "    <tr>\n",
       "      <th>4</th>\n",
       "      <td>257</td>\n",
       "      <td>39276 29259</td>\n",
       "    </tr>\n",
       "  </tbody>\n",
       "</table>\n",
       "</div>"
      ]
     },
     "execution_count": 37,
     "metadata": {},
     "output_type": "execute_result"
    }
   ],
   "execution_count": 37
  },
  {
   "metadata": {},
   "cell_type": "markdown",
   "source": [
    "This is a sample submission. For each order_id, there are space-separated pairs of previously ordered products (by product_id) most likely to be in a user's next order."
   ],
   "id": "4168ba838c4eeb0c"
  },
  {
   "cell_type": "markdown",
   "source": [
    "2. Pre-processed data for use in the model and justify pre-processing methods. Note this\n",
    "may be different for each Part and/or algorithm you try. "
   ],
   "metadata": {
    "collapsed": false
   },
   "id": "da755b1cf48183ac"
  },
  {
   "metadata": {},
   "cell_type": "markdown",
   "source": "Load order_products__prior as RDD",
   "id": "86ccc47432ee1e72"
  },
  {
   "cell_type": "code",
   "source": [
    "OPP_lines = sc.textFile(os.path.join(data_folder_path, 'order_products__prior.csv'))\n",
    "OPP_baskets = OPP_lines.map(lambda l: l.split(','))\n",
    "OPP_N = OPP_baskets.count()\n",
    "print(\"N:\", OPP_N)  # Length matches length when loaded with pd. Evidence that the data was loaded correctly.\n",
    "OPP_header = OPP_baskets.first()  # Save header\n",
    "OPP_baskets = OPP_baskets.filter(lambda row: row != OPP_header)  # Remove header row from rdd\n",
    "OPP_baskets.take(5)"
   ],
   "metadata": {
    "collapsed": false,
    "ExecuteTime": {
     "end_time": "2024-10-06T00:06:41.659726Z",
     "start_time": "2024-10-06T00:06:29.690790Z"
    }
   },
   "id": "98491b02a5258292",
   "outputs": [
    {
     "name": "stdout",
     "output_type": "stream",
     "text": [
      "N: 32434490\n"
     ]
    },
    {
     "data": {
      "text/plain": [
       "[['2', '33120', '1', '1'],\n",
       " ['2', '28985', '2', '1'],\n",
       " ['2', '9327', '3', '0'],\n",
       " ['2', '45918', '4', '1'],\n",
       " ['2', '30035', '5', '0']]"
      ]
     },
     "execution_count": 38,
     "metadata": {},
     "output_type": "execute_result"
    }
   ],
   "execution_count": 38
  },
  {
   "metadata": {},
   "cell_type": "markdown",
   "source": "Load products as RDD",
   "id": "25fcef0a820c4ac4"
  },
  {
   "metadata": {
    "ExecuteTime": {
     "end_time": "2024-10-06T00:06:43.997545Z",
     "start_time": "2024-10-06T00:06:41.659757Z"
    }
   },
   "cell_type": "code",
   "source": [
    "products_lines = sc.textFile(os.path.join(data_folder_path, 'products.csv'))\n",
    "products_baskets = products_lines.map(lambda l: l.split(',')).map(lambda row: (row[0], row[1]))\n",
    "products_N = products_baskets.count()\n",
    "print(\"N:\", OPP_N)  # Length matches length when loaded with pd. Evidence that the data was loaded correctly.\n",
    "products_header = products_baskets.first()  # Save header\n",
    "products_baskets = products_baskets.filter(lambda row: row != products_header)  # Remove header row from rdd\n",
    "products_baskets.take(5)"
   ],
   "id": "74872378b86b1507",
   "outputs": [
    {
     "name": "stdout",
     "output_type": "stream",
     "text": [
      "N: 32434490\n"
     ]
    },
    {
     "data": {
      "text/plain": [
       "[('1', 'Chocolate Sandwich Cookies'),\n",
       " ('2', 'All-Seasons Salt'),\n",
       " ('3', 'Robust Golden Unsweetened Oolong Tea'),\n",
       " ('4', 'Smart Ones Classic Favorites Mini Rigatoni With Vodka Cream Sauce'),\n",
       " ('5', 'Green Chile Anytime Sauce')]"
      ]
     },
     "execution_count": 39,
     "metadata": {},
     "output_type": "execute_result"
    }
   ],
   "execution_count": 39
  },
  {
   "metadata": {},
   "cell_type": "markdown",
   "source": "Create a dictionary of product_id to product_name for later use",
   "id": "c68ebce3d7701768"
  },
  {
   "metadata": {
    "ExecuteTime": {
     "end_time": "2024-10-06T00:11:40.004324Z",
     "start_time": "2024-10-06T00:11:39.964142Z"
    }
   },
   "cell_type": "code",
   "source": "product_id_to_name = dict(zip(products['product_id'], products['product_name']))",
   "id": "143ea905dff56311",
   "outputs": [],
   "execution_count": 48
  },
  {
   "cell_type": "markdown",
   "source": [
    "# Part B: Association Rules\n",
    "Use “order_products__prior.csv” to build frequent itemsets and association rules to understand\n",
    "what products are often bought together. Also, use your findings to understand what drives\n",
    "market baskets and association rules that are indicative of large lemon purchases. Please provide\n",
    "commentary and rationale for everything you are doing."
   ],
   "metadata": {
    "collapsed": false
   },
   "id": "cda1f9fca602b830"
  },
  {
   "metadata": {},
   "cell_type": "markdown",
   "source": [
    "First, calculate product frequencies. These are counts of the number of times an item occurs in the entire dataset. \n",
    "\n",
    "This will be necessary for calculating the support of each item set and association rules.\n",
    "\n",
    "product_counts == singles_support from notes.\n"
   ],
   "id": "891621103759d616"
  },
  {
   "metadata": {
    "ExecuteTime": {
     "end_time": "2024-10-06T00:37:43.733058Z",
     "start_time": "2024-10-06T00:37:28.752610Z"
    }
   },
   "cell_type": "code",
   "source": [
    "# Product counts\n",
    "# Count 1 for each item occurrence\n",
    "product_counts = OPP_baskets.map(lambda row: (row[1], 1))\n",
    "\n",
    "# Sum total occurrences of each item\n",
    "product_counts = product_counts.reduceByKey(lambda x, y: x + y)\n",
    "\n",
    "# Filter out infrequent items\n",
    "product_counts = product_counts.filter(lambda x: x[1] >= 100)\n",
    "\n",
    "product_counts.take(5)"
   ],
   "id": "652a52fe8952c473",
   "outputs": [
    {
     "data": {
      "text/plain": [
       "[('24838', 49569),\n",
       " ('38693', 4529),\n",
       " ('23423', 2415),\n",
       " ('26910', 463),\n",
       " ('9848', 101)]"
      ]
     },
     "execution_count": 58,
     "metadata": {},
     "output_type": "execute_result"
    }
   ],
   "execution_count": 58
  },
  {
   "metadata": {},
   "cell_type": "markdown",
   "source": "For later transformations, collect product_counts into a dict.",
   "id": "ecd66ee9f6b3ec0f"
  },
  {
   "metadata": {
    "ExecuteTime": {
     "end_time": "2024-10-06T00:42:32.235268Z",
     "start_time": "2024-10-06T00:42:32.222506Z"
    }
   },
   "cell_type": "code",
   "source": "product_counts = dict(product_counts.collect())",
   "id": "4cdb7c7428a0e110",
   "outputs": [
    {
     "ename": "AttributeError",
     "evalue": "'dict' object has no attribute 'collect'",
     "output_type": "error",
     "traceback": [
      "\u001B[1;31m---------------------------------------------------------------------------\u001B[0m",
      "\u001B[1;31mAttributeError\u001B[0m                            Traceback (most recent call last)",
      "Cell \u001B[1;32mIn[64], line 1\u001B[0m\n\u001B[1;32m----> 1\u001B[0m product_counts \u001B[38;5;241m=\u001B[39m \u001B[38;5;28mdict\u001B[39m(\u001B[43mproduct_counts\u001B[49m\u001B[38;5;241;43m.\u001B[39;49m\u001B[43mcollect\u001B[49m())\n",
      "\u001B[1;31mAttributeError\u001B[0m: 'dict' object has no attribute 'collect'"
     ]
    }
   ],
   "execution_count": 64
  },
  {
   "metadata": {},
   "cell_type": "markdown",
   "source": "For inspection, produce sorted df.",
   "id": "3c256477b1f2033b"
  },
  {
   "metadata": {
    "ExecuteTime": {
     "end_time": "2024-10-06T00:12:03.819577Z",
     "start_time": "2024-10-06T00:11:40.016616Z"
    }
   },
   "cell_type": "code",
   "source": [
    "# Collect to pd.df for inspection\n",
    "product_counts_df = spark.createDataFrame(product_counts, schema=[\"product_id\", \"count\"]).toPandas()\n",
    "\n",
    "# Correct types\n",
    "product_counts_df['product_id'] = product_counts_df['product_id'].astype(int)\n",
    "\n",
    "#  Merge with products on product_id to get product_name \n",
    "product_counts_df = pd.merge(product_counts_df, products[['product_id', 'product_name']], on='product_id', how='inner')\n",
    "\n",
    "# I just want name & count for inspection\n",
    "product_counts_df = product_counts_df[['product_name', 'count']]\n",
    "\n",
    "# Sort descending by count\n",
    "product_counts_df.sort_values(by='count', ascending=False, inplace=True)\n",
    "\n",
    "# Top 10 most frequently purchased items\n",
    "product_counts_df[:10]"
   ],
   "id": "d13272533c56f6f",
   "outputs": [
    {
     "data": {
      "text/plain": [
       "                 product_name   count\n",
       "16765                  Banana  472565\n",
       "6765   Bag of Organic Bananas  379450\n",
       "7923     Organic Strawberries  264683\n",
       "16763    Organic Baby Spinach  241921\n",
       "11220    Organic Hass Avocado  213584\n",
       "5679          Organic Avocado  176815\n",
       "5685              Large Lemon  152657\n",
       "15677            Strawberries  142951\n",
       "18946                   Limes  140627\n",
       "4535       Organic Whole Milk  137905"
      ],
      "text/html": [
       "<div>\n",
       "<style scoped>\n",
       "    .dataframe tbody tr th:only-of-type {\n",
       "        vertical-align: middle;\n",
       "    }\n",
       "\n",
       "    .dataframe tbody tr th {\n",
       "        vertical-align: top;\n",
       "    }\n",
       "\n",
       "    .dataframe thead th {\n",
       "        text-align: right;\n",
       "    }\n",
       "</style>\n",
       "<table border=\"1\" class=\"dataframe\">\n",
       "  <thead>\n",
       "    <tr style=\"text-align: right;\">\n",
       "      <th></th>\n",
       "      <th>product_name</th>\n",
       "      <th>count</th>\n",
       "    </tr>\n",
       "  </thead>\n",
       "  <tbody>\n",
       "    <tr>\n",
       "      <th>16765</th>\n",
       "      <td>Banana</td>\n",
       "      <td>472565</td>\n",
       "    </tr>\n",
       "    <tr>\n",
       "      <th>6765</th>\n",
       "      <td>Bag of Organic Bananas</td>\n",
       "      <td>379450</td>\n",
       "    </tr>\n",
       "    <tr>\n",
       "      <th>7923</th>\n",
       "      <td>Organic Strawberries</td>\n",
       "      <td>264683</td>\n",
       "    </tr>\n",
       "    <tr>\n",
       "      <th>16763</th>\n",
       "      <td>Organic Baby Spinach</td>\n",
       "      <td>241921</td>\n",
       "    </tr>\n",
       "    <tr>\n",
       "      <th>11220</th>\n",
       "      <td>Organic Hass Avocado</td>\n",
       "      <td>213584</td>\n",
       "    </tr>\n",
       "    <tr>\n",
       "      <th>5679</th>\n",
       "      <td>Organic Avocado</td>\n",
       "      <td>176815</td>\n",
       "    </tr>\n",
       "    <tr>\n",
       "      <th>5685</th>\n",
       "      <td>Large Lemon</td>\n",
       "      <td>152657</td>\n",
       "    </tr>\n",
       "    <tr>\n",
       "      <th>15677</th>\n",
       "      <td>Strawberries</td>\n",
       "      <td>142951</td>\n",
       "    </tr>\n",
       "    <tr>\n",
       "      <th>18946</th>\n",
       "      <td>Limes</td>\n",
       "      <td>140627</td>\n",
       "    </tr>\n",
       "    <tr>\n",
       "      <th>4535</th>\n",
       "      <td>Organic Whole Milk</td>\n",
       "      <td>137905</td>\n",
       "    </tr>\n",
       "  </tbody>\n",
       "</table>\n",
       "</div>"
      ]
     },
     "execution_count": 50,
     "metadata": {},
     "output_type": "execute_result"
    }
   ],
   "execution_count": 50
  },
  {
   "metadata": {},
   "cell_type": "markdown",
   "source": [
    "The most commonly purchased items appear to be among fresh fruit & vegetables.\n",
    "\n",
    "Next, calculate product pair frequencies. This will be used for calculating association rules."
   ],
   "id": "882a890e593a0525"
  },
  {
   "cell_type": "code",
   "source": [
    "# Product pair counts\n",
    "# Create (order_id, product_id) tuples\n",
    "orders_to_products = OPP_baskets.map(lambda row: (row[0], row[1]))\n",
    "\n",
    "# Group by order_id\n",
    "order_product_baskets = orders_to_products.groupByKey().map(lambda x: list(set(x[1])))  \n",
    "\n",
    "def generate_pairs(basket):  # Generates product pairs\n",
    "    pairs = []\n",
    "    n = len(basket)\n",
    "    # For each product in the basket, pair with every product that comes after it (avoids duplicate pairs)\n",
    "    for i in range(n):\n",
    "        for j in range(i + 1, n):\n",
    "            pairs.append((basket[i], basket[j]))\n",
    "    return pairs\n",
    "\n",
    "# Generate all pairs for each basket\n",
    "product_pairs = order_product_baskets.flatMap(generate_pairs)\n",
    "\n",
    "# Count the occurrences of each pair\n",
    "pair_counts = product_pairs.map(lambda pair: (pair, 1))\n",
    "\n",
    "# Sum total occurrences of each pair\n",
    "pair_counts = pair_counts.reduceByKey(lambda x, y: x + y)\n",
    "\n",
    "# Filter out infrequent pairs\n",
    "pair_counts = pair_counts.filter(lambda x: x[1] >= 100)\n",
    "\n",
    "pair_counts.take(5)"
   ],
   "metadata": {
    "collapsed": false,
    "ExecuteTime": {
     "end_time": "2024-10-06T00:14:12.089132Z",
     "start_time": "2024-10-06T00:12:03.820576Z"
    }
   },
   "id": "ecd7f81abd036039",
   "outputs": [
    {
     "data": {
      "text/plain": [
       "[(('47766', '43394'), 344),\n",
       " (('28849', '37766'), 167),\n",
       " (('28849', '10017'), 351),\n",
       " (('7751', '5212'), 105),\n",
       " (('10749', '44632'), 1569)]"
      ]
     },
     "execution_count": 51,
     "metadata": {},
     "output_type": "execute_result"
    }
   ],
   "execution_count": 51
  },
  {
   "metadata": {},
   "cell_type": "markdown",
   "source": [
    "pair_counts == doubles_support form notes.\n",
    "\n",
    "For inspection, transform the RDD to have three elements: item_1, item_2, count"
   ],
   "id": "e0cbd041eef43d1b"
  },
  {
   "metadata": {
    "ExecuteTime": {
     "end_time": "2024-10-06T00:15:25.649050Z",
     "start_time": "2024-10-06T00:14:12.096110Z"
    }
   },
   "cell_type": "code",
   "source": [
    "# Widen to 3-tuple\n",
    "pair_counts_wide = pair_counts.map(lambda x: (x[0][0], x[0][1], x[1]))\n",
    "\n",
    "# Make item_1 key for the purpose of joining\n",
    "pair_counts_wide_names = pair_counts_wide.map(lambda x: (x[0], (x[1], x[2])))\n",
    "# Results in shape (item_1, (item_2, count))\n",
    "\n",
    "# Join to get product_name for item_1\n",
    "pair_counts_wide_names = pair_counts_wide_names.join(products_baskets)\n",
    "# Results in shape (item_1, ((item_2, count), product_name_1))\n",
    "\n",
    "# Map result to get the product_name for item_1\n",
    "pair_counts_wide_names = pair_counts_wide_names.map(lambda x: (x[1][0][0], (x[1][1], x[1][0][1])))\n",
    "# Results in shape (item_2, (product_name_1, count))\n",
    "\n",
    "# Join for item_2\n",
    "pair_counts_wide_names = pair_counts_wide_names.join(products_baskets)\n",
    "# Results in shape (item_2, (product_name_1, count), product_name_2)\n",
    "\n",
    "# Map result to get the product_name for item_2\n",
    "pair_counts_wide_names = pair_counts_wide_names.map(lambda x: (x[1][0][0], x[1][1], x[1][0][1]))\n",
    "# Results in shape (product_name_1, product_name_2, count)\n",
    "\n",
    "# Collect as pandas df\n",
    "pair_counts_wide_names_df = spark.createDataFrame(pair_counts_wide_names, schema=[\"product_name_1\", \"product_name_2\", \"count\"]).toPandas()\n",
    "\n",
    "# Sort descending by count\n",
    "pair_counts_wide_names_df.sort_values(by='count', ascending=False, inplace=True)\n",
    "\n",
    "# Top 10 pairs\n",
    "pair_counts_wide_names_df[:10]"
   ],
   "id": "f9ed5e2668ca59aa",
   "outputs": [
    {
     "data": {
      "text/plain": [
       "               product_name_1          product_name_2  count\n",
       "90965  Bag of Organic Bananas    Organic Strawberries  56352\n",
       "15501         Organic Avocado                  Banana  53393\n",
       "88030                  Banana    Organic Strawberries  51018\n",
       "18709             Large Lemon                  Banana  40775\n",
       "813       Organic Raspberries  Bag of Organic Bananas  39864\n",
       "88203    Organic Hass Avocado    Organic Strawberries  37758\n",
       "32676  Bag of Organic Bananas    Organic Hass Avocado  35200\n",
       "43391    Organic Hass Avocado    Organic Baby Spinach  34852\n",
       "28026                  Banana            Strawberries  34740\n",
       "14532      Organic Fuji Apple                  Banana  33858"
      ],
      "text/html": [
       "<div>\n",
       "<style scoped>\n",
       "    .dataframe tbody tr th:only-of-type {\n",
       "        vertical-align: middle;\n",
       "    }\n",
       "\n",
       "    .dataframe tbody tr th {\n",
       "        vertical-align: top;\n",
       "    }\n",
       "\n",
       "    .dataframe thead th {\n",
       "        text-align: right;\n",
       "    }\n",
       "</style>\n",
       "<table border=\"1\" class=\"dataframe\">\n",
       "  <thead>\n",
       "    <tr style=\"text-align: right;\">\n",
       "      <th></th>\n",
       "      <th>product_name_1</th>\n",
       "      <th>product_name_2</th>\n",
       "      <th>count</th>\n",
       "    </tr>\n",
       "  </thead>\n",
       "  <tbody>\n",
       "    <tr>\n",
       "      <th>90965</th>\n",
       "      <td>Bag of Organic Bananas</td>\n",
       "      <td>Organic Strawberries</td>\n",
       "      <td>56352</td>\n",
       "    </tr>\n",
       "    <tr>\n",
       "      <th>15501</th>\n",
       "      <td>Organic Avocado</td>\n",
       "      <td>Banana</td>\n",
       "      <td>53393</td>\n",
       "    </tr>\n",
       "    <tr>\n",
       "      <th>88030</th>\n",
       "      <td>Banana</td>\n",
       "      <td>Organic Strawberries</td>\n",
       "      <td>51018</td>\n",
       "    </tr>\n",
       "    <tr>\n",
       "      <th>18709</th>\n",
       "      <td>Large Lemon</td>\n",
       "      <td>Banana</td>\n",
       "      <td>40775</td>\n",
       "    </tr>\n",
       "    <tr>\n",
       "      <th>813</th>\n",
       "      <td>Organic Raspberries</td>\n",
       "      <td>Bag of Organic Bananas</td>\n",
       "      <td>39864</td>\n",
       "    </tr>\n",
       "    <tr>\n",
       "      <th>88203</th>\n",
       "      <td>Organic Hass Avocado</td>\n",
       "      <td>Organic Strawberries</td>\n",
       "      <td>37758</td>\n",
       "    </tr>\n",
       "    <tr>\n",
       "      <th>32676</th>\n",
       "      <td>Bag of Organic Bananas</td>\n",
       "      <td>Organic Hass Avocado</td>\n",
       "      <td>35200</td>\n",
       "    </tr>\n",
       "    <tr>\n",
       "      <th>43391</th>\n",
       "      <td>Organic Hass Avocado</td>\n",
       "      <td>Organic Baby Spinach</td>\n",
       "      <td>34852</td>\n",
       "    </tr>\n",
       "    <tr>\n",
       "      <th>28026</th>\n",
       "      <td>Banana</td>\n",
       "      <td>Strawberries</td>\n",
       "      <td>34740</td>\n",
       "    </tr>\n",
       "    <tr>\n",
       "      <th>14532</th>\n",
       "      <td>Organic Fuji Apple</td>\n",
       "      <td>Banana</td>\n",
       "      <td>33858</td>\n",
       "    </tr>\n",
       "  </tbody>\n",
       "</table>\n",
       "</div>"
      ]
     },
     "execution_count": 52,
     "metadata": {},
     "output_type": "execute_result"
    }
   ],
   "execution_count": 52
  },
  {
   "metadata": {},
   "cell_type": "markdown",
   "source": "Lastly, I use the confidence_doubles_helper function to produce association rules",
   "id": "91c2af4a80a4f226"
  },
  {
   "metadata": {
    "ExecuteTime": {
     "end_time": "2024-10-06T00:43:51.696687Z",
     "start_time": "2024-10-06T00:43:43.903830Z"
    }
   },
   "cell_type": "code",
   "source": [
    "def confidence_doubles_helper(double_support):\n",
    "    double, support = double_support\n",
    "    support = float(support)\n",
    "    u, v = double\n",
    "    uv_conf = support / product_counts[u]\n",
    "    vu_conf = support / product_counts[v]\n",
    "    return (('%s -> %s' % (u, v), uv_conf),\n",
    "            ('%s -> %s' % (v, u), vu_conf))\n",
    "\n",
    "doubles_conf = pair_counts.flatMap(confidence_doubles_helper)\n",
    "doubles_conf.take(5)"
   ],
   "id": "b9d03c4e1f49bcc",
   "outputs": [
    {
     "data": {
      "text/plain": [
       "[('47766 -> 43394', 0.0019455362949975963),\n",
       " ('43394 -> 47766', 0.040580394007313905),\n",
       " ('28849 -> 37766', 0.005980518550350953),\n",
       " ('37766 -> 28849', 0.010609911054637865),\n",
       " ('28849 -> 10017', 0.012569832402234637)]"
      ]
     },
     "execution_count": 65,
     "metadata": {},
     "output_type": "execute_result"
    }
   ],
   "execution_count": 65
  },
  {
   "cell_type": "markdown",
   "source": [
    " Part C: Predictive Modeling\n",
    "Using “order_products__prior.csv” to train a model and “order_products__train.csv” ONLY for\n",
    "scoring, train a model to predict if large lemons (hint: careful here) will be in an order (for all\n",
    "orders in “order_products__train.csv”) given the other items in the order and any other\n",
    "information in the other datasets provided. Please provide commentary and rationale for\n",
    "everything you are doing."
   ],
   "metadata": {
    "collapsed": false
   },
   "id": "fe413fddc0c232ec"
  },
  {
   "cell_type": "code",
   "source": "",
   "metadata": {
    "collapsed": false,
    "ExecuteTime": {
     "end_time": "2024-10-06T00:11:39.964142Z",
     "start_time": "2024-10-06T00:11:39.961754Z"
    }
   },
   "id": "c2eb1c53629ab6c7",
   "outputs": [],
   "execution_count": 47
  },
  {
   "cell_type": "markdown",
   "source": [
    "# Part D: Results Summary\n",
    "In this section discuss all of your findings including insights from the above Parts A-C. In what\n",
    "circumstances would Part B vs Part C make sense? What are the advantages of each?"
   ],
   "metadata": {
    "collapsed": false
   },
   "id": "e65b2f7669251dec"
  }
 ],
 "metadata": {
  "kernelspec": {
   "display_name": "Python 3",
   "language": "python",
   "name": "python3"
  },
  "language_info": {
   "codemirror_mode": {
    "name": "ipython",
    "version": 2
   },
   "file_extension": ".py",
   "mimetype": "text/x-python",
   "name": "python",
   "nbconvert_exporter": "python",
   "pygments_lexer": "ipython2",
   "version": "2.7.6"
  }
 },
 "nbformat": 4,
 "nbformat_minor": 5
}
