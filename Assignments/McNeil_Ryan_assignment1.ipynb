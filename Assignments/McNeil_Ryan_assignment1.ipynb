{
 "cells": [
  {
   "cell_type": "markdown",
   "source": [
    "# Import packages"
   ],
   "metadata": {
    "collapsed": false
   },
   "id": "db96f6d43c70ad7d"
  },
  {
   "cell_type": "code",
   "execution_count": 45,
   "id": "initial_id",
   "metadata": {
    "collapsed": true,
    "ExecuteTime": {
     "end_time": "2024-09-25T23:57:45.214130Z",
     "start_time": "2024-09-25T23:57:45.207814Z"
    }
   },
   "outputs": [],
   "source": [
    "import os\n",
    "import sklearn as skl\n",
    "import numpy as np\n",
    "import pandas as pd\n",
    "import matplotlib.pyplot as plt\n",
    "%matplotlib inline"
   ]
  },
  {
   "cell_type": "markdown",
   "source": [
    "# Part A: Exploratory Data Analysis\n",
    "1. Perform Exploratory Data Analysis (EDA) and discuss the data and what you observe\n",
    "prior to beginning modeling and how the EDA insights impact how to proceed "
   ],
   "metadata": {
    "collapsed": false
   },
   "id": "a57b49d68f22f43f"
  },
  {
   "cell_type": "markdown",
   "source": [
    "### Aisles"
   ],
   "metadata": {
    "collapsed": false
   },
   "id": "b955689575c0949c"
  },
  {
   "cell_type": "code",
   "outputs": [
    {
     "name": "stdout",
     "output_type": "stream",
     "text": [
      "No duplicate aisles: True\n",
      "NA values: 0\n"
     ]
    },
    {
     "data": {
      "text/plain": "   aisle_id                       aisle\n0         1       prepared soups salads\n1         2           specialty cheeses\n2         3         energy granola bars\n3         4               instant foods\n4         5  marinades meat preparation",
      "text/html": "<div>\n<style scoped>\n    .dataframe tbody tr th:only-of-type {\n        vertical-align: middle;\n    }\n\n    .dataframe tbody tr th {\n        vertical-align: top;\n    }\n\n    .dataframe thead th {\n        text-align: right;\n    }\n</style>\n<table border=\"1\" class=\"dataframe\">\n  <thead>\n    <tr style=\"text-align: right;\">\n      <th></th>\n      <th>aisle_id</th>\n      <th>aisle</th>\n    </tr>\n  </thead>\n  <tbody>\n    <tr>\n      <th>0</th>\n      <td>1</td>\n      <td>prepared soups salads</td>\n    </tr>\n    <tr>\n      <th>1</th>\n      <td>2</td>\n      <td>specialty cheeses</td>\n    </tr>\n    <tr>\n      <th>2</th>\n      <td>3</td>\n      <td>energy granola bars</td>\n    </tr>\n    <tr>\n      <th>3</th>\n      <td>4</td>\n      <td>instant foods</td>\n    </tr>\n    <tr>\n      <th>4</th>\n      <td>5</td>\n      <td>marinades meat preparation</td>\n    </tr>\n  </tbody>\n</table>\n</div>"
     },
     "execution_count": 46,
     "metadata": {},
     "output_type": "execute_result"
    }
   ],
   "source": [
    "aisles = pd.read_csv(r\"C:\\Users\\rmcnei\\Documents\\CSC84040\\instacart-market-basket-analysis\\aisles.csv\")\n",
    "\n",
    "print(f\"No duplicate aisles: {len(pd.unique(aisles.aisle)) == len(aisles.aisle)}\")\n",
    "\n",
    "print(f\"NA values: {aisles.isnull().sum().sum()}\")\n",
    "\n",
    "aisles.head()"
   ],
   "metadata": {
    "collapsed": false,
    "ExecuteTime": {
     "end_time": "2024-09-25T23:57:45.313930Z",
     "start_time": "2024-09-25T23:57:45.300040Z"
    }
   },
   "id": "8a1f94121f64387a",
   "execution_count": 46
  },
  {
   "cell_type": "markdown",
   "source": [
    "Aisles appears to be a table of aisles (by name (str)) with unique id numbers assigned to each."
   ],
   "metadata": {
    "collapsed": false
   },
   "id": "e43a666bb55957da"
  },
  {
   "cell_type": "markdown",
   "source": [
    "### Departments"
   ],
   "metadata": {
    "collapsed": false
   },
   "id": "2083da6e6d11f573"
  },
  {
   "cell_type": "code",
   "outputs": [
    {
     "name": "stdout",
     "output_type": "stream",
     "text": [
      "No duplicate departments: True\n",
      "NA values: 0\n"
     ]
    },
    {
     "data": {
      "text/plain": "   department_id department\n0              1     frozen\n1              2      other\n2              3     bakery\n3              4    produce\n4              5    alcohol",
      "text/html": "<div>\n<style scoped>\n    .dataframe tbody tr th:only-of-type {\n        vertical-align: middle;\n    }\n\n    .dataframe tbody tr th {\n        vertical-align: top;\n    }\n\n    .dataframe thead th {\n        text-align: right;\n    }\n</style>\n<table border=\"1\" class=\"dataframe\">\n  <thead>\n    <tr style=\"text-align: right;\">\n      <th></th>\n      <th>department_id</th>\n      <th>department</th>\n    </tr>\n  </thead>\n  <tbody>\n    <tr>\n      <th>0</th>\n      <td>1</td>\n      <td>frozen</td>\n    </tr>\n    <tr>\n      <th>1</th>\n      <td>2</td>\n      <td>other</td>\n    </tr>\n    <tr>\n      <th>2</th>\n      <td>3</td>\n      <td>bakery</td>\n    </tr>\n    <tr>\n      <th>3</th>\n      <td>4</td>\n      <td>produce</td>\n    </tr>\n    <tr>\n      <th>4</th>\n      <td>5</td>\n      <td>alcohol</td>\n    </tr>\n  </tbody>\n</table>\n</div>"
     },
     "execution_count": 47,
     "metadata": {},
     "output_type": "execute_result"
    }
   ],
   "source": [
    "departments = pd.read_csv(r\"C:\\Users\\rmcnei\\Documents\\CSC84040\\instacart-market-basket-analysis\\departments.csv\")\n",
    "\n",
    "print(f\"No duplicate departments: {len(pd.unique(departments.department)) == len(departments.department)}\")\n",
    "\n",
    "print(f\"NA values: {departments.isnull().sum().sum()}\")\n",
    "\n",
    "departments.head()"
   ],
   "metadata": {
    "collapsed": false,
    "ExecuteTime": {
     "end_time": "2024-09-25T23:57:45.328616Z",
     "start_time": "2024-09-25T23:57:45.317174Z"
    }
   },
   "id": "150fda3c6901a91b",
   "execution_count": 47
  },
  {
   "cell_type": "markdown",
   "source": [
    "Departments appears to be a table of departments (by name (str)) with unique id numbers assigned to each."
   ],
   "metadata": {
    "collapsed": false
   },
   "id": "33b14e22b09a18a3"
  },
  {
   "cell_type": "markdown",
   "source": [
    "### Order_products__prior"
   ],
   "metadata": {
    "collapsed": false
   },
   "id": "c25020f627dc3d24"
  },
  {
   "cell_type": "code",
   "outputs": [],
   "source": [
    "order_products__prior = pd.read_csv(r\"C:\\Users\\rmcnei\\Documents\\CSC84040\\instacart-market-basket-analysis\\order_products__prior.csv\")"
   ],
   "metadata": {
    "collapsed": false
   },
   "id": "aca074928e63469b",
   "execution_count": null
  },
  {
   "cell_type": "code",
   "outputs": [
    {
     "name": "stdout",
     "output_type": "stream",
     "text": [
      "NA values: 0\n",
      "Orders in dataset: 3214874\n",
      "Frequency of reorder: 58.97%\n"
     ]
    },
    {
     "data": {
      "text/plain": "           order_id    product_id  add_to_cart_order     reordered\ncount  3.243449e+07  3.243449e+07       3.243449e+07  3.243449e+07\nmean   1.710749e+06  2.557634e+04       8.351076e+00  5.896975e-01\nstd    9.873007e+05  1.409669e+04       7.126671e+00  4.918886e-01\nmin    2.000000e+00  1.000000e+00       1.000000e+00  0.000000e+00\n25%    8.559430e+05  1.353000e+04       3.000000e+00  0.000000e+00\n50%    1.711048e+06  2.525600e+04       6.000000e+00  1.000000e+00\n75%    2.565514e+06  3.793500e+04       1.100000e+01  1.000000e+00\nmax    3.421083e+06  4.968800e+04       1.450000e+02  1.000000e+00",
      "text/html": "<div>\n<style scoped>\n    .dataframe tbody tr th:only-of-type {\n        vertical-align: middle;\n    }\n\n    .dataframe tbody tr th {\n        vertical-align: top;\n    }\n\n    .dataframe thead th {\n        text-align: right;\n    }\n</style>\n<table border=\"1\" class=\"dataframe\">\n  <thead>\n    <tr style=\"text-align: right;\">\n      <th></th>\n      <th>order_id</th>\n      <th>product_id</th>\n      <th>add_to_cart_order</th>\n      <th>reordered</th>\n    </tr>\n  </thead>\n  <tbody>\n    <tr>\n      <th>count</th>\n      <td>3.243449e+07</td>\n      <td>3.243449e+07</td>\n      <td>3.243449e+07</td>\n      <td>3.243449e+07</td>\n    </tr>\n    <tr>\n      <th>mean</th>\n      <td>1.710749e+06</td>\n      <td>2.557634e+04</td>\n      <td>8.351076e+00</td>\n      <td>5.896975e-01</td>\n    </tr>\n    <tr>\n      <th>std</th>\n      <td>9.873007e+05</td>\n      <td>1.409669e+04</td>\n      <td>7.126671e+00</td>\n      <td>4.918886e-01</td>\n    </tr>\n    <tr>\n      <th>min</th>\n      <td>2.000000e+00</td>\n      <td>1.000000e+00</td>\n      <td>1.000000e+00</td>\n      <td>0.000000e+00</td>\n    </tr>\n    <tr>\n      <th>25%</th>\n      <td>8.559430e+05</td>\n      <td>1.353000e+04</td>\n      <td>3.000000e+00</td>\n      <td>0.000000e+00</td>\n    </tr>\n    <tr>\n      <th>50%</th>\n      <td>1.711048e+06</td>\n      <td>2.525600e+04</td>\n      <td>6.000000e+00</td>\n      <td>1.000000e+00</td>\n    </tr>\n    <tr>\n      <th>75%</th>\n      <td>2.565514e+06</td>\n      <td>3.793500e+04</td>\n      <td>1.100000e+01</td>\n      <td>1.000000e+00</td>\n    </tr>\n    <tr>\n      <th>max</th>\n      <td>3.421083e+06</td>\n      <td>4.968800e+04</td>\n      <td>1.450000e+02</td>\n      <td>1.000000e+00</td>\n    </tr>\n  </tbody>\n</table>\n</div>"
     },
     "execution_count": 91,
     "metadata": {},
     "output_type": "execute_result"
    }
   ],
   "source": [
    "print(f\"NA values: {order_products__prior.isnull().sum().sum()}\")\n",
    "\n",
    "print(f\"Orders in dataset: {order_products__prior.order_id.nunique()}\")\n",
    "\n",
    "print(f\"Frequency of reorder: {round(order_products__prior.reordered.mean(), 4) * 100}%\")\n",
    "\n",
    "order_products__prior.describe()"
   ],
   "metadata": {
    "collapsed": false,
    "ExecuteTime": {
     "end_time": "2024-09-26T00:22:01.348016Z",
     "start_time": "2024-09-26T00:21:58.316356Z"
    }
   },
   "id": "49447624e7b545e4",
   "execution_count": 91
  },
  {
   "cell_type": "markdown",
   "source": [
    "order_products__prior appears to be a table of products previously ordered by order (for ~3.4 million orders), including the order in which each product was added to cart & a binary flag for whether that product was previously ordered by that customer."
   ],
   "metadata": {
    "collapsed": false
   },
   "id": "79a490f40628b04a"
  },
  {
   "cell_type": "markdown",
   "source": [
    "### Order_products__train"
   ],
   "metadata": {
    "collapsed": false
   },
   "id": "b57d2926f9d1af98"
  },
  {
   "cell_type": "code",
   "outputs": [],
   "source": [
    "order_products__train = pd.read_csv(r\"C:\\Users\\rmcnei\\Documents\\CSC84040\\instacart-market-basket-analysis\\order_products__train.csv\")"
   ],
   "metadata": {
    "collapsed": false,
    "ExecuteTime": {
     "end_time": "2024-09-26T00:20:00.789219Z",
     "start_time": "2024-09-26T00:20:00.546075Z"
    }
   },
   "id": "f6f105b8fa1c3d05",
   "execution_count": 86
  },
  {
   "cell_type": "code",
   "outputs": [
    {
     "name": "stdout",
     "output_type": "stream",
     "text": [
      "NA values: 0\n",
      "Orders in dataset: 131209\n",
      "Frequency of reorder: 59.86%\n",
      "Comparative size: 4.27%\n"
     ]
    },
    {
     "data": {
      "text/plain": "           order_id    product_id  add_to_cart_order     reordered\ncount  1.384617e+06  1.384617e+06       1.384617e+06  1.384617e+06\nmean   1.706298e+06  2.555624e+04       8.758044e+00  5.985944e-01\nstd    9.897326e+05  1.412127e+04       7.423936e+00  4.901829e-01\nmin    1.000000e+00  1.000000e+00       1.000000e+00  0.000000e+00\n25%    8.433700e+05  1.338000e+04       3.000000e+00  0.000000e+00\n50%    1.701880e+06  2.529800e+04       7.000000e+00  1.000000e+00\n75%    2.568023e+06  3.794000e+04       1.200000e+01  1.000000e+00\nmax    3.421070e+06  4.968800e+04       8.000000e+01  1.000000e+00",
      "text/html": "<div>\n<style scoped>\n    .dataframe tbody tr th:only-of-type {\n        vertical-align: middle;\n    }\n\n    .dataframe tbody tr th {\n        vertical-align: top;\n    }\n\n    .dataframe thead th {\n        text-align: right;\n    }\n</style>\n<table border=\"1\" class=\"dataframe\">\n  <thead>\n    <tr style=\"text-align: right;\">\n      <th></th>\n      <th>order_id</th>\n      <th>product_id</th>\n      <th>add_to_cart_order</th>\n      <th>reordered</th>\n    </tr>\n  </thead>\n  <tbody>\n    <tr>\n      <th>count</th>\n      <td>1.384617e+06</td>\n      <td>1.384617e+06</td>\n      <td>1.384617e+06</td>\n      <td>1.384617e+06</td>\n    </tr>\n    <tr>\n      <th>mean</th>\n      <td>1.706298e+06</td>\n      <td>2.555624e+04</td>\n      <td>8.758044e+00</td>\n      <td>5.985944e-01</td>\n    </tr>\n    <tr>\n      <th>std</th>\n      <td>9.897326e+05</td>\n      <td>1.412127e+04</td>\n      <td>7.423936e+00</td>\n      <td>4.901829e-01</td>\n    </tr>\n    <tr>\n      <th>min</th>\n      <td>1.000000e+00</td>\n      <td>1.000000e+00</td>\n      <td>1.000000e+00</td>\n      <td>0.000000e+00</td>\n    </tr>\n    <tr>\n      <th>25%</th>\n      <td>8.433700e+05</td>\n      <td>1.338000e+04</td>\n      <td>3.000000e+00</td>\n      <td>0.000000e+00</td>\n    </tr>\n    <tr>\n      <th>50%</th>\n      <td>1.701880e+06</td>\n      <td>2.529800e+04</td>\n      <td>7.000000e+00</td>\n      <td>1.000000e+00</td>\n    </tr>\n    <tr>\n      <th>75%</th>\n      <td>2.568023e+06</td>\n      <td>3.794000e+04</td>\n      <td>1.200000e+01</td>\n      <td>1.000000e+00</td>\n    </tr>\n    <tr>\n      <th>max</th>\n      <td>3.421070e+06</td>\n      <td>4.968800e+04</td>\n      <td>8.000000e+01</td>\n      <td>1.000000e+00</td>\n    </tr>\n  </tbody>\n</table>\n</div>"
     },
     "execution_count": 100,
     "metadata": {},
     "output_type": "execute_result"
    }
   ],
   "source": [
    "print(f\"NA values: {order_products__train.isnull().sum().sum()}\")\n",
    "\n",
    "print(f\"Orders in dataset: {order_products__train.order_id.nunique()}\")\n",
    "\n",
    "print(f\"Frequency of reorder: {round(order_products__train.reordered.mean(), 4) * 100}%\")\n",
    "\n",
    "print(f\"Comparative size: {round((order_products__train.__len__() / order_products__prior.__len__()) * 100, 2)}%\")\n",
    "\n",
    "order_products__train.describe()"
   ],
   "metadata": {
    "collapsed": false,
    "ExecuteTime": {
     "end_time": "2024-09-26T00:28:43.271587Z",
     "start_time": "2024-09-26T00:28:43.123109Z"
    }
   },
   "id": "6035422bf1e3da13",
   "execution_count": 100
  },
  {
   "cell_type": "markdown",
   "source": [
    "order_products__train appears to be"
   ],
   "metadata": {
    "collapsed": false
   },
   "id": "bba8d4c60f0472e4"
  },
  {
   "cell_type": "markdown",
   "source": [
    "### Orders"
   ],
   "metadata": {
    "collapsed": false
   },
   "id": "2489abbffa36a903"
  },
  {
   "cell_type": "code",
   "outputs": [],
   "source": [
    "# orders"
   ],
   "metadata": {
    "collapsed": false,
    "ExecuteTime": {
     "end_time": "2024-09-25T23:57:51.729797Z",
     "start_time": "2024-09-25T23:57:51.715997Z"
    }
   },
   "id": "f0ac912fa1dafd57",
   "execution_count": 51
  },
  {
   "cell_type": "markdown",
   "source": [
    "### Products"
   ],
   "metadata": {
    "collapsed": false
   },
   "id": "cd10f60e94b2a861"
  },
  {
   "cell_type": "code",
   "outputs": [],
   "source": [
    "# products"
   ],
   "metadata": {
    "collapsed": false,
    "ExecuteTime": {
     "end_time": "2024-09-25T23:57:51.742040Z",
     "start_time": "2024-09-25T23:57:51.731917Z"
    }
   },
   "id": "3589d772f251a52c",
   "execution_count": 52
  },
  {
   "cell_type": "markdown",
   "source": [
    "### Sample_submission"
   ],
   "metadata": {
    "collapsed": false
   },
   "id": "b2b7c3b15cc422b5"
  },
  {
   "cell_type": "code",
   "outputs": [],
   "source": [
    "# sample_submission"
   ],
   "metadata": {
    "collapsed": false,
    "ExecuteTime": {
     "end_time": "2024-09-25T23:57:51.754195Z",
     "start_time": "2024-09-25T23:57:51.744257Z"
    }
   },
   "id": "d3287b706bc26c31",
   "execution_count": 53
  },
  {
   "cell_type": "markdown",
   "source": [
    "2. Pre-processed data for use in the model and justify pre-processing methods. Note this\n",
    "may be different for each Part and/or algorithm you try. "
   ],
   "metadata": {
    "collapsed": false
   },
   "id": "da755b1cf48183ac"
  },
  {
   "cell_type": "code",
   "outputs": [],
   "source": [],
   "metadata": {
    "collapsed": false,
    "ExecuteTime": {
     "end_time": "2024-09-25T23:57:51.762998Z",
     "start_time": "2024-09-25T23:57:51.758590Z"
    }
   },
   "id": "98491b02a5258292",
   "execution_count": 53
  },
  {
   "cell_type": "markdown",
   "source": [
    "# Part B: Association Rules\n",
    "Use “order_products__prior.csv” to build frequent itemsets and association rules to understand\n",
    "what products are often bought together. Also, use your findings to understand what drives\n",
    "market baskets and association rules that are indicative of large lemon purchases. Please provide\n",
    "commentary and rationale for everything you are doing."
   ],
   "metadata": {
    "collapsed": false
   },
   "id": "cda1f9fca602b830"
  },
  {
   "cell_type": "code",
   "outputs": [],
   "source": [],
   "metadata": {
    "collapsed": false,
    "ExecuteTime": {
     "end_time": "2024-09-25T23:57:51.768640Z",
     "start_time": "2024-09-25T23:57:51.765150Z"
    }
   },
   "id": "70d0e83b7f20b0ba",
   "execution_count": 53
  },
  {
   "cell_type": "markdown",
   "source": [
    "# Part C: Predictive Modeling\n",
    "Using “order_products__prior.csv” to train a model and “order_products__train.csv” ONLY for\n",
    "scoring, train a model to predict if large lemons (hint: careful here) will be in an order (for all\n",
    "orders in “order_products__train.csv”) given the other items in the order and any other\n",
    "information in the other datasets provided. Please provide commentary and rationale for\n",
    "everything you are doing."
   ],
   "metadata": {
    "collapsed": false
   },
   "id": "fe413fddc0c232ec"
  },
  {
   "cell_type": "code",
   "outputs": [],
   "source": [],
   "metadata": {
    "collapsed": false,
    "ExecuteTime": {
     "end_time": "2024-09-25T23:57:51.774240Z",
     "start_time": "2024-09-25T23:57:51.769717Z"
    }
   },
   "id": "c2eb1c53629ab6c7",
   "execution_count": 53
  },
  {
   "cell_type": "markdown",
   "source": [
    "# Part D: Results Summary\n",
    "In this section discuss all of your findings including insights from the above Parts A-C. In what\n",
    "circumstances would Part B vs Part C make sense? What are the advantages of each?"
   ],
   "metadata": {
    "collapsed": false
   },
   "id": "e65b2f7669251dec"
  }
 ],
 "metadata": {
  "kernelspec": {
   "display_name": "Python 3",
   "language": "python",
   "name": "python3"
  },
  "language_info": {
   "codemirror_mode": {
    "name": "ipython",
    "version": 2
   },
   "file_extension": ".py",
   "mimetype": "text/x-python",
   "name": "python",
   "nbconvert_exporter": "python",
   "pygments_lexer": "ipython2",
   "version": "2.7.6"
  }
 },
 "nbformat": 4,
 "nbformat_minor": 5
}
