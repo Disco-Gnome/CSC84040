{
  "nbformat": 4,
  "nbformat_minor": 0,
  "metadata": {
    "colab": {
      "provenance": []
    },
    "kernelspec": {
      "name": "python3",
      "display_name": "Python 3"
    }
  },
  "cells": [
    {
      "cell_type": "markdown",
      "metadata": {
        "id": "xkie2R2QzzNG"
      },
      "source": [
        "# Introduction To PySpark\n",
        "\n",
        "Today we will see examples on how to use PySpark (the Spark API for Python) to handle data. In particular, we will learn how to create RDD objects and use data frames to query from data."
      ]
    },
    {
      "cell_type": "markdown",
      "metadata": {
        "id": "G4BuhcJ20UQg"
      },
      "source": [
        "## Setup\n",
        "\n",
        "Run the cell below to setup Spark on your Colab environment."
      ]
    },
    {
      "cell_type": "code",
      "metadata": {
        "id": "F0JPTOrS0lTE",
        "colab": {
          "base_uri": "https://localhost:8080/"
        },
        "outputId": "f7a0ad4b-273d-4365-c85e-71615818ed24"
      },
      "source": [
        "!pip install pyspark\n",
        "!apt install openjdk-8-jdk-headless -qq\n",
        "import os\n",
        "os.environ[\"JAVA_HOME\"] = \"/usr/lib/jvm/java-8-openjdk-amd64\""
      ],
      "execution_count": null,
      "outputs": [
        {
          "output_type": "stream",
          "name": "stdout",
          "text": [
            "Requirement already satisfied: pyspark in /usr/local/lib/python3.10/dist-packages (3.5.2)\n",
            "Requirement already satisfied: py4j==0.10.9.7 in /usr/local/lib/python3.10/dist-packages (from pyspark) (0.10.9.7)\n",
            "openjdk-8-jdk-headless is already the newest version (8u422-b05-1~22.04).\n",
            "0 upgraded, 0 newly installed, 0 to remove and 49 not upgraded.\n"
          ]
        }
      ]
    },
    {
      "cell_type": "code",
      "metadata": {
        "id": "s6aGzFFs0qSG"
      },
      "source": [],
      "execution_count": null,
      "outputs": []
    },
    {
      "cell_type": "markdown",
      "metadata": {
        "id": "iBEHbY6I0OnN"
      },
      "source": [
        "## Resilient Distributed Dataset (RDD)\n",
        "\n",
        "Creating a resilient distributed dataset (RDD) is a common entry point for Spark users. In this section, we will create RDDs using `SparkContext` class and learn its important functions: `map()`, `reduce()`, `filter()`, `collect()`."
      ]
    },
    {
      "cell_type": "code",
      "source": [
        "#sc.stop()"
      ],
      "metadata": {
        "id": "xa9XaQ0KiIjq"
      },
      "execution_count": null,
      "outputs": []
    },
    {
      "cell_type": "code",
      "metadata": {
        "id": "tBRJlnSI0Sxa"
      },
      "source": [
        "from pyspark import SparkContext\n",
        "import numpy as np\n",
        "sc = SparkContext(master=\"local[4]\") # 4 means assigning 4 computational cores for this task"
      ],
      "execution_count": null,
      "outputs": []
    },
    {
      "cell_type": "code",
      "metadata": {
        "id": "qW2ADKFX01sv",
        "colab": {
          "base_uri": "https://localhost:8080/"
        },
        "outputId": "ead905bf-f676-48f2-d642-ec354babcdcb"
      },
      "source": [
        "# Create a RDD with 200 random integers.\n",
        "lst = np.random.randint(0, 10, 50000)\n",
        "print(lst)\n",
        "# type(lst) # lst is a numpy array\n",
        "A = sc.parallelize(lst) # A is an RDD dataset"
      ],
      "execution_count": null,
      "outputs": [
        {
          "output_type": "stream",
          "name": "stdout",
          "text": [
            "[2 9 2 ... 7 5 7]\n"
          ]
        }
      ]
    },
    {
      "cell_type": "code",
      "source": [],
      "metadata": {
        "id": "y4WnccmJKlk6"
      },
      "execution_count": null,
      "outputs": []
    },
    {
      "cell_type": "code",
      "metadata": {
        "id": "Zv25Tk0S05jH",
        "colab": {
          "base_uri": "https://localhost:8080/",
          "height": 174
        },
        "outputId": "beca25f3-d611-4f23-fe90-bfb862e7f51d"
      },
      "source": [
        "# A is an RDD object\n",
        "type(A)\n",
        "# print(A) # The content of an RDD object cannot be seen directly."
      ],
      "execution_count": null,
      "outputs": [
        {
          "output_type": "execute_result",
          "data": {
            "text/plain": [
              "pyspark.rdd.RDD"
            ],
            "text/html": [
              "<div style=\"max-width:800px; border: 1px solid var(--colab-border-color);\"><style>\n",
              "      pre.function-repr-contents {\n",
              "        overflow-x: auto;\n",
              "        padding: 8px 12px;\n",
              "        max-height: 500px;\n",
              "      }\n",
              "\n",
              "      pre.function-repr-contents.function-repr-contents-collapsed {\n",
              "        cursor: pointer;\n",
              "        max-height: 100px;\n",
              "      }\n",
              "    </style>\n",
              "    <pre style=\"white-space: initial; background:\n",
              "         var(--colab-secondary-surface-color); padding: 8px 12px;\n",
              "         border-bottom: 1px solid var(--colab-border-color);\"><b>pyspark.rdd.RDD</b><br/>def __init__(jrdd: &#x27;JavaObject&#x27;, ctx: &#x27;SparkContext&#x27;, jrdd_deserializer: Serializer=AutoBatchedSerializer(CPickleSerializer()))</pre><pre class=\"function-repr-contents function-repr-contents-collapsed\" style=\"\"><a class=\"filepath\" style=\"display:none\" href=\"#\">/usr/local/lib/python3.10/dist-packages/pyspark/rdd.py</a>A Resilient Distributed Dataset (RDD), the basic abstraction in Spark.\n",
              "Represents an immutable, partitioned collection of elements that can be\n",
              "operated on in parallel.</pre>\n",
              "      <script>\n",
              "      if (google.colab.kernel.accessAllowed && google.colab.files && google.colab.files.view) {\n",
              "        for (const element of document.querySelectorAll('.filepath')) {\n",
              "          element.style.display = 'block'\n",
              "          element.onclick = (event) => {\n",
              "            event.preventDefault();\n",
              "            event.stopPropagation();\n",
              "            google.colab.files.view(element.textContent, 336);\n",
              "          };\n",
              "        }\n",
              "      }\n",
              "      for (const element of document.querySelectorAll('.function-repr-contents')) {\n",
              "        element.onclick = (event) => {\n",
              "          event.preventDefault();\n",
              "          event.stopPropagation();\n",
              "          element.classList.toggle('function-repr-contents-collapsed');\n",
              "        };\n",
              "      }\n",
              "      </script>\n",
              "      </div>"
            ]
          },
          "metadata": {},
          "execution_count": 17
        }
      ]
    },
    {
      "cell_type": "code",
      "metadata": {
        "id": "rCnEV2PT08hi",
        "colab": {
          "base_uri": "https://localhost:8080/"
        },
        "outputId": "1f6ad693-aa52-44a3-b5ec-689ef9e0240e"
      },
      "source": [
        "# Convert the data back to a regular list.\n",
        "AA = A.collect()\n",
        "print(type(AA))\n",
        "len(AA)"
      ],
      "execution_count": null,
      "outputs": [
        {
          "output_type": "stream",
          "name": "stdout",
          "text": [
            "<class 'list'>\n"
          ]
        },
        {
          "output_type": "execute_result",
          "data": {
            "text/plain": [
              "50000"
            ]
          },
          "metadata": {},
          "execution_count": 18
        }
      ]
    },
    {
      "cell_type": "code",
      "metadata": {
        "id": "GLLgglSh0-Hm",
        "colab": {
          "base_uri": "https://localhost:8080/"
        },
        "outputId": "d951549b-9871-42f1-ab98-1442b0de8baf"
      },
      "source": [
        "# A splits the data into 4 pieces.\n",
        "print(len(A.glom().collect()[0]))\n",
        "print(len(A.glom().collect()))\n"
      ],
      "execution_count": null,
      "outputs": [
        {
          "output_type": "stream",
          "name": "stdout",
          "text": [
            "12288\n",
            "4\n"
          ]
        }
      ]
    },
    {
      "cell_type": "code",
      "metadata": {
        "id": "T0jopndc1A71",
        "colab": {
          "base_uri": "https://localhost:8080/"
        },
        "outputId": "14ed416b-d4d5-46ba-eaee-7f6190efe17f"
      },
      "source": [
        "# Let's see what happens if we assign 2 cores instead.\n",
        "\n",
        "sc.stop()  # stop current spark environment\n",
        "\n",
        "sc = SparkContext(master=\"local[2]\")  # Assign 2 cores\n",
        "\n",
        "A = sc.parallelize(lst)\n",
        "print(len(A.glom().collect()[0]))\n",
        "print(len(A.glom().collect()))\n"
      ],
      "execution_count": null,
      "outputs": [
        {
          "output_type": "stream",
          "name": "stdout",
          "text": [
            "24576\n",
            "2\n"
          ]
        }
      ]
    },
    {
      "cell_type": "markdown",
      "metadata": {
        "id": "7aqzZ5Lg1Iuk"
      },
      "source": [
        "The `map()` method applies a function to the values contained in one RDD and creates a new RDD with the results."
      ]
    },
    {
      "cell_type": "code",
      "source": [
        "type(A)"
      ],
      "metadata": {
        "colab": {
          "base_uri": "https://localhost:8080/",
          "height": 174
        },
        "id": "AD0HxCBqjGot",
        "outputId": "8052265c-2c70-4982-b245-928a6de593ee"
      },
      "execution_count": null,
      "outputs": [
        {
          "output_type": "execute_result",
          "data": {
            "text/plain": [
              "pyspark.rdd.RDD"
            ],
            "text/html": [
              "<div style=\"max-width:800px; border: 1px solid var(--colab-border-color);\"><style>\n",
              "      pre.function-repr-contents {\n",
              "        overflow-x: auto;\n",
              "        padding: 8px 12px;\n",
              "        max-height: 500px;\n",
              "      }\n",
              "\n",
              "      pre.function-repr-contents.function-repr-contents-collapsed {\n",
              "        cursor: pointer;\n",
              "        max-height: 100px;\n",
              "      }\n",
              "    </style>\n",
              "    <pre style=\"white-space: initial; background:\n",
              "         var(--colab-secondary-surface-color); padding: 8px 12px;\n",
              "         border-bottom: 1px solid var(--colab-border-color);\"><b>pyspark.rdd.RDD</b><br/>def __init__(jrdd: &#x27;JavaObject&#x27;, ctx: &#x27;SparkContext&#x27;, jrdd_deserializer: Serializer=AutoBatchedSerializer(CPickleSerializer()))</pre><pre class=\"function-repr-contents function-repr-contents-collapsed\" style=\"\"><a class=\"filepath\" style=\"display:none\" href=\"#\">/usr/local/lib/python3.10/dist-packages/pyspark/rdd.py</a>A Resilient Distributed Dataset (RDD), the basic abstraction in Spark.\n",
              "Represents an immutable, partitioned collection of elements that can be\n",
              "operated on in parallel.</pre>\n",
              "      <script>\n",
              "      if (google.colab.kernel.accessAllowed && google.colab.files && google.colab.files.view) {\n",
              "        for (const element of document.querySelectorAll('.filepath')) {\n",
              "          element.style.display = 'block'\n",
              "          element.onclick = (event) => {\n",
              "            event.preventDefault();\n",
              "            event.stopPropagation();\n",
              "            google.colab.files.view(element.textContent, 336);\n",
              "          };\n",
              "        }\n",
              "      }\n",
              "      for (const element of document.querySelectorAll('.function-repr-contents')) {\n",
              "        element.onclick = (event) => {\n",
              "          event.preventDefault();\n",
              "          event.stopPropagation();\n",
              "          element.classList.toggle('function-repr-contents-collapsed');\n",
              "        };\n",
              "      }\n",
              "      </script>\n",
              "      </div>"
            ]
          },
          "metadata": {},
          "execution_count": 21
        }
      ]
    },
    {
      "cell_type": "code",
      "source": [
        "# lets go back to 4 cores\n",
        "sc.stop()  # stop current spark environment\n",
        "\n",
        "sc = SparkContext(master=\"local[4]\")  # Assign 4 cores\n",
        "\n",
        "A = sc.parallelize(lst)\n",
        "print(len(A.glom().collect()))"
      ],
      "metadata": {
        "colab": {
          "base_uri": "https://localhost:8080/"
        },
        "id": "pKmdnhKVjao9",
        "outputId": "2e031b12-776c-4515-8ae3-ed329f0e37cc"
      },
      "execution_count": null,
      "outputs": [
        {
          "output_type": "stream",
          "name": "stdout",
          "text": [
            "4\n"
          ]
        }
      ]
    },
    {
      "cell_type": "code",
      "metadata": {
        "id": "Bvb6_c4D1DL1",
        "colab": {
          "base_uri": "https://localhost:8080/"
        },
        "outputId": "7adb4a20-6621-44e1-ae8c-fb52010637e8"
      },
      "source": [
        "import time\n",
        "# We can create a new RDD by squaring the values contained in A.\n",
        "# start timer\n",
        "start = time.time()\n",
        "B = A.map(lambda x: x * x)  # the mapping is defined by a lambda expression\n",
        "# stop timer\n",
        "end = time.time()\n",
        "print(end - start)\n",
        "\n",
        "#start time\n",
        "start = time.time()\n",
        "AA = B.collect()\n",
        "#stop time\n",
        "end = time.time()\n",
        "print(end - start)\n",
        "print(AA[0:2])\n",
        "\n",
        "#start time\n",
        "start = time.time()\n",
        "AA = B.collect()\n",
        "#stop time\n",
        "end = time.time()\n",
        "print(end - start)\n",
        "print(AA[0:2])"
      ],
      "execution_count": null,
      "outputs": [
        {
          "output_type": "stream",
          "name": "stdout",
          "text": [
            "0.004596233367919922\n",
            "0.7235085964202881\n",
            "[4, 81]\n",
            "0.8512706756591797\n",
            "[4, 81]\n"
          ]
        }
      ]
    },
    {
      "cell_type": "code",
      "source": [
        "print(len(B.glom().collect()))"
      ],
      "metadata": {
        "colab": {
          "base_uri": "https://localhost:8080/"
        },
        "id": "_efwOF-OLlGc",
        "outputId": "0fb1ab92-6b48-4eb1-af5d-d58abd6b8da6"
      },
      "execution_count": null,
      "outputs": [
        {
          "output_type": "stream",
          "name": "stdout",
          "text": [
            "4\n"
          ]
        }
      ]
    },
    {
      "cell_type": "markdown",
      "metadata": {
        "id": "Jnp7uIDZ1F7V"
      },
      "source": [
        "The `reduce()` method creates a new RDD by aggregating values in an RDD by certain rules."
      ]
    },
    {
      "cell_type": "code",
      "metadata": {
        "id": "ZsG3I64F1NBf",
        "colab": {
          "base_uri": "https://localhost:8080/"
        },
        "outputId": "87768463-578c-4682-8d71-289dd590bc18"
      },
      "source": [
        "#start time\n",
        "start = time.time()\n",
        "print(sum(A.collect()))\n",
        "#stop time\n",
        "end = time.time()\n",
        "print(end - start)\n",
        "\n",
        "start = time.time()\n",
        "# Calculate the sum of the data.\n",
        "print(A.reduce(lambda x, y: x + y))  # Every two values in the data is replace by\n",
        "                             # their sum.\n",
        "#stop time\n",
        "end = time.time()\n",
        "print(end - start)\n",
        "\n",
        "\n",
        "# np.sum(lst)"
      ],
      "execution_count": null,
      "outputs": [
        {
          "output_type": "stream",
          "name": "stdout",
          "text": [
            "225899\n",
            "0.04132866859436035\n",
            "225899\n",
            "0.3305792808532715\n"
          ]
        }
      ]
    },
    {
      "cell_type": "markdown",
      "source": [
        "### The above was slower with reduce, but if it data was larger reduce would be faster"
      ],
      "metadata": {
        "id": "LbM6b4w9v9FS"
      }
    },
    {
      "cell_type": "code",
      "metadata": {
        "id": "MdAohOaR1OKO",
        "colab": {
          "base_uri": "https://localhost:8080/"
        },
        "outputId": "619ad369-b7af-46ca-8a45-5c0db483d08b"
      },
      "source": [
        "# Find the maximum value.\n",
        "C = A.reduce(lambda x,y: x if x > y else y)\n",
        "\n",
        "# np.max(lst)\n",
        "print(type(C))\n",
        "C"
      ],
      "execution_count": null,
      "outputs": [
        {
          "output_type": "stream",
          "name": "stdout",
          "text": [
            "<class 'numpy.int64'>\n"
          ]
        },
        {
          "output_type": "execute_result",
          "data": {
            "text/plain": [
              "9"
            ]
          },
          "metadata": {},
          "execution_count": 26
        }
      ]
    },
    {
      "cell_type": "code",
      "metadata": {
        "id": "SRpjG4tj1Uqn",
        "colab": {
          "base_uri": "https://localhost:8080/"
        },
        "outputId": "03a338e3-5997-43d9-c547-7f5687cfe0c1"
      },
      "source": [
        "# Find all integers in A that are divisible by 3.\n",
        "C = A.filter(lambda x: x % 3 == 0)\n",
        "print(type(C))\n",
        "C.collect()"
      ],
      "execution_count": null,
      "outputs": [
        {
          "output_type": "stream",
          "name": "stdout",
          "text": [
            "<class 'pyspark.rdd.PipelinedRDD'>\n"
          ]
        },
        {
          "output_type": "execute_result",
          "data": {
            "text/plain": [
              "[9,\n",
              " 0,\n",
              " 9,\n",
              " 0,\n",
              " 6,\n",
              " 9,\n",
              " 6,\n",
              " 0,\n",
              " 0,\n",
              " 0,\n",
              " 6,\n",
              " 9,\n",
              " 6,\n",
              " 3,\n",
              " 6,\n",
              " 6,\n",
              " 3,\n",
              " 3,\n",
              " 6,\n",
              " 6,\n",
              " 9,\n",
              " 0,\n",
              " 0,\n",
              " 3,\n",
              " 6,\n",
              " 3,\n",
              " 3,\n",
              " 3,\n",
              " 9,\n",
              " 3,\n",
              " 3,\n",
              " 6,\n",
              " 9,\n",
              " 3,\n",
              " 0,\n",
              " 0,\n",
              " 9,\n",
              " 6,\n",
              " 6,\n",
              " 0,\n",
              " 0,\n",
              " 9,\n",
              " 0,\n",
              " 9,\n",
              " 9,\n",
              " 6,\n",
              " 6,\n",
              " 3,\n",
              " 6,\n",
              " 6,\n",
              " 6,\n",
              " 6,\n",
              " 0,\n",
              " 0,\n",
              " 6,\n",
              " 9,\n",
              " 0,\n",
              " 3,\n",
              " 9,\n",
              " 3,\n",
              " 9,\n",
              " 6,\n",
              " 9,\n",
              " 6,\n",
              " 9,\n",
              " 0,\n",
              " 0,\n",
              " 3,\n",
              " 9,\n",
              " 9,\n",
              " 0,\n",
              " 3,\n",
              " 9,\n",
              " 9,\n",
              " 0,\n",
              " 9,\n",
              " 3,\n",
              " 6,\n",
              " 6,\n",
              " 3,\n",
              " 0,\n",
              " 3,\n",
              " 0,\n",
              " 3,\n",
              " 3,\n",
              " 9,\n",
              " 3,\n",
              " 3,\n",
              " 9,\n",
              " 3,\n",
              " 0,\n",
              " 9,\n",
              " 6,\n",
              " 6,\n",
              " 6,\n",
              " 6,\n",
              " 9,\n",
              " 3,\n",
              " 6,\n",
              " 3,\n",
              " 6,\n",
              " 0,\n",
              " 0,\n",
              " 6,\n",
              " 9,\n",
              " 9,\n",
              " 3,\n",
              " 3,\n",
              " 6,\n",
              " 0,\n",
              " 9,\n",
              " 0,\n",
              " 9,\n",
              " 3,\n",
              " 6,\n",
              " 3,\n",
              " 3,\n",
              " 9,\n",
              " 9,\n",
              " 9,\n",
              " 9,\n",
              " 9,\n",
              " 0,\n",
              " 3,\n",
              " 0,\n",
              " 0,\n",
              " 3,\n",
              " 3,\n",
              " 0,\n",
              " 3,\n",
              " 9,\n",
              " 0,\n",
              " 9,\n",
              " 6,\n",
              " 9,\n",
              " 0,\n",
              " 6,\n",
              " 0,\n",
              " 3,\n",
              " 9,\n",
              " 0,\n",
              " 9,\n",
              " 6,\n",
              " 6,\n",
              " 9,\n",
              " 6,\n",
              " 0,\n",
              " 6,\n",
              " 3,\n",
              " 3,\n",
              " 0,\n",
              " 9,\n",
              " 6,\n",
              " 6,\n",
              " 0,\n",
              " 0,\n",
              " 0,\n",
              " 3,\n",
              " 3,\n",
              " 0,\n",
              " 3,\n",
              " 0,\n",
              " 0,\n",
              " 9,\n",
              " 0,\n",
              " 3,\n",
              " 0,\n",
              " 0,\n",
              " 6,\n",
              " 9,\n",
              " 6,\n",
              " 9,\n",
              " 6,\n",
              " 0,\n",
              " 3,\n",
              " 0,\n",
              " 3,\n",
              " 9,\n",
              " 3,\n",
              " 6,\n",
              " 9,\n",
              " 9,\n",
              " 0,\n",
              " 3,\n",
              " 0,\n",
              " 9,\n",
              " 0,\n",
              " 0,\n",
              " 3,\n",
              " 6,\n",
              " 3,\n",
              " 6,\n",
              " 0,\n",
              " 9,\n",
              " 3,\n",
              " 0,\n",
              " 0,\n",
              " 0,\n",
              " 0,\n",
              " 3,\n",
              " 3,\n",
              " 9,\n",
              " 9,\n",
              " 0,\n",
              " 0,\n",
              " 6,\n",
              " 3,\n",
              " 9,\n",
              " 6,\n",
              " 0,\n",
              " 0,\n",
              " 9,\n",
              " 0,\n",
              " 6,\n",
              " 6,\n",
              " 3,\n",
              " 9,\n",
              " 0,\n",
              " 3,\n",
              " 0,\n",
              " 0,\n",
              " 9,\n",
              " 6,\n",
              " 9,\n",
              " 0,\n",
              " 9,\n",
              " 0,\n",
              " 6,\n",
              " 6,\n",
              " 9,\n",
              " 3,\n",
              " 3,\n",
              " 0,\n",
              " 9,\n",
              " 6,\n",
              " 6,\n",
              " 3,\n",
              " 6,\n",
              " 6,\n",
              " 9,\n",
              " 6,\n",
              " 3,\n",
              " 3,\n",
              " 6,\n",
              " 9,\n",
              " 9,\n",
              " 9,\n",
              " 9,\n",
              " 9,\n",
              " 6,\n",
              " 0,\n",
              " 9,\n",
              " 6,\n",
              " 0,\n",
              " 0,\n",
              " 3,\n",
              " 6,\n",
              " 0,\n",
              " 6,\n",
              " 3,\n",
              " 9,\n",
              " 9,\n",
              " 3,\n",
              " 9,\n",
              " 9,\n",
              " 9,\n",
              " 6,\n",
              " 9,\n",
              " 0,\n",
              " 0,\n",
              " 9,\n",
              " 9,\n",
              " 6,\n",
              " 0,\n",
              " 6,\n",
              " 9,\n",
              " 0,\n",
              " 3,\n",
              " 6,\n",
              " 9,\n",
              " 9,\n",
              " 3,\n",
              " 6,\n",
              " 6,\n",
              " 0,\n",
              " 9,\n",
              " 3,\n",
              " 6,\n",
              " 9,\n",
              " 6,\n",
              " 6,\n",
              " 3,\n",
              " 9,\n",
              " 0,\n",
              " 3,\n",
              " 6,\n",
              " 0,\n",
              " 0,\n",
              " 3,\n",
              " 0,\n",
              " 9,\n",
              " 9,\n",
              " 0,\n",
              " 0,\n",
              " 3,\n",
              " 9,\n",
              " 9,\n",
              " 3,\n",
              " 3,\n",
              " 6,\n",
              " 0,\n",
              " 6,\n",
              " 3,\n",
              " 6,\n",
              " 6,\n",
              " 3,\n",
              " 6,\n",
              " 3,\n",
              " 0,\n",
              " 0,\n",
              " 6,\n",
              " 3,\n",
              " 0,\n",
              " 6,\n",
              " 3,\n",
              " 0,\n",
              " 3,\n",
              " 9,\n",
              " 9,\n",
              " 6,\n",
              " 0,\n",
              " 3,\n",
              " 9,\n",
              " 0,\n",
              " 9,\n",
              " 9,\n",
              " 9,\n",
              " 6,\n",
              " 9,\n",
              " 9,\n",
              " 0,\n",
              " 0,\n",
              " 3,\n",
              " 0,\n",
              " 6,\n",
              " 0,\n",
              " 3,\n",
              " 0,\n",
              " 6,\n",
              " 6,\n",
              " 3,\n",
              " 6,\n",
              " 3,\n",
              " 3,\n",
              " 3,\n",
              " 0,\n",
              " 9,\n",
              " 3,\n",
              " 6,\n",
              " 0,\n",
              " 0,\n",
              " 0,\n",
              " 3,\n",
              " 9,\n",
              " 9,\n",
              " 6,\n",
              " 0,\n",
              " 3,\n",
              " 0,\n",
              " 3,\n",
              " 6,\n",
              " 0,\n",
              " 0,\n",
              " 9,\n",
              " 0,\n",
              " 0,\n",
              " 6,\n",
              " 0,\n",
              " 6,\n",
              " 6,\n",
              " 6,\n",
              " 6,\n",
              " 0,\n",
              " 6,\n",
              " 0,\n",
              " 3,\n",
              " 3,\n",
              " 3,\n",
              " 6,\n",
              " 3,\n",
              " 0,\n",
              " 6,\n",
              " 6,\n",
              " 9,\n",
              " 6,\n",
              " 0,\n",
              " 3,\n",
              " 0,\n",
              " 3,\n",
              " 3,\n",
              " 9,\n",
              " 6,\n",
              " 3,\n",
              " 3,\n",
              " 9,\n",
              " 3,\n",
              " 9,\n",
              " 3,\n",
              " 0,\n",
              " 0,\n",
              " 6,\n",
              " 9,\n",
              " 0,\n",
              " 0,\n",
              " 6,\n",
              " 6,\n",
              " 6,\n",
              " 0,\n",
              " 6,\n",
              " 9,\n",
              " 0,\n",
              " 9,\n",
              " 6,\n",
              " 0,\n",
              " 0,\n",
              " 9,\n",
              " 9,\n",
              " 0,\n",
              " 3,\n",
              " 0,\n",
              " 6,\n",
              " 3,\n",
              " 9,\n",
              " 9,\n",
              " 9,\n",
              " 3,\n",
              " 3,\n",
              " 0,\n",
              " 9,\n",
              " 3,\n",
              " 3,\n",
              " 0,\n",
              " 3,\n",
              " 3,\n",
              " 3,\n",
              " 9,\n",
              " 6,\n",
              " 6,\n",
              " 9,\n",
              " 0,\n",
              " 0,\n",
              " 9,\n",
              " 0,\n",
              " 3,\n",
              " 3,\n",
              " 3,\n",
              " 0,\n",
              " 3,\n",
              " 3,\n",
              " 3,\n",
              " 3,\n",
              " 0,\n",
              " 3,\n",
              " 3,\n",
              " 6,\n",
              " 9,\n",
              " 9,\n",
              " 0,\n",
              " 3,\n",
              " 3,\n",
              " 3,\n",
              " 6,\n",
              " 0,\n",
              " 9,\n",
              " 0,\n",
              " 9,\n",
              " 9,\n",
              " 3,\n",
              " 0,\n",
              " 9,\n",
              " 0,\n",
              " 9,\n",
              " 3,\n",
              " 0,\n",
              " 6,\n",
              " 0,\n",
              " 3,\n",
              " 3,\n",
              " 6,\n",
              " 0,\n",
              " 0,\n",
              " 9,\n",
              " 9,\n",
              " 3,\n",
              " 0,\n",
              " 6,\n",
              " 6,\n",
              " 0,\n",
              " 0,\n",
              " 6,\n",
              " 3,\n",
              " 3,\n",
              " 3,\n",
              " 9,\n",
              " 0,\n",
              " 0,\n",
              " 0,\n",
              " 0,\n",
              " 3,\n",
              " 3,\n",
              " 9,\n",
              " 9,\n",
              " 9,\n",
              " 0,\n",
              " 9,\n",
              " 6,\n",
              " 0,\n",
              " 9,\n",
              " 3,\n",
              " 6,\n",
              " 6,\n",
              " 9,\n",
              " 6,\n",
              " 0,\n",
              " 6,\n",
              " 3,\n",
              " 9,\n",
              " 0,\n",
              " 3,\n",
              " 9,\n",
              " 3,\n",
              " 9,\n",
              " 9,\n",
              " 3,\n",
              " 9,\n",
              " 9,\n",
              " 0,\n",
              " 9,\n",
              " 3,\n",
              " 9,\n",
              " 0,\n",
              " 6,\n",
              " 3,\n",
              " 6,\n",
              " 6,\n",
              " 9,\n",
              " 3,\n",
              " 9,\n",
              " 0,\n",
              " 9,\n",
              " 9,\n",
              " 9,\n",
              " 3,\n",
              " 6,\n",
              " 6,\n",
              " 0,\n",
              " 9,\n",
              " 0,\n",
              " 3,\n",
              " 3,\n",
              " 6,\n",
              " 3,\n",
              " 9,\n",
              " 9,\n",
              " 9,\n",
              " 0,\n",
              " 6,\n",
              " 9,\n",
              " 0,\n",
              " 6,\n",
              " 6,\n",
              " 9,\n",
              " 0,\n",
              " 9,\n",
              " 0,\n",
              " 6,\n",
              " 0,\n",
              " 6,\n",
              " 0,\n",
              " 3,\n",
              " 9,\n",
              " 9,\n",
              " 6,\n",
              " 9,\n",
              " 6,\n",
              " 9,\n",
              " 0,\n",
              " 9,\n",
              " 6,\n",
              " 0,\n",
              " 9,\n",
              " 0,\n",
              " 6,\n",
              " 9,\n",
              " 3,\n",
              " 9,\n",
              " 6,\n",
              " 3,\n",
              " 0,\n",
              " 9,\n",
              " 3,\n",
              " 0,\n",
              " 3,\n",
              " 9,\n",
              " 9,\n",
              " 3,\n",
              " 9,\n",
              " 3,\n",
              " 0,\n",
              " 0,\n",
              " 9,\n",
              " 0,\n",
              " 0,\n",
              " 9,\n",
              " 0,\n",
              " 6,\n",
              " 6,\n",
              " 0,\n",
              " 3,\n",
              " 9,\n",
              " 9,\n",
              " 9,\n",
              " 6,\n",
              " 9,\n",
              " 6,\n",
              " 6,\n",
              " 0,\n",
              " 0,\n",
              " 6,\n",
              " 0,\n",
              " 9,\n",
              " 6,\n",
              " 9,\n",
              " 6,\n",
              " 6,\n",
              " 6,\n",
              " 0,\n",
              " 0,\n",
              " 6,\n",
              " 6,\n",
              " 3,\n",
              " 9,\n",
              " 3,\n",
              " 0,\n",
              " 9,\n",
              " 9,\n",
              " 0,\n",
              " 6,\n",
              " 3,\n",
              " 3,\n",
              " 3,\n",
              " 3,\n",
              " 6,\n",
              " 9,\n",
              " 9,\n",
              " 6,\n",
              " 0,\n",
              " 9,\n",
              " 6,\n",
              " 3,\n",
              " 9,\n",
              " 3,\n",
              " 9,\n",
              " 9,\n",
              " 3,\n",
              " 6,\n",
              " 9,\n",
              " 6,\n",
              " 6,\n",
              " 6,\n",
              " 0,\n",
              " 6,\n",
              " 9,\n",
              " 3,\n",
              " 3,\n",
              " 6,\n",
              " 9,\n",
              " 3,\n",
              " 0,\n",
              " 9,\n",
              " 3,\n",
              " 3,\n",
              " 3,\n",
              " 0,\n",
              " 9,\n",
              " 6,\n",
              " 0,\n",
              " 0,\n",
              " 6,\n",
              " 6,\n",
              " 9,\n",
              " 6,\n",
              " 6,\n",
              " 9,\n",
              " 6,\n",
              " 3,\n",
              " 3,\n",
              " 6,\n",
              " 6,\n",
              " 9,\n",
              " 0,\n",
              " 3,\n",
              " 9,\n",
              " 6,\n",
              " 0,\n",
              " 6,\n",
              " 6,\n",
              " 6,\n",
              " 3,\n",
              " 9,\n",
              " 3,\n",
              " 3,\n",
              " 0,\n",
              " 9,\n",
              " 0,\n",
              " 0,\n",
              " 3,\n",
              " 6,\n",
              " 6,\n",
              " 6,\n",
              " 3,\n",
              " 6,\n",
              " 0,\n",
              " 9,\n",
              " 9,\n",
              " 9,\n",
              " 9,\n",
              " 0,\n",
              " 0,\n",
              " 3,\n",
              " 3,\n",
              " 0,\n",
              " 3,\n",
              " 6,\n",
              " 3,\n",
              " 3,\n",
              " 9,\n",
              " 3,\n",
              " 6,\n",
              " 9,\n",
              " 9,\n",
              " 3,\n",
              " 0,\n",
              " 9,\n",
              " 0,\n",
              " 9,\n",
              " 0,\n",
              " 9,\n",
              " 9,\n",
              " 3,\n",
              " 3,\n",
              " 9,\n",
              " 3,\n",
              " 9,\n",
              " 0,\n",
              " 9,\n",
              " 0,\n",
              " 6,\n",
              " 6,\n",
              " 9,\n",
              " 6,\n",
              " 9,\n",
              " 3,\n",
              " 6,\n",
              " 3,\n",
              " 6,\n",
              " 6,\n",
              " 9,\n",
              " 0,\n",
              " 0,\n",
              " 9,\n",
              " 6,\n",
              " 3,\n",
              " 6,\n",
              " 9,\n",
              " 3,\n",
              " 6,\n",
              " 9,\n",
              " 0,\n",
              " 9,\n",
              " 0,\n",
              " 3,\n",
              " 3,\n",
              " 9,\n",
              " 3,\n",
              " 0,\n",
              " 0,\n",
              " 0,\n",
              " 6,\n",
              " 6,\n",
              " 0,\n",
              " 6,\n",
              " 9,\n",
              " 9,\n",
              " 9,\n",
              " 0,\n",
              " 0,\n",
              " 3,\n",
              " 0,\n",
              " 6,\n",
              " 9,\n",
              " 9,\n",
              " 3,\n",
              " 6,\n",
              " 0,\n",
              " 9,\n",
              " 6,\n",
              " 9,\n",
              " 9,\n",
              " 6,\n",
              " 3,\n",
              " 6,\n",
              " 9,\n",
              " 0,\n",
              " 0,\n",
              " 6,\n",
              " 0,\n",
              " 3,\n",
              " 9,\n",
              " 3,\n",
              " 6,\n",
              " 6,\n",
              " 9,\n",
              " 0,\n",
              " 9,\n",
              " 9,\n",
              " 6,\n",
              " 9,\n",
              " 3,\n",
              " 3,\n",
              " 0,\n",
              " 9,\n",
              " 3,\n",
              " 0,\n",
              " 0,\n",
              " 6,\n",
              " 0,\n",
              " 6,\n",
              " 3,\n",
              " 0,\n",
              " 3,\n",
              " 0,\n",
              " 9,\n",
              " 9,\n",
              " 3,\n",
              " 9,\n",
              " 6,\n",
              " 0,\n",
              " 9,\n",
              " 0,\n",
              " 6,\n",
              " 3,\n",
              " 6,\n",
              " 6,\n",
              " 9,\n",
              " 0,\n",
              " 6,\n",
              " 6,\n",
              " 3,\n",
              " 9,\n",
              " 3,\n",
              " 0,\n",
              " 9,\n",
              " 9,\n",
              " 3,\n",
              " 6,\n",
              " 3,\n",
              " 3,\n",
              " 3,\n",
              " 3,\n",
              " 0,\n",
              " 3,\n",
              " 9,\n",
              " 6,\n",
              " 9,\n",
              " 0,\n",
              " 9,\n",
              " 9,\n",
              " 0,\n",
              " 9,\n",
              " 0,\n",
              " 6,\n",
              " 9,\n",
              " 9,\n",
              " 9,\n",
              " 9,\n",
              " 6,\n",
              " 0,\n",
              " 9,\n",
              " 6,\n",
              " 0,\n",
              " 9,\n",
              " 3,\n",
              " 6,\n",
              " 6,\n",
              " 0,\n",
              " 9,\n",
              " 3,\n",
              " 3,\n",
              " 9,\n",
              " 6,\n",
              " 6,\n",
              " 3,\n",
              " 6,\n",
              " 6,\n",
              " 0,\n",
              " 6,\n",
              " 0,\n",
              " 3,\n",
              " 9,\n",
              " 6,\n",
              " 0,\n",
              " 0,\n",
              " 9,\n",
              " 3,\n",
              " 3,\n",
              " 9,\n",
              " 6,\n",
              " 0,\n",
              " 0,\n",
              " 6,\n",
              " 6,\n",
              " 0,\n",
              " 3,\n",
              " 6,\n",
              " 0,\n",
              " 9,\n",
              " 6,\n",
              " 9,\n",
              " 0,\n",
              " 0,\n",
              " 3,\n",
              " 0,\n",
              " 9,\n",
              " 9,\n",
              " 3,\n",
              " 0,\n",
              " 0,\n",
              " 0,\n",
              " 9,\n",
              " 9,\n",
              " 6,\n",
              " 0,\n",
              " 3,\n",
              " 9,\n",
              " 6,\n",
              " 3,\n",
              " 3,\n",
              " 0,\n",
              " 0,\n",
              " 0,\n",
              " 6,\n",
              " 6,\n",
              " 6,\n",
              " 6,\n",
              " 6,\n",
              " 3,\n",
              " 6,\n",
              " 3,\n",
              " 9,\n",
              " 0,\n",
              " 0,\n",
              " 0,\n",
              " 6,\n",
              " 3,\n",
              " 0,\n",
              " 3,\n",
              " 6,\n",
              " 6,\n",
              " 9,\n",
              " 6,\n",
              " 3,\n",
              " 3,\n",
              " 0,\n",
              " 0,\n",
              " 0,\n",
              " 6,\n",
              " 6,\n",
              " 0,\n",
              " 3,\n",
              " 3,\n",
              " 9,\n",
              " 9,\n",
              " 9,\n",
              " 0,\n",
              " 9,\n",
              " 3,\n",
              " 0,\n",
              " 6,\n",
              " 6,\n",
              " 9,\n",
              " 9,\n",
              " 6,\n",
              " 3,\n",
              " 0,\n",
              " 9,\n",
              " 6,\n",
              " 3,\n",
              " 3,\n",
              " 3,\n",
              " ...]"
            ]
          },
          "metadata": {},
          "execution_count": 27
        }
      ]
    },
    {
      "cell_type": "code",
      "source": [
        "C"
      ],
      "metadata": {
        "colab": {
          "base_uri": "https://localhost:8080/"
        },
        "id": "rzXxNvCXM2kN",
        "outputId": "f0c9e74a-d70a-4d0b-bf6a-2461426662c6"
      },
      "execution_count": null,
      "outputs": [
        {
          "output_type": "execute_result",
          "data": {
            "text/plain": [
              "PythonRDD[6] at collect at <ipython-input-27-2d7f7f504e9e>:4"
            ]
          },
          "metadata": {},
          "execution_count": 28
        }
      ]
    },
    {
      "cell_type": "markdown",
      "metadata": {
        "id": "uWh9szeC1Y7L"
      },
      "source": [
        "## Spark Data Frames\n",
        "A **Spark DataFrame** is a distributed collection of rows under named columns. It is conceptually equivalent to data frames provided by Pandas, but it is constructed upon data formats such as RDDs so that it can handle large amount of data efficiently.\n",
        "\n",
        "We need to keep in mind that Spark DataFrame is immutable, which means that we can't change a data frame once it is created. In most cases, we need to create a new data frame after applying transformations to an existing one."
      ]
    },
    {
      "cell_type": "code",
      "metadata": {
        "id": "kVVv83gfq5Sc",
        "colab": {
          "base_uri": "https://localhost:8080/"
        },
        "outputId": "c3cb27ff-ea3c-4586-86a5-2edff14ae1ce"
      },
      "source": [
        "# Download the movielens dataset\n",
        "!wget \"http://files.grouplens.org/datasets/movielens/ml-latest-small.zip\""
      ],
      "execution_count": null,
      "outputs": [
        {
          "output_type": "stream",
          "name": "stdout",
          "text": [
            "--2024-09-05 01:17:34--  http://files.grouplens.org/datasets/movielens/ml-latest-small.zip\n",
            "Resolving files.grouplens.org (files.grouplens.org)... 128.101.65.152\n",
            "Connecting to files.grouplens.org (files.grouplens.org)|128.101.65.152|:80... connected.\n",
            "HTTP request sent, awaiting response... 200 OK\n",
            "Length: 978202 (955K) [application/zip]\n",
            "Saving to: ‘ml-latest-small.zip’\n",
            "\n",
            "\rml-latest-small.zip   0%[                    ]       0  --.-KB/s               \rml-latest-small.zip 100%[===================>] 955.28K  --.-KB/s    in 0.1s    \n",
            "\n",
            "2024-09-05 01:17:34 (7.81 MB/s) - ‘ml-latest-small.zip’ saved [978202/978202]\n",
            "\n"
          ]
        }
      ]
    },
    {
      "cell_type": "code",
      "metadata": {
        "id": "F2vdEDPIq84N",
        "colab": {
          "base_uri": "https://localhost:8080/"
        },
        "outputId": "d81f49f3-df35-4e09-c3cc-c0fd32804f83"
      },
      "source": [
        "# Extract the CSV files\n",
        "!mkdir Data\n",
        "!unzip \"ml-latest-small.zip\" -d \"Data\""
      ],
      "execution_count": null,
      "outputs": [
        {
          "output_type": "stream",
          "name": "stdout",
          "text": [
            "Archive:  ml-latest-small.zip\n",
            "   creating: Data/ml-latest-small/\n",
            "  inflating: Data/ml-latest-small/links.csv  \n",
            "  inflating: Data/ml-latest-small/tags.csv  \n",
            "  inflating: Data/ml-latest-small/ratings.csv  \n",
            "  inflating: Data/ml-latest-small/README.txt  \n",
            "  inflating: Data/ml-latest-small/movies.csv  \n"
          ]
        }
      ]
    },
    {
      "cell_type": "code",
      "metadata": {
        "id": "WZ_4FifHq_4S",
        "colab": {
          "base_uri": "https://localhost:8080/"
        },
        "outputId": "d2fe3eea-21c5-43c2-a5ed-f1161c839edf"
      },
      "source": [
        "!ls Data/ml-latest-small/"
      ],
      "execution_count": null,
      "outputs": [
        {
          "output_type": "stream",
          "name": "stdout",
          "text": [
            "links.csv  movies.csv  ratings.csv  README.txt\ttags.csv\n"
          ]
        }
      ]
    },
    {
      "cell_type": "code",
      "metadata": {
        "id": "8idCxz8H1uei"
      },
      "source": [
        "from pyspark.sql import SparkSession\n",
        "from pyspark.sql.functions import count, desc, col, max, struct, mean"
      ],
      "execution_count": null,
      "outputs": []
    },
    {
      "cell_type": "markdown",
      "metadata": {
        "id": "Gk-7-qkC14Nr"
      },
      "source": [
        "`SparkSession()` is an environment introduced in Spark 2.0. It is the main entry point for creating data frames."
      ]
    },
    {
      "cell_type": "code",
      "metadata": {
        "id": "F5BlqOy716MK"
      },
      "source": [
        "# Create a new spark session\n",
        "spark = SparkSession.builder.appName('spark_app').getOrCreate()"
      ],
      "execution_count": null,
      "outputs": []
    },
    {
      "cell_type": "code",
      "metadata": {
        "id": "Okm0ype117cg",
        "colab": {
          "base_uri": "https://localhost:8080/"
        },
        "outputId": "91cff252-5058-4206-8040-1447f988db15"
      },
      "source": [
        "# Import the ratings.csv file:\n",
        "path = \"Data/ml-latest-small/ratings.csv\"\n",
        "ratings = spark.read.format('csv')\\\n",
        "            .option('inferSchema', True)\\\n",
        "            .option('header', True)\\\n",
        "            .load(path)\n",
        "\n",
        "# inferSchema: Let spark decide the data types of each column\n",
        "# header: Use the first row as column names\n",
        "# load: Specify the source of data\n",
        "\n",
        "# Equivalent statement for Pandas\n",
        "# ratings = pd.read_csv(path)\n",
        "# ratings.head()\n",
        "\n",
        "ratings.show()"
      ],
      "execution_count": null,
      "outputs": [
        {
          "output_type": "stream",
          "name": "stdout",
          "text": [
            "+------+-------+------+---------+\n",
            "|userId|movieId|rating|timestamp|\n",
            "+------+-------+------+---------+\n",
            "|     1|      1|   4.0|964982703|\n",
            "|     1|      3|   4.0|964981247|\n",
            "|     1|      6|   4.0|964982224|\n",
            "|     1|     47|   5.0|964983815|\n",
            "|     1|     50|   5.0|964982931|\n",
            "|     1|     70|   3.0|964982400|\n",
            "|     1|    101|   5.0|964980868|\n",
            "|     1|    110|   4.0|964982176|\n",
            "|     1|    151|   5.0|964984041|\n",
            "|     1|    157|   5.0|964984100|\n",
            "|     1|    163|   5.0|964983650|\n",
            "|     1|    216|   5.0|964981208|\n",
            "|     1|    223|   3.0|964980985|\n",
            "|     1|    231|   5.0|964981179|\n",
            "|     1|    235|   4.0|964980908|\n",
            "|     1|    260|   5.0|964981680|\n",
            "|     1|    296|   3.0|964982967|\n",
            "|     1|    316|   3.0|964982310|\n",
            "|     1|    333|   5.0|964981179|\n",
            "|     1|    349|   4.0|964982563|\n",
            "+------+-------+------+---------+\n",
            "only showing top 20 rows\n",
            "\n"
          ]
        }
      ]
    },
    {
      "cell_type": "code",
      "metadata": {
        "id": "fUohohpn2ANl",
        "colab": {
          "base_uri": "https://localhost:8080/"
        },
        "outputId": "1e75a0bf-0c99-4cbc-d592-a4da7d139956"
      },
      "source": [
        "# \"Delete\" the timestamp column\n",
        "ratings = ratings.drop('timestamp')\n",
        "ratings.show()"
      ],
      "execution_count": null,
      "outputs": [
        {
          "output_type": "stream",
          "name": "stdout",
          "text": [
            "+------+-------+------+\n",
            "|userId|movieId|rating|\n",
            "+------+-------+------+\n",
            "|     1|      1|   4.0|\n",
            "|     1|      3|   4.0|\n",
            "|     1|      6|   4.0|\n",
            "|     1|     47|   5.0|\n",
            "|     1|     50|   5.0|\n",
            "|     1|     70|   3.0|\n",
            "|     1|    101|   5.0|\n",
            "|     1|    110|   4.0|\n",
            "|     1|    151|   5.0|\n",
            "|     1|    157|   5.0|\n",
            "|     1|    163|   5.0|\n",
            "|     1|    216|   5.0|\n",
            "|     1|    223|   3.0|\n",
            "|     1|    231|   5.0|\n",
            "|     1|    235|   4.0|\n",
            "|     1|    260|   5.0|\n",
            "|     1|    296|   3.0|\n",
            "|     1|    316|   3.0|\n",
            "|     1|    333|   5.0|\n",
            "|     1|    349|   4.0|\n",
            "+------+-------+------+\n",
            "only showing top 20 rows\n",
            "\n"
          ]
        }
      ]
    },
    {
      "cell_type": "code",
      "source": [
        "type(ratings)"
      ],
      "metadata": {
        "colab": {
          "base_uri": "https://localhost:8080/",
          "height": 187
        },
        "id": "Fd8JuKxqNNGH",
        "outputId": "e6a54662-7338-4a92-c0d0-ba94620fe54e"
      },
      "execution_count": null,
      "outputs": [
        {
          "output_type": "execute_result",
          "data": {
            "text/plain": [
              "pyspark.sql.dataframe.DataFrame"
            ],
            "text/html": [
              "<div style=\"max-width:800px; border: 1px solid var(--colab-border-color);\"><style>\n",
              "      pre.function-repr-contents {\n",
              "        overflow-x: auto;\n",
              "        padding: 8px 12px;\n",
              "        max-height: 500px;\n",
              "      }\n",
              "\n",
              "      pre.function-repr-contents.function-repr-contents-collapsed {\n",
              "        cursor: pointer;\n",
              "        max-height: 100px;\n",
              "      }\n",
              "    </style>\n",
              "    <pre style=\"white-space: initial; background:\n",
              "         var(--colab-secondary-surface-color); padding: 8px 12px;\n",
              "         border-bottom: 1px solid var(--colab-border-color);\"><b>pyspark.sql.dataframe.DataFrame</b><br/>def __init__(jdf: JavaObject, sql_ctx: Union[&#x27;SQLContext&#x27;, &#x27;SparkSession&#x27;])</pre><pre class=\"function-repr-contents function-repr-contents-collapsed\" style=\"\"><a class=\"filepath\" style=\"display:none\" href=\"#\">/usr/local/lib/python3.10/dist-packages/pyspark/sql/dataframe.py</a>A distributed collection of data grouped into named columns.\n",
              "\n",
              ".. versionadded:: 1.3.0\n",
              "\n",
              ".. versionchanged:: 3.4.0\n",
              "    Supports Spark Connect.\n",
              "\n",
              "Examples\n",
              "--------\n",
              "A :class:`DataFrame` is equivalent to a relational table in Spark SQL,\n",
              "and can be created using various functions in :class:`SparkSession`:\n",
              "\n",
              "&gt;&gt;&gt; people = spark.createDataFrame([\n",
              "...     {&quot;deptId&quot;: 1, &quot;age&quot;: 40, &quot;name&quot;: &quot;Hyukjin Kwon&quot;, &quot;gender&quot;: &quot;M&quot;, &quot;salary&quot;: 50},\n",
              "...     {&quot;deptId&quot;: 1, &quot;age&quot;: 50, &quot;name&quot;: &quot;Takuya Ueshin&quot;, &quot;gender&quot;: &quot;M&quot;, &quot;salary&quot;: 100},\n",
              "...     {&quot;deptId&quot;: 2, &quot;age&quot;: 60, &quot;name&quot;: &quot;Xinrong Meng&quot;, &quot;gender&quot;: &quot;F&quot;, &quot;salary&quot;: 150},\n",
              "...     {&quot;deptId&quot;: 3, &quot;age&quot;: 20, &quot;name&quot;: &quot;Haejoon Lee&quot;, &quot;gender&quot;: &quot;M&quot;, &quot;salary&quot;: 200}\n",
              "... ])\n",
              "\n",
              "Once created, it can be manipulated using the various domain-specific-language\n",
              "(DSL) functions defined in: :class:`DataFrame`, :class:`Column`.\n",
              "\n",
              "To select a column from the :class:`DataFrame`, use the apply method:\n",
              "\n",
              "&gt;&gt;&gt; age_col = people.age\n",
              "\n",
              "A more concrete example:\n",
              "\n",
              "&gt;&gt;&gt; # To create DataFrame using SparkSession\n",
              "... department = spark.createDataFrame([\n",
              "...     {&quot;id&quot;: 1, &quot;name&quot;: &quot;PySpark&quot;},\n",
              "...     {&quot;id&quot;: 2, &quot;name&quot;: &quot;ML&quot;},\n",
              "...     {&quot;id&quot;: 3, &quot;name&quot;: &quot;Spark SQL&quot;}\n",
              "... ])\n",
              "\n",
              "&gt;&gt;&gt; people.filter(people.age &gt; 30).join(\n",
              "...     department, people.deptId == department.id).groupBy(\n",
              "...     department.name, &quot;gender&quot;).agg({&quot;salary&quot;: &quot;avg&quot;, &quot;age&quot;: &quot;max&quot;}).show()\n",
              "+-------+------+-----------+--------+\n",
              "|   name|gender|avg(salary)|max(age)|\n",
              "+-------+------+-----------+--------+\n",
              "|     ML|     F|      150.0|      60|\n",
              "|PySpark|     M|       75.0|      50|\n",
              "+-------+------+-----------+--------+\n",
              "\n",
              "Notes\n",
              "-----\n",
              "A DataFrame should only be created as described above. It should not be directly\n",
              "created via using the constructor.</pre>\n",
              "      <script>\n",
              "      if (google.colab.kernel.accessAllowed && google.colab.files && google.colab.files.view) {\n",
              "        for (const element of document.querySelectorAll('.filepath')) {\n",
              "          element.style.display = 'block'\n",
              "          element.onclick = (event) => {\n",
              "            event.preventDefault();\n",
              "            event.stopPropagation();\n",
              "            google.colab.files.view(element.textContent, 80);\n",
              "          };\n",
              "        }\n",
              "      }\n",
              "      for (const element of document.querySelectorAll('.function-repr-contents')) {\n",
              "        element.onclick = (event) => {\n",
              "          event.preventDefault();\n",
              "          event.stopPropagation();\n",
              "          element.classList.toggle('function-repr-contents-collapsed');\n",
              "        };\n",
              "      }\n",
              "      </script>\n",
              "      </div>"
            ]
          },
          "metadata": {},
          "execution_count": 36
        }
      ]
    },
    {
      "cell_type": "code",
      "metadata": {
        "id": "ZRrenUhh2Ja-",
        "colab": {
          "base_uri": "https://localhost:8080/"
        },
        "outputId": "29a00e73-9e14-45c2-c99c-601253469c94"
      },
      "source": [
        "# Show data types\n",
        "ratings.printSchema()"
      ],
      "execution_count": null,
      "outputs": [
        {
          "output_type": "stream",
          "name": "stdout",
          "text": [
            "root\n",
            " |-- userId: integer (nullable = true)\n",
            " |-- movieId: integer (nullable = true)\n",
            " |-- rating: double (nullable = true)\n",
            "\n"
          ]
        }
      ]
    },
    {
      "cell_type": "code",
      "metadata": {
        "id": "JgBbTzsI2Lh0",
        "colab": {
          "base_uri": "https://localhost:8080/"
        },
        "outputId": "2a05af45-47fa-427e-c4b8-3ea152b18feb"
      },
      "source": [
        "# Shape of the data frame\n",
        "print(ratings.count(), len(ratings.columns))"
      ],
      "execution_count": null,
      "outputs": [
        {
          "output_type": "stream",
          "name": "stdout",
          "text": [
            "100836 3\n"
          ]
        }
      ]
    },
    {
      "cell_type": "code",
      "metadata": {
        "id": "wxr8wv0L2M7Z",
        "colab": {
          "base_uri": "https://localhost:8080/"
        },
        "outputId": "5082890b-36c5-4f0b-f155-aedc0f89a71c"
      },
      "source": [
        "# Query 1: Select all ratings of movie 1.\n",
        "# q1 = ratings.select('*').filter(ratings.movieId == 1)\n",
        "q1 = ratings.filter(ratings.movieId == 1)\n",
        "q1.show()"
      ],
      "execution_count": null,
      "outputs": [
        {
          "output_type": "stream",
          "name": "stdout",
          "text": [
            "+------+-------+------+\n",
            "|userId|movieId|rating|\n",
            "+------+-------+------+\n",
            "|     1|      1|   4.0|\n",
            "|     5|      1|   4.0|\n",
            "|     7|      1|   4.5|\n",
            "|    15|      1|   2.5|\n",
            "|    17|      1|   4.5|\n",
            "|    18|      1|   3.5|\n",
            "|    19|      1|   4.0|\n",
            "|    21|      1|   3.5|\n",
            "|    27|      1|   3.0|\n",
            "|    31|      1|   5.0|\n",
            "|    32|      1|   3.0|\n",
            "|    33|      1|   3.0|\n",
            "|    40|      1|   5.0|\n",
            "|    43|      1|   5.0|\n",
            "|    44|      1|   3.0|\n",
            "|    45|      1|   4.0|\n",
            "|    46|      1|   5.0|\n",
            "|    50|      1|   3.0|\n",
            "|    54|      1|   3.0|\n",
            "|    57|      1|   5.0|\n",
            "+------+-------+------+\n",
            "only showing top 20 rows\n",
            "\n"
          ]
        }
      ]
    },
    {
      "cell_type": "code",
      "source": [],
      "metadata": {
        "id": "TxUNY5_XNv7U"
      },
      "execution_count": null,
      "outputs": []
    },
    {
      "cell_type": "code",
      "metadata": {
        "id": "b7PAbujb2Ozg",
        "colab": {
          "base_uri": "https://localhost:8080/"
        },
        "outputId": "6b35b8cc-31ac-48c6-ef6d-83e183d8746b"
      },
      "source": [
        "# Query 2: show most-rated movies\n",
        "ratings_count = ratings.groupby('movieId').agg(count('*').alias('count'))\n",
        "ratings_count.show()"
      ],
      "execution_count": null,
      "outputs": [
        {
          "output_type": "stream",
          "name": "stdout",
          "text": [
            "+-------+-----+\n",
            "|movieId|count|\n",
            "+-------+-----+\n",
            "|   1580|  165|\n",
            "|   2366|   25|\n",
            "|   3175|   75|\n",
            "|   1088|   42|\n",
            "|  32460|    4|\n",
            "|  44022|   23|\n",
            "|  96488|    4|\n",
            "|   1238|    9|\n",
            "|   1342|   11|\n",
            "|   1591|   26|\n",
            "|   1645|   51|\n",
            "|   4519|    9|\n",
            "|   2142|   10|\n",
            "|    471|   40|\n",
            "|   3997|   12|\n",
            "|    833|    6|\n",
            "|   3918|    9|\n",
            "|   7982|    4|\n",
            "|   1959|   15|\n",
            "|  68135|   10|\n",
            "+-------+-----+\n",
            "only showing top 20 rows\n",
            "\n"
          ]
        }
      ]
    },
    {
      "cell_type": "code",
      "metadata": {
        "id": "a82NBgYH2SkM",
        "colab": {
          "base_uri": "https://localhost:8080/",
          "height": 363
        },
        "outputId": "09917c27-cb58-47a3-93e7-8ef1eb365932"
      },
      "source": [
        "q2 = ratings_count.orderBy(desc('count')).limit(10)\n",
        "# q2 is a small data frame, we can convert it into a Pandas data frame\n",
        "q2.toPandas()"
      ],
      "execution_count": null,
      "outputs": [
        {
          "output_type": "execute_result",
          "data": {
            "text/plain": [
              "   movieId  count\n",
              "0      356    329\n",
              "1      318    317\n",
              "2      296    307\n",
              "3      593    279\n",
              "4     2571    278\n",
              "5      260    251\n",
              "6      480    238\n",
              "7      110    237\n",
              "8      589    224\n",
              "9      527    220"
            ],
            "text/html": [
              "\n",
              "  <div id=\"df-ca26bdc5-2d75-4ead-b805-3752c440b409\" class=\"colab-df-container\">\n",
              "    <div>\n",
              "<style scoped>\n",
              "    .dataframe tbody tr th:only-of-type {\n",
              "        vertical-align: middle;\n",
              "    }\n",
              "\n",
              "    .dataframe tbody tr th {\n",
              "        vertical-align: top;\n",
              "    }\n",
              "\n",
              "    .dataframe thead th {\n",
              "        text-align: right;\n",
              "    }\n",
              "</style>\n",
              "<table border=\"1\" class=\"dataframe\">\n",
              "  <thead>\n",
              "    <tr style=\"text-align: right;\">\n",
              "      <th></th>\n",
              "      <th>movieId</th>\n",
              "      <th>count</th>\n",
              "    </tr>\n",
              "  </thead>\n",
              "  <tbody>\n",
              "    <tr>\n",
              "      <th>0</th>\n",
              "      <td>356</td>\n",
              "      <td>329</td>\n",
              "    </tr>\n",
              "    <tr>\n",
              "      <th>1</th>\n",
              "      <td>318</td>\n",
              "      <td>317</td>\n",
              "    </tr>\n",
              "    <tr>\n",
              "      <th>2</th>\n",
              "      <td>296</td>\n",
              "      <td>307</td>\n",
              "    </tr>\n",
              "    <tr>\n",
              "      <th>3</th>\n",
              "      <td>593</td>\n",
              "      <td>279</td>\n",
              "    </tr>\n",
              "    <tr>\n",
              "      <th>4</th>\n",
              "      <td>2571</td>\n",
              "      <td>278</td>\n",
              "    </tr>\n",
              "    <tr>\n",
              "      <th>5</th>\n",
              "      <td>260</td>\n",
              "      <td>251</td>\n",
              "    </tr>\n",
              "    <tr>\n",
              "      <th>6</th>\n",
              "      <td>480</td>\n",
              "      <td>238</td>\n",
              "    </tr>\n",
              "    <tr>\n",
              "      <th>7</th>\n",
              "      <td>110</td>\n",
              "      <td>237</td>\n",
              "    </tr>\n",
              "    <tr>\n",
              "      <th>8</th>\n",
              "      <td>589</td>\n",
              "      <td>224</td>\n",
              "    </tr>\n",
              "    <tr>\n",
              "      <th>9</th>\n",
              "      <td>527</td>\n",
              "      <td>220</td>\n",
              "    </tr>\n",
              "  </tbody>\n",
              "</table>\n",
              "</div>\n",
              "    <div class=\"colab-df-buttons\">\n",
              "\n",
              "  <div class=\"colab-df-container\">\n",
              "    <button class=\"colab-df-convert\" onclick=\"convertToInteractive('df-ca26bdc5-2d75-4ead-b805-3752c440b409')\"\n",
              "            title=\"Convert this dataframe to an interactive table.\"\n",
              "            style=\"display:none;\">\n",
              "\n",
              "  <svg xmlns=\"http://www.w3.org/2000/svg\" height=\"24px\" viewBox=\"0 -960 960 960\">\n",
              "    <path d=\"M120-120v-720h720v720H120Zm60-500h600v-160H180v160Zm220 220h160v-160H400v160Zm0 220h160v-160H400v160ZM180-400h160v-160H180v160Zm440 0h160v-160H620v160ZM180-180h160v-160H180v160Zm440 0h160v-160H620v160Z\"/>\n",
              "  </svg>\n",
              "    </button>\n",
              "\n",
              "  <style>\n",
              "    .colab-df-container {\n",
              "      display:flex;\n",
              "      gap: 12px;\n",
              "    }\n",
              "\n",
              "    .colab-df-convert {\n",
              "      background-color: #E8F0FE;\n",
              "      border: none;\n",
              "      border-radius: 50%;\n",
              "      cursor: pointer;\n",
              "      display: none;\n",
              "      fill: #1967D2;\n",
              "      height: 32px;\n",
              "      padding: 0 0 0 0;\n",
              "      width: 32px;\n",
              "    }\n",
              "\n",
              "    .colab-df-convert:hover {\n",
              "      background-color: #E2EBFA;\n",
              "      box-shadow: 0px 1px 2px rgba(60, 64, 67, 0.3), 0px 1px 3px 1px rgba(60, 64, 67, 0.15);\n",
              "      fill: #174EA6;\n",
              "    }\n",
              "\n",
              "    .colab-df-buttons div {\n",
              "      margin-bottom: 4px;\n",
              "    }\n",
              "\n",
              "    [theme=dark] .colab-df-convert {\n",
              "      background-color: #3B4455;\n",
              "      fill: #D2E3FC;\n",
              "    }\n",
              "\n",
              "    [theme=dark] .colab-df-convert:hover {\n",
              "      background-color: #434B5C;\n",
              "      box-shadow: 0px 1px 3px 1px rgba(0, 0, 0, 0.15);\n",
              "      filter: drop-shadow(0px 1px 2px rgba(0, 0, 0, 0.3));\n",
              "      fill: #FFFFFF;\n",
              "    }\n",
              "  </style>\n",
              "\n",
              "    <script>\n",
              "      const buttonEl =\n",
              "        document.querySelector('#df-ca26bdc5-2d75-4ead-b805-3752c440b409 button.colab-df-convert');\n",
              "      buttonEl.style.display =\n",
              "        google.colab.kernel.accessAllowed ? 'block' : 'none';\n",
              "\n",
              "      async function convertToInteractive(key) {\n",
              "        const element = document.querySelector('#df-ca26bdc5-2d75-4ead-b805-3752c440b409');\n",
              "        const dataTable =\n",
              "          await google.colab.kernel.invokeFunction('convertToInteractive',\n",
              "                                                    [key], {});\n",
              "        if (!dataTable) return;\n",
              "\n",
              "        const docLinkHtml = 'Like what you see? Visit the ' +\n",
              "          '<a target=\"_blank\" href=https://colab.research.google.com/notebooks/data_table.ipynb>data table notebook</a>'\n",
              "          + ' to learn more about interactive tables.';\n",
              "        element.innerHTML = '';\n",
              "        dataTable['output_type'] = 'display_data';\n",
              "        await google.colab.output.renderOutput(dataTable, element);\n",
              "        const docLink = document.createElement('div');\n",
              "        docLink.innerHTML = docLinkHtml;\n",
              "        element.appendChild(docLink);\n",
              "      }\n",
              "    </script>\n",
              "  </div>\n",
              "\n",
              "\n",
              "<div id=\"df-3e76ab9a-2b88-4b7c-be62-3c901de9cb58\">\n",
              "  <button class=\"colab-df-quickchart\" onclick=\"quickchart('df-3e76ab9a-2b88-4b7c-be62-3c901de9cb58')\"\n",
              "            title=\"Suggest charts\"\n",
              "            style=\"display:none;\">\n",
              "\n",
              "<svg xmlns=\"http://www.w3.org/2000/svg\" height=\"24px\"viewBox=\"0 0 24 24\"\n",
              "     width=\"24px\">\n",
              "    <g>\n",
              "        <path d=\"M19 3H5c-1.1 0-2 .9-2 2v14c0 1.1.9 2 2 2h14c1.1 0 2-.9 2-2V5c0-1.1-.9-2-2-2zM9 17H7v-7h2v7zm4 0h-2V7h2v10zm4 0h-2v-4h2v4z\"/>\n",
              "    </g>\n",
              "</svg>\n",
              "  </button>\n",
              "\n",
              "<style>\n",
              "  .colab-df-quickchart {\n",
              "      --bg-color: #E8F0FE;\n",
              "      --fill-color: #1967D2;\n",
              "      --hover-bg-color: #E2EBFA;\n",
              "      --hover-fill-color: #174EA6;\n",
              "      --disabled-fill-color: #AAA;\n",
              "      --disabled-bg-color: #DDD;\n",
              "  }\n",
              "\n",
              "  [theme=dark] .colab-df-quickchart {\n",
              "      --bg-color: #3B4455;\n",
              "      --fill-color: #D2E3FC;\n",
              "      --hover-bg-color: #434B5C;\n",
              "      --hover-fill-color: #FFFFFF;\n",
              "      --disabled-bg-color: #3B4455;\n",
              "      --disabled-fill-color: #666;\n",
              "  }\n",
              "\n",
              "  .colab-df-quickchart {\n",
              "    background-color: var(--bg-color);\n",
              "    border: none;\n",
              "    border-radius: 50%;\n",
              "    cursor: pointer;\n",
              "    display: none;\n",
              "    fill: var(--fill-color);\n",
              "    height: 32px;\n",
              "    padding: 0;\n",
              "    width: 32px;\n",
              "  }\n",
              "\n",
              "  .colab-df-quickchart:hover {\n",
              "    background-color: var(--hover-bg-color);\n",
              "    box-shadow: 0 1px 2px rgba(60, 64, 67, 0.3), 0 1px 3px 1px rgba(60, 64, 67, 0.15);\n",
              "    fill: var(--button-hover-fill-color);\n",
              "  }\n",
              "\n",
              "  .colab-df-quickchart-complete:disabled,\n",
              "  .colab-df-quickchart-complete:disabled:hover {\n",
              "    background-color: var(--disabled-bg-color);\n",
              "    fill: var(--disabled-fill-color);\n",
              "    box-shadow: none;\n",
              "  }\n",
              "\n",
              "  .colab-df-spinner {\n",
              "    border: 2px solid var(--fill-color);\n",
              "    border-color: transparent;\n",
              "    border-bottom-color: var(--fill-color);\n",
              "    animation:\n",
              "      spin 1s steps(1) infinite;\n",
              "  }\n",
              "\n",
              "  @keyframes spin {\n",
              "    0% {\n",
              "      border-color: transparent;\n",
              "      border-bottom-color: var(--fill-color);\n",
              "      border-left-color: var(--fill-color);\n",
              "    }\n",
              "    20% {\n",
              "      border-color: transparent;\n",
              "      border-left-color: var(--fill-color);\n",
              "      border-top-color: var(--fill-color);\n",
              "    }\n",
              "    30% {\n",
              "      border-color: transparent;\n",
              "      border-left-color: var(--fill-color);\n",
              "      border-top-color: var(--fill-color);\n",
              "      border-right-color: var(--fill-color);\n",
              "    }\n",
              "    40% {\n",
              "      border-color: transparent;\n",
              "      border-right-color: var(--fill-color);\n",
              "      border-top-color: var(--fill-color);\n",
              "    }\n",
              "    60% {\n",
              "      border-color: transparent;\n",
              "      border-right-color: var(--fill-color);\n",
              "    }\n",
              "    80% {\n",
              "      border-color: transparent;\n",
              "      border-right-color: var(--fill-color);\n",
              "      border-bottom-color: var(--fill-color);\n",
              "    }\n",
              "    90% {\n",
              "      border-color: transparent;\n",
              "      border-bottom-color: var(--fill-color);\n",
              "    }\n",
              "  }\n",
              "</style>\n",
              "\n",
              "  <script>\n",
              "    async function quickchart(key) {\n",
              "      const quickchartButtonEl =\n",
              "        document.querySelector('#' + key + ' button');\n",
              "      quickchartButtonEl.disabled = true;  // To prevent multiple clicks.\n",
              "      quickchartButtonEl.classList.add('colab-df-spinner');\n",
              "      try {\n",
              "        const charts = await google.colab.kernel.invokeFunction(\n",
              "            'suggestCharts', [key], {});\n",
              "      } catch (error) {\n",
              "        console.error('Error during call to suggestCharts:', error);\n",
              "      }\n",
              "      quickchartButtonEl.classList.remove('colab-df-spinner');\n",
              "      quickchartButtonEl.classList.add('colab-df-quickchart-complete');\n",
              "    }\n",
              "    (() => {\n",
              "      let quickchartButtonEl =\n",
              "        document.querySelector('#df-3e76ab9a-2b88-4b7c-be62-3c901de9cb58 button');\n",
              "      quickchartButtonEl.style.display =\n",
              "        google.colab.kernel.accessAllowed ? 'block' : 'none';\n",
              "    })();\n",
              "  </script>\n",
              "</div>\n",
              "\n",
              "    </div>\n",
              "  </div>\n"
            ],
            "application/vnd.google.colaboratory.intrinsic+json": {
              "type": "dataframe",
              "summary": "{\n  \"name\": \"q2\",\n  \"rows\": 10,\n  \"fields\": [\n    {\n      \"column\": \"movieId\",\n      \"properties\": {\n        \"dtype\": \"int32\",\n        \"num_unique_values\": 10,\n        \"samples\": [\n          589,\n          318,\n          260\n        ],\n        \"semantic_type\": \"\",\n        \"description\": \"\"\n      }\n    },\n    {\n      \"column\": \"count\",\n      \"properties\": {\n        \"dtype\": \"number\",\n        \"std\": 39,\n        \"min\": 220,\n        \"max\": 329,\n        \"num_unique_values\": 10,\n        \"samples\": [\n          224,\n          317,\n          251\n        ],\n        \"semantic_type\": \"\",\n        \"description\": \"\"\n      }\n    }\n  ]\n}"
            }
          },
          "metadata": {},
          "execution_count": 41
        }
      ]
    },
    {
      "cell_type": "code",
      "metadata": {
        "id": "cNvr2Bg92bUS",
        "colab": {
          "base_uri": "https://localhost:8080/"
        },
        "outputId": "a6bb5730-27c8-40c6-8577-d3b9d7012061"
      },
      "source": [
        "# Exercise:\n",
        "# Query 3: find top 10 users with most ratings\n",
        "\n",
        "q3 = ratings.groupBy(\"userId\").agg(count(\"*\").alias(\"count\")).orderBy(desc('count')).limit(10)\n",
        "q3.show()"
      ],
      "execution_count": null,
      "outputs": [
        {
          "output_type": "stream",
          "name": "stdout",
          "text": [
            "+------+-----+\n",
            "|userId|count|\n",
            "+------+-----+\n",
            "|   414| 2698|\n",
            "|   599| 2478|\n",
            "|   474| 2108|\n",
            "|   448| 1864|\n",
            "|   274| 1346|\n",
            "|   610| 1302|\n",
            "|    68| 1260|\n",
            "|   380| 1218|\n",
            "|   606| 1115|\n",
            "|   288| 1055|\n",
            "+------+-----+\n",
            "\n"
          ]
        }
      ]
    },
    {
      "cell_type": "markdown",
      "metadata": {
        "id": "aYL75Nj52za1"
      },
      "source": [
        "Now, let's merge the rating data with the movies data."
      ]
    },
    {
      "cell_type": "code",
      "metadata": {
        "id": "W-MTlVo-22Gg",
        "colab": {
          "base_uri": "https://localhost:8080/"
        },
        "outputId": "73d9432b-1b36-4109-8c34-9a78195e2dc6"
      },
      "source": [
        "path = 'Data/ml-latest-small/movies.csv'\n",
        "\n",
        "# Load movies.csv as a Spark data frame named movies\n",
        "movies = spark.read.format('csv')\\\n",
        "            .option('inferSchema', True)\\\n",
        "            .option('header', True)\\\n",
        "            .load(path)\n",
        "\n",
        "movies.show(20, False) # Use parameter (20, False) to show full columns"
      ],
      "execution_count": null,
      "outputs": [
        {
          "output_type": "stream",
          "name": "stdout",
          "text": [
            "+-------+-------------------------------------+-------------------------------------------+\n",
            "|movieId|title                                |genres                                     |\n",
            "+-------+-------------------------------------+-------------------------------------------+\n",
            "|1      |Toy Story (1995)                     |Adventure|Animation|Children|Comedy|Fantasy|\n",
            "|2      |Jumanji (1995)                       |Adventure|Children|Fantasy                 |\n",
            "|3      |Grumpier Old Men (1995)              |Comedy|Romance                             |\n",
            "|4      |Waiting to Exhale (1995)             |Comedy|Drama|Romance                       |\n",
            "|5      |Father of the Bride Part II (1995)   |Comedy                                     |\n",
            "|6      |Heat (1995)                          |Action|Crime|Thriller                      |\n",
            "|7      |Sabrina (1995)                       |Comedy|Romance                             |\n",
            "|8      |Tom and Huck (1995)                  |Adventure|Children                         |\n",
            "|9      |Sudden Death (1995)                  |Action                                     |\n",
            "|10     |GoldenEye (1995)                     |Action|Adventure|Thriller                  |\n",
            "|11     |American President, The (1995)       |Comedy|Drama|Romance                       |\n",
            "|12     |Dracula: Dead and Loving It (1995)   |Comedy|Horror                              |\n",
            "|13     |Balto (1995)                         |Adventure|Animation|Children               |\n",
            "|14     |Nixon (1995)                         |Drama                                      |\n",
            "|15     |Cutthroat Island (1995)              |Action|Adventure|Romance                   |\n",
            "|16     |Casino (1995)                        |Crime|Drama                                |\n",
            "|17     |Sense and Sensibility (1995)         |Drama|Romance                              |\n",
            "|18     |Four Rooms (1995)                    |Comedy                                     |\n",
            "|19     |Ace Ventura: When Nature Calls (1995)|Comedy                                     |\n",
            "|20     |Money Train (1995)                   |Action|Comedy|Crime|Drama|Thriller         |\n",
            "+-------+-------------------------------------+-------------------------------------------+\n",
            "only showing top 20 rows\n",
            "\n"
          ]
        }
      ]
    },
    {
      "cell_type": "code",
      "metadata": {
        "id": "0LrUaSF4242d",
        "colab": {
          "base_uri": "https://localhost:8080/"
        },
        "outputId": "7f926fdb-1fbe-4e9d-f916-caf46e8c122b"
      },
      "source": [
        "# merge movies with ratings\n",
        "data = ratings.join(movies, how='inner', on=['movieId'])\n",
        "data.show()"
      ],
      "execution_count": null,
      "outputs": [
        {
          "output_type": "stream",
          "name": "stdout",
          "text": [
            "+-------+------+------+--------------------+--------------------+\n",
            "|movieId|userId|rating|               title|              genres|\n",
            "+-------+------+------+--------------------+--------------------+\n",
            "|      1|     1|   4.0|    Toy Story (1995)|Adventure|Animati...|\n",
            "|      3|     1|   4.0|Grumpier Old Men ...|      Comedy|Romance|\n",
            "|      6|     1|   4.0|         Heat (1995)|Action|Crime|Thri...|\n",
            "|     47|     1|   5.0|Seven (a.k.a. Se7...|    Mystery|Thriller|\n",
            "|     50|     1|   5.0|Usual Suspects, T...|Crime|Mystery|Thr...|\n",
            "|     70|     1|   3.0|From Dusk Till Da...|Action|Comedy|Hor...|\n",
            "|    101|     1|   5.0|Bottle Rocket (1996)|Adventure|Comedy|...|\n",
            "|    110|     1|   4.0|   Braveheart (1995)|    Action|Drama|War|\n",
            "|    151|     1|   5.0|      Rob Roy (1995)|Action|Drama|Roma...|\n",
            "|    157|     1|   5.0|Canadian Bacon (1...|          Comedy|War|\n",
            "|    163|     1|   5.0|    Desperado (1995)|Action|Romance|We...|\n",
            "|    216|     1|   5.0|Billy Madison (1995)|              Comedy|\n",
            "|    223|     1|   3.0|       Clerks (1994)|              Comedy|\n",
            "|    231|     1|   5.0|Dumb & Dumber (Du...|    Adventure|Comedy|\n",
            "|    235|     1|   4.0|      Ed Wood (1994)|        Comedy|Drama|\n",
            "|    260|     1|   5.0|Star Wars: Episod...|Action|Adventure|...|\n",
            "|    296|     1|   3.0| Pulp Fiction (1994)|Comedy|Crime|Dram...|\n",
            "|    316|     1|   3.0|     Stargate (1994)|Action|Adventure|...|\n",
            "|    333|     1|   5.0|    Tommy Boy (1995)|              Comedy|\n",
            "|    349|     1|   4.0|Clear and Present...|Action|Crime|Dram...|\n",
            "+-------+------+------+--------------------+--------------------+\n",
            "only showing top 20 rows\n",
            "\n"
          ]
        }
      ]
    },
    {
      "cell_type": "code",
      "metadata": {
        "id": "I9C46aVQXpBF",
        "colab": {
          "base_uri": "https://localhost:8080/"
        },
        "outputId": "ccdf5b46-2ab0-4972-9b1f-26d52d1703fc"
      },
      "source": [
        "q2.show(3)"
      ],
      "execution_count": null,
      "outputs": [
        {
          "output_type": "stream",
          "name": "stdout",
          "text": [
            "+-------+-----+\n",
            "|movieId|count|\n",
            "+-------+-----+\n",
            "|    356|  329|\n",
            "|    318|  317|\n",
            "|    296|  307|\n",
            "+-------+-----+\n",
            "only showing top 3 rows\n",
            "\n"
          ]
        }
      ]
    },
    {
      "cell_type": "code",
      "metadata": {
        "id": "ChJcUaXO27Kw",
        "colab": {
          "base_uri": "https://localhost:8080/"
        },
        "outputId": "4706b761-26f1-4278-bab3-642980d65ca8"
      },
      "source": [
        "# Exercise:\n",
        "# Merge q2 with movies to find out the title of the 10 most-rated movies\n",
        "\n",
        "data2 = q2.join(movies, how=\"inner\", on=[\"movieId\"]).orderBy(desc(\"count\"))\n",
        "data2.show(20, False)"
      ],
      "execution_count": null,
      "outputs": [
        {
          "output_type": "stream",
          "name": "stdout",
          "text": [
            "+-------+-----+-----------------------------------------+--------------------------------+\n",
            "|movieId|count|title                                    |genres                          |\n",
            "+-------+-----+-----------------------------------------+--------------------------------+\n",
            "|356    |329  |Forrest Gump (1994)                      |Comedy|Drama|Romance|War        |\n",
            "|318    |317  |Shawshank Redemption, The (1994)         |Crime|Drama                     |\n",
            "|296    |307  |Pulp Fiction (1994)                      |Comedy|Crime|Drama|Thriller     |\n",
            "|593    |279  |Silence of the Lambs, The (1991)         |Crime|Horror|Thriller           |\n",
            "|2571   |278  |Matrix, The (1999)                       |Action|Sci-Fi|Thriller          |\n",
            "|260    |251  |Star Wars: Episode IV - A New Hope (1977)|Action|Adventure|Sci-Fi         |\n",
            "|480    |238  |Jurassic Park (1993)                     |Action|Adventure|Sci-Fi|Thriller|\n",
            "|110    |237  |Braveheart (1995)                        |Action|Drama|War                |\n",
            "|589    |224  |Terminator 2: Judgment Day (1991)        |Action|Sci-Fi                   |\n",
            "|527    |220  |Schindler's List (1993)                  |Drama|War                       |\n",
            "+-------+-----+-----------------------------------------+--------------------------------+\n",
            "\n"
          ]
        }
      ]
    },
    {
      "cell_type": "code",
      "metadata": {
        "id": "8-_9coI63Azd",
        "colab": {
          "base_uri": "https://localhost:8080/"
        },
        "outputId": "b752a9b2-c85a-451b-dc44-d4c1baea3785"
      },
      "source": [
        "# Query 4: Find the average rating of each movie\n",
        "avg_ratings = data.select('rating', 'title')\\\n",
        "        .groupby('title')\\\n",
        "        .agg(mean('rating').alias('AvgRating'))\n",
        "avg_ratings.show()"
      ],
      "execution_count": null,
      "outputs": [
        {
          "output_type": "stream",
          "name": "stdout",
          "text": [
            "+--------------------+------------------+\n",
            "|               title|         AvgRating|\n",
            "+--------------------+------------------+\n",
            "|       Psycho (1960)| 4.036144578313253|\n",
            "|Men in Black (a.k...| 3.487878787878788|\n",
            "|Gulliver's Travel...|               3.0|\n",
            "|Heavenly Creature...|3.9285714285714284|\n",
            "|    Elizabeth (1998)|3.6739130434782608|\n",
            "|Before Night Fall...|               4.3|\n",
            "|O Brother, Where ...|3.8085106382978724|\n",
            "|Snow White and th...| 3.616883116883117|\n",
            "| Three Wishes (1995)|               3.0|\n",
            "|When We Were King...|               3.9|\n",
            "|   Annie Hall (1977)|3.8706896551724137|\n",
            "| If Lucy Fell (1996)|               2.5|\n",
            "|First Blood (Ramb...|              3.55|\n",
            "|Don't Tell Mom th...|2.3461538461538463|\n",
            "| Nut Job, The (2014)| 4.333333333333333|\n",
            "|22 Jump Street (2...|3.6842105263157894|\n",
            "|   Deadpool 2 (2018)|             3.875|\n",
            "|Starship Troopers...|               1.5|\n",
            "|Voices from the L...|               4.3|\n",
            "|Night of the Livi...|              3.75|\n",
            "+--------------------+------------------+\n",
            "only showing top 20 rows\n",
            "\n"
          ]
        }
      ]
    },
    {
      "cell_type": "code",
      "metadata": {
        "id": "-w1nka8l3BEV",
        "colab": {
          "base_uri": "https://localhost:8080/"
        },
        "outputId": "87d0b473-f1ee-429c-9aad-871eed819c98"
      },
      "source": [
        "avg_ratings = avg_ratings.orderBy(desc('AvgRating'))\n",
        "avg_ratings.limit(10).show(20, False)"
      ],
      "execution_count": null,
      "outputs": [
        {
          "output_type": "stream",
          "name": "stdout",
          "text": [
            "+------------------------------------------+---------+\n",
            "|title                                     |AvgRating|\n",
            "+------------------------------------------+---------+\n",
            "|Martin Lawrence Live: Runteldat (2002)    |5.0      |\n",
            "|Tickling Giants (2017)                    |5.0      |\n",
            "|Bill Hicks: Revelations (1993)            |5.0      |\n",
            "|English Vinglish (2012)                   |5.0      |\n",
            "|National Lampoon's Bag Boy (2007)         |5.0      |\n",
            "|Zeitgeist: Moving Forward (2011)          |5.0      |\n",
            "|Reform School Girls (1986)                |5.0      |\n",
            "|Shogun Assassin (1980)                    |5.0      |\n",
            "|'Salem's Lot (2004)                       |5.0      |\n",
            "|George Carlin: You Are All Diseased (1999)|5.0      |\n",
            "+------------------------------------------+---------+\n",
            "\n"
          ]
        }
      ]
    },
    {
      "cell_type": "markdown",
      "metadata": {
        "id": "8zqOPoSI3ECP"
      },
      "source": [
        "Is it strange that no one has heard of any of these top-rated movies?"
      ]
    },
    {
      "cell_type": "code",
      "metadata": {
        "id": "QwaCwX3I3QJN",
        "colab": {
          "base_uri": "https://localhost:8080/"
        },
        "outputId": "15d3823f-5cef-4575-8e84-660bfffc3678"
      },
      "source": [
        "# Query 5: Find the number of ratings for each movie\n",
        "\n",
        "num_ratings = data.select('rating', 'title').groupby('title').agg(count('*').alias('NumRating'))\n",
        "num_ratings.show()"
      ],
      "execution_count": null,
      "outputs": [
        {
          "output_type": "stream",
          "name": "stdout",
          "text": [
            "+--------------------+---------+\n",
            "|               title|NumRating|\n",
            "+--------------------+---------+\n",
            "|       Psycho (1960)|       83|\n",
            "|Men in Black (a.k...|      165|\n",
            "|Gulliver's Travel...|        3|\n",
            "|Heavenly Creature...|       21|\n",
            "|    Elizabeth (1998)|       23|\n",
            "|Before Night Fall...|        5|\n",
            "|O Brother, Where ...|       94|\n",
            "|Snow White and th...|       77|\n",
            "| Three Wishes (1995)|        1|\n",
            "|When We Were King...|       10|\n",
            "|   Annie Hall (1977)|       58|\n",
            "| If Lucy Fell (1996)|        2|\n",
            "|First Blood (Ramb...|       30|\n",
            "|Don't Tell Mom th...|       13|\n",
            "| Nut Job, The (2014)|        3|\n",
            "|22 Jump Street (2...|       19|\n",
            "|   Deadpool 2 (2018)|       12|\n",
            "|Starship Troopers...|        2|\n",
            "|Voices from the L...|        5|\n",
            "|Night of the Livi...|       28|\n",
            "+--------------------+---------+\n",
            "only showing top 20 rows\n",
            "\n"
          ]
        }
      ]
    },
    {
      "cell_type": "code",
      "metadata": {
        "colab": {
          "base_uri": "https://localhost:8080/"
        },
        "id": "w2bGrxK2edHM",
        "outputId": "78b815e2-2066-4702-d156-347b771a3f9c"
      },
      "source": [
        "df = avg_ratings.join(num_ratings, how='inner', on=['title'])\n",
        "df.show()"
      ],
      "execution_count": null,
      "outputs": [
        {
          "output_type": "stream",
          "name": "stdout",
          "text": [
            "+--------------------+------------------+---------+\n",
            "|               title|         AvgRating|NumRating|\n",
            "+--------------------+------------------+---------+\n",
            "|       Psycho (1960)| 4.036144578313253|       83|\n",
            "|Men in Black (a.k...| 3.487878787878788|      165|\n",
            "|Gulliver's Travel...|               3.0|        3|\n",
            "|Heavenly Creature...|3.9285714285714284|       21|\n",
            "|    Elizabeth (1998)|3.6739130434782608|       23|\n",
            "|Before Night Fall...|               4.3|        5|\n",
            "|O Brother, Where ...|3.8085106382978724|       94|\n",
            "|Snow White and th...| 3.616883116883117|       77|\n",
            "| Three Wishes (1995)|               3.0|        1|\n",
            "|When We Were King...|               3.9|       10|\n",
            "|   Annie Hall (1977)|3.8706896551724137|       58|\n",
            "| If Lucy Fell (1996)|               2.5|        2|\n",
            "|First Blood (Ramb...|              3.55|       30|\n",
            "|Don't Tell Mom th...|2.3461538461538463|       13|\n",
            "| Nut Job, The (2014)| 4.333333333333333|        3|\n",
            "|22 Jump Street (2...|3.6842105263157894|       19|\n",
            "|   Deadpool 2 (2018)|             3.875|       12|\n",
            "|Starship Troopers...|               1.5|        2|\n",
            "|Voices from the L...|               4.3|        5|\n",
            "|Night of the Livi...|              3.75|       28|\n",
            "+--------------------+------------------+---------+\n",
            "only showing top 20 rows\n",
            "\n"
          ]
        }
      ]
    },
    {
      "cell_type": "code",
      "metadata": {
        "colab": {
          "base_uri": "https://localhost:8080/"
        },
        "id": "kXFEkuTfetBC",
        "outputId": "3138df35-48c5-4a25-e406-9c9ba66088b3"
      },
      "source": [
        "df.orderBy(desc('AvgRating')).limit(20).show()"
      ],
      "execution_count": null,
      "outputs": [
        {
          "output_type": "stream",
          "name": "stdout",
          "text": [
            "+--------------------+---------+---------+\n",
            "|               title|AvgRating|NumRating|\n",
            "+--------------------+---------+---------+\n",
            "|    Radio Day (2008)|      5.0|        1|\n",
            "|Cosmic Scrat-tast...|      5.0|        1|\n",
            "|         Rain (2001)|      5.0|        1|\n",
            "|    Lady Jane (1986)|      5.0|        1|\n",
            "|Stuart Little 3: ...|      5.0|        1|\n",
            "|English Vinglish ...|      5.0|        1|\n",
            "|Tom Segura: Mostl...|      5.0|        1|\n",
            "|Bill Hicks: Revel...|      5.0|        1|\n",
            "|Louis Theroux: La...|      5.0|        1|\n",
            "|Shogun Assassin (...|      5.0|        1|\n",
            "|In the blue sea, ...|      5.0|        1|\n",
            "|George Carlin: Yo...|      5.0|        1|\n",
            "|Vacations in Pros...|      5.0|        1|\n",
            "|Awfully Big Adven...|      5.0|        1|\n",
            "|Human Condition I...|      5.0|        1|\n",
            "|Chinese Puzzle (C...|      5.0|        1|\n",
            "|Paper Birds (Pája...|      5.0|        1|\n",
            "|Sonatine (Sonachi...|      5.0|        1|\n",
            "|        Black Mirror|      5.0|        1|\n",
            "|Zeitgeist: Moving...|      5.0|        1|\n",
            "+--------------------+---------+---------+\n",
            "\n"
          ]
        }
      ]
    },
    {
      "cell_type": "code",
      "metadata": {
        "id": "aHt2Z3P23qML",
        "colab": {
          "base_uri": "https://localhost:8080/"
        },
        "outputId": "aa72f221-50eb-45b9-d8e4-f520bfeca3f5"
      },
      "source": [
        "# Select movies with at least 50 ratings\n",
        "Rating50 = df.filter(df.NumRating > 50)\n",
        "Rating50.show()"
      ],
      "execution_count": null,
      "outputs": [
        {
          "output_type": "stream",
          "name": "stdout",
          "text": [
            "+--------------------+------------------+---------+\n",
            "|               title|         AvgRating|NumRating|\n",
            "+--------------------+------------------+---------+\n",
            "|       Psycho (1960)| 4.036144578313253|       83|\n",
            "|Men in Black (a.k...| 3.487878787878788|      165|\n",
            "|O Brother, Where ...|3.8085106382978724|       94|\n",
            "|Snow White and th...| 3.616883116883117|       77|\n",
            "|   Annie Hall (1977)|3.8706896551724137|       58|\n",
            "|         Hook (1991)| 3.358490566037736|       53|\n",
            "|Kill Bill: Vol. 2...| 3.868181818181818|      110|\n",
            "|Eternal Sunshine ...|4.1603053435114505|      131|\n",
            "|Last Action Hero ...|2.9339622641509435|       53|\n",
            "|Dumb & Dumber (Du...|3.0601503759398496|      133|\n",
            "|City Slickers II:...|2.6454545454545455|       55|\n",
            "|Indiana Jones and...| 3.638888888888889|      108|\n",
            "|North by Northwes...| 4.184210526315789|       57|\n",
            "|In the Line of Fi...| 3.692857142857143|       70|\n",
            "|      Jumanji (1995)|3.4318181818181817|      110|\n",
            "|        Ghost (1990)|3.4347826086956523|      115|\n",
            "|The Hunger Games ...| 3.435185185185185|       54|\n",
            "|Mask of Zorro, Th...|               3.1|       60|\n",
            "|Mission: Impossib...|2.7142857142857144|       77|\n",
            "|Miss Congeniality...|         3.0546875|       64|\n",
            "+--------------------+------------------+---------+\n",
            "only showing top 20 rows\n",
            "\n"
          ]
        }
      ]
    },
    {
      "cell_type": "code",
      "metadata": {
        "id": "pxrfi_xE1zLM",
        "colab": {
          "base_uri": "https://localhost:8080/"
        },
        "outputId": "c4333de2-3bb1-492a-f299-aeafdfc07a59"
      },
      "source": [
        "Rating50.count()"
      ],
      "execution_count": null,
      "outputs": [
        {
          "output_type": "execute_result",
          "data": {
            "text/plain": [
              "437"
            ]
          },
          "metadata": {},
          "execution_count": 53
        }
      ]
    },
    {
      "cell_type": "code",
      "metadata": {
        "id": "tK4lLSb330i0",
        "colab": {
          "base_uri": "https://localhost:8080/"
        },
        "outputId": "5b7a3edf-b773-45c8-e7d3-f5220ea0d0ac"
      },
      "source": [
        "# Query 6: Find the top 10 highly-rated movies with at least 50 ratings.\n",
        "\n",
        "Rating50.orderBy(desc('AvgRating')).limit(10).show(10, False)"
      ],
      "execution_count": null,
      "outputs": [
        {
          "output_type": "stream",
          "name": "stdout",
          "text": [
            "+---------------------------------------------------------------------------+-----------------+---------+\n",
            "|title                                                                      |AvgRating        |NumRating|\n",
            "+---------------------------------------------------------------------------+-----------------+---------+\n",
            "|Shawshank Redemption, The (1994)                                           |4.429022082018927|317      |\n",
            "|Godfather, The (1972)                                                      |4.2890625        |192      |\n",
            "|Fight Club (1999)                                                          |4.272935779816514|218      |\n",
            "|Cool Hand Luke (1967)                                                      |4.271929824561403|57       |\n",
            "|Dr. Strangelove or: How I Learned to Stop Worrying and Love the Bomb (1964)|4.268041237113402|97       |\n",
            "|Rear Window (1954)                                                         |4.261904761904762|84       |\n",
            "|Godfather: Part II, The (1974)                                             |4.25968992248062 |129      |\n",
            "|Departed, The (2006)                                                       |4.252336448598131|107      |\n",
            "|Goodfellas (1990)                                                          |4.25             |126      |\n",
            "|Casablanca (1942)                                                          |4.24             |100      |\n",
            "+---------------------------------------------------------------------------+-----------------+---------+\n",
            "\n"
          ]
        }
      ]
    },
    {
      "cell_type": "code",
      "metadata": {
        "id": "YMnfidm78nrs",
        "colab": {
          "base_uri": "https://localhost:8080/"
        },
        "outputId": "71fa2857-93f2-4bdc-df58-0c51376b94c9"
      },
      "source": [
        "# Create both NumRating and AvgRating\n",
        "df2 = data.select('rating', 'title')\\\n",
        "        .groupby('title')\\\n",
        "        .agg(count('rating').alias('NumRating'), mean('rating').alias('AvgRating'))\n",
        "df2.show()"
      ],
      "execution_count": null,
      "outputs": [
        {
          "output_type": "stream",
          "name": "stdout",
          "text": [
            "+--------------------+---------+------------------+\n",
            "|               title|NumRating|         AvgRating|\n",
            "+--------------------+---------+------------------+\n",
            "|       Psycho (1960)|       83| 4.036144578313253|\n",
            "|Men in Black (a.k...|      165| 3.487878787878788|\n",
            "|Gulliver's Travel...|        3|               3.0|\n",
            "|Heavenly Creature...|       21|3.9285714285714284|\n",
            "|    Elizabeth (1998)|       23|3.6739130434782608|\n",
            "|Before Night Fall...|        5|               4.3|\n",
            "|O Brother, Where ...|       94|3.8085106382978724|\n",
            "|Snow White and th...|       77| 3.616883116883117|\n",
            "| Three Wishes (1995)|        1|               3.0|\n",
            "|When We Were King...|       10|               3.9|\n",
            "|   Annie Hall (1977)|       58|3.8706896551724137|\n",
            "| If Lucy Fell (1996)|        2|               2.5|\n",
            "|First Blood (Ramb...|       30|              3.55|\n",
            "|Don't Tell Mom th...|       13|2.3461538461538463|\n",
            "| Nut Job, The (2014)|        3| 4.333333333333333|\n",
            "|22 Jump Street (2...|       19|3.6842105263157894|\n",
            "|   Deadpool 2 (2018)|       12|             3.875|\n",
            "|Starship Troopers...|        2|               1.5|\n",
            "|Voices from the L...|        5|               4.3|\n",
            "|Night of the Livi...|       28|              3.75|\n",
            "+--------------------+---------+------------------+\n",
            "only showing top 20 rows\n",
            "\n"
          ]
        }
      ]
    },
    {
      "cell_type": "code",
      "metadata": {
        "id": "KRmjqf8KfwqR"
      },
      "source": [],
      "execution_count": null,
      "outputs": []
    }
  ]
}