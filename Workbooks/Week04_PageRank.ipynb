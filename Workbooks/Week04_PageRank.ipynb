{
 "nbformat": 4,
 "nbformat_minor": 0,
 "metadata": {
  "colab": {
   "provenance": [],
   "machine_shape": "hm"
  },
  "kernelspec": {
   "name": "python3",
   "display_name": "Python 3"
  },
  "gpuClass": "standard"
 },
 "cells": [
  {
   "cell_type": "markdown",
   "metadata": {
    "id": "Ib0Rl3WLS0iX"
   },
   "source": [
    "# Week 4\n",
    "# PageRank Examples"
   ]
  },
  {
   "cell_type": "markdown",
   "metadata": {
    "id": "p2Yw0ZuQoQiG"
   },
   "source": [
    "In class, we see an example network, and we formulate a system of equations for page ranks:\n",
    "\n",
    "$y = y/2 + a/2$\n",
    "\n",
    "$a = y/2 + m$\n",
    "\n",
    "$m = a/2$"
   ]
  },
  {
   "cell_type": "markdown",
   "metadata": {
    "id": "T2CsBxSbon9o"
   },
   "source": [
    "The usual method for solving linear system of equations is Gaussian Elimination. It is too costly if the matrix is too large. Alternatively, let's consider the power iteration method."
   ]
  },
  {
   "cell_type": "code",
   "metadata": {
    "id": "mt4sP2IBRYk-"
   },
   "source": [
    "import numpy as np"
   ],
   "execution_count": 1,
   "outputs": []
  },
  {
   "cell_type": "code",
   "metadata": {
    "id": "5hHbW7HVozpZ"
   },
   "source": [
    "# Explore the power iteration method.\n",
    "\n",
    "# Construct the PageRank matrix\n",
    "M = np.array([[1/2, 1/2, 0],\n",
    "              [1/2, 0, 1],\n",
    "              [0, 1/2, 0]])"
   ],
   "execution_count": 2,
   "outputs": []
  },
  {
   "cell_type": "code",
   "metadata": {
    "id": "MC2KJy3apDkQ"
   },
   "source": [
    "# Initialize vector r\n",
    "r = np.array([[1/3],\n",
    "             [1/3],\n",
    "             [1/3]])"
   ],
   "execution_count": 3,
   "outputs": []
  },
  {
   "cell_type": "code",
   "metadata": {
    "id": "C4MgR48qpMRs",
    "colab": {
     "base_uri": "https://localhost:8080/"
    },
    "outputId": "45a351ab-5bbd-4426-e5d5-7aeddc0cf2ae"
   },
   "source": [
    "# iterate once\n",
    "r = M.dot(r)\n",
    "r = r\n",
    "print(r)"
   ],
   "execution_count": 4,
   "outputs": [
    {
     "output_type": "stream",
     "name": "stdout",
     "text": [
      "[[0.33333333]\n",
      " [0.5       ]\n",
      " [0.16666667]]\n"
     ]
    }
   ]
  },
  {
   "cell_type": "code",
   "metadata": {
    "id": "Kw6Md-d2pUTd",
    "colab": {
     "base_uri": "https://localhost:8080/"
    },
    "outputId": "46c504b9-1f3b-4983-b40b-7300de547d83"
   },
   "source": [
    "# iterate many times\n",
    "for i in range(100):\n",
    "    r = M.dot(r)\n",
    "    r = r\n",
    "    if i % 10 == 0:\n",
    "        print(r)"
   ],
   "execution_count": 5,
   "outputs": [
    {
     "output_type": "stream",
     "name": "stdout",
     "text": [
      "[[0.41666667]\n",
      " [0.33333333]\n",
      " [0.25      ]]\n",
      "[[0.40323893]\n",
      " [0.39152018]\n",
      " [0.20524089]]\n",
      "[[0.40038904]\n",
      " [0.39898149]\n",
      " [0.20062947]]\n",
      "[[0.40004673]\n",
      " [0.39987767]\n",
      " [0.20007561]]\n",
      "[[0.40000561]\n",
      " [0.39998531]\n",
      " [0.20000908]]\n",
      "[[0.40000067]\n",
      " [0.39999824]\n",
      " [0.20000109]]\n",
      "[[0.40000008]\n",
      " [0.39999979]\n",
      " [0.20000013]]\n",
      "[[0.40000001]\n",
      " [0.39999997]\n",
      " [0.20000002]]\n",
      "[[0.4]\n",
      " [0.4]\n",
      " [0.2]]\n",
      "[[0.4]\n",
      " [0.4]\n",
      " [0.2]]\n"
     ]
    }
   ]
  },
  {
   "cell_type": "code",
   "metadata": {
    "id": "w13rVmcWpiCQ",
    "colab": {
     "base_uri": "https://localhost:8080/"
    },
    "outputId": "51137efd-ffea-4311-b84e-66113dac3a56"
   },
   "source": [
    "# Verify that r = M * r\n",
    "print(r)\n",
    "print(M.dot(r))"
   ],
   "execution_count": 6,
   "outputs": [
    {
     "output_type": "stream",
     "name": "stdout",
     "text": [
      "[[0.4]\n",
      " [0.4]\n",
      " [0.2]]\n",
      "[[0.4]\n",
      " [0.4]\n",
      " [0.2]]\n"
     ]
    }
   ]
  },
  {
   "cell_type": "markdown",
   "metadata": {
    "id": "Or63vybJp_Vb"
   },
   "source": [
    "## Issues with the Power Iteration"
   ]
  },
  {
   "cell_type": "code",
   "metadata": {
    "id": "J067uTfmIGIo",
    "colab": {
     "base_uri": "https://localhost:8080/"
    },
    "outputId": "617ca1e1-9cb5-4e54-d317-721c7c5d5513"
   },
   "source": [
    "# Spider trap\n",
    "M = np.array([[1/2, 1/2, 0],\n",
    "              [1/2, 0, 0],\n",
    "              [0, 1/2, 1]])\n",
    "\n",
    "# Initialize vector r\n",
    "r = np.array([[1/3],\n",
    "             [1/3],\n",
    "             [1/3]])\n",
    "\n",
    "# Power iteration\n",
    "for i in range(40):\n",
    "    r = M.dot(r)\n",
    "    r = r\n",
    "    if i % 4 == 0:\n",
    "        print(r)"
   ],
   "execution_count": 7,
   "outputs": [
    {
     "output_type": "stream",
     "name": "stdout",
     "text": [
      "[[0.33333333]\n",
      " [0.16666667]\n",
      " [0.5       ]]\n",
      "[[0.13541667]\n",
      " [0.08333333]\n",
      " [0.78125   ]]\n",
      "[[0.05794271]\n",
      " [0.03580729]\n",
      " [0.90625   ]]\n",
      "[[0.02482096]\n",
      " [0.01534017]\n",
      " [0.95983887]]\n",
      "[[0.01063283]\n",
      " [0.00657145]\n",
      " [0.98279572]]\n",
      "[[0.00455491]\n",
      " [0.00281509]\n",
      " [0.99263   ]]\n",
      "[[0.00195124]\n",
      " [0.00120593]\n",
      " [0.99684283]]\n",
      "[[8.35873807e-04]\n",
      " [5.16598423e-04]\n",
      " [9.98647528e-01]]\n",
      "[[3.58072769e-04]\n",
      " [2.21301142e-04]\n",
      " [9.99420626e-01]]\n",
      "[[1.53391704e-04]\n",
      " [9.48012870e-05]\n",
      " [9.99751807e-01]]\n"
     ]
    }
   ]
  },
  {
   "cell_type": "code",
   "metadata": {
    "id": "O4Ss4R0RITvh",
    "colab": {
     "base_uri": "https://localhost:8080/"
    },
    "outputId": "d244628b-1dad-452f-cd85-43b264a7befe"
   },
   "source": [
    "# Dead ends\n",
    "M = np.array([[1/2, 1/2, 0],\n",
    "              [1/2, 0, 0],\n",
    "              [0, 1/2, 0]])\n",
    "\n",
    "# Initialize vector r\n",
    "r = np.array([[1/3],\n",
    "             [1/3],\n",
    "             [1/3]])\n",
    "\n",
    "# Power iteration\n",
    "for i in range(40):\n",
    "    r = M.dot(r)\n",
    "    r = r\n",
    "    if i % 4 == 0:\n",
    "        print(r)"
   ],
   "execution_count": 8,
   "outputs": [
    {
     "output_type": "stream",
     "name": "stdout",
     "text": [
      "[[0.33333333]\n",
      " [0.16666667]\n",
      " [0.16666667]]\n",
      "[[0.13541667]\n",
      " [0.08333333]\n",
      " [0.05208333]]\n",
      "[[0.05794271]\n",
      " [0.03580729]\n",
      " [0.02213542]]\n",
      "[[0.02482096]\n",
      " [0.01534017]\n",
      " [0.00948079]]\n",
      "[[0.01063283]\n",
      " [0.00657145]\n",
      " [0.00406138]]\n",
      "[[0.00455491]\n",
      " [0.00281509]\n",
      " [0.00173982]]\n",
      "[[0.00195124]\n",
      " [0.00120593]\n",
      " [0.00074531]]\n",
      "[[0.00083587]\n",
      " [0.0005166 ]\n",
      " [0.00031928]]\n",
      "[[0.00035807]\n",
      " [0.0002213 ]\n",
      " [0.00013677]]\n",
      "[[1.53391704e-04]\n",
      " [9.48012870e-05]\n",
      " [5.85904175e-05]]\n"
     ]
    }
   ]
  },
  {
   "cell_type": "markdown",
   "metadata": {
    "id": "U5nf0e0GI7oB"
   },
   "source": [
    "## Calculate Pagerank with Networkx\n",
    "\n",
    "For this Colab we will be using [NetworkX](https://networkx.github.io), a Python package for the creation, manipulation, and study of the structure, dynamics, and functions of complex networks.\n",
    "\n",
    "*Reference:* [Stanford CS246](https://web.stanford.edu/class/cs246/)"
   ]
  },
  {
   "cell_type": "code",
   "outputs": [
    {
     "output_type": "stream",
     "name": "stderr",
     "text": [
      "WARNING:root:pydrive is deprecated and no longer maintained. We recommend that you migrate your projects to pydrive2, the maintained fork of pydrive\n"
     ]
    }
   ],
   "source": [
    "from pydrive.auth import GoogleAuth\n",
    "from pydrive.drive import GoogleDrive\n",
    "from google.colab import auth\n",
    "from oauth2client.client import GoogleCredentials\n",
    "\n",
    "# Authenticate and create the PyDrive client\n",
    "auth.authenticate_user()\n",
    "gauth = GoogleAuth()\n",
    "gauth.credentials = GoogleCredentials.get_application_default()\n",
    "drive = GoogleDrive(gauth)"
   ],
   "metadata": {
    "id": "7g5-XvssQ_in",
    "colab": {
     "base_uri": "https://localhost:8080/"
    },
    "outputId": "477b12bc-5a55-4ea0-e231-72057c28f18b"
   },
   "execution_count": 9
  },
  {
   "cell_type": "markdown",
   "metadata": {
    "id": "7ckcrR_NRJqY"
   },
   "source": [
    "The dataset we will analyze is a snapshot of the Web Graph centered around [stanford.edu](https://stanford.edu), collected in 2002. Nodes represent pages from Stanford University (stanford.edu) and directed edges represent hyperlinks between them. [[More Info]](http://snap.stanford.edu/data/web-Stanford.html)"
   ]
  },
  {
   "cell_type": "code",
   "outputs": [],
   "source": [
    "id='1EoolSK32_U74I4FeLox88iuUB_SUUYsI'\n",
    "downloaded = drive.CreateFile({'id': id})\n",
    "downloaded.GetContentFile('web-Stanford.txt')"
   ],
   "metadata": {
    "id": "8zri2dLiRB7q"
   },
   "execution_count": 10
  },
  {
   "cell_type": "code",
   "outputs": [
    {
     "output_type": "stream",
     "name": "stdout",
     "text": [
      "Requirement already satisfied: networkx==2.8.8 in /usr/local/lib/python3.10/dist-packages (2.8.8)\n"
     ]
    }
   ],
   "source": [
    "#code uses networkx < version 3\n",
    "!pip install --upgrade networkx==2.8.8"
   ],
   "metadata": {
    "colab": {
     "base_uri": "https://localhost:8080/"
    },
    "id": "fhxeXTJE1WTO",
    "outputId": "69812b01-b83e-4b65-bc9c-ba492581bd9f"
   },
   "execution_count": 11
  },
  {
   "cell_type": "code",
   "metadata": {
    "id": "Vy2DlfVCRT_F"
   },
   "source": [
    "import networkx as nx\n",
    "\n",
    "G = nx.read_edgelist('web-Stanford.txt', create_using=nx.DiGraph)"
   ],
   "execution_count": 12,
   "outputs": []
  },
  {
   "cell_type": "code",
   "source": [
    "list(G.edges)[:10]"
   ],
   "metadata": {
    "colab": {
     "base_uri": "https://localhost:8080/"
    },
    "id": "bYAD9bL-ihJe",
    "outputId": "0b9ebb12-bb59-4408-c565-5e6b9a70a54e"
   },
   "execution_count": 13,
   "outputs": [
    {
     "output_type": "execute_result",
     "data": {
      "text/plain": [
       "[('1', '6548'),\n",
       " ('1', '15409'),\n",
       " ('6548', '57031'),\n",
       " ('15409', '13102'),\n",
       " ('57031', '6548'),\n",
       " ('57031', '59749'),\n",
       " ('13102', '15409'),\n",
       " ('13102', '19974'),\n",
       " ('2', '17794'),\n",
       " ('2', '25202')]"
      ]
     },
     "metadata": {},
     "execution_count": 13
    }
   ]
  },
  {
   "cell_type": "code",
   "metadata": {
    "id": "XFnqkeeeRcyn",
    "colab": {
     "base_uri": "https://localhost:8080/"
    },
    "outputId": "d8de8bde-bc05-43af-9b83-a4efb9031e8e"
   },
   "source": [
    "# Extract the largest weakly connected component\n",
    "largest_cc = G.subgraph(max(nx.weakly_connected_components(G), key=len))\n",
    "print(nx.info(largest_cc))"
   ],
   "execution_count": 14,
   "outputs": [
    {
     "output_type": "stream",
     "name": "stderr",
     "text": [
      "<ipython-input-14-0dad4ddab386>:3: DeprecationWarning: info is deprecated and will be removed in version 3.0.\n",
      "\n",
      "  print(nx.info(largest_cc))\n"
     ]
    },
    {
     "output_type": "stream",
     "name": "stdout",
     "text": [
      "DiGraph with 255265 nodes and 2234572 edges\n"
     ]
    }
   ]
  },
  {
   "cell_type": "markdown",
   "metadata": {
    "id": "EWDD9nZyRqJs"
   },
   "source": [
    "Compute the PageRank vector, using the default parameters in NetworkX: [https://networkx.github.io/documentation/stable/reference/algorithms/generated/networkx.algorithms.link_analysis.pagerank_alg.pagerank.html#networkx.algorithms.link_analysis.pagerank_alg.pageranky](https://networkx.github.io/documentation/stable/reference/algorithms/generated/networkx.algorithms.link_analysis.pagerank_alg.pagerank.html#networkx.algorithms.link_analysis.pagerank_alg.pagerank)"
   ]
  },
  {
   "cell_type": "code",
   "metadata": {
    "id": "pLaqTzLpRtKy",
    "colab": {
     "base_uri": "https://localhost:8080/"
    },
    "outputId": "3f5bd560-7bc2-4549-9838-f8b69b8c49dd"
   },
   "source": [
    "import time\n",
    "start = time.time()\n",
    "pr = nx.pagerank(largest_cc)\n",
    "end = time.time()\n",
    "print(\"Time cost:\", (end - start))"
   ],
   "execution_count": 15,
   "outputs": [
    {
     "output_type": "stream",
     "name": "stdout",
     "text": [
      "Time cost: 14.698321342468262\n"
     ]
    }
   ]
  },
  {
   "cell_type": "code",
   "metadata": {
    "id": "9YDEns69R_i0",
    "colab": {
     "base_uri": "https://localhost:8080/"
    },
    "outputId": "4f69b7a4-443c-4f77-ec96-91f9d451d882"
   },
   "source": [
    "# Top 10 pages\n",
    "count = 0\n",
    "for i in sorted(pr.items(), key=lambda item: item[1], reverse=True):\n",
    "    print(i)\n",
    "    count += 1\n",
    "    if count > 10:\n",
    "        break"
   ],
   "execution_count": 16,
   "outputs": [
    {
     "output_type": "stream",
     "name": "stdout",
     "text": [
      "('89073', 0.011051585882434985)\n",
      "('226411', 0.010694113250567905)\n",
      "('241454', 0.009829260884719991)\n",
      "('134832', 0.00650923773721211)\n",
      "('69358', 0.003753708143672675)\n",
      "('67756', 0.003543473943866138)\n",
      "('105607', 0.0032305919516859047)\n",
      "('225872', 0.0031736850016296342)\n",
      "('234704', 0.0031708863624340614)\n",
      "('186750', 0.00314345200380852)\n",
      "('231363', 0.003061480040107788)\n"
     ]
    }
   ]
  },
  {
   "cell_type": "code",
   "source": [
    "nx.__version__"
   ],
   "metadata": {
    "colab": {
     "base_uri": "https://localhost:8080/",
     "height": 36
    },
    "id": "3xNepm_K1DM3",
    "outputId": "389df90d-419b-4aff-81f3-bb172b56f70c"
   },
   "execution_count": 17,
   "outputs": [
    {
     "output_type": "execute_result",
     "data": {
      "text/plain": [
       "'2.8.8'"
      ],
      "application/vnd.google.colaboratory.intrinsic+json": {
       "type": "string"
      }
     },
     "metadata": {},
     "execution_count": 17
    }
   ]
  },
  {
   "cell_type": "code",
   "metadata": {
    "id": "RDRrJyfBRx4K",
    "colab": {
     "base_uri": "https://localhost:8080/"
    },
    "outputId": "ebe5c095-cd24-4bfa-fded-58ff187ecd12"
   },
   "source": [
    "start = time.time()\n",
    "pr_scipy = nx.pagerank_scipy(largest_cc)\n",
    "end = time.time()\n",
    "print(\"Time cost:\", (end - start))"
   ],
   "execution_count": 18,
   "outputs": [
    {
     "output_type": "stream",
     "name": "stderr",
     "text": [
      "<ipython-input-18-97558cfa60bb>:2: DeprecationWarning: networkx.pagerank_scipy is deprecated and will be removed in NetworkX 3.0, use networkx.pagerank instead.\n",
      "  pr_scipy = nx.pagerank_scipy(largest_cc)\n"
     ]
    },
    {
     "output_type": "stream",
     "name": "stdout",
     "text": [
      "Time cost: 11.925999641418457\n"
     ]
    }
   ]
  },
  {
   "cell_type": "code",
   "metadata": {
    "id": "L_N0ld_mSDRu",
    "colab": {
     "base_uri": "https://localhost:8080/"
    },
    "outputId": "a1d33ece-a65f-4268-cc52-46166bb58f6c"
   },
   "source": [
    "# Top 10 pages\n",
    "count = 0\n",
    "for i in sorted(pr_scipy.items(), key=lambda item: item[1], reverse=True):\n",
    "    print(i)\n",
    "    count += 1\n",
    "    if count > 10:\n",
    "        break"
   ],
   "execution_count": 19,
   "outputs": [
    {
     "output_type": "stream",
     "name": "stdout",
     "text": [
      "('89073', 0.011051585882434985)\n",
      "('226411', 0.010694113250567905)\n",
      "('241454', 0.009829260884719991)\n",
      "('134832', 0.00650923773721211)\n",
      "('69358', 0.003753708143672675)\n",
      "('67756', 0.003543473943866138)\n",
      "('105607', 0.0032305919516859047)\n",
      "('225872', 0.0031736850016296342)\n",
      "('234704', 0.0031708863624340614)\n",
      "('186750', 0.00314345200380852)\n",
      "('231363', 0.003061480040107788)\n"
     ]
    }
   ]
  },
  {
   "cell_type": "code",
   "metadata": {
    "id": "y3KMncl2R1Oy",
    "colab": {
     "base_uri": "https://localhost:8080/"
    },
    "outputId": "79657108-0804-4036-c662-42445fe9e884"
   },
   "source": [
    "start = time.time()\n",
    "# pr_numpy = nx.pagerank_numpy(largest_cc)\n",
    "pr_numpy = nx.pagerank(largest_cc)\n",
    "end = time.time()\n",
    "print(\"Time cost:\", (end - start))"
   ],
   "execution_count": 20,
   "outputs": [
    {
     "output_type": "stream",
     "name": "stdout",
     "text": [
      "Time cost: 12.528838157653809\n"
     ]
    }
   ]
  },
  {
   "cell_type": "code",
   "metadata": {
    "id": "Ugj-c_z7SH-i"
   },
   "source": [],
   "execution_count": null,
   "outputs": []
  }
 ]
}
